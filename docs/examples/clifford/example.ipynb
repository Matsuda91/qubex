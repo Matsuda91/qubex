{
 "cells": [
  {
   "cell_type": "code",
   "execution_count": 1,
   "metadata": {},
   "outputs": [],
   "source": [
    "%load_ext autoreload\n",
    "%autoreload 2"
   ]
  },
  {
   "cell_type": "code",
   "execution_count": 2,
   "metadata": {},
   "outputs": [],
   "source": [
    "from qubex.clifford import Clifford, CliffordGroup, CliffordSequence, Pauli"
   ]
  },
  {
   "cell_type": "code",
   "execution_count": 3,
   "metadata": {},
   "outputs": [
    {
     "data": {
      "text/plain": [
       "Pauli(1, 'X')"
      ]
     },
     "execution_count": 3,
     "metadata": {},
     "output_type": "execute_result"
    }
   ],
   "source": [
    "Pauli(1, \"X\")"
   ]
  },
  {
   "cell_type": "code",
   "execution_count": 4,
   "metadata": {},
   "outputs": [
    {
     "data": {
      "text/plain": [
       "Pauli(-1j, 'XY')"
      ]
     },
     "execution_count": 4,
     "metadata": {},
     "output_type": "execute_result"
    }
   ],
   "source": [
    "Pauli(-1j, \"XY\")"
   ]
  },
  {
   "cell_type": "code",
   "execution_count": 5,
   "metadata": {},
   "outputs": [
    {
     "data": {
      "text/plain": [
       "Clifford(name='I', map={I->I, X->X, Y->Y, Z->Z})"
      ]
     },
     "execution_count": 5,
     "metadata": {},
     "output_type": "execute_result"
    }
   ],
   "source": [
    "Clifford.I()"
   ]
  },
  {
   "cell_type": "code",
   "execution_count": 6,
   "metadata": {},
   "outputs": [
    {
     "name": "stdout",
     "output_type": "stream",
     "text": [
      "Clifford(name='X90', map={I->I, X->X, Y->Z, Z->-Y})\n",
      "Clifford(name='Z90', map={I->I, X->Y, Y->-X, Z->Z})\n"
     ]
    }
   ],
   "source": [
    "X90 = Clifford.X90()\n",
    "Z90 = Clifford.Z90()\n",
    "\n",
    "print(X90)\n",
    "print(Z90)"
   ]
  },
  {
   "cell_type": "code",
   "execution_count": 7,
   "metadata": {},
   "outputs": [
    {
     "data": {
      "text/plain": [
       "Clifford(name='(X90)^-1', map={I->I, X->X, Y->-Z, Z->Y})"
      ]
     },
     "execution_count": 7,
     "metadata": {},
     "output_type": "execute_result"
    }
   ],
   "source": [
    "X90.inverse"
   ]
  },
  {
   "cell_type": "code",
   "execution_count": 8,
   "metadata": {},
   "outputs": [
    {
     "data": {
      "text/plain": [
       "Clifford(name='X90->Z90', map={I->I, X->Y, Y->Z, Z->X})"
      ]
     },
     "execution_count": 8,
     "metadata": {},
     "output_type": "execute_result"
    }
   ],
   "source": [
    "X90.compose(Z90)"
   ]
  },
  {
   "cell_type": "code",
   "execution_count": 9,
   "metadata": {},
   "outputs": [
    {
     "data": {
      "text/plain": [
       "True"
      ]
     },
     "execution_count": 9,
     "metadata": {},
     "output_type": "execute_result"
    }
   ],
   "source": [
    "X90.compose(X90.inverse).is_identity()"
   ]
  },
  {
   "cell_type": "code",
   "execution_count": 10,
   "metadata": {},
   "outputs": [
    {
     "data": {
      "text/plain": [
       "Pauli(1, 'Z')"
      ]
     },
     "execution_count": 10,
     "metadata": {},
     "output_type": "execute_result"
    }
   ],
   "source": [
    "X90.apply_to(Pauli(1, \"Y\"))"
   ]
  },
  {
   "cell_type": "code",
   "execution_count": 11,
   "metadata": {},
   "outputs": [
    {
     "data": {
      "text/plain": [
       "Pauli(-1, 'Y')"
      ]
     },
     "execution_count": 11,
     "metadata": {},
     "output_type": "execute_result"
    }
   ],
   "source": [
    "X90.apply_to(Pauli(1, \"Z\"))"
   ]
  },
  {
   "cell_type": "code",
   "execution_count": 12,
   "metadata": {},
   "outputs": [
    {
     "name": "stdout",
     "output_type": "stream",
     "text": [
      "Clifford(name='II', map={II->II, IX->IX, IY->IY, IZ->IZ, XI->XI, XX->XX, XY->XY, XZ->XZ, YI->YI, YX->YX, YY->YY, YZ->YZ, ZI->ZI, ZX->ZX, ZY->ZY, ZZ->ZZ})\n",
      "Clifford(name='XI90', map={II->II, IX->IX, IY->IY, IZ->IZ, XI->XI, XX->XX, XY->XY, XZ->XZ, YI->ZI, YX->ZX, YY->ZY, YZ->ZZ, ZI->-YI, ZX->-YX, ZY->-YY, ZZ->-YZ})\n",
      "Clifford(name='IX90', map={II->II, IX->IX, IY->IZ, IZ->-IY, XI->XI, XX->XX, XY->XZ, XZ->-XY, YI->YI, YX->YX, YY->YZ, YZ->-YY, ZI->ZI, ZX->ZX, ZY->ZZ, ZZ->-ZY})\n",
      "Clifford(name='ZI90', map={II->II, IX->IX, IY->IY, IZ->IZ, XI->YI, XX->YX, XY->YY, XZ->YZ, YI->-XI, YX->-XX, YY->-XY, YZ->-XZ, ZI->ZI, ZX->ZX, ZY->ZY, ZZ->ZZ})\n",
      "Clifford(name='IZ90', map={II->II, IX->IY, IY->-IX, IZ->IZ, XI->XI, XX->XY, XY->-XX, XZ->XZ, YI->YI, YX->YY, YY->-YX, YZ->YZ, ZI->ZI, ZX->ZY, ZY->-ZX, ZZ->ZZ})\n",
      "Clifford(name='ZX90', map={II->II, IX->IX, IY->IZ, IZ->-IY, XI->YI, XX->YX, XY->YZ, XZ->-YY, YI->-XI, YX->-XX, YY->-XZ, YZ->XY, ZI->ZI, ZX->ZX, ZY->ZZ, ZZ->-ZY})\n"
     ]
    }
   ],
   "source": [
    "II = Clifford.II()\n",
    "XI90 = Clifford.XI90()\n",
    "IX90 = Clifford.IX90()\n",
    "ZI90 = Clifford.ZI90()\n",
    "IZ90 = Clifford.IZ90()\n",
    "ZX90 = Clifford.ZX90()\n",
    "\n",
    "print(II)\n",
    "print(XI90)\n",
    "print(IX90)\n",
    "print(ZI90)\n",
    "print(IZ90)\n",
    "print(ZX90)"
   ]
  },
  {
   "cell_type": "code",
   "execution_count": 13,
   "metadata": {},
   "outputs": [
    {
     "data": {
      "text/plain": [
       "Clifford(name='(XI90)^-1', map={II->II, IX->IX, IY->IY, IZ->IZ, XI->XI, XX->XX, XY->XY, XZ->XZ, YI->-ZI, YX->-ZX, YY->-ZY, YZ->-ZZ, ZI->YI, ZX->YX, ZY->YY, ZZ->YZ})"
      ]
     },
     "execution_count": 13,
     "metadata": {},
     "output_type": "execute_result"
    }
   ],
   "source": [
    "XI90.inverse"
   ]
  },
  {
   "cell_type": "code",
   "execution_count": 14,
   "metadata": {},
   "outputs": [
    {
     "data": {
      "text/plain": [
       "Clifford(name='XI90->(XI90)^-1', map={II->II, IX->IX, IY->IY, IZ->IZ, XI->XI, XX->XX, XY->XY, XZ->XZ, YI->YI, YX->YX, YY->YY, YZ->YZ, ZI->ZI, ZX->ZX, ZY->ZY, ZZ->ZZ})"
      ]
     },
     "execution_count": 14,
     "metadata": {},
     "output_type": "execute_result"
    }
   ],
   "source": [
    "XI90.compose(XI90.inverse)"
   ]
  },
  {
   "cell_type": "code",
   "execution_count": 15,
   "metadata": {},
   "outputs": [
    {
     "data": {
      "text/plain": [
       "Pauli(-1, 'YY')"
      ]
     },
     "execution_count": 15,
     "metadata": {},
     "output_type": "execute_result"
    }
   ],
   "source": [
    "ZX90.apply_to(Pauli(1, \"XZ\"))"
   ]
  },
  {
   "cell_type": "code",
   "execution_count": 16,
   "metadata": {},
   "outputs": [
    {
     "data": {
      "text/plain": [
       "[]"
      ]
     },
     "execution_count": 16,
     "metadata": {},
     "output_type": "execute_result"
    }
   ],
   "source": [
    "seq0 = CliffordSequence.I()\n",
    "seq0.sequence"
   ]
  },
  {
   "cell_type": "code",
   "execution_count": 17,
   "metadata": {},
   "outputs": [
    {
     "data": {
      "text/plain": [
       "[Clifford(name='X90', map={I->I, X->X, Y->Z, Z->-Y})]"
      ]
     },
     "execution_count": 17,
     "metadata": {},
     "output_type": "execute_result"
    }
   ],
   "source": [
    "seq1 = seq0.compose(X90)\n",
    "seq1.sequence"
   ]
  },
  {
   "cell_type": "code",
   "execution_count": 18,
   "metadata": {},
   "outputs": [
    {
     "data": {
      "text/plain": [
       "[Clifford(name='X90', map={I->I, X->X, Y->Z, Z->-Y}),\n",
       " Clifford(name='Z90', map={I->I, X->Y, Y->-X, Z->Z})]"
      ]
     },
     "execution_count": 18,
     "metadata": {},
     "output_type": "execute_result"
    }
   ],
   "source": [
    "seq2 = seq1.compose(Z90)\n",
    "seq2.sequence"
   ]
  },
  {
   "cell_type": "code",
   "execution_count": 19,
   "metadata": {},
   "outputs": [
    {
     "data": {
      "text/plain": [
       "Clifford(name='I->X90', map={I->I, X->X, Y->Z, Z->-Y})"
      ]
     },
     "execution_count": 19,
     "metadata": {},
     "output_type": "execute_result"
    }
   ],
   "source": [
    "seq1.clifford"
   ]
  },
  {
   "cell_type": "code",
   "execution_count": 20,
   "metadata": {},
   "outputs": [
    {
     "data": {
      "text/plain": [
       "Clifford(name='I->X90->Z90', map={I->I, X->Y, Y->Z, Z->X})"
      ]
     },
     "execution_count": 20,
     "metadata": {},
     "output_type": "execute_result"
    }
   ],
   "source": [
    "seq2.clifford"
   ]
  },
  {
   "cell_type": "code",
   "execution_count": 21,
   "metadata": {},
   "outputs": [
    {
     "data": {
      "text/plain": [
       "Clifford(name='II->IX90->XI90', map={II->II, IX->IX, IY->IZ, IZ->-IY, XI->XI, XX->XX, XY->XZ, XZ->-XY, YI->ZI, YX->ZX, YY->ZZ, YZ->-ZY, ZI->-YI, ZX->-YX, ZY->-YZ, ZZ->YY})"
      ]
     },
     "execution_count": 21,
     "metadata": {},
     "output_type": "execute_result"
    }
   ],
   "source": [
    "CliffordSequence.II().compose(IX90).compose(XI90).clifford"
   ]
  },
  {
   "cell_type": "code",
   "execution_count": 22,
   "metadata": {},
   "outputs": [
    {
     "name": "stdout",
     "output_type": "stream",
     "text": [
      "Loaded 24 Clifford sequences.\n"
     ]
    }
   ],
   "source": [
    "clifford_group = CliffordGroup()"
   ]
  },
  {
   "cell_type": "code",
   "execution_count": 23,
   "metadata": {},
   "outputs": [
    {
     "data": {
      "text/plain": [
       "{Clifford(name='#0', map={I->I, X->X, Y->Y, Z->Z}): CliffordSequence([]),\n",
       " Clifford(name='#1', map={I->I, X->X, Y->Z, Z->-Y}): CliffordSequence(['X90']),\n",
       " Clifford(name='#2', map={I->I, X->X, Y->-Y, Z->-Z}): CliffordSequence(['X90', 'X90']),\n",
       " Clifford(name='#3', map={I->I, X->X, Y->-Z, Z->Y}): CliffordSequence(['Z90', 'Z90', 'X90', 'Z90', 'Z90']),\n",
       " Clifford(name='#4', map={I->I, X->Y, Y->X, Z->-Z}): CliffordSequence(['X90', 'X90', 'Z90']),\n",
       " Clifford(name='#5', map={I->I, X->Y, Y->Z, Z->X}): CliffordSequence(['X90', 'Z90']),\n",
       " Clifford(name='#6', map={I->I, X->Z, Y->-Y, Z->X}): CliffordSequence(['Z90', 'X90', 'Z90']),\n",
       " Clifford(name='#7', map={I->I, X->-X, Y->Z, Z->Y}): CliffordSequence(['X90', 'Z90', 'Z90']),\n",
       " Clifford(name='#8', map={I->I, X->Y, Y->-X, Z->Z}): CliffordSequence(['Z90']),\n",
       " Clifford(name='#9', map={I->I, X->Z, Y->-X, Z->-Y}): CliffordSequence(['Z90', 'X90']),\n",
       " Clifford(name='#10', map={I->I, X->-Y, Y->-X, Z->-Z}): CliffordSequence(['Z90', 'X90', 'X90']),\n",
       " Clifford(name='#11', map={I->I, X->-X, Y->-Y, Z->Z}): CliffordSequence(['Z90', 'Z90']),\n",
       " Clifford(name='#12', map={I->I, X->-X, Y->-Z, Z->-Y}): CliffordSequence(['Z90', 'Z90', 'X90']),\n",
       " Clifford(name='#13', map={I->I, X->-Y, Y->X, Z->Z}): CliffordSequence(['Z90', 'Z90', 'Z90']),\n",
       " Clifford(name='#14', map={I->I, X->Y, Y->-Z, Z->-X}): CliffordSequence(['Z90', 'Z90', 'X90', 'Z90', 'Z90', 'Z90']),\n",
       " Clifford(name='#15', map={I->I, X->Z, Y->Y, Z->-X}): CliffordSequence(['Z90', 'X90', 'Z90', 'Z90', 'Z90']),\n",
       " Clifford(name='#16', map={I->I, X->-Y, Y->Z, Z->-X}): CliffordSequence(['X90', 'Z90', 'Z90', 'Z90']),\n",
       " Clifford(name='#17', map={I->I, X->-Z, Y->-Y, Z->-X}): CliffordSequence(['Z90', 'Z90', 'Z90', 'X90', 'Z90', 'Z90', 'Z90']),\n",
       " Clifford(name='#18', map={I->I, X->-X, Y->Y, Z->-Z}): CliffordSequence(['X90', 'X90', 'Z90', 'Z90']),\n",
       " Clifford(name='#19', map={I->I, X->-Y, Y->-Z, Z->X}): CliffordSequence(['Z90', 'Z90', 'X90', 'Z90']),\n",
       " Clifford(name='#20', map={I->I, X->-Z, Y->Y, Z->X}): CliffordSequence(['Z90', 'Z90', 'Z90', 'X90', 'Z90']),\n",
       " Clifford(name='#21', map={I->I, X->Z, Y->X, Z->Y}): CliffordSequence(['Z90', 'X90', 'Z90', 'Z90']),\n",
       " Clifford(name='#22', map={I->I, X->-Z, Y->X, Z->-Y}): CliffordSequence(['Z90', 'Z90', 'Z90', 'X90']),\n",
       " Clifford(name='#23', map={I->I, X->-Z, Y->-X, Z->Y}): CliffordSequence(['Z90', 'Z90', 'Z90', 'X90', 'Z90', 'Z90'])}"
      ]
     },
     "execution_count": 23,
     "metadata": {},
     "output_type": "execute_result"
    }
   ],
   "source": [
    "clifford_group.get_clifford_dict(\"1Q\")"
   ]
  },
  {
   "cell_type": "code",
   "execution_count": 24,
   "metadata": {},
   "outputs": [
    {
     "data": {
      "text/plain": [
       "[{'index': 0,\n",
       "  'sequence': [],\n",
       "  'map': {'I': [1, 'I'], 'X': [1, 'X'], 'Y': [1, 'Y'], 'Z': [1, 'Z']}},\n",
       " {'index': 1,\n",
       "  'sequence': ['X90'],\n",
       "  'map': {'I': [1, 'I'], 'X': [1, 'X'], 'Y': [1, 'Z'], 'Z': [-1, 'Y']}},\n",
       " {'index': 2,\n",
       "  'sequence': ['X90', 'X90'],\n",
       "  'map': {'I': [1, 'I'], 'X': [1, 'X'], 'Y': [-1, 'Y'], 'Z': [-1, 'Z']}},\n",
       " {'index': 3,\n",
       "  'sequence': ['Z90', 'Z90', 'X90', 'Z90', 'Z90'],\n",
       "  'map': {'I': [1, 'I'], 'X': [1, 'X'], 'Y': [-1, 'Z'], 'Z': [1, 'Y']}},\n",
       " {'index': 4,\n",
       "  'sequence': ['X90', 'X90', 'Z90'],\n",
       "  'map': {'I': [1, 'I'], 'X': [1, 'Y'], 'Y': [1, 'X'], 'Z': [-1, 'Z']}},\n",
       " {'index': 5,\n",
       "  'sequence': ['X90', 'Z90'],\n",
       "  'map': {'I': [1, 'I'], 'X': [1, 'Y'], 'Y': [1, 'Z'], 'Z': [1, 'X']}},\n",
       " {'index': 6,\n",
       "  'sequence': ['Z90', 'X90', 'Z90'],\n",
       "  'map': {'I': [1, 'I'], 'X': [1, 'Z'], 'Y': [-1, 'Y'], 'Z': [1, 'X']}},\n",
       " {'index': 7,\n",
       "  'sequence': ['X90', 'Z90', 'Z90'],\n",
       "  'map': {'I': [1, 'I'], 'X': [-1, 'X'], 'Y': [1, 'Z'], 'Z': [1, 'Y']}},\n",
       " {'index': 8,\n",
       "  'sequence': ['Z90'],\n",
       "  'map': {'I': [1, 'I'], 'X': [1, 'Y'], 'Y': [-1, 'X'], 'Z': [1, 'Z']}},\n",
       " {'index': 9,\n",
       "  'sequence': ['Z90', 'X90'],\n",
       "  'map': {'I': [1, 'I'], 'X': [1, 'Z'], 'Y': [-1, 'X'], 'Z': [-1, 'Y']}},\n",
       " {'index': 10,\n",
       "  'sequence': ['Z90', 'X90', 'X90'],\n",
       "  'map': {'I': [1, 'I'], 'X': [-1, 'Y'], 'Y': [-1, 'X'], 'Z': [-1, 'Z']}},\n",
       " {'index': 11,\n",
       "  'sequence': ['Z90', 'Z90'],\n",
       "  'map': {'I': [1, 'I'], 'X': [-1, 'X'], 'Y': [-1, 'Y'], 'Z': [1, 'Z']}},\n",
       " {'index': 12,\n",
       "  'sequence': ['Z90', 'Z90', 'X90'],\n",
       "  'map': {'I': [1, 'I'], 'X': [-1, 'X'], 'Y': [-1, 'Z'], 'Z': [-1, 'Y']}},\n",
       " {'index': 13,\n",
       "  'sequence': ['Z90', 'Z90', 'Z90'],\n",
       "  'map': {'I': [1, 'I'], 'X': [-1, 'Y'], 'Y': [1, 'X'], 'Z': [1, 'Z']}},\n",
       " {'index': 14,\n",
       "  'sequence': ['Z90', 'Z90', 'X90', 'Z90', 'Z90', 'Z90'],\n",
       "  'map': {'I': [1, 'I'], 'X': [1, 'Y'], 'Y': [-1, 'Z'], 'Z': [-1, 'X']}},\n",
       " {'index': 15,\n",
       "  'sequence': ['Z90', 'X90', 'Z90', 'Z90', 'Z90'],\n",
       "  'map': {'I': [1, 'I'], 'X': [1, 'Z'], 'Y': [1, 'Y'], 'Z': [-1, 'X']}},\n",
       " {'index': 16,\n",
       "  'sequence': ['X90', 'Z90', 'Z90', 'Z90'],\n",
       "  'map': {'I': [1, 'I'], 'X': [-1, 'Y'], 'Y': [1, 'Z'], 'Z': [-1, 'X']}},\n",
       " {'index': 17,\n",
       "  'sequence': ['Z90', 'Z90', 'Z90', 'X90', 'Z90', 'Z90', 'Z90'],\n",
       "  'map': {'I': [1, 'I'], 'X': [-1, 'Z'], 'Y': [-1, 'Y'], 'Z': [-1, 'X']}},\n",
       " {'index': 18,\n",
       "  'sequence': ['X90', 'X90', 'Z90', 'Z90'],\n",
       "  'map': {'I': [1, 'I'], 'X': [-1, 'X'], 'Y': [1, 'Y'], 'Z': [-1, 'Z']}},\n",
       " {'index': 19,\n",
       "  'sequence': ['Z90', 'Z90', 'X90', 'Z90'],\n",
       "  'map': {'I': [1, 'I'], 'X': [-1, 'Y'], 'Y': [-1, 'Z'], 'Z': [1, 'X']}},\n",
       " {'index': 20,\n",
       "  'sequence': ['Z90', 'Z90', 'Z90', 'X90', 'Z90'],\n",
       "  'map': {'I': [1, 'I'], 'X': [-1, 'Z'], 'Y': [1, 'Y'], 'Z': [1, 'X']}},\n",
       " {'index': 21,\n",
       "  'sequence': ['Z90', 'X90', 'Z90', 'Z90'],\n",
       "  'map': {'I': [1, 'I'], 'X': [1, 'Z'], 'Y': [1, 'X'], 'Z': [1, 'Y']}},\n",
       " {'index': 22,\n",
       "  'sequence': ['Z90', 'Z90', 'Z90', 'X90'],\n",
       "  'map': {'I': [1, 'I'], 'X': [-1, 'Z'], 'Y': [1, 'X'], 'Z': [-1, 'Y']}},\n",
       " {'index': 23,\n",
       "  'sequence': ['Z90', 'Z90', 'Z90', 'X90', 'Z90', 'Z90'],\n",
       "  'map': {'I': [1, 'I'], 'X': [-1, 'Z'], 'Y': [-1, 'X'], 'Z': [1, 'Y']}}]"
      ]
     },
     "execution_count": 24,
     "metadata": {},
     "output_type": "execute_result"
    }
   ],
   "source": [
    "clifford_group.get_clifford_list(\"1Q\")"
   ]
  },
  {
   "cell_type": "code",
   "execution_count": 25,
   "metadata": {},
   "outputs": [
    {
     "data": {
      "text/plain": [
       "[]"
      ]
     },
     "execution_count": 25,
     "metadata": {},
     "output_type": "execute_result"
    }
   ],
   "source": [
    "clifford_group.get_clifford_list(\"1Qx1Q\")"
   ]
  },
  {
   "cell_type": "code",
   "execution_count": 26,
   "metadata": {},
   "outputs": [
    {
     "data": {
      "text/plain": [
       "[]"
      ]
     },
     "execution_count": 26,
     "metadata": {},
     "output_type": "execute_result"
    }
   ],
   "source": [
    "clifford_group.get_clifford_list(\"2Q\")"
   ]
  },
  {
   "cell_type": "code",
   "execution_count": 27,
   "metadata": {},
   "outputs": [
    {
     "data": {
      "text/plain": [
       "[CliffordSequence(['Z90', 'Z90', 'Z90', 'X90', 'Z90']),\n",
       " CliffordSequence(['X90', 'X90', 'Z90', 'Z90']),\n",
       " CliffordSequence(['Z90', 'X90', 'X90']),\n",
       " CliffordSequence(['Z90', 'X90', 'Z90']),\n",
       " CliffordSequence(['Z90', 'Z90', 'X90'])]"
      ]
     },
     "metadata": {},
     "output_type": "display_data"
    }
   ],
   "source": [
    "seqs = clifford_group.get_random_clifford_sequences(5, \"1Q\", seed=0)\n",
    "display(seqs)"
   ]
  },
  {
   "cell_type": "code",
   "execution_count": 28,
   "metadata": {},
   "outputs": [
    {
     "name": "stdout",
     "output_type": "stream",
     "text": [
      "CliffordSequence(['Z90', 'Z90', 'Z90', 'X90', 'Z90'])\n",
      "Clifford(name='#20', map={I->I, X->-Z, Y->Y, Z->X})\n"
     ]
    }
   ],
   "source": [
    "seq = seqs[0]\n",
    "\n",
    "print(seq)\n",
    "print(seq.clifford)"
   ]
  },
  {
   "cell_type": "code",
   "execution_count": 29,
   "metadata": {},
   "outputs": [
    {
     "name": "stdout",
     "output_type": "stream",
     "text": [
      "CliffordSequence(['Z90', 'X90', 'Z90', 'Z90', 'Z90'])\n",
      "Clifford(name='#15', map={I->I, X->Z, Y->Y, Z->-X})\n"
     ]
    }
   ],
   "source": [
    "seq_inv = clifford_group.get_inverse(seq)\n",
    "print(seq_inv)\n",
    "print(seq_inv.clifford)"
   ]
  },
  {
   "cell_type": "code",
   "execution_count": 30,
   "metadata": {},
   "outputs": [
    {
     "data": {
      "text/plain": [
       "True"
      ]
     },
     "execution_count": 30,
     "metadata": {},
     "output_type": "execute_result"
    }
   ],
   "source": [
    "seq.clifford.compose(seq_inv.clifford).is_identity()"
   ]
  },
  {
   "cell_type": "code",
   "execution_count": 31,
   "metadata": {},
   "outputs": [
    {
     "data": {
      "text/plain": [
       "([['Z90', 'Z90', 'Z90', 'X90', 'Z90'],\n",
       "  ['X90', 'X90', 'Z90', 'Z90'],\n",
       "  ['Z90', 'X90', 'X90'],\n",
       "  ['Z90', 'X90', 'Z90'],\n",
       "  ['Z90', 'Z90', 'X90']],\n",
       " [])"
      ]
     },
     "execution_count": 31,
     "metadata": {},
     "output_type": "execute_result"
    }
   ],
   "source": [
    "clifford_group.create_rb_sequences(5, seed=0)"
   ]
  },
  {
   "cell_type": "code",
   "execution_count": 32,
   "metadata": {},
   "outputs": [
    {
     "data": {
      "text/plain": [
       "([['Z90', 'Z90', 'X90', 'Z90'],\n",
       "  ['Z90'],\n",
       "  ['Z90', 'Z90'],\n",
       "  ['Z90', 'Z90', 'Z90', 'X90', 'Z90'],\n",
       "  ['Z90']],\n",
       " ['X90', 'Z90', 'Z90', 'Z90'])"
      ]
     },
     "execution_count": 32,
     "metadata": {},
     "output_type": "execute_result"
    }
   ],
   "source": [
    "clifford_group.create_irb_sequences(\n",
    "    n=5,\n",
    "    interleave={\n",
    "        \"I\": (1, \"I\"),\n",
    "        \"X\": (1, \"X\"),\n",
    "        \"Y\": (1, \"Z\"),\n",
    "        \"Z\": (-1, \"Y\"),\n",
    "    },\n",
    ")"
   ]
  },
  {
   "cell_type": "code",
   "execution_count": 33,
   "metadata": {},
   "outputs": [
    {
     "data": {
      "text/plain": [
       "{Clifford(name='#0', map={I->I, X->X, Y->Y, Z->Z}): CliffordSequence([]),\n",
       " Clifford(name='#1', map={I->I, X->X, Y->Z, Z->-Y}): CliffordSequence(['X90']),\n",
       " Clifford(name='#2', map={I->I, X->X, Y->-Y, Z->-Z}): CliffordSequence(['X90', 'X90']),\n",
       " Clifford(name='#3', map={I->I, X->X, Y->-Z, Z->Y}): CliffordSequence(['Z90', 'Z90', 'X90', 'Z90', 'Z90']),\n",
       " Clifford(name='#4', map={I->I, X->Y, Y->X, Z->-Z}): CliffordSequence(['X90', 'X90', 'Z90']),\n",
       " Clifford(name='#5', map={I->I, X->Y, Y->Z, Z->X}): CliffordSequence(['X90', 'Z90']),\n",
       " Clifford(name='#6', map={I->I, X->Z, Y->-Y, Z->X}): CliffordSequence(['Z90', 'X90', 'Z90']),\n",
       " Clifford(name='#7', map={I->I, X->-X, Y->Z, Z->Y}): CliffordSequence(['X90', 'Z90', 'Z90']),\n",
       " Clifford(name='#8', map={I->I, X->Y, Y->-X, Z->Z}): CliffordSequence(['Z90']),\n",
       " Clifford(name='#9', map={I->I, X->Z, Y->-X, Z->-Y}): CliffordSequence(['Z90', 'X90']),\n",
       " Clifford(name='#10', map={I->I, X->-Y, Y->-X, Z->-Z}): CliffordSequence(['Z90', 'X90', 'X90']),\n",
       " Clifford(name='#11', map={I->I, X->-X, Y->-Y, Z->Z}): CliffordSequence(['Z90', 'Z90']),\n",
       " Clifford(name='#12', map={I->I, X->-X, Y->-Z, Z->-Y}): CliffordSequence(['Z90', 'Z90', 'X90']),\n",
       " Clifford(name='#13', map={I->I, X->-Y, Y->X, Z->Z}): CliffordSequence(['Z90', 'Z90', 'Z90']),\n",
       " Clifford(name='#14', map={I->I, X->Y, Y->-Z, Z->-X}): CliffordSequence(['Z90', 'Z90', 'X90', 'Z90', 'Z90', 'Z90']),\n",
       " Clifford(name='#15', map={I->I, X->Z, Y->Y, Z->-X}): CliffordSequence(['Z90', 'X90', 'Z90', 'Z90', 'Z90']),\n",
       " Clifford(name='#16', map={I->I, X->-Y, Y->Z, Z->-X}): CliffordSequence(['X90', 'Z90', 'Z90', 'Z90']),\n",
       " Clifford(name='#17', map={I->I, X->-Z, Y->-Y, Z->-X}): CliffordSequence(['Z90', 'Z90', 'Z90', 'X90', 'Z90', 'Z90', 'Z90']),\n",
       " Clifford(name='#18', map={I->I, X->-X, Y->Y, Z->-Z}): CliffordSequence(['X90', 'X90', 'Z90', 'Z90']),\n",
       " Clifford(name='#19', map={I->I, X->-Y, Y->-Z, Z->X}): CliffordSequence(['Z90', 'Z90', 'X90', 'Z90']),\n",
       " Clifford(name='#20', map={I->I, X->-Z, Y->Y, Z->X}): CliffordSequence(['Z90', 'Z90', 'Z90', 'X90', 'Z90']),\n",
       " Clifford(name='#21', map={I->I, X->Z, Y->X, Z->Y}): CliffordSequence(['Z90', 'X90', 'Z90', 'Z90']),\n",
       " Clifford(name='#22', map={I->I, X->-Z, Y->X, Z->-Y}): CliffordSequence(['Z90', 'Z90', 'Z90', 'X90']),\n",
       " Clifford(name='#23', map={I->I, X->-Z, Y->-X, Z->Y}): CliffordSequence(['Z90', 'Z90', 'Z90', 'X90', 'Z90', 'Z90'])}"
      ]
     },
     "execution_count": 33,
     "metadata": {},
     "output_type": "execute_result"
    }
   ],
   "source": [
    "clifford_group.get_clifford_dict(\"1Q\")"
   ]
  },
  {
   "cell_type": "code",
   "execution_count": 34,
   "metadata": {},
   "outputs": [
    {
     "name": "stdout",
     "output_type": "stream",
     "text": [
      "Generated 24 unique Clifford sequences.\n",
      "Maximum gate count: 7\n"
     ]
    }
   ],
   "source": [
    "clifford_group.generate_1q_cliffords()"
   ]
  },
  {
   "cell_type": "code",
   "execution_count": 35,
   "metadata": {},
   "outputs": [],
   "source": [
    "clifford_group.save(\"1Q\")"
   ]
  },
  {
   "cell_type": "code",
   "execution_count": 36,
   "metadata": {},
   "outputs": [
    {
     "data": {
      "text/plain": [
       "[{'index': 0,\n",
       "  'sequence': [],\n",
       "  'map': {'I': [1, 'I'], 'X': [1, 'X'], 'Y': [1, 'Y'], 'Z': [1, 'Z']}},\n",
       " {'index': 1,\n",
       "  'sequence': ['X90'],\n",
       "  'map': {'I': [1, 'I'], 'X': [1, 'X'], 'Y': [1, 'Z'], 'Z': [-1, 'Y']}},\n",
       " {'index': 2,\n",
       "  'sequence': ['X90', 'X90'],\n",
       "  'map': {'I': [1, 'I'], 'X': [1, 'X'], 'Y': [-1, 'Y'], 'Z': [-1, 'Z']}},\n",
       " {'index': 3,\n",
       "  'sequence': ['Z90', 'Z90', 'X90', 'Z90', 'Z90'],\n",
       "  'map': {'I': [1, 'I'], 'X': [1, 'X'], 'Y': [-1, 'Z'], 'Z': [1, 'Y']}},\n",
       " {'index': 4,\n",
       "  'sequence': ['X90', 'X90', 'Z90'],\n",
       "  'map': {'I': [1, 'I'], 'X': [1, 'Y'], 'Y': [1, 'X'], 'Z': [-1, 'Z']}},\n",
       " {'index': 5,\n",
       "  'sequence': ['X90', 'Z90'],\n",
       "  'map': {'I': [1, 'I'], 'X': [1, 'Y'], 'Y': [1, 'Z'], 'Z': [1, 'X']}},\n",
       " {'index': 6,\n",
       "  'sequence': ['Z90', 'X90', 'Z90'],\n",
       "  'map': {'I': [1, 'I'], 'X': [1, 'Z'], 'Y': [-1, 'Y'], 'Z': [1, 'X']}},\n",
       " {'index': 7,\n",
       "  'sequence': ['X90', 'Z90', 'Z90'],\n",
       "  'map': {'I': [1, 'I'], 'X': [-1, 'X'], 'Y': [1, 'Z'], 'Z': [1, 'Y']}},\n",
       " {'index': 8,\n",
       "  'sequence': ['Z90'],\n",
       "  'map': {'I': [1, 'I'], 'X': [1, 'Y'], 'Y': [-1, 'X'], 'Z': [1, 'Z']}},\n",
       " {'index': 9,\n",
       "  'sequence': ['Z90', 'X90'],\n",
       "  'map': {'I': [1, 'I'], 'X': [1, 'Z'], 'Y': [-1, 'X'], 'Z': [-1, 'Y']}},\n",
       " {'index': 10,\n",
       "  'sequence': ['Z90', 'X90', 'X90'],\n",
       "  'map': {'I': [1, 'I'], 'X': [-1, 'Y'], 'Y': [-1, 'X'], 'Z': [-1, 'Z']}},\n",
       " {'index': 11,\n",
       "  'sequence': ['Z90', 'Z90'],\n",
       "  'map': {'I': [1, 'I'], 'X': [-1, 'X'], 'Y': [-1, 'Y'], 'Z': [1, 'Z']}},\n",
       " {'index': 12,\n",
       "  'sequence': ['Z90', 'Z90', 'X90'],\n",
       "  'map': {'I': [1, 'I'], 'X': [-1, 'X'], 'Y': [-1, 'Z'], 'Z': [-1, 'Y']}},\n",
       " {'index': 13,\n",
       "  'sequence': ['Z90', 'Z90', 'Z90'],\n",
       "  'map': {'I': [1, 'I'], 'X': [-1, 'Y'], 'Y': [1, 'X'], 'Z': [1, 'Z']}},\n",
       " {'index': 14,\n",
       "  'sequence': ['Z90', 'Z90', 'X90', 'Z90', 'Z90', 'Z90'],\n",
       "  'map': {'I': [1, 'I'], 'X': [1, 'Y'], 'Y': [-1, 'Z'], 'Z': [-1, 'X']}},\n",
       " {'index': 15,\n",
       "  'sequence': ['Z90', 'X90', 'Z90', 'Z90', 'Z90'],\n",
       "  'map': {'I': [1, 'I'], 'X': [1, 'Z'], 'Y': [1, 'Y'], 'Z': [-1, 'X']}},\n",
       " {'index': 16,\n",
       "  'sequence': ['X90', 'Z90', 'Z90', 'Z90'],\n",
       "  'map': {'I': [1, 'I'], 'X': [-1, 'Y'], 'Y': [1, 'Z'], 'Z': [-1, 'X']}},\n",
       " {'index': 17,\n",
       "  'sequence': ['Z90', 'Z90', 'Z90', 'X90', 'Z90', 'Z90', 'Z90'],\n",
       "  'map': {'I': [1, 'I'], 'X': [-1, 'Z'], 'Y': [-1, 'Y'], 'Z': [-1, 'X']}},\n",
       " {'index': 18,\n",
       "  'sequence': ['X90', 'X90', 'Z90', 'Z90'],\n",
       "  'map': {'I': [1, 'I'], 'X': [-1, 'X'], 'Y': [1, 'Y'], 'Z': [-1, 'Z']}},\n",
       " {'index': 19,\n",
       "  'sequence': ['Z90', 'Z90', 'X90', 'Z90'],\n",
       "  'map': {'I': [1, 'I'], 'X': [-1, 'Y'], 'Y': [-1, 'Z'], 'Z': [1, 'X']}},\n",
       " {'index': 20,\n",
       "  'sequence': ['Z90', 'Z90', 'Z90', 'X90', 'Z90'],\n",
       "  'map': {'I': [1, 'I'], 'X': [-1, 'Z'], 'Y': [1, 'Y'], 'Z': [1, 'X']}},\n",
       " {'index': 21,\n",
       "  'sequence': ['Z90', 'X90', 'Z90', 'Z90'],\n",
       "  'map': {'I': [1, 'I'], 'X': [1, 'Z'], 'Y': [1, 'X'], 'Z': [1, 'Y']}},\n",
       " {'index': 22,\n",
       "  'sequence': ['Z90', 'Z90', 'Z90', 'X90'],\n",
       "  'map': {'I': [1, 'I'], 'X': [-1, 'Z'], 'Y': [1, 'X'], 'Z': [-1, 'Y']}},\n",
       " {'index': 23,\n",
       "  'sequence': ['Z90', 'Z90', 'Z90', 'X90', 'Z90', 'Z90'],\n",
       "  'map': {'I': [1, 'I'], 'X': [-1, 'Z'], 'Y': [-1, 'X'], 'Z': [1, 'Y']}}]"
      ]
     },
     "execution_count": 36,
     "metadata": {},
     "output_type": "execute_result"
    }
   ],
   "source": [
    "clifford_group.get_clifford_list(\"1Q\")"
   ]
  },
  {
   "cell_type": "code",
   "execution_count": 45,
   "metadata": {},
   "outputs": [
    {
     "name": "stdout",
     "output_type": "stream",
     "text": [
      "Generated 24 unique Clifford sequences.\n",
      "Maximum gate count: 7\n"
     ]
    },
    {
     "data": {
      "text/plain": [
       "{Clifford({I->I, X->X, Y->Y, Z->Z}): CliffordSequence([]),\n",
       " Clifford({I->I, X->X, Y->Z, Z->-Y}): CliffordSequence(['X90']),\n",
       " Clifford({I->I, X->X, Y->-Y, Z->-Z}): CliffordSequence(['X90', 'X90']),\n",
       " Clifford({I->I, X->X, Y->-Z, Z->Y}): CliffordSequence(['Z90', 'Z90', 'X90', 'Z90', 'Z90']),\n",
       " Clifford({I->I, X->Y, Y->X, Z->-Z}): CliffordSequence(['X90', 'X90', 'Z90']),\n",
       " Clifford({I->I, X->Y, Y->Z, Z->X}): CliffordSequence(['X90', 'Z90']),\n",
       " Clifford({I->I, X->Z, Y->-Y, Z->X}): CliffordSequence(['Z90', 'X90', 'Z90']),\n",
       " Clifford({I->I, X->-X, Y->Z, Z->Y}): CliffordSequence(['X90', 'Z90', 'Z90']),\n",
       " Clifford({I->I, X->Y, Y->-X, Z->Z}): CliffordSequence(['Z90']),\n",
       " Clifford({I->I, X->Z, Y->-X, Z->-Y}): CliffordSequence(['Z90', 'X90']),\n",
       " Clifford({I->I, X->-Y, Y->-X, Z->-Z}): CliffordSequence(['Z90', 'X90', 'X90']),\n",
       " Clifford({I->I, X->-X, Y->-Y, Z->Z}): CliffordSequence(['Z90', 'Z90']),\n",
       " Clifford({I->I, X->-X, Y->-Z, Z->-Y}): CliffordSequence(['Z90', 'Z90', 'X90']),\n",
       " Clifford({I->I, X->-Y, Y->X, Z->Z}): CliffordSequence(['Z90', 'Z90', 'Z90']),\n",
       " Clifford({I->I, X->Y, Y->-Z, Z->-X}): CliffordSequence(['Z90', 'Z90', 'X90', 'Z90', 'Z90', 'Z90']),\n",
       " Clifford({I->I, X->Z, Y->Y, Z->-X}): CliffordSequence(['Z90', 'X90', 'Z90', 'Z90', 'Z90']),\n",
       " Clifford({I->I, X->-Y, Y->Z, Z->-X}): CliffordSequence(['X90', 'Z90', 'Z90', 'Z90']),\n",
       " Clifford({I->I, X->-Z, Y->-Y, Z->-X}): CliffordSequence(['Z90', 'Z90', 'Z90', 'X90', 'Z90', 'Z90', 'Z90']),\n",
       " Clifford({I->I, X->-X, Y->Y, Z->-Z}): CliffordSequence(['X90', 'X90', 'Z90', 'Z90']),\n",
       " Clifford({I->I, X->-Y, Y->-Z, Z->X}): CliffordSequence(['Z90', 'Z90', 'X90', 'Z90']),\n",
       " Clifford({I->I, X->-Z, Y->Y, Z->X}): CliffordSequence(['Z90', 'Z90', 'Z90', 'X90', 'Z90']),\n",
       " Clifford({I->I, X->Z, Y->X, Z->Y}): CliffordSequence(['Z90', 'X90', 'Z90', 'Z90']),\n",
       " Clifford({I->I, X->-Z, Y->X, Z->-Y}): CliffordSequence(['Z90', 'Z90', 'Z90', 'X90']),\n",
       " Clifford({I->I, X->-Z, Y->-X, Z->Y}): CliffordSequence(['Z90', 'Z90', 'Z90', 'X90', 'Z90', 'Z90'])}"
      ]
     },
     "execution_count": 45,
     "metadata": {},
     "output_type": "execute_result"
    }
   ],
   "source": [
    "clifford_group.generate_1q_cliffords(max_gates=7)"
   ]
  },
  {
   "cell_type": "code",
   "execution_count": 38,
   "metadata": {},
   "outputs": [
    {
     "data": {
      "text/plain": [
       "[{'index': 0,\n",
       "  'sequence': [],\n",
       "  'map': {'I': [1, 'I'], 'X': [1, 'X'], 'Y': [1, 'Y'], 'Z': [1, 'Z']}},\n",
       " {'index': 1,\n",
       "  'sequence': ['X90'],\n",
       "  'map': {'I': [1, 'I'], 'X': [1, 'X'], 'Y': [1, 'Z'], 'Z': [-1, 'Y']}},\n",
       " {'index': 2,\n",
       "  'sequence': ['X90', 'X90'],\n",
       "  'map': {'I': [1, 'I'], 'X': [1, 'X'], 'Y': [-1, 'Y'], 'Z': [-1, 'Z']}},\n",
       " {'index': 3,\n",
       "  'sequence': ['Z90', 'Z90', 'X90', 'Z90', 'Z90'],\n",
       "  'map': {'I': [1, 'I'], 'X': [1, 'X'], 'Y': [-1, 'Z'], 'Z': [1, 'Y']}},\n",
       " {'index': 4,\n",
       "  'sequence': ['Z90'],\n",
       "  'map': {'I': [1, 'I'], 'X': [1, 'Y'], 'Y': [-1, 'X'], 'Z': [1, 'Z']}},\n",
       " {'index': 5,\n",
       "  'sequence': ['X90', 'X90', 'X90', 'Z90'],\n",
       "  'map': {'I': [1, 'I'], 'X': [1, 'Y'], 'Y': [-1, 'Z'], 'Z': [-1, 'X']}},\n",
       " {'index': 6,\n",
       "  'sequence': ['Z90', 'X90', 'Z90', 'Z90', 'Z90'],\n",
       "  'map': {'I': [1, 'I'], 'X': [1, 'Z'], 'Y': [1, 'Y'], 'Z': [-1, 'X']}},\n",
       " {'index': 7,\n",
       "  'sequence': ['Z90', 'Z90', 'X90'],\n",
       "  'map': {'I': [1, 'I'], 'X': [-1, 'X'], 'Y': [-1, 'Z'], 'Z': [-1, 'Y']}},\n",
       " {'index': 8,\n",
       "  'sequence': ['X90', 'X90', 'Z90'],\n",
       "  'map': {'I': [1, 'I'], 'X': [1, 'Y'], 'Y': [1, 'X'], 'Z': [-1, 'Z']}},\n",
       " {'index': 9,\n",
       "  'sequence': ['Z90', 'X90', 'Z90', 'Z90'],\n",
       "  'map': {'I': [1, 'I'], 'X': [1, 'Z'], 'Y': [1, 'X'], 'Z': [1, 'Y']}},\n",
       " {'index': 10,\n",
       "  'sequence': ['Z90', 'Z90', 'Z90'],\n",
       "  'map': {'I': [1, 'I'], 'X': [-1, 'Y'], 'Y': [1, 'X'], 'Z': [1, 'Z']}},\n",
       " {'index': 11,\n",
       "  'sequence': ['X90', 'X90', 'Z90', 'Z90'],\n",
       "  'map': {'I': [1, 'I'], 'X': [-1, 'X'], 'Y': [1, 'Y'], 'Z': [-1, 'Z']}},\n",
       " {'index': 12,\n",
       "  'sequence': ['X90', 'Z90', 'Z90'],\n",
       "  'map': {'I': [1, 'I'], 'X': [-1, 'X'], 'Y': [1, 'Z'], 'Z': [1, 'Y']}},\n",
       " {'index': 13,\n",
       "  'sequence': ['Z90', 'X90', 'X90'],\n",
       "  'map': {'I': [1, 'I'], 'X': [-1, 'Y'], 'Y': [-1, 'X'], 'Z': [-1, 'Z']}},\n",
       " {'index': 14,\n",
       "  'sequence': ['X90', 'Z90'],\n",
       "  'map': {'I': [1, 'I'], 'X': [1, 'Y'], 'Y': [1, 'Z'], 'Z': [1, 'X']}},\n",
       " {'index': 15,\n",
       "  'sequence': ['Z90', 'X90', 'Z90'],\n",
       "  'map': {'I': [1, 'I'], 'X': [1, 'Z'], 'Y': [-1, 'Y'], 'Z': [1, 'X']}},\n",
       " {'index': 16,\n",
       "  'sequence': ['Z90', 'Z90', 'X90', 'Z90'],\n",
       "  'map': {'I': [1, 'I'], 'X': [-1, 'Y'], 'Y': [-1, 'Z'], 'Z': [1, 'X']}},\n",
       " {'index': 17,\n",
       "  'sequence': ['Z90', 'Z90', 'Z90', 'X90', 'Z90'],\n",
       "  'map': {'I': [1, 'I'], 'X': [-1, 'Z'], 'Y': [1, 'Y'], 'Z': [1, 'X']}},\n",
       " {'index': 18,\n",
       "  'sequence': ['Z90', 'Z90'],\n",
       "  'map': {'I': [1, 'I'], 'X': [-1, 'X'], 'Y': [-1, 'Y'], 'Z': [1, 'Z']}},\n",
       " {'index': 19,\n",
       "  'sequence': ['X90', 'Z90', 'Z90', 'Z90'],\n",
       "  'map': {'I': [1, 'I'], 'X': [-1, 'Y'], 'Y': [1, 'Z'], 'Z': [-1, 'X']}},\n",
       " {'index': 20,\n",
       "  'sequence': ['X90', 'Z90', 'Z90', 'Z90', 'X90'],\n",
       "  'map': {'I': [1, 'I'], 'X': [-1, 'Z'], 'Y': [-1, 'Y'], 'Z': [-1, 'X']}},\n",
       " {'index': 21,\n",
       "  'sequence': ['Z90', 'X90'],\n",
       "  'map': {'I': [1, 'I'], 'X': [1, 'Z'], 'Y': [-1, 'X'], 'Z': [-1, 'Y']}},\n",
       " {'index': 22,\n",
       "  'sequence': ['Z90', 'X90', 'X90', 'X90'],\n",
       "  'map': {'I': [1, 'I'], 'X': [-1, 'Z'], 'Y': [-1, 'X'], 'Z': [1, 'Y']}},\n",
       " {'index': 23,\n",
       "  'sequence': ['Z90', 'Z90', 'Z90', 'X90'],\n",
       "  'map': {'I': [1, 'I'], 'X': [-1, 'Z'], 'Y': [1, 'X'], 'Z': [-1, 'Y']}}]"
      ]
     },
     "execution_count": 38,
     "metadata": {},
     "output_type": "execute_result"
    }
   ],
   "source": [
    "clifford_group.get_clifford_list(\"1Q\")"
   ]
  },
  {
   "cell_type": "code",
   "execution_count": null,
   "metadata": {},
   "outputs": [],
   "source": []
  },
  {
   "cell_type": "code",
   "execution_count": null,
   "metadata": {},
   "outputs": [],
   "source": []
  },
  {
   "cell_type": "code",
   "execution_count": null,
   "metadata": {},
   "outputs": [],
   "source": []
  },
  {
   "cell_type": "code",
   "execution_count": null,
   "metadata": {},
   "outputs": [],
   "source": []
  }
 ],
 "metadata": {
  "kernelspec": {
   "display_name": ".venv",
   "language": "python",
   "name": "python3"
  },
  "language_info": {
   "codemirror_mode": {
    "name": "ipython",
    "version": 3
   },
   "file_extension": ".py",
   "mimetype": "text/x-python",
   "name": "python",
   "nbconvert_exporter": "python",
   "pygments_lexer": "ipython3",
   "version": "3.9.18"
  }
 },
 "nbformat": 4,
 "nbformat_minor": 2
}
