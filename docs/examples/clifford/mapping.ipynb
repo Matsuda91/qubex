{
 "cells": [
  {
   "cell_type": "code",
   "execution_count": 1,
   "metadata": {},
   "outputs": [],
   "source": [
    "import sympy as sp\n",
    "from sympy.physics.quantum import Dagger as dag\n",
    "from sympy.physics.quantum import TensorProduct as tensor"
   ]
  },
  {
   "cell_type": "code",
   "execution_count": 2,
   "metadata": {},
   "outputs": [],
   "source": [
    "# 1Q Pauli\n",
    "\n",
    "I = sp.Matrix(  # noqa\n",
    "    [\n",
    "        [1, 0],\n",
    "        [0, 1],\n",
    "    ],\n",
    ")\n",
    "\n",
    "X = sp.Matrix(\n",
    "    [\n",
    "        [0, 1],\n",
    "        [1, 0],\n",
    "    ],\n",
    ")\n",
    "\n",
    "Y = sp.Matrix(\n",
    "    [\n",
    "        [0, -sp.I],\n",
    "        [sp.I, 0],\n",
    "    ],\n",
    ")\n",
    "\n",
    "Z = sp.Matrix(\n",
    "    [\n",
    "        [1, 0],\n",
    "        [0, -1],\n",
    "    ],\n",
    ")\n"
   ]
  },
  {
   "cell_type": "code",
   "execution_count": 3,
   "metadata": {},
   "outputs": [],
   "source": [
    "# 2Q Pauli\n",
    "\n",
    "PAULI_2Q = {\n",
    "    \"II\": tensor(I, I),\n",
    "    \"IX\": tensor(I, X),\n",
    "    \"IY\": tensor(I, Y),\n",
    "    \"IZ\": tensor(I, Z),\n",
    "    \"XI\": tensor(X, I),\n",
    "    \"XX\": tensor(X, X),\n",
    "    \"XY\": tensor(X, Y),\n",
    "    \"XZ\": tensor(X, Z),\n",
    "    \"YI\": tensor(Y, I),\n",
    "    \"YX\": tensor(Y, X),\n",
    "    \"YY\": tensor(Y, Y),\n",
    "    \"YZ\": tensor(Y, Z),\n",
    "    \"ZI\": tensor(Z, I),\n",
    "    \"ZX\": tensor(Z, X),\n",
    "    \"ZY\": tensor(Z, Y),\n",
    "    \"ZZ\": tensor(Z, Z),\n",
    "}"
   ]
  },
  {
   "cell_type": "code",
   "execution_count": 4,
   "metadata": {},
   "outputs": [],
   "source": [
    "# 1Q Clifford\n",
    "\n",
    "X90 = sp.Matrix(\n",
    "    [\n",
    "        [1, -sp.I],\n",
    "        [-sp.I, 1],\n",
    "    ],\n",
    ") / sp.sqrt(2)\n",
    "\n",
    "Y90 = sp.Matrix(\n",
    "    [\n",
    "        [1, -1],\n",
    "        [1, 1],\n",
    "    ],\n",
    ") / sp.sqrt(2)\n",
    "\n",
    "Z90 = sp.Matrix(\n",
    "    [\n",
    "        [1 - sp.I, 0],\n",
    "        [0, 1 + sp.I],\n",
    "    ],\n",
    ") / sp.sqrt(2)"
   ]
  },
  {
   "cell_type": "code",
   "execution_count": 5,
   "metadata": {},
   "outputs": [],
   "source": [
    "# 1Qx1Q Clifford\n",
    "\n",
    "II = tensor(I, I)\n",
    "IX90 = tensor(I, X90)\n",
    "IY90 = tensor(I, Y90)\n",
    "IZ90 = tensor(I, Z90)\n",
    "XI90 = tensor(X90, I)\n",
    "YI90 = tensor(Y90, I)\n",
    "ZI90 = tensor(Z90, I)"
   ]
  },
  {
   "cell_type": "code",
   "execution_count": 6,
   "metadata": {},
   "outputs": [],
   "source": [
    "# 2Q Clifford\n",
    "\n",
    "ZX90 = sp.Matrix(\n",
    "    [\n",
    "        [1, -sp.I, 0, 0],\n",
    "        [-sp.I, 1, 0, 0],\n",
    "        [0, 0, 1, sp.I],\n",
    "        [0, 0, sp.I, 1],\n",
    "    ]\n",
    ") / sp.sqrt(2)\n",
    "\n",
    "ZZ90 = sp.Matrix(\n",
    "    [\n",
    "        [1 - sp.I, 0, 0, 0],\n",
    "        [0, 1 + sp.I, 0, 0],\n",
    "        [0, 0, 1 + sp.I, 0],\n",
    "        [0, 0, 0, 1 - sp.I],\n",
    "    ]\n",
    ") / sp.sqrt(2)\n",
    "\n",
    "CNOT = sp.Matrix(\n",
    "    [\n",
    "        [1, 0, 0, 0],\n",
    "        [0, 1, 0, 0],\n",
    "        [0, 0, 0, 1],\n",
    "        [0, 0, 1, 0],\n",
    "    ],\n",
    ")\n",
    "\n",
    "CZ = sp.Matrix(\n",
    "    [\n",
    "        [1, 0, 0, 0],\n",
    "        [0, 1, 0, 0],\n",
    "        [0, 0, 1, 0],\n",
    "        [0, 0, 0, -1],\n",
    "    ],\n",
    ")\n",
    "\n",
    "SWAP = sp.Matrix(\n",
    "    [\n",
    "        [1, 0, 0, 0],\n",
    "        [0, 0, 1, 0],\n",
    "        [0, 1, 0, 0],\n",
    "        [0, 0, 0, 1],\n",
    "    ],\n",
    ")\n",
    "\n",
    "ISWAP = sp.Matrix(\n",
    "    [\n",
    "        [1, 0, 0, 0],\n",
    "        [0, 0, sp.I, 0],\n",
    "        [0, sp.I, 0, 0],\n",
    "        [0, 0, 0, 1],\n",
    "    ],\n",
    ")\n",
    "\n",
    "BSWAP = sp.Matrix(\n",
    "    [\n",
    "        [0, 0, 0, sp.I],\n",
    "        [0, 1, 0, 0],\n",
    "        [0, 0, 1, 0],\n",
    "        [sp.I, 0, 0, 0],\n",
    "    ],\n",
    ")"
   ]
  },
  {
   "cell_type": "code",
   "execution_count": 7,
   "metadata": {},
   "outputs": [],
   "source": [
    "# 2Q Non-Clifford\n",
    "\n",
    "SQRT_ISWAP = sp.Matrix(\n",
    "    [\n",
    "        [sp.sqrt(2), 0, 0, 0],\n",
    "        [0, 1, sp.I, 0],\n",
    "        [0, sp.I, 1, 0],\n",
    "        [0, 0, 0, sp.sqrt(2)],\n",
    "    ],\n",
    ") / sp.sqrt(2)\n",
    "\n",
    "BGATE = sp.Matrix(\n",
    "    [\n",
    "        [sp.cos(sp.pi / 8), 0, 0, sp.I * sp.sin(sp.pi / 8)],\n",
    "        [0, sp.sin(sp.pi / 8), sp.I * sp.cos(sp.pi / 8), 0],\n",
    "        [0, sp.I * sp.cos(sp.pi / 8), sp.sin(sp.pi / 8), 0],\n",
    "        [sp.I * sp.sin(sp.pi / 8), 0, 0, sp.cos(sp.pi / 8)],\n",
    "    ],\n",
    ")"
   ]
  },
  {
   "cell_type": "code",
   "execution_count": 8,
   "metadata": {},
   "outputs": [
    {
     "data": {
      "text/latex": [
       "$\\displaystyle \\left[\\begin{matrix}\\frac{\\sqrt{2}}{2} & - \\frac{\\sqrt{2} i}{2} & 0 & 0\\\\- \\frac{\\sqrt{2} i}{2} & \\frac{\\sqrt{2}}{2} & 0 & 0\\\\0 & 0 & \\frac{\\sqrt{2}}{2} & \\frac{\\sqrt{2} i}{2}\\\\0 & 0 & \\frac{\\sqrt{2} i}{2} & \\frac{\\sqrt{2}}{2}\\end{matrix}\\right]$"
      ],
      "text/plain": [
       "Matrix([\n",
       "[   sqrt(2)/2, -sqrt(2)*I/2,           0,           0],\n",
       "[-sqrt(2)*I/2,    sqrt(2)/2,           0,           0],\n",
       "[           0,            0,   sqrt(2)/2, sqrt(2)*I/2],\n",
       "[           0,            0, sqrt(2)*I/2,   sqrt(2)/2]])"
      ]
     },
     "execution_count": 8,
     "metadata": {},
     "output_type": "execute_result"
    }
   ],
   "source": [
    "ZX90"
   ]
  },
  {
   "cell_type": "code",
   "execution_count": 9,
   "metadata": {},
   "outputs": [
    {
     "data": {
      "text/latex": [
       "$\\displaystyle \\left[\\begin{matrix}0 & - i & 0 & 0\\\\- i & 0 & 0 & 0\\\\0 & 0 & 0 & i\\\\0 & 0 & i & 0\\end{matrix}\\right]$"
      ],
      "text/plain": [
       "Matrix([\n",
       "[ 0, -I, 0, 0],\n",
       "[-I,  0, 0, 0],\n",
       "[ 0,  0, 0, I],\n",
       "[ 0,  0, I, 0]])"
      ]
     },
     "execution_count": 9,
     "metadata": {},
     "output_type": "execute_result"
    }
   ],
   "source": [
    "ZX90 * ZX90"
   ]
  },
  {
   "cell_type": "code",
   "execution_count": 10,
   "metadata": {},
   "outputs": [
    {
     "data": {
      "text/latex": [
       "$\\displaystyle \\left[\\begin{matrix}0 & - i & 0 & 0\\\\- i & 0 & 0 & 0\\\\0 & 0 & 0 & i\\\\0 & 0 & i & 0\\end{matrix}\\right]$"
      ],
      "text/plain": [
       "Matrix([\n",
       "[ 0, -I, 0, 0],\n",
       "[-I,  0, 0, 0],\n",
       "[ 0,  0, 0, I],\n",
       "[ 0,  0, I, 0]])"
      ]
     },
     "execution_count": 10,
     "metadata": {},
     "output_type": "execute_result"
    }
   ],
   "source": [
    "- sp.I * tensor(Z, X)"
   ]
  },
  {
   "cell_type": "code",
   "execution_count": 11,
   "metadata": {},
   "outputs": [
    {
     "data": {
      "text/plain": [
       "True"
      ]
     },
     "execution_count": 11,
     "metadata": {},
     "output_type": "execute_result"
    }
   ],
   "source": [
    "(SQRT_ISWAP * SQRT_ISWAP).equals(ISWAP)"
   ]
  },
  {
   "cell_type": "code",
   "execution_count": 12,
   "metadata": {},
   "outputs": [
    {
     "name": "stdout",
     "output_type": "stream",
     "text": [
      "II =\n"
     ]
    },
    {
     "data": {
      "text/latex": [
       "$\\displaystyle \\left[\\begin{matrix}1 & 0 & 0 & 0\\\\0 & 1 & 0 & 0\\\\0 & 0 & 1 & 0\\\\0 & 0 & 0 & 1\\end{matrix}\\right]$"
      ],
      "text/plain": [
       "Matrix([\n",
       "[1, 0, 0, 0],\n",
       "[0, 1, 0, 0],\n",
       "[0, 0, 1, 0],\n",
       "[0, 0, 0, 1]])"
      ]
     },
     "metadata": {},
     "output_type": "display_data"
    },
    {
     "name": "stdout",
     "output_type": "stream",
     "text": [
      "IX =\n"
     ]
    },
    {
     "data": {
      "text/latex": [
       "$\\displaystyle \\left[\\begin{matrix}0 & 1 & 0 & 0\\\\1 & 0 & 0 & 0\\\\0 & 0 & 0 & 1\\\\0 & 0 & 1 & 0\\end{matrix}\\right]$"
      ],
      "text/plain": [
       "Matrix([\n",
       "[0, 1, 0, 0],\n",
       "[1, 0, 0, 0],\n",
       "[0, 0, 0, 1],\n",
       "[0, 0, 1, 0]])"
      ]
     },
     "metadata": {},
     "output_type": "display_data"
    },
    {
     "name": "stdout",
     "output_type": "stream",
     "text": [
      "IY =\n"
     ]
    },
    {
     "data": {
      "text/latex": [
       "$\\displaystyle \\left[\\begin{matrix}0 & - i & 0 & 0\\\\i & 0 & 0 & 0\\\\0 & 0 & 0 & - i\\\\0 & 0 & i & 0\\end{matrix}\\right]$"
      ],
      "text/plain": [
       "Matrix([\n",
       "[0, -I, 0,  0],\n",
       "[I,  0, 0,  0],\n",
       "[0,  0, 0, -I],\n",
       "[0,  0, I,  0]])"
      ]
     },
     "metadata": {},
     "output_type": "display_data"
    },
    {
     "name": "stdout",
     "output_type": "stream",
     "text": [
      "IZ =\n"
     ]
    },
    {
     "data": {
      "text/latex": [
       "$\\displaystyle \\left[\\begin{matrix}1 & 0 & 0 & 0\\\\0 & -1 & 0 & 0\\\\0 & 0 & 1 & 0\\\\0 & 0 & 0 & -1\\end{matrix}\\right]$"
      ],
      "text/plain": [
       "Matrix([\n",
       "[1,  0, 0,  0],\n",
       "[0, -1, 0,  0],\n",
       "[0,  0, 1,  0],\n",
       "[0,  0, 0, -1]])"
      ]
     },
     "metadata": {},
     "output_type": "display_data"
    },
    {
     "name": "stdout",
     "output_type": "stream",
     "text": [
      "XI =\n"
     ]
    },
    {
     "data": {
      "text/latex": [
       "$\\displaystyle \\left[\\begin{matrix}0 & 0 & 1 & 0\\\\0 & 0 & 0 & 1\\\\1 & 0 & 0 & 0\\\\0 & 1 & 0 & 0\\end{matrix}\\right]$"
      ],
      "text/plain": [
       "Matrix([\n",
       "[0, 0, 1, 0],\n",
       "[0, 0, 0, 1],\n",
       "[1, 0, 0, 0],\n",
       "[0, 1, 0, 0]])"
      ]
     },
     "metadata": {},
     "output_type": "display_data"
    },
    {
     "name": "stdout",
     "output_type": "stream",
     "text": [
      "XX =\n"
     ]
    },
    {
     "data": {
      "text/latex": [
       "$\\displaystyle \\left[\\begin{matrix}0 & 0 & 0 & 1\\\\0 & 0 & 1 & 0\\\\0 & 1 & 0 & 0\\\\1 & 0 & 0 & 0\\end{matrix}\\right]$"
      ],
      "text/plain": [
       "Matrix([\n",
       "[0, 0, 0, 1],\n",
       "[0, 0, 1, 0],\n",
       "[0, 1, 0, 0],\n",
       "[1, 0, 0, 0]])"
      ]
     },
     "metadata": {},
     "output_type": "display_data"
    },
    {
     "name": "stdout",
     "output_type": "stream",
     "text": [
      "XY =\n"
     ]
    },
    {
     "data": {
      "text/latex": [
       "$\\displaystyle \\left[\\begin{matrix}0 & 0 & 0 & - i\\\\0 & 0 & i & 0\\\\0 & - i & 0 & 0\\\\i & 0 & 0 & 0\\end{matrix}\\right]$"
      ],
      "text/plain": [
       "Matrix([\n",
       "[0,  0, 0, -I],\n",
       "[0,  0, I,  0],\n",
       "[0, -I, 0,  0],\n",
       "[I,  0, 0,  0]])"
      ]
     },
     "metadata": {},
     "output_type": "display_data"
    },
    {
     "name": "stdout",
     "output_type": "stream",
     "text": [
      "XZ =\n"
     ]
    },
    {
     "data": {
      "text/latex": [
       "$\\displaystyle \\left[\\begin{matrix}0 & 0 & 1 & 0\\\\0 & 0 & 0 & -1\\\\1 & 0 & 0 & 0\\\\0 & -1 & 0 & 0\\end{matrix}\\right]$"
      ],
      "text/plain": [
       "Matrix([\n",
       "[0,  0, 1,  0],\n",
       "[0,  0, 0, -1],\n",
       "[1,  0, 0,  0],\n",
       "[0, -1, 0,  0]])"
      ]
     },
     "metadata": {},
     "output_type": "display_data"
    },
    {
     "name": "stdout",
     "output_type": "stream",
     "text": [
      "YI =\n"
     ]
    },
    {
     "data": {
      "text/latex": [
       "$\\displaystyle \\left[\\begin{matrix}0 & 0 & - i & 0\\\\0 & 0 & 0 & - i\\\\i & 0 & 0 & 0\\\\0 & i & 0 & 0\\end{matrix}\\right]$"
      ],
      "text/plain": [
       "Matrix([\n",
       "[0, 0, -I,  0],\n",
       "[0, 0,  0, -I],\n",
       "[I, 0,  0,  0],\n",
       "[0, I,  0,  0]])"
      ]
     },
     "metadata": {},
     "output_type": "display_data"
    },
    {
     "name": "stdout",
     "output_type": "stream",
     "text": [
      "YX =\n"
     ]
    },
    {
     "data": {
      "text/latex": [
       "$\\displaystyle \\left[\\begin{matrix}0 & 0 & 0 & - i\\\\0 & 0 & - i & 0\\\\0 & i & 0 & 0\\\\i & 0 & 0 & 0\\end{matrix}\\right]$"
      ],
      "text/plain": [
       "Matrix([\n",
       "[0, 0,  0, -I],\n",
       "[0, 0, -I,  0],\n",
       "[0, I,  0,  0],\n",
       "[I, 0,  0,  0]])"
      ]
     },
     "metadata": {},
     "output_type": "display_data"
    },
    {
     "name": "stdout",
     "output_type": "stream",
     "text": [
      "YY =\n"
     ]
    },
    {
     "data": {
      "text/latex": [
       "$\\displaystyle \\left[\\begin{matrix}0 & 0 & 0 & -1\\\\0 & 0 & 1 & 0\\\\0 & 1 & 0 & 0\\\\-1 & 0 & 0 & 0\\end{matrix}\\right]$"
      ],
      "text/plain": [
       "Matrix([\n",
       "[ 0, 0, 0, -1],\n",
       "[ 0, 0, 1,  0],\n",
       "[ 0, 1, 0,  0],\n",
       "[-1, 0, 0,  0]])"
      ]
     },
     "metadata": {},
     "output_type": "display_data"
    },
    {
     "name": "stdout",
     "output_type": "stream",
     "text": [
      "YZ =\n"
     ]
    },
    {
     "data": {
      "text/latex": [
       "$\\displaystyle \\left[\\begin{matrix}0 & 0 & - i & 0\\\\0 & 0 & 0 & i\\\\i & 0 & 0 & 0\\\\0 & - i & 0 & 0\\end{matrix}\\right]$"
      ],
      "text/plain": [
       "Matrix([\n",
       "[0,  0, -I, 0],\n",
       "[0,  0,  0, I],\n",
       "[I,  0,  0, 0],\n",
       "[0, -I,  0, 0]])"
      ]
     },
     "metadata": {},
     "output_type": "display_data"
    },
    {
     "name": "stdout",
     "output_type": "stream",
     "text": [
      "ZI =\n"
     ]
    },
    {
     "data": {
      "text/latex": [
       "$\\displaystyle \\left[\\begin{matrix}1 & 0 & 0 & 0\\\\0 & 1 & 0 & 0\\\\0 & 0 & -1 & 0\\\\0 & 0 & 0 & -1\\end{matrix}\\right]$"
      ],
      "text/plain": [
       "Matrix([\n",
       "[1, 0,  0,  0],\n",
       "[0, 1,  0,  0],\n",
       "[0, 0, -1,  0],\n",
       "[0, 0,  0, -1]])"
      ]
     },
     "metadata": {},
     "output_type": "display_data"
    },
    {
     "name": "stdout",
     "output_type": "stream",
     "text": [
      "ZX =\n"
     ]
    },
    {
     "data": {
      "text/latex": [
       "$\\displaystyle \\left[\\begin{matrix}0 & 1 & 0 & 0\\\\1 & 0 & 0 & 0\\\\0 & 0 & 0 & -1\\\\0 & 0 & -1 & 0\\end{matrix}\\right]$"
      ],
      "text/plain": [
       "Matrix([\n",
       "[0, 1,  0,  0],\n",
       "[1, 0,  0,  0],\n",
       "[0, 0,  0, -1],\n",
       "[0, 0, -1,  0]])"
      ]
     },
     "metadata": {},
     "output_type": "display_data"
    },
    {
     "name": "stdout",
     "output_type": "stream",
     "text": [
      "ZY =\n"
     ]
    },
    {
     "data": {
      "text/latex": [
       "$\\displaystyle \\left[\\begin{matrix}0 & - i & 0 & 0\\\\i & 0 & 0 & 0\\\\0 & 0 & 0 & i\\\\0 & 0 & - i & 0\\end{matrix}\\right]$"
      ],
      "text/plain": [
       "Matrix([\n",
       "[0, -I,  0, 0],\n",
       "[I,  0,  0, 0],\n",
       "[0,  0,  0, I],\n",
       "[0,  0, -I, 0]])"
      ]
     },
     "metadata": {},
     "output_type": "display_data"
    },
    {
     "name": "stdout",
     "output_type": "stream",
     "text": [
      "ZZ =\n"
     ]
    },
    {
     "data": {
      "text/latex": [
       "$\\displaystyle \\left[\\begin{matrix}1 & 0 & 0 & 0\\\\0 & -1 & 0 & 0\\\\0 & 0 & -1 & 0\\\\0 & 0 & 0 & 1\\end{matrix}\\right]$"
      ],
      "text/plain": [
       "Matrix([\n",
       "[1,  0,  0, 0],\n",
       "[0, -1,  0, 0],\n",
       "[0,  0, -1, 0],\n",
       "[0,  0,  0, 1]])"
      ]
     },
     "metadata": {},
     "output_type": "display_data"
    }
   ],
   "source": [
    "for k, v in PAULI_2Q.items():\n",
    "    print(f\"{k} =\")\n",
    "    display(v)"
   ]
  },
  {
   "cell_type": "code",
   "execution_count": 13,
   "metadata": {},
   "outputs": [],
   "source": [
    "def create_pauli_mapping(C: sp.Matrix):\n",
    "    mapping = {}\n",
    "    for label, P in PAULI_2Q.items():\n",
    "        P_mapped = C * P * dag(C)\n",
    "        P_mapped.simplify()\n",
    "        print(f\"{label} ->\")\n",
    "        display(P_mapped)\n",
    "\n",
    "        for k, v in PAULI_2Q.items():\n",
    "            for sign in [1, -1, sp.I, -sp.I]:\n",
    "                if P_mapped.equals(sign * v):\n",
    "                    mapping[label] = (sign, k)\n",
    "                    print(f\"= {sign} * {k}\\n\")\n",
    "                    break\n",
    "        # print if not found\n",
    "        if label not in mapping:\n",
    "            print(f\"Could not find mapping for {label}\\n\")\n",
    "\n",
    "    return mapping"
   ]
  },
  {
   "cell_type": "code",
   "execution_count": 14,
   "metadata": {},
   "outputs": [
    {
     "name": "stdout",
     "output_type": "stream",
     "text": [
      "II ->\n"
     ]
    },
    {
     "data": {
      "text/latex": [
       "$\\displaystyle \\left[\\begin{matrix}1 & 0 & 0 & 0\\\\0 & 1 & 0 & 0\\\\0 & 0 & 1 & 0\\\\0 & 0 & 0 & 1\\end{matrix}\\right]$"
      ],
      "text/plain": [
       "Matrix([\n",
       "[1, 0, 0, 0],\n",
       "[0, 1, 0, 0],\n",
       "[0, 0, 1, 0],\n",
       "[0, 0, 0, 1]])"
      ]
     },
     "metadata": {},
     "output_type": "display_data"
    },
    {
     "name": "stdout",
     "output_type": "stream",
     "text": [
      "= 1 * II\n",
      "\n",
      "IX ->\n"
     ]
    },
    {
     "data": {
      "text/latex": [
       "$\\displaystyle \\left[\\begin{matrix}0 & 1 & 0 & 0\\\\1 & 0 & 0 & 0\\\\0 & 0 & 0 & 1\\\\0 & 0 & 1 & 0\\end{matrix}\\right]$"
      ],
      "text/plain": [
       "Matrix([\n",
       "[0, 1, 0, 0],\n",
       "[1, 0, 0, 0],\n",
       "[0, 0, 0, 1],\n",
       "[0, 0, 1, 0]])"
      ]
     },
     "metadata": {},
     "output_type": "display_data"
    },
    {
     "name": "stdout",
     "output_type": "stream",
     "text": [
      "= 1 * IX\n",
      "\n",
      "IY ->\n"
     ]
    },
    {
     "data": {
      "text/latex": [
       "$\\displaystyle \\left[\\begin{matrix}1 & 0 & 0 & 0\\\\0 & -1 & 0 & 0\\\\0 & 0 & -1 & 0\\\\0 & 0 & 0 & 1\\end{matrix}\\right]$"
      ],
      "text/plain": [
       "Matrix([\n",
       "[1,  0,  0, 0],\n",
       "[0, -1,  0, 0],\n",
       "[0,  0, -1, 0],\n",
       "[0,  0,  0, 1]])"
      ]
     },
     "metadata": {},
     "output_type": "display_data"
    },
    {
     "name": "stdout",
     "output_type": "stream",
     "text": [
      "= 1 * ZZ\n",
      "\n",
      "IZ ->\n"
     ]
    },
    {
     "data": {
      "text/latex": [
       "$\\displaystyle \\left[\\begin{matrix}0 & i & 0 & 0\\\\- i & 0 & 0 & 0\\\\0 & 0 & 0 & - i\\\\0 & 0 & i & 0\\end{matrix}\\right]$"
      ],
      "text/plain": [
       "Matrix([\n",
       "[ 0, I, 0,  0],\n",
       "[-I, 0, 0,  0],\n",
       "[ 0, 0, 0, -I],\n",
       "[ 0, 0, I,  0]])"
      ]
     },
     "metadata": {},
     "output_type": "display_data"
    },
    {
     "name": "stdout",
     "output_type": "stream",
     "text": [
      "= -1 * ZY\n",
      "\n",
      "XI ->\n"
     ]
    },
    {
     "data": {
      "text/latex": [
       "$\\displaystyle \\left[\\begin{matrix}0 & 0 & 0 & - i\\\\0 & 0 & - i & 0\\\\0 & i & 0 & 0\\\\i & 0 & 0 & 0\\end{matrix}\\right]$"
      ],
      "text/plain": [
       "Matrix([\n",
       "[0, 0,  0, -I],\n",
       "[0, 0, -I,  0],\n",
       "[0, I,  0,  0],\n",
       "[I, 0,  0,  0]])"
      ]
     },
     "metadata": {},
     "output_type": "display_data"
    },
    {
     "name": "stdout",
     "output_type": "stream",
     "text": [
      "= 1 * YX\n",
      "\n",
      "XX ->\n"
     ]
    },
    {
     "data": {
      "text/latex": [
       "$\\displaystyle \\left[\\begin{matrix}0 & 0 & - i & 0\\\\0 & 0 & 0 & - i\\\\i & 0 & 0 & 0\\\\0 & i & 0 & 0\\end{matrix}\\right]$"
      ],
      "text/plain": [
       "Matrix([\n",
       "[0, 0, -I,  0],\n",
       "[0, 0,  0, -I],\n",
       "[I, 0,  0,  0],\n",
       "[0, I,  0,  0]])"
      ]
     },
     "metadata": {},
     "output_type": "display_data"
    },
    {
     "name": "stdout",
     "output_type": "stream",
     "text": [
      "= 1 * YI\n",
      "\n",
      "XY ->\n"
     ]
    },
    {
     "data": {
      "text/latex": [
       "$\\displaystyle \\left[\\begin{matrix}0 & 0 & 0 & - i\\\\0 & 0 & i & 0\\\\0 & - i & 0 & 0\\\\i & 0 & 0 & 0\\end{matrix}\\right]$"
      ],
      "text/plain": [
       "Matrix([\n",
       "[0,  0, 0, -I],\n",
       "[0,  0, I,  0],\n",
       "[0, -I, 0,  0],\n",
       "[I,  0, 0,  0]])"
      ]
     },
     "metadata": {},
     "output_type": "display_data"
    },
    {
     "name": "stdout",
     "output_type": "stream",
     "text": [
      "= 1 * XY\n",
      "\n",
      "XZ ->\n"
     ]
    },
    {
     "data": {
      "text/latex": [
       "$\\displaystyle \\left[\\begin{matrix}0 & 0 & 1 & 0\\\\0 & 0 & 0 & -1\\\\1 & 0 & 0 & 0\\\\0 & -1 & 0 & 0\\end{matrix}\\right]$"
      ],
      "text/plain": [
       "Matrix([\n",
       "[0,  0, 1,  0],\n",
       "[0,  0, 0, -1],\n",
       "[1,  0, 0,  0],\n",
       "[0, -1, 0,  0]])"
      ]
     },
     "metadata": {},
     "output_type": "display_data"
    },
    {
     "name": "stdout",
     "output_type": "stream",
     "text": [
      "= 1 * XZ\n",
      "\n",
      "YI ->\n"
     ]
    },
    {
     "data": {
      "text/latex": [
       "$\\displaystyle \\left[\\begin{matrix}0 & 0 & 0 & -1\\\\0 & 0 & -1 & 0\\\\0 & -1 & 0 & 0\\\\-1 & 0 & 0 & 0\\end{matrix}\\right]$"
      ],
      "text/plain": [
       "Matrix([\n",
       "[ 0,  0,  0, -1],\n",
       "[ 0,  0, -1,  0],\n",
       "[ 0, -1,  0,  0],\n",
       "[-1,  0,  0,  0]])"
      ]
     },
     "metadata": {},
     "output_type": "display_data"
    },
    {
     "name": "stdout",
     "output_type": "stream",
     "text": [
      "= -1 * XX\n",
      "\n",
      "YX ->\n"
     ]
    },
    {
     "data": {
      "text/latex": [
       "$\\displaystyle \\left[\\begin{matrix}0 & 0 & -1 & 0\\\\0 & 0 & 0 & -1\\\\-1 & 0 & 0 & 0\\\\0 & -1 & 0 & 0\\end{matrix}\\right]$"
      ],
      "text/plain": [
       "Matrix([\n",
       "[ 0,  0, -1,  0],\n",
       "[ 0,  0,  0, -1],\n",
       "[-1,  0,  0,  0],\n",
       "[ 0, -1,  0,  0]])"
      ]
     },
     "metadata": {},
     "output_type": "display_data"
    },
    {
     "name": "stdout",
     "output_type": "stream",
     "text": [
      "= -1 * XI\n",
      "\n",
      "YY ->\n"
     ]
    },
    {
     "data": {
      "text/latex": [
       "$\\displaystyle \\left[\\begin{matrix}0 & 0 & 0 & -1\\\\0 & 0 & 1 & 0\\\\0 & 1 & 0 & 0\\\\-1 & 0 & 0 & 0\\end{matrix}\\right]$"
      ],
      "text/plain": [
       "Matrix([\n",
       "[ 0, 0, 0, -1],\n",
       "[ 0, 0, 1,  0],\n",
       "[ 0, 1, 0,  0],\n",
       "[-1, 0, 0,  0]])"
      ]
     },
     "metadata": {},
     "output_type": "display_data"
    },
    {
     "name": "stdout",
     "output_type": "stream",
     "text": [
      "= 1 * YY\n",
      "\n",
      "YZ ->\n"
     ]
    },
    {
     "data": {
      "text/latex": [
       "$\\displaystyle \\left[\\begin{matrix}0 & 0 & - i & 0\\\\0 & 0 & 0 & i\\\\i & 0 & 0 & 0\\\\0 & - i & 0 & 0\\end{matrix}\\right]$"
      ],
      "text/plain": [
       "Matrix([\n",
       "[0,  0, -I, 0],\n",
       "[0,  0,  0, I],\n",
       "[I,  0,  0, 0],\n",
       "[0, -I,  0, 0]])"
      ]
     },
     "metadata": {},
     "output_type": "display_data"
    },
    {
     "name": "stdout",
     "output_type": "stream",
     "text": [
      "= 1 * YZ\n",
      "\n",
      "ZI ->\n"
     ]
    },
    {
     "data": {
      "text/latex": [
       "$\\displaystyle \\left[\\begin{matrix}1 & 0 & 0 & 0\\\\0 & 1 & 0 & 0\\\\0 & 0 & -1 & 0\\\\0 & 0 & 0 & -1\\end{matrix}\\right]$"
      ],
      "text/plain": [
       "Matrix([\n",
       "[1, 0,  0,  0],\n",
       "[0, 1,  0,  0],\n",
       "[0, 0, -1,  0],\n",
       "[0, 0,  0, -1]])"
      ]
     },
     "metadata": {},
     "output_type": "display_data"
    },
    {
     "name": "stdout",
     "output_type": "stream",
     "text": [
      "= 1 * ZI\n",
      "\n",
      "ZX ->\n"
     ]
    },
    {
     "data": {
      "text/latex": [
       "$\\displaystyle \\left[\\begin{matrix}0 & 1 & 0 & 0\\\\1 & 0 & 0 & 0\\\\0 & 0 & 0 & -1\\\\0 & 0 & -1 & 0\\end{matrix}\\right]$"
      ],
      "text/plain": [
       "Matrix([\n",
       "[0, 1,  0,  0],\n",
       "[1, 0,  0,  0],\n",
       "[0, 0,  0, -1],\n",
       "[0, 0, -1,  0]])"
      ]
     },
     "metadata": {},
     "output_type": "display_data"
    },
    {
     "name": "stdout",
     "output_type": "stream",
     "text": [
      "= 1 * ZX\n",
      "\n",
      "ZY ->\n"
     ]
    },
    {
     "data": {
      "text/latex": [
       "$\\displaystyle \\left[\\begin{matrix}1 & 0 & 0 & 0\\\\0 & -1 & 0 & 0\\\\0 & 0 & 1 & 0\\\\0 & 0 & 0 & -1\\end{matrix}\\right]$"
      ],
      "text/plain": [
       "Matrix([\n",
       "[1,  0, 0,  0],\n",
       "[0, -1, 0,  0],\n",
       "[0,  0, 1,  0],\n",
       "[0,  0, 0, -1]])"
      ]
     },
     "metadata": {},
     "output_type": "display_data"
    },
    {
     "name": "stdout",
     "output_type": "stream",
     "text": [
      "= 1 * IZ\n",
      "\n",
      "ZZ ->\n"
     ]
    },
    {
     "data": {
      "text/latex": [
       "$\\displaystyle \\left[\\begin{matrix}0 & i & 0 & 0\\\\- i & 0 & 0 & 0\\\\0 & 0 & 0 & i\\\\0 & 0 & - i & 0\\end{matrix}\\right]$"
      ],
      "text/plain": [
       "Matrix([\n",
       "[ 0, I,  0, 0],\n",
       "[-I, 0,  0, 0],\n",
       "[ 0, 0,  0, I],\n",
       "[ 0, 0, -I, 0]])"
      ]
     },
     "metadata": {},
     "output_type": "display_data"
    },
    {
     "name": "stdout",
     "output_type": "stream",
     "text": [
      "= -1 * IY\n",
      "\n"
     ]
    },
    {
     "data": {
      "text/plain": [
       "{'II': (1, 'II'),\n",
       " 'IX': (1, 'IX'),\n",
       " 'IY': (1, 'ZZ'),\n",
       " 'IZ': (-1, 'ZY'),\n",
       " 'XI': (1, 'YX'),\n",
       " 'XX': (1, 'YI'),\n",
       " 'XY': (1, 'XY'),\n",
       " 'XZ': (1, 'XZ'),\n",
       " 'YI': (-1, 'XX'),\n",
       " 'YX': (-1, 'XI'),\n",
       " 'YY': (1, 'YY'),\n",
       " 'YZ': (1, 'YZ'),\n",
       " 'ZI': (1, 'ZI'),\n",
       " 'ZX': (1, 'ZX'),\n",
       " 'ZY': (1, 'IZ'),\n",
       " 'ZZ': (-1, 'IY')}"
      ]
     },
     "execution_count": 14,
     "metadata": {},
     "output_type": "execute_result"
    }
   ],
   "source": [
    "create_pauli_mapping(ZX90)"
   ]
  },
  {
   "cell_type": "code",
   "execution_count": 15,
   "metadata": {},
   "outputs": [
    {
     "name": "stdout",
     "output_type": "stream",
     "text": [
      "II ->\n"
     ]
    },
    {
     "data": {
      "text/latex": [
       "$\\displaystyle \\left[\\begin{matrix}1 & 0 & 0 & 0\\\\0 & 1 & 0 & 0\\\\0 & 0 & 1 & 0\\\\0 & 0 & 0 & 1\\end{matrix}\\right]$"
      ],
      "text/plain": [
       "Matrix([\n",
       "[1, 0, 0, 0],\n",
       "[0, 1, 0, 0],\n",
       "[0, 0, 1, 0],\n",
       "[0, 0, 0, 1]])"
      ]
     },
     "metadata": {},
     "output_type": "display_data"
    },
    {
     "name": "stdout",
     "output_type": "stream",
     "text": [
      "= 1 * II\n",
      "\n",
      "IX ->\n"
     ]
    },
    {
     "data": {
      "text/latex": [
       "$\\displaystyle \\left[\\begin{matrix}0 & - i & 0 & 0\\\\i & 0 & 0 & 0\\\\0 & 0 & 0 & i\\\\0 & 0 & - i & 0\\end{matrix}\\right]$"
      ],
      "text/plain": [
       "Matrix([\n",
       "[0, -I,  0, 0],\n",
       "[I,  0,  0, 0],\n",
       "[0,  0,  0, I],\n",
       "[0,  0, -I, 0]])"
      ]
     },
     "metadata": {},
     "output_type": "display_data"
    },
    {
     "name": "stdout",
     "output_type": "stream",
     "text": [
      "= 1 * ZY\n",
      "\n",
      "IY ->\n"
     ]
    },
    {
     "data": {
      "text/latex": [
       "$\\displaystyle \\left[\\begin{matrix}0 & -1 & 0 & 0\\\\-1 & 0 & 0 & 0\\\\0 & 0 & 0 & 1\\\\0 & 0 & 1 & 0\\end{matrix}\\right]$"
      ],
      "text/plain": [
       "Matrix([\n",
       "[ 0, -1, 0, 0],\n",
       "[-1,  0, 0, 0],\n",
       "[ 0,  0, 0, 1],\n",
       "[ 0,  0, 1, 0]])"
      ]
     },
     "metadata": {},
     "output_type": "display_data"
    },
    {
     "name": "stdout",
     "output_type": "stream",
     "text": [
      "= -1 * ZX\n",
      "\n",
      "IZ ->\n"
     ]
    },
    {
     "data": {
      "text/latex": [
       "$\\displaystyle \\left[\\begin{matrix}1 & 0 & 0 & 0\\\\0 & -1 & 0 & 0\\\\0 & 0 & 1 & 0\\\\0 & 0 & 0 & -1\\end{matrix}\\right]$"
      ],
      "text/plain": [
       "Matrix([\n",
       "[1,  0, 0,  0],\n",
       "[0, -1, 0,  0],\n",
       "[0,  0, 1,  0],\n",
       "[0,  0, 0, -1]])"
      ]
     },
     "metadata": {},
     "output_type": "display_data"
    },
    {
     "name": "stdout",
     "output_type": "stream",
     "text": [
      "= 1 * IZ\n",
      "\n",
      "XI ->\n"
     ]
    },
    {
     "data": {
      "text/latex": [
       "$\\displaystyle \\left[\\begin{matrix}0 & 0 & - i & 0\\\\0 & 0 & 0 & i\\\\i & 0 & 0 & 0\\\\0 & - i & 0 & 0\\end{matrix}\\right]$"
      ],
      "text/plain": [
       "Matrix([\n",
       "[0,  0, -I, 0],\n",
       "[0,  0,  0, I],\n",
       "[I,  0,  0, 0],\n",
       "[0, -I,  0, 0]])"
      ]
     },
     "metadata": {},
     "output_type": "display_data"
    },
    {
     "name": "stdout",
     "output_type": "stream",
     "text": [
      "= 1 * YZ\n",
      "\n",
      "XX ->\n"
     ]
    },
    {
     "data": {
      "text/latex": [
       "$\\displaystyle \\left[\\begin{matrix}0 & 0 & 0 & 1\\\\0 & 0 & 1 & 0\\\\0 & 1 & 0 & 0\\\\1 & 0 & 0 & 0\\end{matrix}\\right]$"
      ],
      "text/plain": [
       "Matrix([\n",
       "[0, 0, 0, 1],\n",
       "[0, 0, 1, 0],\n",
       "[0, 1, 0, 0],\n",
       "[1, 0, 0, 0]])"
      ]
     },
     "metadata": {},
     "output_type": "display_data"
    },
    {
     "name": "stdout",
     "output_type": "stream",
     "text": [
      "= 1 * XX\n",
      "\n",
      "XY ->\n"
     ]
    },
    {
     "data": {
      "text/latex": [
       "$\\displaystyle \\left[\\begin{matrix}0 & 0 & 0 & - i\\\\0 & 0 & i & 0\\\\0 & - i & 0 & 0\\\\i & 0 & 0 & 0\\end{matrix}\\right]$"
      ],
      "text/plain": [
       "Matrix([\n",
       "[0,  0, 0, -I],\n",
       "[0,  0, I,  0],\n",
       "[0, -I, 0,  0],\n",
       "[I,  0, 0,  0]])"
      ]
     },
     "metadata": {},
     "output_type": "display_data"
    },
    {
     "name": "stdout",
     "output_type": "stream",
     "text": [
      "= 1 * XY\n",
      "\n",
      "XZ ->\n"
     ]
    },
    {
     "data": {
      "text/latex": [
       "$\\displaystyle \\left[\\begin{matrix}0 & 0 & - i & 0\\\\0 & 0 & 0 & - i\\\\i & 0 & 0 & 0\\\\0 & i & 0 & 0\\end{matrix}\\right]$"
      ],
      "text/plain": [
       "Matrix([\n",
       "[0, 0, -I,  0],\n",
       "[0, 0,  0, -I],\n",
       "[I, 0,  0,  0],\n",
       "[0, I,  0,  0]])"
      ]
     },
     "metadata": {},
     "output_type": "display_data"
    },
    {
     "name": "stdout",
     "output_type": "stream",
     "text": [
      "= 1 * YI\n",
      "\n",
      "YI ->\n"
     ]
    },
    {
     "data": {
      "text/latex": [
       "$\\displaystyle \\left[\\begin{matrix}0 & 0 & -1 & 0\\\\0 & 0 & 0 & 1\\\\-1 & 0 & 0 & 0\\\\0 & 1 & 0 & 0\\end{matrix}\\right]$"
      ],
      "text/plain": [
       "Matrix([\n",
       "[ 0, 0, -1, 0],\n",
       "[ 0, 0,  0, 1],\n",
       "[-1, 0,  0, 0],\n",
       "[ 0, 1,  0, 0]])"
      ]
     },
     "metadata": {},
     "output_type": "display_data"
    },
    {
     "name": "stdout",
     "output_type": "stream",
     "text": [
      "= -1 * XZ\n",
      "\n",
      "YX ->\n"
     ]
    },
    {
     "data": {
      "text/latex": [
       "$\\displaystyle \\left[\\begin{matrix}0 & 0 & 0 & - i\\\\0 & 0 & - i & 0\\\\0 & i & 0 & 0\\\\i & 0 & 0 & 0\\end{matrix}\\right]$"
      ],
      "text/plain": [
       "Matrix([\n",
       "[0, 0,  0, -I],\n",
       "[0, 0, -I,  0],\n",
       "[0, I,  0,  0],\n",
       "[I, 0,  0,  0]])"
      ]
     },
     "metadata": {},
     "output_type": "display_data"
    },
    {
     "name": "stdout",
     "output_type": "stream",
     "text": [
      "= 1 * YX\n",
      "\n",
      "YY ->\n"
     ]
    },
    {
     "data": {
      "text/latex": [
       "$\\displaystyle \\left[\\begin{matrix}0 & 0 & 0 & -1\\\\0 & 0 & 1 & 0\\\\0 & 1 & 0 & 0\\\\-1 & 0 & 0 & 0\\end{matrix}\\right]$"
      ],
      "text/plain": [
       "Matrix([\n",
       "[ 0, 0, 0, -1],\n",
       "[ 0, 0, 1,  0],\n",
       "[ 0, 1, 0,  0],\n",
       "[-1, 0, 0,  0]])"
      ]
     },
     "metadata": {},
     "output_type": "display_data"
    },
    {
     "name": "stdout",
     "output_type": "stream",
     "text": [
      "= 1 * YY\n",
      "\n",
      "YZ ->\n"
     ]
    },
    {
     "data": {
      "text/latex": [
       "$\\displaystyle \\left[\\begin{matrix}0 & 0 & -1 & 0\\\\0 & 0 & 0 & -1\\\\-1 & 0 & 0 & 0\\\\0 & -1 & 0 & 0\\end{matrix}\\right]$"
      ],
      "text/plain": [
       "Matrix([\n",
       "[ 0,  0, -1,  0],\n",
       "[ 0,  0,  0, -1],\n",
       "[-1,  0,  0,  0],\n",
       "[ 0, -1,  0,  0]])"
      ]
     },
     "metadata": {},
     "output_type": "display_data"
    },
    {
     "name": "stdout",
     "output_type": "stream",
     "text": [
      "= -1 * XI\n",
      "\n",
      "ZI ->\n"
     ]
    },
    {
     "data": {
      "text/latex": [
       "$\\displaystyle \\left[\\begin{matrix}1 & 0 & 0 & 0\\\\0 & 1 & 0 & 0\\\\0 & 0 & -1 & 0\\\\0 & 0 & 0 & -1\\end{matrix}\\right]$"
      ],
      "text/plain": [
       "Matrix([\n",
       "[1, 0,  0,  0],\n",
       "[0, 1,  0,  0],\n",
       "[0, 0, -1,  0],\n",
       "[0, 0,  0, -1]])"
      ]
     },
     "metadata": {},
     "output_type": "display_data"
    },
    {
     "name": "stdout",
     "output_type": "stream",
     "text": [
      "= 1 * ZI\n",
      "\n",
      "ZX ->\n"
     ]
    },
    {
     "data": {
      "text/latex": [
       "$\\displaystyle \\left[\\begin{matrix}0 & - i & 0 & 0\\\\i & 0 & 0 & 0\\\\0 & 0 & 0 & - i\\\\0 & 0 & i & 0\\end{matrix}\\right]$"
      ],
      "text/plain": [
       "Matrix([\n",
       "[0, -I, 0,  0],\n",
       "[I,  0, 0,  0],\n",
       "[0,  0, 0, -I],\n",
       "[0,  0, I,  0]])"
      ]
     },
     "metadata": {},
     "output_type": "display_data"
    },
    {
     "name": "stdout",
     "output_type": "stream",
     "text": [
      "= 1 * IY\n",
      "\n",
      "ZY ->\n"
     ]
    },
    {
     "data": {
      "text/latex": [
       "$\\displaystyle \\left[\\begin{matrix}0 & -1 & 0 & 0\\\\-1 & 0 & 0 & 0\\\\0 & 0 & 0 & -1\\\\0 & 0 & -1 & 0\\end{matrix}\\right]$"
      ],
      "text/plain": [
       "Matrix([\n",
       "[ 0, -1,  0,  0],\n",
       "[-1,  0,  0,  0],\n",
       "[ 0,  0,  0, -1],\n",
       "[ 0,  0, -1,  0]])"
      ]
     },
     "metadata": {},
     "output_type": "display_data"
    },
    {
     "name": "stdout",
     "output_type": "stream",
     "text": [
      "= -1 * IX\n",
      "\n",
      "ZZ ->\n"
     ]
    },
    {
     "data": {
      "text/latex": [
       "$\\displaystyle \\left[\\begin{matrix}1 & 0 & 0 & 0\\\\0 & -1 & 0 & 0\\\\0 & 0 & -1 & 0\\\\0 & 0 & 0 & 1\\end{matrix}\\right]$"
      ],
      "text/plain": [
       "Matrix([\n",
       "[1,  0,  0, 0],\n",
       "[0, -1,  0, 0],\n",
       "[0,  0, -1, 0],\n",
       "[0,  0,  0, 1]])"
      ]
     },
     "metadata": {},
     "output_type": "display_data"
    },
    {
     "name": "stdout",
     "output_type": "stream",
     "text": [
      "= 1 * ZZ\n",
      "\n"
     ]
    },
    {
     "data": {
      "text/plain": [
       "{'II': (1, 'II'),\n",
       " 'IX': (1, 'ZY'),\n",
       " 'IY': (-1, 'ZX'),\n",
       " 'IZ': (1, 'IZ'),\n",
       " 'XI': (1, 'YZ'),\n",
       " 'XX': (1, 'XX'),\n",
       " 'XY': (1, 'XY'),\n",
       " 'XZ': (1, 'YI'),\n",
       " 'YI': (-1, 'XZ'),\n",
       " 'YX': (1, 'YX'),\n",
       " 'YY': (1, 'YY'),\n",
       " 'YZ': (-1, 'XI'),\n",
       " 'ZI': (1, 'ZI'),\n",
       " 'ZX': (1, 'IY'),\n",
       " 'ZY': (-1, 'IX'),\n",
       " 'ZZ': (1, 'ZZ')}"
      ]
     },
     "execution_count": 15,
     "metadata": {},
     "output_type": "execute_result"
    }
   ],
   "source": [
    "create_pauli_mapping(ZZ90)"
   ]
  },
  {
   "cell_type": "code",
   "execution_count": 16,
   "metadata": {},
   "outputs": [
    {
     "name": "stdout",
     "output_type": "stream",
     "text": [
      "II ->\n"
     ]
    },
    {
     "data": {
      "text/latex": [
       "$\\displaystyle \\left[\\begin{matrix}1 & 0 & 0 & 0\\\\0 & 1 & 0 & 0\\\\0 & 0 & 1 & 0\\\\0 & 0 & 0 & 1\\end{matrix}\\right]$"
      ],
      "text/plain": [
       "Matrix([\n",
       "[1, 0, 0, 0],\n",
       "[0, 1, 0, 0],\n",
       "[0, 0, 1, 0],\n",
       "[0, 0, 0, 1]])"
      ]
     },
     "metadata": {},
     "output_type": "display_data"
    },
    {
     "name": "stdout",
     "output_type": "stream",
     "text": [
      "= 1 * II\n",
      "\n",
      "IX ->\n"
     ]
    },
    {
     "data": {
      "text/latex": [
       "$\\displaystyle \\left[\\begin{matrix}0 & 1 & 0 & 0\\\\1 & 0 & 0 & 0\\\\0 & 0 & 0 & 1\\\\0 & 0 & 1 & 0\\end{matrix}\\right]$"
      ],
      "text/plain": [
       "Matrix([\n",
       "[0, 1, 0, 0],\n",
       "[1, 0, 0, 0],\n",
       "[0, 0, 0, 1],\n",
       "[0, 0, 1, 0]])"
      ]
     },
     "metadata": {},
     "output_type": "display_data"
    },
    {
     "name": "stdout",
     "output_type": "stream",
     "text": [
      "= 1 * IX\n",
      "\n",
      "IY ->\n"
     ]
    },
    {
     "data": {
      "text/latex": [
       "$\\displaystyle \\left[\\begin{matrix}0 & - i & 0 & 0\\\\i & 0 & 0 & 0\\\\0 & 0 & 0 & i\\\\0 & 0 & - i & 0\\end{matrix}\\right]$"
      ],
      "text/plain": [
       "Matrix([\n",
       "[0, -I,  0, 0],\n",
       "[I,  0,  0, 0],\n",
       "[0,  0,  0, I],\n",
       "[0,  0, -I, 0]])"
      ]
     },
     "metadata": {},
     "output_type": "display_data"
    },
    {
     "name": "stdout",
     "output_type": "stream",
     "text": [
      "= 1 * ZY\n",
      "\n",
      "IZ ->\n"
     ]
    },
    {
     "data": {
      "text/latex": [
       "$\\displaystyle \\left[\\begin{matrix}1 & 0 & 0 & 0\\\\0 & -1 & 0 & 0\\\\0 & 0 & -1 & 0\\\\0 & 0 & 0 & 1\\end{matrix}\\right]$"
      ],
      "text/plain": [
       "Matrix([\n",
       "[1,  0,  0, 0],\n",
       "[0, -1,  0, 0],\n",
       "[0,  0, -1, 0],\n",
       "[0,  0,  0, 1]])"
      ]
     },
     "metadata": {},
     "output_type": "display_data"
    },
    {
     "name": "stdout",
     "output_type": "stream",
     "text": [
      "= 1 * ZZ\n",
      "\n",
      "XI ->\n"
     ]
    },
    {
     "data": {
      "text/latex": [
       "$\\displaystyle \\left[\\begin{matrix}0 & 0 & 0 & 1\\\\0 & 0 & 1 & 0\\\\0 & 1 & 0 & 0\\\\1 & 0 & 0 & 0\\end{matrix}\\right]$"
      ],
      "text/plain": [
       "Matrix([\n",
       "[0, 0, 0, 1],\n",
       "[0, 0, 1, 0],\n",
       "[0, 1, 0, 0],\n",
       "[1, 0, 0, 0]])"
      ]
     },
     "metadata": {},
     "output_type": "display_data"
    },
    {
     "name": "stdout",
     "output_type": "stream",
     "text": [
      "= 1 * XX\n",
      "\n",
      "XX ->\n"
     ]
    },
    {
     "data": {
      "text/latex": [
       "$\\displaystyle \\left[\\begin{matrix}0 & 0 & 1 & 0\\\\0 & 0 & 0 & 1\\\\1 & 0 & 0 & 0\\\\0 & 1 & 0 & 0\\end{matrix}\\right]$"
      ],
      "text/plain": [
       "Matrix([\n",
       "[0, 0, 1, 0],\n",
       "[0, 0, 0, 1],\n",
       "[1, 0, 0, 0],\n",
       "[0, 1, 0, 0]])"
      ]
     },
     "metadata": {},
     "output_type": "display_data"
    },
    {
     "name": "stdout",
     "output_type": "stream",
     "text": [
      "= 1 * XI\n",
      "\n",
      "XY ->\n"
     ]
    },
    {
     "data": {
      "text/latex": [
       "$\\displaystyle \\left[\\begin{matrix}0 & 0 & - i & 0\\\\0 & 0 & 0 & i\\\\i & 0 & 0 & 0\\\\0 & - i & 0 & 0\\end{matrix}\\right]$"
      ],
      "text/plain": [
       "Matrix([\n",
       "[0,  0, -I, 0],\n",
       "[0,  0,  0, I],\n",
       "[I,  0,  0, 0],\n",
       "[0, -I,  0, 0]])"
      ]
     },
     "metadata": {},
     "output_type": "display_data"
    },
    {
     "name": "stdout",
     "output_type": "stream",
     "text": [
      "= 1 * YZ\n",
      "\n",
      "XZ ->\n"
     ]
    },
    {
     "data": {
      "text/latex": [
       "$\\displaystyle \\left[\\begin{matrix}0 & 0 & 0 & 1\\\\0 & 0 & -1 & 0\\\\0 & -1 & 0 & 0\\\\1 & 0 & 0 & 0\\end{matrix}\\right]$"
      ],
      "text/plain": [
       "Matrix([\n",
       "[0,  0,  0, 1],\n",
       "[0,  0, -1, 0],\n",
       "[0, -1,  0, 0],\n",
       "[1,  0,  0, 0]])"
      ]
     },
     "metadata": {},
     "output_type": "display_data"
    },
    {
     "name": "stdout",
     "output_type": "stream",
     "text": [
      "= -1 * YY\n",
      "\n",
      "YI ->\n"
     ]
    },
    {
     "data": {
      "text/latex": [
       "$\\displaystyle \\left[\\begin{matrix}0 & 0 & 0 & - i\\\\0 & 0 & - i & 0\\\\0 & i & 0 & 0\\\\i & 0 & 0 & 0\\end{matrix}\\right]$"
      ],
      "text/plain": [
       "Matrix([\n",
       "[0, 0,  0, -I],\n",
       "[0, 0, -I,  0],\n",
       "[0, I,  0,  0],\n",
       "[I, 0,  0,  0]])"
      ]
     },
     "metadata": {},
     "output_type": "display_data"
    },
    {
     "name": "stdout",
     "output_type": "stream",
     "text": [
      "= 1 * YX\n",
      "\n",
      "YX ->\n"
     ]
    },
    {
     "data": {
      "text/latex": [
       "$\\displaystyle \\left[\\begin{matrix}0 & 0 & - i & 0\\\\0 & 0 & 0 & - i\\\\i & 0 & 0 & 0\\\\0 & i & 0 & 0\\end{matrix}\\right]$"
      ],
      "text/plain": [
       "Matrix([\n",
       "[0, 0, -I,  0],\n",
       "[0, 0,  0, -I],\n",
       "[I, 0,  0,  0],\n",
       "[0, I,  0,  0]])"
      ]
     },
     "metadata": {},
     "output_type": "display_data"
    },
    {
     "name": "stdout",
     "output_type": "stream",
     "text": [
      "= 1 * YI\n",
      "\n",
      "YY ->\n"
     ]
    },
    {
     "data": {
      "text/latex": [
       "$\\displaystyle \\left[\\begin{matrix}0 & 0 & -1 & 0\\\\0 & 0 & 0 & 1\\\\-1 & 0 & 0 & 0\\\\0 & 1 & 0 & 0\\end{matrix}\\right]$"
      ],
      "text/plain": [
       "Matrix([\n",
       "[ 0, 0, -1, 0],\n",
       "[ 0, 0,  0, 1],\n",
       "[-1, 0,  0, 0],\n",
       "[ 0, 1,  0, 0]])"
      ]
     },
     "metadata": {},
     "output_type": "display_data"
    },
    {
     "name": "stdout",
     "output_type": "stream",
     "text": [
      "= -1 * XZ\n",
      "\n",
      "YZ ->\n"
     ]
    },
    {
     "data": {
      "text/latex": [
       "$\\displaystyle \\left[\\begin{matrix}0 & 0 & 0 & - i\\\\0 & 0 & i & 0\\\\0 & - i & 0 & 0\\\\i & 0 & 0 & 0\\end{matrix}\\right]$"
      ],
      "text/plain": [
       "Matrix([\n",
       "[0,  0, 0, -I],\n",
       "[0,  0, I,  0],\n",
       "[0, -I, 0,  0],\n",
       "[I,  0, 0,  0]])"
      ]
     },
     "metadata": {},
     "output_type": "display_data"
    },
    {
     "name": "stdout",
     "output_type": "stream",
     "text": [
      "= 1 * XY\n",
      "\n",
      "ZI ->\n"
     ]
    },
    {
     "data": {
      "text/latex": [
       "$\\displaystyle \\left[\\begin{matrix}1 & 0 & 0 & 0\\\\0 & 1 & 0 & 0\\\\0 & 0 & -1 & 0\\\\0 & 0 & 0 & -1\\end{matrix}\\right]$"
      ],
      "text/plain": [
       "Matrix([\n",
       "[1, 0,  0,  0],\n",
       "[0, 1,  0,  0],\n",
       "[0, 0, -1,  0],\n",
       "[0, 0,  0, -1]])"
      ]
     },
     "metadata": {},
     "output_type": "display_data"
    },
    {
     "name": "stdout",
     "output_type": "stream",
     "text": [
      "= 1 * ZI\n",
      "\n",
      "ZX ->\n"
     ]
    },
    {
     "data": {
      "text/latex": [
       "$\\displaystyle \\left[\\begin{matrix}0 & 1 & 0 & 0\\\\1 & 0 & 0 & 0\\\\0 & 0 & 0 & -1\\\\0 & 0 & -1 & 0\\end{matrix}\\right]$"
      ],
      "text/plain": [
       "Matrix([\n",
       "[0, 1,  0,  0],\n",
       "[1, 0,  0,  0],\n",
       "[0, 0,  0, -1],\n",
       "[0, 0, -1,  0]])"
      ]
     },
     "metadata": {},
     "output_type": "display_data"
    },
    {
     "name": "stdout",
     "output_type": "stream",
     "text": [
      "= 1 * ZX\n",
      "\n",
      "ZY ->\n"
     ]
    },
    {
     "data": {
      "text/latex": [
       "$\\displaystyle \\left[\\begin{matrix}0 & - i & 0 & 0\\\\i & 0 & 0 & 0\\\\0 & 0 & 0 & - i\\\\0 & 0 & i & 0\\end{matrix}\\right]$"
      ],
      "text/plain": [
       "Matrix([\n",
       "[0, -I, 0,  0],\n",
       "[I,  0, 0,  0],\n",
       "[0,  0, 0, -I],\n",
       "[0,  0, I,  0]])"
      ]
     },
     "metadata": {},
     "output_type": "display_data"
    },
    {
     "name": "stdout",
     "output_type": "stream",
     "text": [
      "= 1 * IY\n",
      "\n",
      "ZZ ->\n"
     ]
    },
    {
     "data": {
      "text/latex": [
       "$\\displaystyle \\left[\\begin{matrix}1 & 0 & 0 & 0\\\\0 & -1 & 0 & 0\\\\0 & 0 & 1 & 0\\\\0 & 0 & 0 & -1\\end{matrix}\\right]$"
      ],
      "text/plain": [
       "Matrix([\n",
       "[1,  0, 0,  0],\n",
       "[0, -1, 0,  0],\n",
       "[0,  0, 1,  0],\n",
       "[0,  0, 0, -1]])"
      ]
     },
     "metadata": {},
     "output_type": "display_data"
    },
    {
     "name": "stdout",
     "output_type": "stream",
     "text": [
      "= 1 * IZ\n",
      "\n"
     ]
    },
    {
     "data": {
      "text/plain": [
       "{'II': (1, 'II'),\n",
       " 'IX': (1, 'IX'),\n",
       " 'IY': (1, 'ZY'),\n",
       " 'IZ': (1, 'ZZ'),\n",
       " 'XI': (1, 'XX'),\n",
       " 'XX': (1, 'XI'),\n",
       " 'XY': (1, 'YZ'),\n",
       " 'XZ': (-1, 'YY'),\n",
       " 'YI': (1, 'YX'),\n",
       " 'YX': (1, 'YI'),\n",
       " 'YY': (-1, 'XZ'),\n",
       " 'YZ': (1, 'XY'),\n",
       " 'ZI': (1, 'ZI'),\n",
       " 'ZX': (1, 'ZX'),\n",
       " 'ZY': (1, 'IY'),\n",
       " 'ZZ': (1, 'IZ')}"
      ]
     },
     "execution_count": 16,
     "metadata": {},
     "output_type": "execute_result"
    }
   ],
   "source": [
    "create_pauli_mapping(CNOT)"
   ]
  },
  {
   "cell_type": "code",
   "execution_count": 17,
   "metadata": {},
   "outputs": [
    {
     "name": "stdout",
     "output_type": "stream",
     "text": [
      "II ->\n"
     ]
    },
    {
     "data": {
      "text/latex": [
       "$\\displaystyle \\left[\\begin{matrix}1 & 0 & 0 & 0\\\\0 & 1 & 0 & 0\\\\0 & 0 & 1 & 0\\\\0 & 0 & 0 & 1\\end{matrix}\\right]$"
      ],
      "text/plain": [
       "Matrix([\n",
       "[1, 0, 0, 0],\n",
       "[0, 1, 0, 0],\n",
       "[0, 0, 1, 0],\n",
       "[0, 0, 0, 1]])"
      ]
     },
     "metadata": {},
     "output_type": "display_data"
    },
    {
     "name": "stdout",
     "output_type": "stream",
     "text": [
      "= 1 * II\n",
      "\n",
      "IX ->\n"
     ]
    },
    {
     "data": {
      "text/latex": [
       "$\\displaystyle \\left[\\begin{matrix}0 & 1 & 0 & 0\\\\1 & 0 & 0 & 0\\\\0 & 0 & 0 & -1\\\\0 & 0 & -1 & 0\\end{matrix}\\right]$"
      ],
      "text/plain": [
       "Matrix([\n",
       "[0, 1,  0,  0],\n",
       "[1, 0,  0,  0],\n",
       "[0, 0,  0, -1],\n",
       "[0, 0, -1,  0]])"
      ]
     },
     "metadata": {},
     "output_type": "display_data"
    },
    {
     "name": "stdout",
     "output_type": "stream",
     "text": [
      "= 1 * ZX\n",
      "\n",
      "IY ->\n"
     ]
    },
    {
     "data": {
      "text/latex": [
       "$\\displaystyle \\left[\\begin{matrix}0 & - i & 0 & 0\\\\i & 0 & 0 & 0\\\\0 & 0 & 0 & i\\\\0 & 0 & - i & 0\\end{matrix}\\right]$"
      ],
      "text/plain": [
       "Matrix([\n",
       "[0, -I,  0, 0],\n",
       "[I,  0,  0, 0],\n",
       "[0,  0,  0, I],\n",
       "[0,  0, -I, 0]])"
      ]
     },
     "metadata": {},
     "output_type": "display_data"
    },
    {
     "name": "stdout",
     "output_type": "stream",
     "text": [
      "= 1 * ZY\n",
      "\n",
      "IZ ->\n"
     ]
    },
    {
     "data": {
      "text/latex": [
       "$\\displaystyle \\left[\\begin{matrix}1 & 0 & 0 & 0\\\\0 & -1 & 0 & 0\\\\0 & 0 & 1 & 0\\\\0 & 0 & 0 & -1\\end{matrix}\\right]$"
      ],
      "text/plain": [
       "Matrix([\n",
       "[1,  0, 0,  0],\n",
       "[0, -1, 0,  0],\n",
       "[0,  0, 1,  0],\n",
       "[0,  0, 0, -1]])"
      ]
     },
     "metadata": {},
     "output_type": "display_data"
    },
    {
     "name": "stdout",
     "output_type": "stream",
     "text": [
      "= 1 * IZ\n",
      "\n",
      "XI ->\n"
     ]
    },
    {
     "data": {
      "text/latex": [
       "$\\displaystyle \\left[\\begin{matrix}0 & 0 & 1 & 0\\\\0 & 0 & 0 & -1\\\\1 & 0 & 0 & 0\\\\0 & -1 & 0 & 0\\end{matrix}\\right]$"
      ],
      "text/plain": [
       "Matrix([\n",
       "[0,  0, 1,  0],\n",
       "[0,  0, 0, -1],\n",
       "[1,  0, 0,  0],\n",
       "[0, -1, 0,  0]])"
      ]
     },
     "metadata": {},
     "output_type": "display_data"
    },
    {
     "name": "stdout",
     "output_type": "stream",
     "text": [
      "= 1 * XZ\n",
      "\n",
      "XX ->\n"
     ]
    },
    {
     "data": {
      "text/latex": [
       "$\\displaystyle \\left[\\begin{matrix}0 & 0 & 0 & -1\\\\0 & 0 & 1 & 0\\\\0 & 1 & 0 & 0\\\\-1 & 0 & 0 & 0\\end{matrix}\\right]$"
      ],
      "text/plain": [
       "Matrix([\n",
       "[ 0, 0, 0, -1],\n",
       "[ 0, 0, 1,  0],\n",
       "[ 0, 1, 0,  0],\n",
       "[-1, 0, 0,  0]])"
      ]
     },
     "metadata": {},
     "output_type": "display_data"
    },
    {
     "name": "stdout",
     "output_type": "stream",
     "text": [
      "= 1 * YY\n",
      "\n",
      "XY ->\n"
     ]
    },
    {
     "data": {
      "text/latex": [
       "$\\displaystyle \\left[\\begin{matrix}0 & 0 & 0 & i\\\\0 & 0 & i & 0\\\\0 & - i & 0 & 0\\\\- i & 0 & 0 & 0\\end{matrix}\\right]$"
      ],
      "text/plain": [
       "Matrix([\n",
       "[ 0,  0, 0, I],\n",
       "[ 0,  0, I, 0],\n",
       "[ 0, -I, 0, 0],\n",
       "[-I,  0, 0, 0]])"
      ]
     },
     "metadata": {},
     "output_type": "display_data"
    },
    {
     "name": "stdout",
     "output_type": "stream",
     "text": [
      "= -1 * YX\n",
      "\n",
      "XZ ->\n"
     ]
    },
    {
     "data": {
      "text/latex": [
       "$\\displaystyle \\left[\\begin{matrix}0 & 0 & 1 & 0\\\\0 & 0 & 0 & 1\\\\1 & 0 & 0 & 0\\\\0 & 1 & 0 & 0\\end{matrix}\\right]$"
      ],
      "text/plain": [
       "Matrix([\n",
       "[0, 0, 1, 0],\n",
       "[0, 0, 0, 1],\n",
       "[1, 0, 0, 0],\n",
       "[0, 1, 0, 0]])"
      ]
     },
     "metadata": {},
     "output_type": "display_data"
    },
    {
     "name": "stdout",
     "output_type": "stream",
     "text": [
      "= 1 * XI\n",
      "\n",
      "YI ->\n"
     ]
    },
    {
     "data": {
      "text/latex": [
       "$\\displaystyle \\left[\\begin{matrix}0 & 0 & - i & 0\\\\0 & 0 & 0 & i\\\\i & 0 & 0 & 0\\\\0 & - i & 0 & 0\\end{matrix}\\right]$"
      ],
      "text/plain": [
       "Matrix([\n",
       "[0,  0, -I, 0],\n",
       "[0,  0,  0, I],\n",
       "[I,  0,  0, 0],\n",
       "[0, -I,  0, 0]])"
      ]
     },
     "metadata": {},
     "output_type": "display_data"
    },
    {
     "name": "stdout",
     "output_type": "stream",
     "text": [
      "= 1 * YZ\n",
      "\n",
      "YX ->\n"
     ]
    },
    {
     "data": {
      "text/latex": [
       "$\\displaystyle \\left[\\begin{matrix}0 & 0 & 0 & i\\\\0 & 0 & - i & 0\\\\0 & i & 0 & 0\\\\- i & 0 & 0 & 0\\end{matrix}\\right]$"
      ],
      "text/plain": [
       "Matrix([\n",
       "[ 0, 0,  0, I],\n",
       "[ 0, 0, -I, 0],\n",
       "[ 0, I,  0, 0],\n",
       "[-I, 0,  0, 0]])"
      ]
     },
     "metadata": {},
     "output_type": "display_data"
    },
    {
     "name": "stdout",
     "output_type": "stream",
     "text": [
      "= -1 * XY\n",
      "\n",
      "YY ->\n"
     ]
    },
    {
     "data": {
      "text/latex": [
       "$\\displaystyle \\left[\\begin{matrix}0 & 0 & 0 & 1\\\\0 & 0 & 1 & 0\\\\0 & 1 & 0 & 0\\\\1 & 0 & 0 & 0\\end{matrix}\\right]$"
      ],
      "text/plain": [
       "Matrix([\n",
       "[0, 0, 0, 1],\n",
       "[0, 0, 1, 0],\n",
       "[0, 1, 0, 0],\n",
       "[1, 0, 0, 0]])"
      ]
     },
     "metadata": {},
     "output_type": "display_data"
    },
    {
     "name": "stdout",
     "output_type": "stream",
     "text": [
      "= 1 * XX\n",
      "\n",
      "YZ ->\n"
     ]
    },
    {
     "data": {
      "text/latex": [
       "$\\displaystyle \\left[\\begin{matrix}0 & 0 & - i & 0\\\\0 & 0 & 0 & - i\\\\i & 0 & 0 & 0\\\\0 & i & 0 & 0\\end{matrix}\\right]$"
      ],
      "text/plain": [
       "Matrix([\n",
       "[0, 0, -I,  0],\n",
       "[0, 0,  0, -I],\n",
       "[I, 0,  0,  0],\n",
       "[0, I,  0,  0]])"
      ]
     },
     "metadata": {},
     "output_type": "display_data"
    },
    {
     "name": "stdout",
     "output_type": "stream",
     "text": [
      "= 1 * YI\n",
      "\n",
      "ZI ->\n"
     ]
    },
    {
     "data": {
      "text/latex": [
       "$\\displaystyle \\left[\\begin{matrix}1 & 0 & 0 & 0\\\\0 & 1 & 0 & 0\\\\0 & 0 & -1 & 0\\\\0 & 0 & 0 & -1\\end{matrix}\\right]$"
      ],
      "text/plain": [
       "Matrix([\n",
       "[1, 0,  0,  0],\n",
       "[0, 1,  0,  0],\n",
       "[0, 0, -1,  0],\n",
       "[0, 0,  0, -1]])"
      ]
     },
     "metadata": {},
     "output_type": "display_data"
    },
    {
     "name": "stdout",
     "output_type": "stream",
     "text": [
      "= 1 * ZI\n",
      "\n",
      "ZX ->\n"
     ]
    },
    {
     "data": {
      "text/latex": [
       "$\\displaystyle \\left[\\begin{matrix}0 & 1 & 0 & 0\\\\1 & 0 & 0 & 0\\\\0 & 0 & 0 & 1\\\\0 & 0 & 1 & 0\\end{matrix}\\right]$"
      ],
      "text/plain": [
       "Matrix([\n",
       "[0, 1, 0, 0],\n",
       "[1, 0, 0, 0],\n",
       "[0, 0, 0, 1],\n",
       "[0, 0, 1, 0]])"
      ]
     },
     "metadata": {},
     "output_type": "display_data"
    },
    {
     "name": "stdout",
     "output_type": "stream",
     "text": [
      "= 1 * IX\n",
      "\n",
      "ZY ->\n"
     ]
    },
    {
     "data": {
      "text/latex": [
       "$\\displaystyle \\left[\\begin{matrix}0 & - i & 0 & 0\\\\i & 0 & 0 & 0\\\\0 & 0 & 0 & - i\\\\0 & 0 & i & 0\\end{matrix}\\right]$"
      ],
      "text/plain": [
       "Matrix([\n",
       "[0, -I, 0,  0],\n",
       "[I,  0, 0,  0],\n",
       "[0,  0, 0, -I],\n",
       "[0,  0, I,  0]])"
      ]
     },
     "metadata": {},
     "output_type": "display_data"
    },
    {
     "name": "stdout",
     "output_type": "stream",
     "text": [
      "= 1 * IY\n",
      "\n",
      "ZZ ->\n"
     ]
    },
    {
     "data": {
      "text/latex": [
       "$\\displaystyle \\left[\\begin{matrix}1 & 0 & 0 & 0\\\\0 & -1 & 0 & 0\\\\0 & 0 & -1 & 0\\\\0 & 0 & 0 & 1\\end{matrix}\\right]$"
      ],
      "text/plain": [
       "Matrix([\n",
       "[1,  0,  0, 0],\n",
       "[0, -1,  0, 0],\n",
       "[0,  0, -1, 0],\n",
       "[0,  0,  0, 1]])"
      ]
     },
     "metadata": {},
     "output_type": "display_data"
    },
    {
     "name": "stdout",
     "output_type": "stream",
     "text": [
      "= 1 * ZZ\n",
      "\n"
     ]
    },
    {
     "data": {
      "text/plain": [
       "{'II': (1, 'II'),\n",
       " 'IX': (1, 'ZX'),\n",
       " 'IY': (1, 'ZY'),\n",
       " 'IZ': (1, 'IZ'),\n",
       " 'XI': (1, 'XZ'),\n",
       " 'XX': (1, 'YY'),\n",
       " 'XY': (-1, 'YX'),\n",
       " 'XZ': (1, 'XI'),\n",
       " 'YI': (1, 'YZ'),\n",
       " 'YX': (-1, 'XY'),\n",
       " 'YY': (1, 'XX'),\n",
       " 'YZ': (1, 'YI'),\n",
       " 'ZI': (1, 'ZI'),\n",
       " 'ZX': (1, 'IX'),\n",
       " 'ZY': (1, 'IY'),\n",
       " 'ZZ': (1, 'ZZ')}"
      ]
     },
     "execution_count": 17,
     "metadata": {},
     "output_type": "execute_result"
    }
   ],
   "source": [
    "create_pauli_mapping(CZ)"
   ]
  },
  {
   "cell_type": "code",
   "execution_count": 18,
   "metadata": {},
   "outputs": [
    {
     "name": "stdout",
     "output_type": "stream",
     "text": [
      "II ->\n"
     ]
    },
    {
     "data": {
      "text/latex": [
       "$\\displaystyle \\left[\\begin{matrix}1 & 0 & 0 & 0\\\\0 & 1 & 0 & 0\\\\0 & 0 & 1 & 0\\\\0 & 0 & 0 & 1\\end{matrix}\\right]$"
      ],
      "text/plain": [
       "Matrix([\n",
       "[1, 0, 0, 0],\n",
       "[0, 1, 0, 0],\n",
       "[0, 0, 1, 0],\n",
       "[0, 0, 0, 1]])"
      ]
     },
     "metadata": {},
     "output_type": "display_data"
    },
    {
     "name": "stdout",
     "output_type": "stream",
     "text": [
      "= 1 * II\n",
      "\n",
      "IX ->\n"
     ]
    },
    {
     "data": {
      "text/latex": [
       "$\\displaystyle \\left[\\begin{matrix}0 & 0 & 1 & 0\\\\0 & 0 & 0 & 1\\\\1 & 0 & 0 & 0\\\\0 & 1 & 0 & 0\\end{matrix}\\right]$"
      ],
      "text/plain": [
       "Matrix([\n",
       "[0, 0, 1, 0],\n",
       "[0, 0, 0, 1],\n",
       "[1, 0, 0, 0],\n",
       "[0, 1, 0, 0]])"
      ]
     },
     "metadata": {},
     "output_type": "display_data"
    },
    {
     "name": "stdout",
     "output_type": "stream",
     "text": [
      "= 1 * XI\n",
      "\n",
      "IY ->\n"
     ]
    },
    {
     "data": {
      "text/latex": [
       "$\\displaystyle \\left[\\begin{matrix}0 & 0 & - i & 0\\\\0 & 0 & 0 & - i\\\\i & 0 & 0 & 0\\\\0 & i & 0 & 0\\end{matrix}\\right]$"
      ],
      "text/plain": [
       "Matrix([\n",
       "[0, 0, -I,  0],\n",
       "[0, 0,  0, -I],\n",
       "[I, 0,  0,  0],\n",
       "[0, I,  0,  0]])"
      ]
     },
     "metadata": {},
     "output_type": "display_data"
    },
    {
     "name": "stdout",
     "output_type": "stream",
     "text": [
      "= 1 * YI\n",
      "\n",
      "IZ ->\n"
     ]
    },
    {
     "data": {
      "text/latex": [
       "$\\displaystyle \\left[\\begin{matrix}1 & 0 & 0 & 0\\\\0 & 1 & 0 & 0\\\\0 & 0 & -1 & 0\\\\0 & 0 & 0 & -1\\end{matrix}\\right]$"
      ],
      "text/plain": [
       "Matrix([\n",
       "[1, 0,  0,  0],\n",
       "[0, 1,  0,  0],\n",
       "[0, 0, -1,  0],\n",
       "[0, 0,  0, -1]])"
      ]
     },
     "metadata": {},
     "output_type": "display_data"
    },
    {
     "name": "stdout",
     "output_type": "stream",
     "text": [
      "= 1 * ZI\n",
      "\n",
      "XI ->\n"
     ]
    },
    {
     "data": {
      "text/latex": [
       "$\\displaystyle \\left[\\begin{matrix}0 & 1 & 0 & 0\\\\1 & 0 & 0 & 0\\\\0 & 0 & 0 & 1\\\\0 & 0 & 1 & 0\\end{matrix}\\right]$"
      ],
      "text/plain": [
       "Matrix([\n",
       "[0, 1, 0, 0],\n",
       "[1, 0, 0, 0],\n",
       "[0, 0, 0, 1],\n",
       "[0, 0, 1, 0]])"
      ]
     },
     "metadata": {},
     "output_type": "display_data"
    },
    {
     "name": "stdout",
     "output_type": "stream",
     "text": [
      "= 1 * IX\n",
      "\n",
      "XX ->\n"
     ]
    },
    {
     "data": {
      "text/latex": [
       "$\\displaystyle \\left[\\begin{matrix}0 & 0 & 0 & 1\\\\0 & 0 & 1 & 0\\\\0 & 1 & 0 & 0\\\\1 & 0 & 0 & 0\\end{matrix}\\right]$"
      ],
      "text/plain": [
       "Matrix([\n",
       "[0, 0, 0, 1],\n",
       "[0, 0, 1, 0],\n",
       "[0, 1, 0, 0],\n",
       "[1, 0, 0, 0]])"
      ]
     },
     "metadata": {},
     "output_type": "display_data"
    },
    {
     "name": "stdout",
     "output_type": "stream",
     "text": [
      "= 1 * XX\n",
      "\n",
      "XY ->\n"
     ]
    },
    {
     "data": {
      "text/latex": [
       "$\\displaystyle \\left[\\begin{matrix}0 & 0 & 0 & - i\\\\0 & 0 & - i & 0\\\\0 & i & 0 & 0\\\\i & 0 & 0 & 0\\end{matrix}\\right]$"
      ],
      "text/plain": [
       "Matrix([\n",
       "[0, 0,  0, -I],\n",
       "[0, 0, -I,  0],\n",
       "[0, I,  0,  0],\n",
       "[I, 0,  0,  0]])"
      ]
     },
     "metadata": {},
     "output_type": "display_data"
    },
    {
     "name": "stdout",
     "output_type": "stream",
     "text": [
      "= 1 * YX\n",
      "\n",
      "XZ ->\n"
     ]
    },
    {
     "data": {
      "text/latex": [
       "$\\displaystyle \\left[\\begin{matrix}0 & 1 & 0 & 0\\\\1 & 0 & 0 & 0\\\\0 & 0 & 0 & -1\\\\0 & 0 & -1 & 0\\end{matrix}\\right]$"
      ],
      "text/plain": [
       "Matrix([\n",
       "[0, 1,  0,  0],\n",
       "[1, 0,  0,  0],\n",
       "[0, 0,  0, -1],\n",
       "[0, 0, -1,  0]])"
      ]
     },
     "metadata": {},
     "output_type": "display_data"
    },
    {
     "name": "stdout",
     "output_type": "stream",
     "text": [
      "= 1 * ZX\n",
      "\n",
      "YI ->\n"
     ]
    },
    {
     "data": {
      "text/latex": [
       "$\\displaystyle \\left[\\begin{matrix}0 & - i & 0 & 0\\\\i & 0 & 0 & 0\\\\0 & 0 & 0 & - i\\\\0 & 0 & i & 0\\end{matrix}\\right]$"
      ],
      "text/plain": [
       "Matrix([\n",
       "[0, -I, 0,  0],\n",
       "[I,  0, 0,  0],\n",
       "[0,  0, 0, -I],\n",
       "[0,  0, I,  0]])"
      ]
     },
     "metadata": {},
     "output_type": "display_data"
    },
    {
     "name": "stdout",
     "output_type": "stream",
     "text": [
      "= 1 * IY\n",
      "\n",
      "YX ->\n"
     ]
    },
    {
     "data": {
      "text/latex": [
       "$\\displaystyle \\left[\\begin{matrix}0 & 0 & 0 & - i\\\\0 & 0 & i & 0\\\\0 & - i & 0 & 0\\\\i & 0 & 0 & 0\\end{matrix}\\right]$"
      ],
      "text/plain": [
       "Matrix([\n",
       "[0,  0, 0, -I],\n",
       "[0,  0, I,  0],\n",
       "[0, -I, 0,  0],\n",
       "[I,  0, 0,  0]])"
      ]
     },
     "metadata": {},
     "output_type": "display_data"
    },
    {
     "name": "stdout",
     "output_type": "stream",
     "text": [
      "= 1 * XY\n",
      "\n",
      "YY ->\n"
     ]
    },
    {
     "data": {
      "text/latex": [
       "$\\displaystyle \\left[\\begin{matrix}0 & 0 & 0 & -1\\\\0 & 0 & 1 & 0\\\\0 & 1 & 0 & 0\\\\-1 & 0 & 0 & 0\\end{matrix}\\right]$"
      ],
      "text/plain": [
       "Matrix([\n",
       "[ 0, 0, 0, -1],\n",
       "[ 0, 0, 1,  0],\n",
       "[ 0, 1, 0,  0],\n",
       "[-1, 0, 0,  0]])"
      ]
     },
     "metadata": {},
     "output_type": "display_data"
    },
    {
     "name": "stdout",
     "output_type": "stream",
     "text": [
      "= 1 * YY\n",
      "\n",
      "YZ ->\n"
     ]
    },
    {
     "data": {
      "text/latex": [
       "$\\displaystyle \\left[\\begin{matrix}0 & - i & 0 & 0\\\\i & 0 & 0 & 0\\\\0 & 0 & 0 & i\\\\0 & 0 & - i & 0\\end{matrix}\\right]$"
      ],
      "text/plain": [
       "Matrix([\n",
       "[0, -I,  0, 0],\n",
       "[I,  0,  0, 0],\n",
       "[0,  0,  0, I],\n",
       "[0,  0, -I, 0]])"
      ]
     },
     "metadata": {},
     "output_type": "display_data"
    },
    {
     "name": "stdout",
     "output_type": "stream",
     "text": [
      "= 1 * ZY\n",
      "\n",
      "ZI ->\n"
     ]
    },
    {
     "data": {
      "text/latex": [
       "$\\displaystyle \\left[\\begin{matrix}1 & 0 & 0 & 0\\\\0 & -1 & 0 & 0\\\\0 & 0 & 1 & 0\\\\0 & 0 & 0 & -1\\end{matrix}\\right]$"
      ],
      "text/plain": [
       "Matrix([\n",
       "[1,  0, 0,  0],\n",
       "[0, -1, 0,  0],\n",
       "[0,  0, 1,  0],\n",
       "[0,  0, 0, -1]])"
      ]
     },
     "metadata": {},
     "output_type": "display_data"
    },
    {
     "name": "stdout",
     "output_type": "stream",
     "text": [
      "= 1 * IZ\n",
      "\n",
      "ZX ->\n"
     ]
    },
    {
     "data": {
      "text/latex": [
       "$\\displaystyle \\left[\\begin{matrix}0 & 0 & 1 & 0\\\\0 & 0 & 0 & -1\\\\1 & 0 & 0 & 0\\\\0 & -1 & 0 & 0\\end{matrix}\\right]$"
      ],
      "text/plain": [
       "Matrix([\n",
       "[0,  0, 1,  0],\n",
       "[0,  0, 0, -1],\n",
       "[1,  0, 0,  0],\n",
       "[0, -1, 0,  0]])"
      ]
     },
     "metadata": {},
     "output_type": "display_data"
    },
    {
     "name": "stdout",
     "output_type": "stream",
     "text": [
      "= 1 * XZ\n",
      "\n",
      "ZY ->\n"
     ]
    },
    {
     "data": {
      "text/latex": [
       "$\\displaystyle \\left[\\begin{matrix}0 & 0 & - i & 0\\\\0 & 0 & 0 & i\\\\i & 0 & 0 & 0\\\\0 & - i & 0 & 0\\end{matrix}\\right]$"
      ],
      "text/plain": [
       "Matrix([\n",
       "[0,  0, -I, 0],\n",
       "[0,  0,  0, I],\n",
       "[I,  0,  0, 0],\n",
       "[0, -I,  0, 0]])"
      ]
     },
     "metadata": {},
     "output_type": "display_data"
    },
    {
     "name": "stdout",
     "output_type": "stream",
     "text": [
      "= 1 * YZ\n",
      "\n",
      "ZZ ->\n"
     ]
    },
    {
     "data": {
      "text/latex": [
       "$\\displaystyle \\left[\\begin{matrix}1 & 0 & 0 & 0\\\\0 & -1 & 0 & 0\\\\0 & 0 & -1 & 0\\\\0 & 0 & 0 & 1\\end{matrix}\\right]$"
      ],
      "text/plain": [
       "Matrix([\n",
       "[1,  0,  0, 0],\n",
       "[0, -1,  0, 0],\n",
       "[0,  0, -1, 0],\n",
       "[0,  0,  0, 1]])"
      ]
     },
     "metadata": {},
     "output_type": "display_data"
    },
    {
     "name": "stdout",
     "output_type": "stream",
     "text": [
      "= 1 * ZZ\n",
      "\n"
     ]
    },
    {
     "data": {
      "text/plain": [
       "{'II': (1, 'II'),\n",
       " 'IX': (1, 'XI'),\n",
       " 'IY': (1, 'YI'),\n",
       " 'IZ': (1, 'ZI'),\n",
       " 'XI': (1, 'IX'),\n",
       " 'XX': (1, 'XX'),\n",
       " 'XY': (1, 'YX'),\n",
       " 'XZ': (1, 'ZX'),\n",
       " 'YI': (1, 'IY'),\n",
       " 'YX': (1, 'XY'),\n",
       " 'YY': (1, 'YY'),\n",
       " 'YZ': (1, 'ZY'),\n",
       " 'ZI': (1, 'IZ'),\n",
       " 'ZX': (1, 'XZ'),\n",
       " 'ZY': (1, 'YZ'),\n",
       " 'ZZ': (1, 'ZZ')}"
      ]
     },
     "execution_count": 18,
     "metadata": {},
     "output_type": "execute_result"
    }
   ],
   "source": [
    "create_pauli_mapping(SWAP)"
   ]
  },
  {
   "cell_type": "code",
   "execution_count": 19,
   "metadata": {},
   "outputs": [
    {
     "name": "stdout",
     "output_type": "stream",
     "text": [
      "II ->\n"
     ]
    },
    {
     "data": {
      "text/latex": [
       "$\\displaystyle \\left[\\begin{matrix}1 & 0 & 0 & 0\\\\0 & 1 & 0 & 0\\\\0 & 0 & 1 & 0\\\\0 & 0 & 0 & 1\\end{matrix}\\right]$"
      ],
      "text/plain": [
       "Matrix([\n",
       "[1, 0, 0, 0],\n",
       "[0, 1, 0, 0],\n",
       "[0, 0, 1, 0],\n",
       "[0, 0, 0, 1]])"
      ]
     },
     "metadata": {},
     "output_type": "display_data"
    },
    {
     "name": "stdout",
     "output_type": "stream",
     "text": [
      "= 1 * II\n",
      "\n",
      "IX ->\n"
     ]
    },
    {
     "data": {
      "text/latex": [
       "$\\displaystyle \\left[\\begin{matrix}0 & 0 & - i & 0\\\\0 & 0 & 0 & i\\\\i & 0 & 0 & 0\\\\0 & - i & 0 & 0\\end{matrix}\\right]$"
      ],
      "text/plain": [
       "Matrix([\n",
       "[0,  0, -I, 0],\n",
       "[0,  0,  0, I],\n",
       "[I,  0,  0, 0],\n",
       "[0, -I,  0, 0]])"
      ]
     },
     "metadata": {},
     "output_type": "display_data"
    },
    {
     "name": "stdout",
     "output_type": "stream",
     "text": [
      "= 1 * YZ\n",
      "\n",
      "IY ->\n"
     ]
    },
    {
     "data": {
      "text/latex": [
       "$\\displaystyle \\left[\\begin{matrix}0 & 0 & -1 & 0\\\\0 & 0 & 0 & 1\\\\-1 & 0 & 0 & 0\\\\0 & 1 & 0 & 0\\end{matrix}\\right]$"
      ],
      "text/plain": [
       "Matrix([\n",
       "[ 0, 0, -1, 0],\n",
       "[ 0, 0,  0, 1],\n",
       "[-1, 0,  0, 0],\n",
       "[ 0, 1,  0, 0]])"
      ]
     },
     "metadata": {},
     "output_type": "display_data"
    },
    {
     "name": "stdout",
     "output_type": "stream",
     "text": [
      "= -1 * XZ\n",
      "\n",
      "IZ ->\n"
     ]
    },
    {
     "data": {
      "text/latex": [
       "$\\displaystyle \\left[\\begin{matrix}1 & 0 & 0 & 0\\\\0 & 1 & 0 & 0\\\\0 & 0 & -1 & 0\\\\0 & 0 & 0 & -1\\end{matrix}\\right]$"
      ],
      "text/plain": [
       "Matrix([\n",
       "[1, 0,  0,  0],\n",
       "[0, 1,  0,  0],\n",
       "[0, 0, -1,  0],\n",
       "[0, 0,  0, -1]])"
      ]
     },
     "metadata": {},
     "output_type": "display_data"
    },
    {
     "name": "stdout",
     "output_type": "stream",
     "text": [
      "= 1 * ZI\n",
      "\n",
      "XI ->\n"
     ]
    },
    {
     "data": {
      "text/latex": [
       "$\\displaystyle \\left[\\begin{matrix}0 & - i & 0 & 0\\\\i & 0 & 0 & 0\\\\0 & 0 & 0 & i\\\\0 & 0 & - i & 0\\end{matrix}\\right]$"
      ],
      "text/plain": [
       "Matrix([\n",
       "[0, -I,  0, 0],\n",
       "[I,  0,  0, 0],\n",
       "[0,  0,  0, I],\n",
       "[0,  0, -I, 0]])"
      ]
     },
     "metadata": {},
     "output_type": "display_data"
    },
    {
     "name": "stdout",
     "output_type": "stream",
     "text": [
      "= 1 * ZY\n",
      "\n",
      "XX ->\n"
     ]
    },
    {
     "data": {
      "text/latex": [
       "$\\displaystyle \\left[\\begin{matrix}0 & 0 & 0 & 1\\\\0 & 0 & 1 & 0\\\\0 & 1 & 0 & 0\\\\1 & 0 & 0 & 0\\end{matrix}\\right]$"
      ],
      "text/plain": [
       "Matrix([\n",
       "[0, 0, 0, 1],\n",
       "[0, 0, 1, 0],\n",
       "[0, 1, 0, 0],\n",
       "[1, 0, 0, 0]])"
      ]
     },
     "metadata": {},
     "output_type": "display_data"
    },
    {
     "name": "stdout",
     "output_type": "stream",
     "text": [
      "= 1 * XX\n",
      "\n",
      "XY ->\n"
     ]
    },
    {
     "data": {
      "text/latex": [
       "$\\displaystyle \\left[\\begin{matrix}0 & 0 & 0 & - i\\\\0 & 0 & - i & 0\\\\0 & i & 0 & 0\\\\i & 0 & 0 & 0\\end{matrix}\\right]$"
      ],
      "text/plain": [
       "Matrix([\n",
       "[0, 0,  0, -I],\n",
       "[0, 0, -I,  0],\n",
       "[0, I,  0,  0],\n",
       "[I, 0,  0,  0]])"
      ]
     },
     "metadata": {},
     "output_type": "display_data"
    },
    {
     "name": "stdout",
     "output_type": "stream",
     "text": [
      "= 1 * YX\n",
      "\n",
      "XZ ->\n"
     ]
    },
    {
     "data": {
      "text/latex": [
       "$\\displaystyle \\left[\\begin{matrix}0 & - i & 0 & 0\\\\i & 0 & 0 & 0\\\\0 & 0 & 0 & - i\\\\0 & 0 & i & 0\\end{matrix}\\right]$"
      ],
      "text/plain": [
       "Matrix([\n",
       "[0, -I, 0,  0],\n",
       "[I,  0, 0,  0],\n",
       "[0,  0, 0, -I],\n",
       "[0,  0, I,  0]])"
      ]
     },
     "metadata": {},
     "output_type": "display_data"
    },
    {
     "name": "stdout",
     "output_type": "stream",
     "text": [
      "= 1 * IY\n",
      "\n",
      "YI ->\n"
     ]
    },
    {
     "data": {
      "text/latex": [
       "$\\displaystyle \\left[\\begin{matrix}0 & -1 & 0 & 0\\\\-1 & 0 & 0 & 0\\\\0 & 0 & 0 & 1\\\\0 & 0 & 1 & 0\\end{matrix}\\right]$"
      ],
      "text/plain": [
       "Matrix([\n",
       "[ 0, -1, 0, 0],\n",
       "[-1,  0, 0, 0],\n",
       "[ 0,  0, 0, 1],\n",
       "[ 0,  0, 1, 0]])"
      ]
     },
     "metadata": {},
     "output_type": "display_data"
    },
    {
     "name": "stdout",
     "output_type": "stream",
     "text": [
      "= -1 * ZX\n",
      "\n",
      "YX ->\n"
     ]
    },
    {
     "data": {
      "text/latex": [
       "$\\displaystyle \\left[\\begin{matrix}0 & 0 & 0 & - i\\\\0 & 0 & i & 0\\\\0 & - i & 0 & 0\\\\i & 0 & 0 & 0\\end{matrix}\\right]$"
      ],
      "text/plain": [
       "Matrix([\n",
       "[0,  0, 0, -I],\n",
       "[0,  0, I,  0],\n",
       "[0, -I, 0,  0],\n",
       "[I,  0, 0,  0]])"
      ]
     },
     "metadata": {},
     "output_type": "display_data"
    },
    {
     "name": "stdout",
     "output_type": "stream",
     "text": [
      "= 1 * XY\n",
      "\n",
      "YY ->\n"
     ]
    },
    {
     "data": {
      "text/latex": [
       "$\\displaystyle \\left[\\begin{matrix}0 & 0 & 0 & -1\\\\0 & 0 & 1 & 0\\\\0 & 1 & 0 & 0\\\\-1 & 0 & 0 & 0\\end{matrix}\\right]$"
      ],
      "text/plain": [
       "Matrix([\n",
       "[ 0, 0, 0, -1],\n",
       "[ 0, 0, 1,  0],\n",
       "[ 0, 1, 0,  0],\n",
       "[-1, 0, 0,  0]])"
      ]
     },
     "metadata": {},
     "output_type": "display_data"
    },
    {
     "name": "stdout",
     "output_type": "stream",
     "text": [
      "= 1 * YY\n",
      "\n",
      "YZ ->\n"
     ]
    },
    {
     "data": {
      "text/latex": [
       "$\\displaystyle \\left[\\begin{matrix}0 & -1 & 0 & 0\\\\-1 & 0 & 0 & 0\\\\0 & 0 & 0 & -1\\\\0 & 0 & -1 & 0\\end{matrix}\\right]$"
      ],
      "text/plain": [
       "Matrix([\n",
       "[ 0, -1,  0,  0],\n",
       "[-1,  0,  0,  0],\n",
       "[ 0,  0,  0, -1],\n",
       "[ 0,  0, -1,  0]])"
      ]
     },
     "metadata": {},
     "output_type": "display_data"
    },
    {
     "name": "stdout",
     "output_type": "stream",
     "text": [
      "= -1 * IX\n",
      "\n",
      "ZI ->\n"
     ]
    },
    {
     "data": {
      "text/latex": [
       "$\\displaystyle \\left[\\begin{matrix}1 & 0 & 0 & 0\\\\0 & -1 & 0 & 0\\\\0 & 0 & 1 & 0\\\\0 & 0 & 0 & -1\\end{matrix}\\right]$"
      ],
      "text/plain": [
       "Matrix([\n",
       "[1,  0, 0,  0],\n",
       "[0, -1, 0,  0],\n",
       "[0,  0, 1,  0],\n",
       "[0,  0, 0, -1]])"
      ]
     },
     "metadata": {},
     "output_type": "display_data"
    },
    {
     "name": "stdout",
     "output_type": "stream",
     "text": [
      "= 1 * IZ\n",
      "\n",
      "ZX ->\n"
     ]
    },
    {
     "data": {
      "text/latex": [
       "$\\displaystyle \\left[\\begin{matrix}0 & 0 & - i & 0\\\\0 & 0 & 0 & - i\\\\i & 0 & 0 & 0\\\\0 & i & 0 & 0\\end{matrix}\\right]$"
      ],
      "text/plain": [
       "Matrix([\n",
       "[0, 0, -I,  0],\n",
       "[0, 0,  0, -I],\n",
       "[I, 0,  0,  0],\n",
       "[0, I,  0,  0]])"
      ]
     },
     "metadata": {},
     "output_type": "display_data"
    },
    {
     "name": "stdout",
     "output_type": "stream",
     "text": [
      "= 1 * YI\n",
      "\n",
      "ZY ->\n"
     ]
    },
    {
     "data": {
      "text/latex": [
       "$\\displaystyle \\left[\\begin{matrix}0 & 0 & -1 & 0\\\\0 & 0 & 0 & -1\\\\-1 & 0 & 0 & 0\\\\0 & -1 & 0 & 0\\end{matrix}\\right]$"
      ],
      "text/plain": [
       "Matrix([\n",
       "[ 0,  0, -1,  0],\n",
       "[ 0,  0,  0, -1],\n",
       "[-1,  0,  0,  0],\n",
       "[ 0, -1,  0,  0]])"
      ]
     },
     "metadata": {},
     "output_type": "display_data"
    },
    {
     "name": "stdout",
     "output_type": "stream",
     "text": [
      "= -1 * XI\n",
      "\n",
      "ZZ ->\n"
     ]
    },
    {
     "data": {
      "text/latex": [
       "$\\displaystyle \\left[\\begin{matrix}1 & 0 & 0 & 0\\\\0 & -1 & 0 & 0\\\\0 & 0 & -1 & 0\\\\0 & 0 & 0 & 1\\end{matrix}\\right]$"
      ],
      "text/plain": [
       "Matrix([\n",
       "[1,  0,  0, 0],\n",
       "[0, -1,  0, 0],\n",
       "[0,  0, -1, 0],\n",
       "[0,  0,  0, 1]])"
      ]
     },
     "metadata": {},
     "output_type": "display_data"
    },
    {
     "name": "stdout",
     "output_type": "stream",
     "text": [
      "= 1 * ZZ\n",
      "\n"
     ]
    },
    {
     "data": {
      "text/plain": [
       "{'II': (1, 'II'),\n",
       " 'IX': (1, 'YZ'),\n",
       " 'IY': (-1, 'XZ'),\n",
       " 'IZ': (1, 'ZI'),\n",
       " 'XI': (1, 'ZY'),\n",
       " 'XX': (1, 'XX'),\n",
       " 'XY': (1, 'YX'),\n",
       " 'XZ': (1, 'IY'),\n",
       " 'YI': (-1, 'ZX'),\n",
       " 'YX': (1, 'XY'),\n",
       " 'YY': (1, 'YY'),\n",
       " 'YZ': (-1, 'IX'),\n",
       " 'ZI': (1, 'IZ'),\n",
       " 'ZX': (1, 'YI'),\n",
       " 'ZY': (-1, 'XI'),\n",
       " 'ZZ': (1, 'ZZ')}"
      ]
     },
     "execution_count": 19,
     "metadata": {},
     "output_type": "execute_result"
    }
   ],
   "source": [
    "create_pauli_mapping(ISWAP)"
   ]
  },
  {
   "cell_type": "code",
   "execution_count": 20,
   "metadata": {},
   "outputs": [
    {
     "name": "stdout",
     "output_type": "stream",
     "text": [
      "II ->\n"
     ]
    },
    {
     "data": {
      "text/latex": [
       "$\\displaystyle \\left[\\begin{matrix}1 & 0 & 0 & 0\\\\0 & 1 & 0 & 0\\\\0 & 0 & 1 & 0\\\\0 & 0 & 0 & 1\\end{matrix}\\right]$"
      ],
      "text/plain": [
       "Matrix([\n",
       "[1, 0, 0, 0],\n",
       "[0, 1, 0, 0],\n",
       "[0, 0, 1, 0],\n",
       "[0, 0, 0, 1]])"
      ]
     },
     "metadata": {},
     "output_type": "display_data"
    },
    {
     "name": "stdout",
     "output_type": "stream",
     "text": [
      "= 1 * II\n",
      "\n",
      "IX ->\n"
     ]
    },
    {
     "data": {
      "text/latex": [
       "$\\displaystyle \\left[\\begin{matrix}0 & 0 & i & 0\\\\0 & 0 & 0 & - i\\\\- i & 0 & 0 & 0\\\\0 & i & 0 & 0\\end{matrix}\\right]$"
      ],
      "text/plain": [
       "Matrix([\n",
       "[ 0, 0, I,  0],\n",
       "[ 0, 0, 0, -I],\n",
       "[-I, 0, 0,  0],\n",
       "[ 0, I, 0,  0]])"
      ]
     },
     "metadata": {},
     "output_type": "display_data"
    },
    {
     "name": "stdout",
     "output_type": "stream",
     "text": [
      "= -1 * YZ\n",
      "\n",
      "IY ->\n"
     ]
    },
    {
     "data": {
      "text/latex": [
       "$\\displaystyle \\left[\\begin{matrix}0 & 0 & -1 & 0\\\\0 & 0 & 0 & 1\\\\-1 & 0 & 0 & 0\\\\0 & 1 & 0 & 0\\end{matrix}\\right]$"
      ],
      "text/plain": [
       "Matrix([\n",
       "[ 0, 0, -1, 0],\n",
       "[ 0, 0,  0, 1],\n",
       "[-1, 0,  0, 0],\n",
       "[ 0, 1,  0, 0]])"
      ]
     },
     "metadata": {},
     "output_type": "display_data"
    },
    {
     "name": "stdout",
     "output_type": "stream",
     "text": [
      "= -1 * XZ\n",
      "\n",
      "IZ ->\n"
     ]
    },
    {
     "data": {
      "text/latex": [
       "$\\displaystyle \\left[\\begin{matrix}-1 & 0 & 0 & 0\\\\0 & -1 & 0 & 0\\\\0 & 0 & 1 & 0\\\\0 & 0 & 0 & 1\\end{matrix}\\right]$"
      ],
      "text/plain": [
       "Matrix([\n",
       "[-1,  0, 0, 0],\n",
       "[ 0, -1, 0, 0],\n",
       "[ 0,  0, 1, 0],\n",
       "[ 0,  0, 0, 1]])"
      ]
     },
     "metadata": {},
     "output_type": "display_data"
    },
    {
     "name": "stdout",
     "output_type": "stream",
     "text": [
      "= -1 * ZI\n",
      "\n",
      "XI ->\n"
     ]
    },
    {
     "data": {
      "text/latex": [
       "$\\displaystyle \\left[\\begin{matrix}0 & i & 0 & 0\\\\- i & 0 & 0 & 0\\\\0 & 0 & 0 & - i\\\\0 & 0 & i & 0\\end{matrix}\\right]$"
      ],
      "text/plain": [
       "Matrix([\n",
       "[ 0, I, 0,  0],\n",
       "[-I, 0, 0,  0],\n",
       "[ 0, 0, 0, -I],\n",
       "[ 0, 0, I,  0]])"
      ]
     },
     "metadata": {},
     "output_type": "display_data"
    },
    {
     "name": "stdout",
     "output_type": "stream",
     "text": [
      "= -1 * ZY\n",
      "\n",
      "XX ->\n"
     ]
    },
    {
     "data": {
      "text/latex": [
       "$\\displaystyle \\left[\\begin{matrix}0 & 0 & 0 & 1\\\\0 & 0 & 1 & 0\\\\0 & 1 & 0 & 0\\\\1 & 0 & 0 & 0\\end{matrix}\\right]$"
      ],
      "text/plain": [
       "Matrix([\n",
       "[0, 0, 0, 1],\n",
       "[0, 0, 1, 0],\n",
       "[0, 1, 0, 0],\n",
       "[1, 0, 0, 0]])"
      ]
     },
     "metadata": {},
     "output_type": "display_data"
    },
    {
     "name": "stdout",
     "output_type": "stream",
     "text": [
      "= 1 * XX\n",
      "\n",
      "XY ->\n"
     ]
    },
    {
     "data": {
      "text/latex": [
       "$\\displaystyle \\left[\\begin{matrix}0 & 0 & 0 & i\\\\0 & 0 & i & 0\\\\0 & - i & 0 & 0\\\\- i & 0 & 0 & 0\\end{matrix}\\right]$"
      ],
      "text/plain": [
       "Matrix([\n",
       "[ 0,  0, 0, I],\n",
       "[ 0,  0, I, 0],\n",
       "[ 0, -I, 0, 0],\n",
       "[-I,  0, 0, 0]])"
      ]
     },
     "metadata": {},
     "output_type": "display_data"
    },
    {
     "name": "stdout",
     "output_type": "stream",
     "text": [
      "= -1 * YX\n",
      "\n",
      "XZ ->\n"
     ]
    },
    {
     "data": {
      "text/latex": [
       "$\\displaystyle \\left[\\begin{matrix}0 & - i & 0 & 0\\\\i & 0 & 0 & 0\\\\0 & 0 & 0 & - i\\\\0 & 0 & i & 0\\end{matrix}\\right]$"
      ],
      "text/plain": [
       "Matrix([\n",
       "[0, -I, 0,  0],\n",
       "[I,  0, 0,  0],\n",
       "[0,  0, 0, -I],\n",
       "[0,  0, I,  0]])"
      ]
     },
     "metadata": {},
     "output_type": "display_data"
    },
    {
     "name": "stdout",
     "output_type": "stream",
     "text": [
      "= 1 * IY\n",
      "\n",
      "YI ->\n"
     ]
    },
    {
     "data": {
      "text/latex": [
       "$\\displaystyle \\left[\\begin{matrix}0 & -1 & 0 & 0\\\\-1 & 0 & 0 & 0\\\\0 & 0 & 0 & 1\\\\0 & 0 & 1 & 0\\end{matrix}\\right]$"
      ],
      "text/plain": [
       "Matrix([\n",
       "[ 0, -1, 0, 0],\n",
       "[-1,  0, 0, 0],\n",
       "[ 0,  0, 0, 1],\n",
       "[ 0,  0, 1, 0]])"
      ]
     },
     "metadata": {},
     "output_type": "display_data"
    },
    {
     "name": "stdout",
     "output_type": "stream",
     "text": [
      "= -1 * ZX\n",
      "\n",
      "YX ->\n"
     ]
    },
    {
     "data": {
      "text/latex": [
       "$\\displaystyle \\left[\\begin{matrix}0 & 0 & 0 & i\\\\0 & 0 & - i & 0\\\\0 & i & 0 & 0\\\\- i & 0 & 0 & 0\\end{matrix}\\right]$"
      ],
      "text/plain": [
       "Matrix([\n",
       "[ 0, 0,  0, I],\n",
       "[ 0, 0, -I, 0],\n",
       "[ 0, I,  0, 0],\n",
       "[-I, 0,  0, 0]])"
      ]
     },
     "metadata": {},
     "output_type": "display_data"
    },
    {
     "name": "stdout",
     "output_type": "stream",
     "text": [
      "= -1 * XY\n",
      "\n",
      "YY ->\n"
     ]
    },
    {
     "data": {
      "text/latex": [
       "$\\displaystyle \\left[\\begin{matrix}0 & 0 & 0 & -1\\\\0 & 0 & 1 & 0\\\\0 & 1 & 0 & 0\\\\-1 & 0 & 0 & 0\\end{matrix}\\right]$"
      ],
      "text/plain": [
       "Matrix([\n",
       "[ 0, 0, 0, -1],\n",
       "[ 0, 0, 1,  0],\n",
       "[ 0, 1, 0,  0],\n",
       "[-1, 0, 0,  0]])"
      ]
     },
     "metadata": {},
     "output_type": "display_data"
    },
    {
     "name": "stdout",
     "output_type": "stream",
     "text": [
      "= 1 * YY\n",
      "\n",
      "YZ ->\n"
     ]
    },
    {
     "data": {
      "text/latex": [
       "$\\displaystyle \\left[\\begin{matrix}0 & 1 & 0 & 0\\\\1 & 0 & 0 & 0\\\\0 & 0 & 0 & 1\\\\0 & 0 & 1 & 0\\end{matrix}\\right]$"
      ],
      "text/plain": [
       "Matrix([\n",
       "[0, 1, 0, 0],\n",
       "[1, 0, 0, 0],\n",
       "[0, 0, 0, 1],\n",
       "[0, 0, 1, 0]])"
      ]
     },
     "metadata": {},
     "output_type": "display_data"
    },
    {
     "name": "stdout",
     "output_type": "stream",
     "text": [
      "= 1 * IX\n",
      "\n",
      "ZI ->\n"
     ]
    },
    {
     "data": {
      "text/latex": [
       "$\\displaystyle \\left[\\begin{matrix}-1 & 0 & 0 & 0\\\\0 & 1 & 0 & 0\\\\0 & 0 & -1 & 0\\\\0 & 0 & 0 & 1\\end{matrix}\\right]$"
      ],
      "text/plain": [
       "Matrix([\n",
       "[-1, 0,  0, 0],\n",
       "[ 0, 1,  0, 0],\n",
       "[ 0, 0, -1, 0],\n",
       "[ 0, 0,  0, 1]])"
      ]
     },
     "metadata": {},
     "output_type": "display_data"
    },
    {
     "name": "stdout",
     "output_type": "stream",
     "text": [
      "= -1 * IZ\n",
      "\n",
      "ZX ->\n"
     ]
    },
    {
     "data": {
      "text/latex": [
       "$\\displaystyle \\left[\\begin{matrix}0 & 0 & - i & 0\\\\0 & 0 & 0 & - i\\\\i & 0 & 0 & 0\\\\0 & i & 0 & 0\\end{matrix}\\right]$"
      ],
      "text/plain": [
       "Matrix([\n",
       "[0, 0, -I,  0],\n",
       "[0, 0,  0, -I],\n",
       "[I, 0,  0,  0],\n",
       "[0, I,  0,  0]])"
      ]
     },
     "metadata": {},
     "output_type": "display_data"
    },
    {
     "name": "stdout",
     "output_type": "stream",
     "text": [
      "= 1 * YI\n",
      "\n",
      "ZY ->\n"
     ]
    },
    {
     "data": {
      "text/latex": [
       "$\\displaystyle \\left[\\begin{matrix}0 & 0 & 1 & 0\\\\0 & 0 & 0 & 1\\\\1 & 0 & 0 & 0\\\\0 & 1 & 0 & 0\\end{matrix}\\right]$"
      ],
      "text/plain": [
       "Matrix([\n",
       "[0, 0, 1, 0],\n",
       "[0, 0, 0, 1],\n",
       "[1, 0, 0, 0],\n",
       "[0, 1, 0, 0]])"
      ]
     },
     "metadata": {},
     "output_type": "display_data"
    },
    {
     "name": "stdout",
     "output_type": "stream",
     "text": [
      "= 1 * XI\n",
      "\n",
      "ZZ ->\n"
     ]
    },
    {
     "data": {
      "text/latex": [
       "$\\displaystyle \\left[\\begin{matrix}1 & 0 & 0 & 0\\\\0 & -1 & 0 & 0\\\\0 & 0 & -1 & 0\\\\0 & 0 & 0 & 1\\end{matrix}\\right]$"
      ],
      "text/plain": [
       "Matrix([\n",
       "[1,  0,  0, 0],\n",
       "[0, -1,  0, 0],\n",
       "[0,  0, -1, 0],\n",
       "[0,  0,  0, 1]])"
      ]
     },
     "metadata": {},
     "output_type": "display_data"
    },
    {
     "name": "stdout",
     "output_type": "stream",
     "text": [
      "= 1 * ZZ\n",
      "\n"
     ]
    },
    {
     "data": {
      "text/plain": [
       "{'II': (1, 'II'),\n",
       " 'IX': (-1, 'YZ'),\n",
       " 'IY': (-1, 'XZ'),\n",
       " 'IZ': (-1, 'ZI'),\n",
       " 'XI': (-1, 'ZY'),\n",
       " 'XX': (1, 'XX'),\n",
       " 'XY': (-1, 'YX'),\n",
       " 'XZ': (1, 'IY'),\n",
       " 'YI': (-1, 'ZX'),\n",
       " 'YX': (-1, 'XY'),\n",
       " 'YY': (1, 'YY'),\n",
       " 'YZ': (1, 'IX'),\n",
       " 'ZI': (-1, 'IZ'),\n",
       " 'ZX': (1, 'YI'),\n",
       " 'ZY': (1, 'XI'),\n",
       " 'ZZ': (1, 'ZZ')}"
      ]
     },
     "execution_count": 20,
     "metadata": {},
     "output_type": "execute_result"
    }
   ],
   "source": [
    "create_pauli_mapping(BSWAP)"
   ]
  },
  {
   "cell_type": "code",
   "execution_count": 21,
   "metadata": {},
   "outputs": [
    {
     "name": "stdout",
     "output_type": "stream",
     "text": [
      "II ->\n"
     ]
    },
    {
     "data": {
      "text/latex": [
       "$\\displaystyle \\left[\\begin{matrix}1 & 0 & 0 & 0\\\\0 & 1 & 0 & 0\\\\0 & 0 & 1 & 0\\\\0 & 0 & 0 & 1\\end{matrix}\\right]$"
      ],
      "text/plain": [
       "Matrix([\n",
       "[1, 0, 0, 0],\n",
       "[0, 1, 0, 0],\n",
       "[0, 0, 1, 0],\n",
       "[0, 0, 0, 1]])"
      ]
     },
     "metadata": {},
     "output_type": "display_data"
    },
    {
     "name": "stdout",
     "output_type": "stream",
     "text": [
      "= 1 * II\n",
      "\n",
      "IX ->\n"
     ]
    },
    {
     "data": {
      "text/latex": [
       "$\\displaystyle \\left[\\begin{matrix}0 & \\frac{\\sqrt{2}}{2} & - \\frac{\\sqrt{2} i}{2} & 0\\\\\\frac{\\sqrt{2}}{2} & 0 & 0 & \\frac{\\sqrt{2} i}{2}\\\\\\frac{\\sqrt{2} i}{2} & 0 & 0 & \\frac{\\sqrt{2}}{2}\\\\0 & - \\frac{\\sqrt{2} i}{2} & \\frac{\\sqrt{2}}{2} & 0\\end{matrix}\\right]$"
      ],
      "text/plain": [
       "Matrix([\n",
       "[          0,    sqrt(2)/2, -sqrt(2)*I/2,           0],\n",
       "[  sqrt(2)/2,            0,            0, sqrt(2)*I/2],\n",
       "[sqrt(2)*I/2,            0,            0,   sqrt(2)/2],\n",
       "[          0, -sqrt(2)*I/2,    sqrt(2)/2,           0]])"
      ]
     },
     "metadata": {},
     "output_type": "display_data"
    },
    {
     "name": "stdout",
     "output_type": "stream",
     "text": [
      "Could not find mapping for IX\n",
      "\n",
      "IY ->\n"
     ]
    },
    {
     "data": {
      "text/latex": [
       "$\\displaystyle \\left[\\begin{matrix}0 & - \\frac{\\sqrt{2} i}{2} & - \\frac{\\sqrt{2}}{2} & 0\\\\\\frac{\\sqrt{2} i}{2} & 0 & 0 & \\frac{\\sqrt{2}}{2}\\\\- \\frac{\\sqrt{2}}{2} & 0 & 0 & - \\frac{\\sqrt{2} i}{2}\\\\0 & \\frac{\\sqrt{2}}{2} & \\frac{\\sqrt{2} i}{2} & 0\\end{matrix}\\right]$"
      ],
      "text/plain": [
       "Matrix([\n",
       "[          0, -sqrt(2)*I/2,  -sqrt(2)/2,            0],\n",
       "[sqrt(2)*I/2,            0,           0,    sqrt(2)/2],\n",
       "[ -sqrt(2)/2,            0,           0, -sqrt(2)*I/2],\n",
       "[          0,    sqrt(2)/2, sqrt(2)*I/2,            0]])"
      ]
     },
     "metadata": {},
     "output_type": "display_data"
    },
    {
     "name": "stdout",
     "output_type": "stream",
     "text": [
      "Could not find mapping for IY\n",
      "\n",
      "IZ ->\n"
     ]
    },
    {
     "data": {
      "text/latex": [
       "$\\displaystyle \\left[\\begin{matrix}1 & 0 & 0 & 0\\\\0 & 0 & i & 0\\\\0 & - i & 0 & 0\\\\0 & 0 & 0 & -1\\end{matrix}\\right]$"
      ],
      "text/plain": [
       "Matrix([\n",
       "[1,  0, 0,  0],\n",
       "[0,  0, I,  0],\n",
       "[0, -I, 0,  0],\n",
       "[0,  0, 0, -1]])"
      ]
     },
     "metadata": {},
     "output_type": "display_data"
    },
    {
     "name": "stdout",
     "output_type": "stream",
     "text": [
      "Could not find mapping for IZ\n",
      "\n",
      "XI ->\n"
     ]
    },
    {
     "data": {
      "text/latex": [
       "$\\displaystyle \\left[\\begin{matrix}0 & - \\frac{\\sqrt{2} i}{2} & \\frac{\\sqrt{2}}{2} & 0\\\\\\frac{\\sqrt{2} i}{2} & 0 & 0 & \\frac{\\sqrt{2}}{2}\\\\\\frac{\\sqrt{2}}{2} & 0 & 0 & \\frac{\\sqrt{2} i}{2}\\\\0 & \\frac{\\sqrt{2}}{2} & - \\frac{\\sqrt{2} i}{2} & 0\\end{matrix}\\right]$"
      ],
      "text/plain": [
       "Matrix([\n",
       "[          0, -sqrt(2)*I/2,    sqrt(2)/2,           0],\n",
       "[sqrt(2)*I/2,            0,            0,   sqrt(2)/2],\n",
       "[  sqrt(2)/2,            0,            0, sqrt(2)*I/2],\n",
       "[          0,    sqrt(2)/2, -sqrt(2)*I/2,           0]])"
      ]
     },
     "metadata": {},
     "output_type": "display_data"
    },
    {
     "name": "stdout",
     "output_type": "stream",
     "text": [
      "Could not find mapping for XI\n",
      "\n",
      "XX ->\n"
     ]
    },
    {
     "data": {
      "text/latex": [
       "$\\displaystyle \\left[\\begin{matrix}0 & 0 & 0 & 1\\\\0 & 0 & 1 & 0\\\\0 & 1 & 0 & 0\\\\1 & 0 & 0 & 0\\end{matrix}\\right]$"
      ],
      "text/plain": [
       "Matrix([\n",
       "[0, 0, 0, 1],\n",
       "[0, 0, 1, 0],\n",
       "[0, 1, 0, 0],\n",
       "[1, 0, 0, 0]])"
      ]
     },
     "metadata": {},
     "output_type": "display_data"
    },
    {
     "name": "stdout",
     "output_type": "stream",
     "text": [
      "= 1 * XX\n",
      "\n",
      "XY ->\n"
     ]
    },
    {
     "data": {
      "text/latex": [
       "$\\displaystyle \\left[\\begin{matrix}0 & 0 & 0 & - i\\\\0 & 1 & 0 & 0\\\\0 & 0 & -1 & 0\\\\i & 0 & 0 & 0\\end{matrix}\\right]$"
      ],
      "text/plain": [
       "Matrix([\n",
       "[0, 0,  0, -I],\n",
       "[0, 1,  0,  0],\n",
       "[0, 0, -1,  0],\n",
       "[I, 0,  0,  0]])"
      ]
     },
     "metadata": {},
     "output_type": "display_data"
    },
    {
     "name": "stdout",
     "output_type": "stream",
     "text": [
      "Could not find mapping for XY\n",
      "\n",
      "XZ ->\n"
     ]
    },
    {
     "data": {
      "text/latex": [
       "$\\displaystyle \\left[\\begin{matrix}0 & - \\frac{\\sqrt{2} i}{2} & \\frac{\\sqrt{2}}{2} & 0\\\\\\frac{\\sqrt{2} i}{2} & 0 & 0 & - \\frac{\\sqrt{2}}{2}\\\\\\frac{\\sqrt{2}}{2} & 0 & 0 & - \\frac{\\sqrt{2} i}{2}\\\\0 & - \\frac{\\sqrt{2}}{2} & \\frac{\\sqrt{2} i}{2} & 0\\end{matrix}\\right]$"
      ],
      "text/plain": [
       "Matrix([\n",
       "[          0, -sqrt(2)*I/2,   sqrt(2)/2,            0],\n",
       "[sqrt(2)*I/2,            0,           0,   -sqrt(2)/2],\n",
       "[  sqrt(2)/2,            0,           0, -sqrt(2)*I/2],\n",
       "[          0,   -sqrt(2)/2, sqrt(2)*I/2,            0]])"
      ]
     },
     "metadata": {},
     "output_type": "display_data"
    },
    {
     "name": "stdout",
     "output_type": "stream",
     "text": [
      "Could not find mapping for XZ\n",
      "\n",
      "YI ->\n"
     ]
    },
    {
     "data": {
      "text/latex": [
       "$\\displaystyle \\left[\\begin{matrix}0 & - \\frac{\\sqrt{2}}{2} & - \\frac{\\sqrt{2} i}{2} & 0\\\\- \\frac{\\sqrt{2}}{2} & 0 & 0 & - \\frac{\\sqrt{2} i}{2}\\\\\\frac{\\sqrt{2} i}{2} & 0 & 0 & \\frac{\\sqrt{2}}{2}\\\\0 & \\frac{\\sqrt{2} i}{2} & \\frac{\\sqrt{2}}{2} & 0\\end{matrix}\\right]$"
      ],
      "text/plain": [
       "Matrix([\n",
       "[          0,  -sqrt(2)/2, -sqrt(2)*I/2,            0],\n",
       "[ -sqrt(2)/2,           0,            0, -sqrt(2)*I/2],\n",
       "[sqrt(2)*I/2,           0,            0,    sqrt(2)/2],\n",
       "[          0, sqrt(2)*I/2,    sqrt(2)/2,            0]])"
      ]
     },
     "metadata": {},
     "output_type": "display_data"
    },
    {
     "name": "stdout",
     "output_type": "stream",
     "text": [
      "Could not find mapping for YI\n",
      "\n",
      "YX ->\n"
     ]
    },
    {
     "data": {
      "text/latex": [
       "$\\displaystyle \\left[\\begin{matrix}0 & 0 & 0 & - i\\\\0 & -1 & 0 & 0\\\\0 & 0 & 1 & 0\\\\i & 0 & 0 & 0\\end{matrix}\\right]$"
      ],
      "text/plain": [
       "Matrix([\n",
       "[0,  0, 0, -I],\n",
       "[0, -1, 0,  0],\n",
       "[0,  0, 1,  0],\n",
       "[I,  0, 0,  0]])"
      ]
     },
     "metadata": {},
     "output_type": "display_data"
    },
    {
     "name": "stdout",
     "output_type": "stream",
     "text": [
      "Could not find mapping for YX\n",
      "\n",
      "YY ->\n"
     ]
    },
    {
     "data": {
      "text/latex": [
       "$\\displaystyle \\left[\\begin{matrix}0 & 0 & 0 & -1\\\\0 & 0 & 1 & 0\\\\0 & 1 & 0 & 0\\\\-1 & 0 & 0 & 0\\end{matrix}\\right]$"
      ],
      "text/plain": [
       "Matrix([\n",
       "[ 0, 0, 0, -1],\n",
       "[ 0, 0, 1,  0],\n",
       "[ 0, 1, 0,  0],\n",
       "[-1, 0, 0,  0]])"
      ]
     },
     "metadata": {},
     "output_type": "display_data"
    },
    {
     "name": "stdout",
     "output_type": "stream",
     "text": [
      "= 1 * YY\n",
      "\n",
      "YZ ->\n"
     ]
    },
    {
     "data": {
      "text/latex": [
       "$\\displaystyle \\left[\\begin{matrix}0 & - \\frac{\\sqrt{2}}{2} & - \\frac{\\sqrt{2} i}{2} & 0\\\\- \\frac{\\sqrt{2}}{2} & 0 & 0 & \\frac{\\sqrt{2} i}{2}\\\\\\frac{\\sqrt{2} i}{2} & 0 & 0 & - \\frac{\\sqrt{2}}{2}\\\\0 & - \\frac{\\sqrt{2} i}{2} & - \\frac{\\sqrt{2}}{2} & 0\\end{matrix}\\right]$"
      ],
      "text/plain": [
       "Matrix([\n",
       "[          0,   -sqrt(2)/2, -sqrt(2)*I/2,           0],\n",
       "[ -sqrt(2)/2,            0,            0, sqrt(2)*I/2],\n",
       "[sqrt(2)*I/2,            0,            0,  -sqrt(2)/2],\n",
       "[          0, -sqrt(2)*I/2,   -sqrt(2)/2,           0]])"
      ]
     },
     "metadata": {},
     "output_type": "display_data"
    },
    {
     "name": "stdout",
     "output_type": "stream",
     "text": [
      "Could not find mapping for YZ\n",
      "\n",
      "ZI ->\n"
     ]
    },
    {
     "data": {
      "text/latex": [
       "$\\displaystyle \\left[\\begin{matrix}1 & 0 & 0 & 0\\\\0 & 0 & - i & 0\\\\0 & i & 0 & 0\\\\0 & 0 & 0 & -1\\end{matrix}\\right]$"
      ],
      "text/plain": [
       "Matrix([\n",
       "[1, 0,  0,  0],\n",
       "[0, 0, -I,  0],\n",
       "[0, I,  0,  0],\n",
       "[0, 0,  0, -1]])"
      ]
     },
     "metadata": {},
     "output_type": "display_data"
    },
    {
     "name": "stdout",
     "output_type": "stream",
     "text": [
      "Could not find mapping for ZI\n",
      "\n",
      "ZX ->\n"
     ]
    },
    {
     "data": {
      "text/latex": [
       "$\\displaystyle \\left[\\begin{matrix}0 & \\frac{\\sqrt{2}}{2} & - \\frac{\\sqrt{2} i}{2} & 0\\\\\\frac{\\sqrt{2}}{2} & 0 & 0 & - \\frac{\\sqrt{2} i}{2}\\\\\\frac{\\sqrt{2} i}{2} & 0 & 0 & - \\frac{\\sqrt{2}}{2}\\\\0 & \\frac{\\sqrt{2} i}{2} & - \\frac{\\sqrt{2}}{2} & 0\\end{matrix}\\right]$"
      ],
      "text/plain": [
       "Matrix([\n",
       "[          0,   sqrt(2)/2, -sqrt(2)*I/2,            0],\n",
       "[  sqrt(2)/2,           0,            0, -sqrt(2)*I/2],\n",
       "[sqrt(2)*I/2,           0,            0,   -sqrt(2)/2],\n",
       "[          0, sqrt(2)*I/2,   -sqrt(2)/2,            0]])"
      ]
     },
     "metadata": {},
     "output_type": "display_data"
    },
    {
     "name": "stdout",
     "output_type": "stream",
     "text": [
      "Could not find mapping for ZX\n",
      "\n",
      "ZY ->\n"
     ]
    },
    {
     "data": {
      "text/latex": [
       "$\\displaystyle \\left[\\begin{matrix}0 & - \\frac{\\sqrt{2} i}{2} & - \\frac{\\sqrt{2}}{2} & 0\\\\\\frac{\\sqrt{2} i}{2} & 0 & 0 & - \\frac{\\sqrt{2}}{2}\\\\- \\frac{\\sqrt{2}}{2} & 0 & 0 & \\frac{\\sqrt{2} i}{2}\\\\0 & - \\frac{\\sqrt{2}}{2} & - \\frac{\\sqrt{2} i}{2} & 0\\end{matrix}\\right]$"
      ],
      "text/plain": [
       "Matrix([\n",
       "[          0, -sqrt(2)*I/2,   -sqrt(2)/2,           0],\n",
       "[sqrt(2)*I/2,            0,            0,  -sqrt(2)/2],\n",
       "[ -sqrt(2)/2,            0,            0, sqrt(2)*I/2],\n",
       "[          0,   -sqrt(2)/2, -sqrt(2)*I/2,           0]])"
      ]
     },
     "metadata": {},
     "output_type": "display_data"
    },
    {
     "name": "stdout",
     "output_type": "stream",
     "text": [
      "Could not find mapping for ZY\n",
      "\n",
      "ZZ ->\n"
     ]
    },
    {
     "data": {
      "text/latex": [
       "$\\displaystyle \\left[\\begin{matrix}1 & 0 & 0 & 0\\\\0 & -1 & 0 & 0\\\\0 & 0 & -1 & 0\\\\0 & 0 & 0 & 1\\end{matrix}\\right]$"
      ],
      "text/plain": [
       "Matrix([\n",
       "[1,  0,  0, 0],\n",
       "[0, -1,  0, 0],\n",
       "[0,  0, -1, 0],\n",
       "[0,  0,  0, 1]])"
      ]
     },
     "metadata": {},
     "output_type": "display_data"
    },
    {
     "name": "stdout",
     "output_type": "stream",
     "text": [
      "= 1 * ZZ\n",
      "\n"
     ]
    },
    {
     "data": {
      "text/plain": [
       "{'II': (1, 'II'), 'XX': (1, 'XX'), 'YY': (1, 'YY'), 'ZZ': (1, 'ZZ')}"
      ]
     },
     "execution_count": 21,
     "metadata": {},
     "output_type": "execute_result"
    }
   ],
   "source": [
    "create_pauli_mapping(SQRT_ISWAP)"
   ]
  },
  {
   "cell_type": "code",
   "execution_count": 22,
   "metadata": {},
   "outputs": [
    {
     "name": "stdout",
     "output_type": "stream",
     "text": [
      "II ->\n"
     ]
    },
    {
     "data": {
      "text/latex": [
       "$\\displaystyle \\left[\\begin{matrix}1 & 0 & 0 & 0\\\\0 & 1 & 0 & 0\\\\0 & 0 & 1 & 0\\\\0 & 0 & 0 & 1\\end{matrix}\\right]$"
      ],
      "text/plain": [
       "Matrix([\n",
       "[1, 0, 0, 0],\n",
       "[0, 1, 0, 0],\n",
       "[0, 0, 1, 0],\n",
       "[0, 0, 0, 1]])"
      ]
     },
     "metadata": {},
     "output_type": "display_data"
    },
    {
     "name": "stdout",
     "output_type": "stream",
     "text": [
      "= 1 * II\n",
      "\n",
      "IX ->\n"
     ]
    },
    {
     "data": {
      "text/latex": [
       "$\\displaystyle \\left[\\begin{matrix}0 & \\frac{\\sqrt{2}}{2} & - \\frac{\\sqrt{2} i}{2} & 0\\\\\\frac{\\sqrt{2}}{2} & 0 & 0 & \\frac{\\sqrt{2} i}{2}\\\\\\frac{\\sqrt{2} i}{2} & 0 & 0 & \\frac{\\sqrt{2}}{2}\\\\0 & - \\frac{\\sqrt{2} i}{2} & \\frac{\\sqrt{2}}{2} & 0\\end{matrix}\\right]$"
      ],
      "text/plain": [
       "Matrix([\n",
       "[          0,    sqrt(2)/2, -sqrt(2)*I/2,           0],\n",
       "[  sqrt(2)/2,            0,            0, sqrt(2)*I/2],\n",
       "[sqrt(2)*I/2,            0,            0,   sqrt(2)/2],\n",
       "[          0, -sqrt(2)*I/2,    sqrt(2)/2,           0]])"
      ]
     },
     "metadata": {},
     "output_type": "display_data"
    },
    {
     "name": "stdout",
     "output_type": "stream",
     "text": [
      "Could not find mapping for IX\n",
      "\n",
      "IY ->\n"
     ]
    },
    {
     "data": {
      "text/latex": [
       "$\\displaystyle \\left[\\begin{matrix}0 & 0 & -1 & 0\\\\0 & 0 & 0 & 1\\\\-1 & 0 & 0 & 0\\\\0 & 1 & 0 & 0\\end{matrix}\\right]$"
      ],
      "text/plain": [
       "Matrix([\n",
       "[ 0, 0, -1, 0],\n",
       "[ 0, 0,  0, 1],\n",
       "[-1, 0,  0, 0],\n",
       "[ 0, 1,  0, 0]])"
      ]
     },
     "metadata": {},
     "output_type": "display_data"
    },
    {
     "name": "stdout",
     "output_type": "stream",
     "text": [
      "= -1 * XZ\n",
      "\n",
      "IZ ->\n"
     ]
    },
    {
     "data": {
      "text/latex": [
       "$\\displaystyle \\left[\\begin{matrix}\\frac{\\sqrt{2}}{2} & 0 & 0 & - \\frac{\\sqrt{2} i}{2}\\\\0 & \\frac{\\sqrt{2}}{2} & \\frac{\\sqrt{2} i}{2} & 0\\\\0 & - \\frac{\\sqrt{2} i}{2} & - \\frac{\\sqrt{2}}{2} & 0\\\\\\frac{\\sqrt{2} i}{2} & 0 & 0 & - \\frac{\\sqrt{2}}{2}\\end{matrix}\\right]$"
      ],
      "text/plain": [
       "Matrix([\n",
       "[  sqrt(2)/2,            0,           0, -sqrt(2)*I/2],\n",
       "[          0,    sqrt(2)/2, sqrt(2)*I/2,            0],\n",
       "[          0, -sqrt(2)*I/2,  -sqrt(2)/2,            0],\n",
       "[sqrt(2)*I/2,            0,           0,   -sqrt(2)/2]])"
      ]
     },
     "metadata": {},
     "output_type": "display_data"
    },
    {
     "name": "stdout",
     "output_type": "stream",
     "text": [
      "Could not find mapping for IZ\n",
      "\n",
      "XI ->\n"
     ]
    },
    {
     "data": {
      "text/latex": [
       "$\\displaystyle \\left[\\begin{matrix}0 & - \\frac{\\sqrt{2} i}{2} & \\frac{\\sqrt{2}}{2} & 0\\\\\\frac{\\sqrt{2} i}{2} & 0 & 0 & \\frac{\\sqrt{2}}{2}\\\\\\frac{\\sqrt{2}}{2} & 0 & 0 & \\frac{\\sqrt{2} i}{2}\\\\0 & \\frac{\\sqrt{2}}{2} & - \\frac{\\sqrt{2} i}{2} & 0\\end{matrix}\\right]$"
      ],
      "text/plain": [
       "Matrix([\n",
       "[          0, -sqrt(2)*I/2,    sqrt(2)/2,           0],\n",
       "[sqrt(2)*I/2,            0,            0,   sqrt(2)/2],\n",
       "[  sqrt(2)/2,            0,            0, sqrt(2)*I/2],\n",
       "[          0,    sqrt(2)/2, -sqrt(2)*I/2,           0]])"
      ]
     },
     "metadata": {},
     "output_type": "display_data"
    },
    {
     "name": "stdout",
     "output_type": "stream",
     "text": [
      "Could not find mapping for XI\n",
      "\n",
      "XX ->\n"
     ]
    },
    {
     "data": {
      "text/latex": [
       "$\\displaystyle \\left[\\begin{matrix}0 & 0 & 0 & 1\\\\0 & 0 & 1 & 0\\\\0 & 1 & 0 & 0\\\\1 & 0 & 0 & 0\\end{matrix}\\right]$"
      ],
      "text/plain": [
       "Matrix([\n",
       "[0, 0, 0, 1],\n",
       "[0, 0, 1, 0],\n",
       "[0, 1, 0, 0],\n",
       "[1, 0, 0, 0]])"
      ]
     },
     "metadata": {},
     "output_type": "display_data"
    },
    {
     "name": "stdout",
     "output_type": "stream",
     "text": [
      "= 1 * XX\n",
      "\n",
      "XY ->\n"
     ]
    },
    {
     "data": {
      "text/latex": [
       "$\\displaystyle \\left[\\begin{matrix}- \\frac{\\sqrt{2}}{2} & 0 & 0 & - \\frac{\\sqrt{2} i}{2}\\\\0 & \\frac{\\sqrt{2}}{2} & - \\frac{\\sqrt{2} i}{2} & 0\\\\0 & \\frac{\\sqrt{2} i}{2} & - \\frac{\\sqrt{2}}{2} & 0\\\\\\frac{\\sqrt{2} i}{2} & 0 & 0 & \\frac{\\sqrt{2}}{2}\\end{matrix}\\right]$"
      ],
      "text/plain": [
       "Matrix([\n",
       "[ -sqrt(2)/2,           0,            0, -sqrt(2)*I/2],\n",
       "[          0,   sqrt(2)/2, -sqrt(2)*I/2,            0],\n",
       "[          0, sqrt(2)*I/2,   -sqrt(2)/2,            0],\n",
       "[sqrt(2)*I/2,           0,            0,    sqrt(2)/2]])"
      ]
     },
     "metadata": {},
     "output_type": "display_data"
    },
    {
     "name": "stdout",
     "output_type": "stream",
     "text": [
      "Could not find mapping for XY\n",
      "\n",
      "XZ ->\n"
     ]
    },
    {
     "data": {
      "text/latex": [
       "$\\displaystyle \\left[\\begin{matrix}0 & - i & 0 & 0\\\\i & 0 & 0 & 0\\\\0 & 0 & 0 & - i\\\\0 & 0 & i & 0\\end{matrix}\\right]$"
      ],
      "text/plain": [
       "Matrix([\n",
       "[0, -I, 0,  0],\n",
       "[I,  0, 0,  0],\n",
       "[0,  0, 0, -I],\n",
       "[0,  0, I,  0]])"
      ]
     },
     "metadata": {},
     "output_type": "display_data"
    },
    {
     "name": "stdout",
     "output_type": "stream",
     "text": [
      "= 1 * IY\n",
      "\n",
      "YI ->\n"
     ]
    },
    {
     "data": {
      "text/latex": [
       "$\\displaystyle \\left[\\begin{matrix}0 & -1 & 0 & 0\\\\-1 & 0 & 0 & 0\\\\0 & 0 & 0 & 1\\\\0 & 0 & 1 & 0\\end{matrix}\\right]$"
      ],
      "text/plain": [
       "Matrix([\n",
       "[ 0, -1, 0, 0],\n",
       "[-1,  0, 0, 0],\n",
       "[ 0,  0, 0, 1],\n",
       "[ 0,  0, 1, 0]])"
      ]
     },
     "metadata": {},
     "output_type": "display_data"
    },
    {
     "name": "stdout",
     "output_type": "stream",
     "text": [
      "= -1 * ZX\n",
      "\n",
      "YX ->\n"
     ]
    },
    {
     "data": {
      "text/latex": [
       "$\\displaystyle \\left[\\begin{matrix}- \\frac{\\sqrt{2}}{2} & 0 & 0 & - \\frac{\\sqrt{2} i}{2}\\\\0 & - \\frac{\\sqrt{2}}{2} & \\frac{\\sqrt{2} i}{2} & 0\\\\0 & - \\frac{\\sqrt{2} i}{2} & \\frac{\\sqrt{2}}{2} & 0\\\\\\frac{\\sqrt{2} i}{2} & 0 & 0 & \\frac{\\sqrt{2}}{2}\\end{matrix}\\right]$"
      ],
      "text/plain": [
       "Matrix([\n",
       "[ -sqrt(2)/2,            0,           0, -sqrt(2)*I/2],\n",
       "[          0,   -sqrt(2)/2, sqrt(2)*I/2,            0],\n",
       "[          0, -sqrt(2)*I/2,   sqrt(2)/2,            0],\n",
       "[sqrt(2)*I/2,            0,           0,    sqrt(2)/2]])"
      ]
     },
     "metadata": {},
     "output_type": "display_data"
    },
    {
     "name": "stdout",
     "output_type": "stream",
     "text": [
      "Could not find mapping for YX\n",
      "\n",
      "YY ->\n"
     ]
    },
    {
     "data": {
      "text/latex": [
       "$\\displaystyle \\left[\\begin{matrix}0 & 0 & 0 & -1\\\\0 & 0 & 1 & 0\\\\0 & 1 & 0 & 0\\\\-1 & 0 & 0 & 0\\end{matrix}\\right]$"
      ],
      "text/plain": [
       "Matrix([\n",
       "[ 0, 0, 0, -1],\n",
       "[ 0, 0, 1,  0],\n",
       "[ 0, 1, 0,  0],\n",
       "[-1, 0, 0,  0]])"
      ]
     },
     "metadata": {},
     "output_type": "display_data"
    },
    {
     "name": "stdout",
     "output_type": "stream",
     "text": [
      "= 1 * YY\n",
      "\n",
      "YZ ->\n"
     ]
    },
    {
     "data": {
      "text/latex": [
       "$\\displaystyle \\left[\\begin{matrix}0 & - \\frac{\\sqrt{2}}{2} & - \\frac{\\sqrt{2} i}{2} & 0\\\\- \\frac{\\sqrt{2}}{2} & 0 & 0 & \\frac{\\sqrt{2} i}{2}\\\\\\frac{\\sqrt{2} i}{2} & 0 & 0 & - \\frac{\\sqrt{2}}{2}\\\\0 & - \\frac{\\sqrt{2} i}{2} & - \\frac{\\sqrt{2}}{2} & 0\\end{matrix}\\right]$"
      ],
      "text/plain": [
       "Matrix([\n",
       "[          0,   -sqrt(2)/2, -sqrt(2)*I/2,           0],\n",
       "[ -sqrt(2)/2,            0,            0, sqrt(2)*I/2],\n",
       "[sqrt(2)*I/2,            0,            0,  -sqrt(2)/2],\n",
       "[          0, -sqrt(2)*I/2,   -sqrt(2)/2,           0]])"
      ]
     },
     "metadata": {},
     "output_type": "display_data"
    },
    {
     "name": "stdout",
     "output_type": "stream",
     "text": [
      "Could not find mapping for YZ\n",
      "\n",
      "ZI ->\n"
     ]
    },
    {
     "data": {
      "text/latex": [
       "$\\displaystyle \\left[\\begin{matrix}\\frac{\\sqrt{2}}{2} & 0 & 0 & - \\frac{\\sqrt{2} i}{2}\\\\0 & - \\frac{\\sqrt{2}}{2} & - \\frac{\\sqrt{2} i}{2} & 0\\\\0 & \\frac{\\sqrt{2} i}{2} & \\frac{\\sqrt{2}}{2} & 0\\\\\\frac{\\sqrt{2} i}{2} & 0 & 0 & - \\frac{\\sqrt{2}}{2}\\end{matrix}\\right]$"
      ],
      "text/plain": [
       "Matrix([\n",
       "[  sqrt(2)/2,           0,            0, -sqrt(2)*I/2],\n",
       "[          0,  -sqrt(2)/2, -sqrt(2)*I/2,            0],\n",
       "[          0, sqrt(2)*I/2,    sqrt(2)/2,            0],\n",
       "[sqrt(2)*I/2,           0,            0,   -sqrt(2)/2]])"
      ]
     },
     "metadata": {},
     "output_type": "display_data"
    },
    {
     "name": "stdout",
     "output_type": "stream",
     "text": [
      "Could not find mapping for ZI\n",
      "\n",
      "ZX ->\n"
     ]
    },
    {
     "data": {
      "text/latex": [
       "$\\displaystyle \\left[\\begin{matrix}0 & 0 & - i & 0\\\\0 & 0 & 0 & - i\\\\i & 0 & 0 & 0\\\\0 & i & 0 & 0\\end{matrix}\\right]$"
      ],
      "text/plain": [
       "Matrix([\n",
       "[0, 0, -I,  0],\n",
       "[0, 0,  0, -I],\n",
       "[I, 0,  0,  0],\n",
       "[0, I,  0,  0]])"
      ]
     },
     "metadata": {},
     "output_type": "display_data"
    },
    {
     "name": "stdout",
     "output_type": "stream",
     "text": [
      "= 1 * YI\n",
      "\n",
      "ZY ->\n"
     ]
    },
    {
     "data": {
      "text/latex": [
       "$\\displaystyle \\left[\\begin{matrix}0 & - \\frac{\\sqrt{2} i}{2} & - \\frac{\\sqrt{2}}{2} & 0\\\\\\frac{\\sqrt{2} i}{2} & 0 & 0 & - \\frac{\\sqrt{2}}{2}\\\\- \\frac{\\sqrt{2}}{2} & 0 & 0 & \\frac{\\sqrt{2} i}{2}\\\\0 & - \\frac{\\sqrt{2}}{2} & - \\frac{\\sqrt{2} i}{2} & 0\\end{matrix}\\right]$"
      ],
      "text/plain": [
       "Matrix([\n",
       "[          0, -sqrt(2)*I/2,   -sqrt(2)/2,           0],\n",
       "[sqrt(2)*I/2,            0,            0,  -sqrt(2)/2],\n",
       "[ -sqrt(2)/2,            0,            0, sqrt(2)*I/2],\n",
       "[          0,   -sqrt(2)/2, -sqrt(2)*I/2,           0]])"
      ]
     },
     "metadata": {},
     "output_type": "display_data"
    },
    {
     "name": "stdout",
     "output_type": "stream",
     "text": [
      "Could not find mapping for ZY\n",
      "\n",
      "ZZ ->\n"
     ]
    },
    {
     "data": {
      "text/latex": [
       "$\\displaystyle \\left[\\begin{matrix}1 & 0 & 0 & 0\\\\0 & -1 & 0 & 0\\\\0 & 0 & -1 & 0\\\\0 & 0 & 0 & 1\\end{matrix}\\right]$"
      ],
      "text/plain": [
       "Matrix([\n",
       "[1,  0,  0, 0],\n",
       "[0, -1,  0, 0],\n",
       "[0,  0, -1, 0],\n",
       "[0,  0,  0, 1]])"
      ]
     },
     "metadata": {},
     "output_type": "display_data"
    },
    {
     "name": "stdout",
     "output_type": "stream",
     "text": [
      "= 1 * ZZ\n",
      "\n"
     ]
    },
    {
     "data": {
      "text/plain": [
       "{'II': (1, 'II'),\n",
       " 'IY': (-1, 'XZ'),\n",
       " 'XX': (1, 'XX'),\n",
       " 'XZ': (1, 'IY'),\n",
       " 'YI': (-1, 'ZX'),\n",
       " 'YY': (1, 'YY'),\n",
       " 'ZX': (1, 'YI'),\n",
       " 'ZZ': (1, 'ZZ')}"
      ]
     },
     "execution_count": 22,
     "metadata": {},
     "output_type": "execute_result"
    }
   ],
   "source": [
    "create_pauli_mapping(BGATE)"
   ]
  }
 ],
 "metadata": {
  "kernelspec": {
   "display_name": ".venv",
   "language": "python",
   "name": "python3"
  },
  "language_info": {
   "codemirror_mode": {
    "name": "ipython",
    "version": 3
   },
   "file_extension": ".py",
   "mimetype": "text/x-python",
   "name": "python",
   "nbconvert_exporter": "python",
   "pygments_lexer": "ipython3",
   "version": "3.9.18"
  }
 },
 "nbformat": 4,
 "nbformat_minor": 2
}
