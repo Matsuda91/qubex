{
 "cells": [
  {
   "cell_type": "markdown",
   "metadata": {},
   "source": [
    "Set your Pulse API key as an environment variable:\n",
    "\n",
    "```bash\n",
    "export PULSE_API_KEY=\"YOUR_API_KEY\"\n",
    "```"
   ]
  },
  {
   "cell_type": "code",
   "execution_count": null,
   "metadata": {},
   "outputs": [],
   "source": [
    "# Install qubex library if not already installed\n",
    "# !pip install git+https://github.com/amachino/qubex.git"
   ]
  },
  {
   "cell_type": "code",
   "execution_count": null,
   "metadata": {},
   "outputs": [],
   "source": [
    "import numpy as np\n",
    "\n",
    "# Import the PulseAPI class from the qubex library\n",
    "from qubex.api import PulseAPI"
   ]
  },
  {
   "cell_type": "code",
   "execution_count": null,
   "metadata": {},
   "outputs": [],
   "source": [
    "# Create an instance of the PulseAPI class\n",
    "api = PulseAPI(\n",
    "    chip_id=\"16Q\",\n",
    ")"
   ]
  },
  {
   "cell_type": "code",
   "execution_count": null,
   "metadata": {},
   "outputs": [],
   "source": [
    "# Print the available targets\n",
    "api.targets"
   ]
  },
  {
   "cell_type": "code",
   "execution_count": null,
   "metadata": {},
   "outputs": [],
   "source": [
    "waveform = [0.01 + 0.01j] * 5\n",
    "\n",
    "# Measure the qubits with average mode\n",
    "result = api.measure(\n",
    "    {\n",
    "        \"Q00\": waveform,\n",
    "        \"Q01\": waveform,\n",
    "        \"Q02\": waveform,\n",
    "        \"Q03\": waveform,\n",
    "    },\n",
    "    mode=\"avg\",\n",
    "    shots=1000,\n",
    "    interval=150 * 1024,\n",
    "    control_window=1024,\n",
    ")"
   ]
  },
  {
   "cell_type": "code",
   "execution_count": null,
   "metadata": {},
   "outputs": [],
   "source": [
    "# Plot the averaged result\n",
    "result.plot()\n",
    "\n",
    "# Print the averaged data\n",
    "result.data"
   ]
  },
  {
   "cell_type": "code",
   "execution_count": null,
   "metadata": {},
   "outputs": [],
   "source": [
    "# Measure the qubits with singleshot mode\n",
    "result = api.measure(\n",
    "    {\n",
    "        \"Q00\": waveform,\n",
    "        \"Q01\": waveform,\n",
    "        \"Q02\": waveform,\n",
    "        \"Q03\": waveform,\n",
    "    },\n",
    "    mode=\"single\",\n",
    "    shots=1000,\n",
    "    interval=150 * 1024,\n",
    "    control_window=1024,\n",
    ")"
   ]
  },
  {
   "cell_type": "code",
   "execution_count": null,
   "metadata": {},
   "outputs": [],
   "source": [
    "# Plot the singleshot result\n",
    "result.plot()\n",
    "\n",
    "# Print the singleshot data\n",
    "result.data"
   ]
  },
  {
   "cell_type": "code",
   "execution_count": null,
   "metadata": {},
   "outputs": [],
   "source": [
    "from qubex.pulse import Gaussian, Pulse\n",
    "\n",
    "# Waveform as a list of complex numbers\n",
    "iq_list = [0.01 + 0.01j] * 5\n",
    "\n",
    "# Pulse object from qubex.pulse\n",
    "pulse = Gaussian(\n",
    "    duration=60,\n",
    "    amplitude=0.1,\n",
    "    sigma=10,\n",
    ")\n",
    "\n",
    "# Plot the pulse\n",
    "pulse.plot()\n",
    "\n",
    "# You can pass the waveform as a list, numpy array or Pulse object of qubex.pulse\n",
    "result = api.measure(\n",
    "    {\n",
    "        \"Q00\": iq_list,  # list[complex]\n",
    "        \"Q01\": np.array(iq_list),  # np.ndarray\n",
    "        \"Q02\": Pulse(iq_list),  # qubex.pulse.Pulse\n",
    "        \"Q03\": pulse,  # qubex.pulse.Gaussian\n",
    "    },\n",
    ")"
   ]
  }
 ],
 "metadata": {
  "kernelspec": {
   "display_name": ".venv",
   "language": "python",
   "name": "python3"
  },
  "language_info": {
   "codemirror_mode": {
    "name": "ipython",
    "version": 3
   },
   "file_extension": ".py",
   "mimetype": "text/x-python",
   "name": "python",
   "nbconvert_exporter": "python",
   "pygments_lexer": "ipython3",
   "version": "3.9.18"
  }
 },
 "nbformat": 4,
 "nbformat_minor": 2
}
