{
 "cells": [
  {
   "cell_type": "code",
   "execution_count": null,
   "metadata": {},
   "outputs": [],
   "source": [
    "import numpy as np\n",
    "import qubex as qx"
   ]
  },
  {
   "cell_type": "code",
   "execution_count": null,
   "metadata": {},
   "outputs": [],
   "source": [
    "times = np.linspace(0, 200, 20)\n",
    "\n",
    "A = 1.0\n",
    "f = 12.5e-3\n",
    "phi = np.pi / 2\n",
    "C = 0.5\n",
    "\n",
    "cos_data = qx.fit.func_cos(\n",
    "    t=times,\n",
    "    A=A,\n",
    "    omega=2 * np.pi * f,\n",
    "    phi=phi,\n",
    "    C=C,\n",
    ") + np.random.normal(0, 0.1, len(times))\n",
    "\n",
    "qx.viz.plot(\n",
    "    x=times,\n",
    "    y=cos_data,\n",
    "    title=\"Cosine data\",\n",
    "    xlabel=\"Time (ns)\",\n",
    "    ylabel=\"Amplitude\",\n",
    ")\n",
    "\n",
    "result = qx.fit.fit_cosine(\n",
    "    times,\n",
    "    cos_data,\n",
    "    xlabel=\"Time (ns)\",\n",
    "    ylabel=\"Amplitude\",\n",
    ")"
   ]
  },
  {
   "cell_type": "code",
   "execution_count": null,
   "metadata": {},
   "outputs": [],
   "source": [
    "times = np.linspace(0, 200, 20)\n",
    "\n",
    "A = 1.0\n",
    "f = 12.5e-3\n",
    "phi = np.pi / 2\n",
    "C = 0.5\n",
    "tau = 100\n",
    "\n",
    "damped_cos_data = qx.fit.func_damped_cos(\n",
    "    t=times,\n",
    "    A=A,\n",
    "    omega=2 * np.pi * f,\n",
    "    phi=phi,\n",
    "    C=C,\n",
    "    tau=tau,\n",
    ") + np.random.normal(0, 0.1, len(times))\n",
    "\n",
    "qx.viz.plot(\n",
    "    x=times,\n",
    "    y=damped_cos_data,\n",
    "    title=\"Cosine data\",\n",
    "    xlabel=\"Time (ns)\",\n",
    "    ylabel=\"Amplitude\",\n",
    ")\n",
    "\n",
    "result = qx.fit.fit_cosine(\n",
    "    times,\n",
    "    damped_cos_data,\n",
    "    is_damped=True,\n",
    "    xlabel=\"Time (ns)\",\n",
    "    ylabel=\"Amplitude\",\n",
    ")"
   ]
  }
 ],
 "metadata": {
  "kernelspec": {
   "display_name": ".venv",
   "language": "python",
   "name": "python3"
  },
  "language_info": {
   "codemirror_mode": {
    "name": "ipython",
    "version": 3
   },
   "file_extension": ".py",
   "mimetype": "text/x-python",
   "name": "python",
   "nbconvert_exporter": "python",
   "pygments_lexer": "ipython3",
   "version": "3.9.18"
  }
 },
 "nbformat": 4,
 "nbformat_minor": 2
}
