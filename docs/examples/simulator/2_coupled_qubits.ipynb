{
 "cells": [
  {
   "cell_type": "code",
   "execution_count": null,
   "metadata": {},
   "outputs": [],
   "source": [
    "%load_ext autoreload\n",
    "%autoreload 2\n",
    "\n",
    "from qubex.simulator import (\n",
    "    Control,\n",
    "    Coupling,\n",
    "    QuantumSimulator,\n",
    "    QuantumSystem,\n",
    "    Transmon,\n",
    ")"
   ]
  },
  {
   "cell_type": "code",
   "execution_count": null,
   "metadata": {},
   "outputs": [],
   "source": [
    "qubits = [\n",
    "    Transmon(\n",
    "        label=\"Q01\",\n",
    "        dimension=3,\n",
    "        frequency=7.648,\n",
    "        anharmonicity=-0.33,\n",
    "        relaxation_rate=0.00005,\n",
    "        dephasing_rate=0.00005,\n",
    "    ),\n",
    "    Transmon(\n",
    "        label=\"Q02\",\n",
    "        dimension=3,\n",
    "        frequency=8.275,\n",
    "        anharmonicity=-0.33,\n",
    "        relaxation_rate=0.00005,\n",
    "        dephasing_rate=0.00005,\n",
    "    ),\n",
    "]\n",
    "\n",
    "system = QuantumSystem(\n",
    "    objects=qubits,\n",
    "    couplings=[\n",
    "        Coupling(\n",
    "            pair=(qubits[0].label, qubits[1].label),\n",
    "            strength=0.01,\n",
    "        ),\n",
    "    ],\n",
    ")\n",
    "\n",
    "simulator = QuantumSimulator(system)"
   ]
  },
  {
   "cell_type": "code",
   "execution_count": null,
   "metadata": {},
   "outputs": [],
   "source": [
    "system.hamiltonian"
   ]
  },
  {
   "cell_type": "code",
   "execution_count": null,
   "metadata": {},
   "outputs": [],
   "source": [
    "control = Control(\n",
    "    target=qubits[0].label,\n",
    "    frequency=qubits[0].frequency,\n",
    "    waveform=[0],\n",
    "    durations=[1000],\n",
    ")\n",
    "control.plot()"
   ]
  },
  {
   "cell_type": "code",
   "execution_count": null,
   "metadata": {},
   "outputs": [],
   "source": [
    "result = simulator.mesolve(\n",
    "    controls=[control],\n",
    "    initial_state=system.state(\n",
    "        {\n",
    "            qubits[0].label: \"0\",\n",
    "            qubits[1].label: \"+\",\n",
    "        },\n",
    "    ),\n",
    "    n_samples=101,\n",
    ")\n",
    "\n",
    "result.plot_population_dynamics(qubits[0].label)\n",
    "result.plot_population_dynamics(qubits[1].label)\n",
    "result.plot_bloch_vectors(qubits[0].label)\n",
    "result.plot_bloch_vectors(qubits[1].label)\n",
    "result.display_bloch_sphere(qubits[0].label)\n",
    "result.display_bloch_sphere(qubits[1].label)"
   ]
  },
  {
   "cell_type": "code",
   "execution_count": null,
   "metadata": {},
   "outputs": [],
   "source": [
    "result = simulator.mesolve(\n",
    "    controls=[control],\n",
    "    initial_state=system.state(\n",
    "        {\n",
    "            qubits[0].label: \"1\",\n",
    "            qubits[1].label: \"+\",\n",
    "        },\n",
    "    ),\n",
    "    n_samples=101,\n",
    ")\n",
    "\n",
    "result.plot_population_dynamics(qubits[0].label)\n",
    "result.plot_population_dynamics(qubits[1].label)\n",
    "result.plot_bloch_vectors(qubits[0].label)\n",
    "result.plot_bloch_vectors(qubits[1].label)\n",
    "result.display_bloch_sphere(qubits[0].label)\n",
    "result.display_bloch_sphere(qubits[1].label)"
   ]
  },
  {
   "cell_type": "code",
   "execution_count": null,
   "metadata": {},
   "outputs": [],
   "source": [
    "result = simulator.mesolve(\n",
    "    controls=[control],\n",
    "    initial_state=system.state(\n",
    "        {\n",
    "            qubits[0].label: \"+\",\n",
    "            qubits[1].label: \"+\",\n",
    "        },\n",
    "    ),\n",
    "    n_samples=101,\n",
    ")\n",
    "\n",
    "result.plot_population_dynamics(qubits[0].label)\n",
    "result.plot_population_dynamics(qubits[1].label)\n",
    "result.plot_bloch_vectors(qubits[0].label)\n",
    "result.plot_bloch_vectors(qubits[1].label)\n",
    "result.display_bloch_sphere(qubits[0].label)\n",
    "result.display_bloch_sphere(qubits[1].label)"
   ]
  }
 ],
 "metadata": {
  "kernelspec": {
   "display_name": ".venv",
   "language": "python",
   "name": "python3"
  },
  "language_info": {
   "codemirror_mode": {
    "name": "ipython",
    "version": 3
   },
   "file_extension": ".py",
   "mimetype": "text/x-python",
   "name": "python",
   "nbconvert_exporter": "python",
   "pygments_lexer": "ipython3",
   "version": "3.9.18"
  }
 },
 "nbformat": 4,
 "nbformat_minor": 2
}
