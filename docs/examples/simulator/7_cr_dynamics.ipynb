{
 "cells": [
  {
   "cell_type": "markdown",
   "metadata": {},
   "source": [
    "# Cross Resonance Dynamics"
   ]
  },
  {
   "cell_type": "code",
   "execution_count": null,
   "metadata": {},
   "outputs": [],
   "source": [
    "import numpy as np\n",
    "import qubex as qx\n",
    "from qubex.simulator import Control, Coupling, QuantumSimulator, QuantumSystem, Transmon"
   ]
  },
  {
   "cell_type": "markdown",
   "metadata": {},
   "source": [
    "#### $\\ket{n}_\\mathrm{low} \\otimes \\ket{n}_\\mathrm{high}$"
   ]
  },
  {
   "cell_type": "code",
   "execution_count": null,
   "metadata": {},
   "outputs": [],
   "source": [
    "qubits = [\n",
    "    Transmon(\n",
    "        label=\"Q_LOW\",\n",
    "        dimension=4,\n",
    "        frequency=7.2,\n",
    "        anharmonicity=-0.333,\n",
    "        relaxation_rate=0.00005,\n",
    "        dephasing_rate=0.00005,\n",
    "    ),\n",
    "    Transmon(\n",
    "        label=\"Q_HIGH\",\n",
    "        dimension=4,\n",
    "        frequency=8.0,\n",
    "        anharmonicity=-0.333,\n",
    "        relaxation_rate=0.00005,\n",
    "        dephasing_rate=0.00005,\n",
    "    ),\n",
    "]\n",
    "\n",
    "couplings = [\n",
    "    Coupling(pair=(\"Q_LOW\", \"Q_HIGH\"), strength=0.01),\n",
    "]\n",
    "\n",
    "system = QuantumSystem(\n",
    "    objects=qubits,\n",
    "    couplings=couplings,\n",
    ")\n",
    "\n",
    "simulator = QuantumSimulator(system)"
   ]
  },
  {
   "cell_type": "code",
   "execution_count": null,
   "metadata": {},
   "outputs": [],
   "source": [
    "drive_amplitude = 0.5  # GHz\n",
    "drive_duration = 200  # ns\n",
    "ramp_duration = 30  # ns\n",
    "\n",
    "pulse = qx.pulse.FlatTop(\n",
    "    duration=drive_duration,\n",
    "    amplitude=2 * np.pi * drive_amplitude,\n",
    "    tau=ramp_duration,\n",
    ")"
   ]
  },
  {
   "cell_type": "markdown",
   "metadata": {},
   "source": [
    "### A. LOW → HIGH\n",
    "\n",
    "- control qubit\n",
    "  - low frequency\n",
    "- target qubit\n",
    "  - high frequency"
   ]
  },
  {
   "cell_type": "code",
   "execution_count": null,
   "metadata": {},
   "outputs": [],
   "source": [
    "control_qubit = qubits[0]\n",
    "target_qubit = qubits[1]\n",
    "\n",
    "control = Control(\n",
    "    target=control_qubit.label,\n",
    "    frequency=target_qubit.frequency,\n",
    "    waveform=pulse,\n",
    ")\n",
    "control.plot()"
   ]
  },
  {
   "cell_type": "markdown",
   "metadata": {},
   "source": [
    "#### A.1. $\\ket{0}_\\mathrm{low} \\otimes \\ket{0}_\\mathrm{high}$"
   ]
  },
  {
   "cell_type": "code",
   "execution_count": null,
   "metadata": {},
   "outputs": [],
   "source": [
    "result = simulator.mesolve(\n",
    "    controls=[control],\n",
    "    initial_state=system.state(\n",
    "        {\n",
    "            \"Q_LOW\": \"0\",\n",
    "            \"Q_HIGH\": \"0\",\n",
    "        },\n",
    "    ),\n",
    "    n_samples=101,\n",
    ")\n",
    "\n",
    "result.plot_bloch_vectors(\"Q_LOW\")\n",
    "result.plot_bloch_vectors(\"Q_HIGH\")\n",
    "\n",
    "result.display_bloch_sphere(\"Q_LOW\")\n",
    "result.display_bloch_sphere(\"Q_HIGH\")\n",
    "\n",
    "result.plot_population_dynamics(\"Q_LOW\")\n",
    "result.plot_population_dynamics(\"Q_HIGH\")\n",
    "result.plot_population_dynamics()"
   ]
  },
  {
   "cell_type": "markdown",
   "metadata": {},
   "source": [
    "#### A.2. $\\ket{1}_\\mathrm{low} \\otimes \\ket{0}_\\mathrm{high}$"
   ]
  },
  {
   "cell_type": "code",
   "execution_count": null,
   "metadata": {},
   "outputs": [],
   "source": [
    "result = simulator.mesolve(\n",
    "    controls=[control],\n",
    "    initial_state=system.state(\n",
    "        {\n",
    "            \"Q_LOW\": \"1\",\n",
    "            \"Q_HIGH\": \"0\",\n",
    "        },\n",
    "    ),\n",
    "    n_samples=101,\n",
    ")\n",
    "\n",
    "result.plot_bloch_vectors(\"Q_LOW\")\n",
    "result.plot_bloch_vectors(\"Q_HIGH\")\n",
    "\n",
    "result.display_bloch_sphere(\"Q_LOW\")\n",
    "result.display_bloch_sphere(\"Q_HIGH\")\n",
    "\n",
    "result.plot_population_dynamics(\"Q_LOW\")\n",
    "result.plot_population_dynamics(\"Q_HIGH\")\n",
    "result.plot_population_dynamics()"
   ]
  },
  {
   "cell_type": "markdown",
   "metadata": {},
   "source": [
    "### B. HIGH → LOW\n",
    "\n",
    "- control qubit\n",
    "  - high frequency\n",
    "- target qubit\n",
    "  - low frequency"
   ]
  },
  {
   "cell_type": "code",
   "execution_count": null,
   "metadata": {},
   "outputs": [],
   "source": [
    "control_qubit = qubits[1]\n",
    "target_qubit = qubits[0]\n",
    "\n",
    "control = Control(\n",
    "    target=control_qubit.label,\n",
    "    frequency=target_qubit.frequency,\n",
    "    waveform=pulse,\n",
    ")\n",
    "control.plot()"
   ]
  },
  {
   "cell_type": "markdown",
   "metadata": {},
   "source": [
    "#### B.1. $\\ket{0}_\\mathrm{low} \\otimes \\ket{0}_\\mathrm{high}$"
   ]
  },
  {
   "cell_type": "code",
   "execution_count": null,
   "metadata": {},
   "outputs": [],
   "source": [
    "result = simulator.mesolve(\n",
    "    controls=[control],\n",
    "    initial_state=system.state(\n",
    "        {\n",
    "            \"Q_LOW\": \"0\",\n",
    "            \"Q_HIGH\": \"0\",\n",
    "        },\n",
    "    ),\n",
    "    n_samples=101,\n",
    ")\n",
    "\n",
    "result.plot_bloch_vectors(\"Q_LOW\")\n",
    "result.plot_bloch_vectors(\"Q_HIGH\")\n",
    "\n",
    "result.display_bloch_sphere(\"Q_LOW\")\n",
    "result.display_bloch_sphere(\"Q_HIGH\")\n",
    "\n",
    "result.plot_population_dynamics(\"Q_LOW\")\n",
    "result.plot_population_dynamics(\"Q_HIGH\")\n",
    "result.plot_population_dynamics()"
   ]
  },
  {
   "cell_type": "markdown",
   "metadata": {},
   "source": [
    "#### B.2. $\\ket{0}_\\mathrm{low} \\otimes \\ket{1}_\\mathrm{high}$"
   ]
  },
  {
   "cell_type": "code",
   "execution_count": null,
   "metadata": {},
   "outputs": [],
   "source": [
    "result = simulator.mesolve(\n",
    "    controls=[control],\n",
    "    initial_state=system.state(\n",
    "        {\n",
    "            \"Q_LOW\": \"0\",\n",
    "            \"Q_HIGH\": \"1\",\n",
    "        },\n",
    "    ),\n",
    "    n_samples=101,\n",
    ")\n",
    "\n",
    "result.plot_bloch_vectors(\"Q_LOW\")\n",
    "result.plot_bloch_vectors(\"Q_HIGH\")\n",
    "\n",
    "result.display_bloch_sphere(\"Q_LOW\")\n",
    "result.display_bloch_sphere(\"Q_HIGH\")\n",
    "\n",
    "result.plot_population_dynamics(\"Q_LOW\")\n",
    "result.plot_population_dynamics(\"Q_HIGH\")\n",
    "result.plot_population_dynamics()"
   ]
  }
 ],
 "metadata": {
  "kernelspec": {
   "display_name": ".venv",
   "language": "python",
   "name": "python3"
  },
  "language_info": {
   "codemirror_mode": {
    "name": "ipython",
    "version": 3
   },
   "file_extension": ".py",
   "mimetype": "text/x-python",
   "name": "python",
   "nbconvert_exporter": "python",
   "pygments_lexer": "ipython3",
   "version": "3.9.18"
  }
 },
 "nbformat": 4,
 "nbformat_minor": 2
}
