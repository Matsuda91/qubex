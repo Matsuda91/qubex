{
 "cells": [
  {
   "cell_type": "code",
   "execution_count": null,
   "metadata": {},
   "outputs": [],
   "source": [
    "import qutip as qt\n",
    "\n",
    "from qubex.simulator import Coupling, System, Transmon\n",
    "from qubex.simulator.optimizer_jax import PulseOptimizer\n",
    "from qubex.simulator.simulator_pwc import ControlPWC, SimulatorPWC"
   ]
  },
  {
   "cell_type": "code",
   "execution_count": null,
   "metadata": {},
   "outputs": [],
   "source": [
    "transmons = [\n",
    "    Transmon(\n",
    "        label=\"Q1\",\n",
    "        dimension=2,\n",
    "        frequency=0.0,\n",
    "        anharmonicity=-0.368,\n",
    "    ),\n",
    "    Transmon(\n",
    "        label=\"Q2\",\n",
    "        dimension=2,\n",
    "        frequency=0.01,\n",
    "        anharmonicity=-0.500,\n",
    "    ),\n",
    "]\n",
    "\n",
    "couplings = [\n",
    "    Coupling(\n",
    "        pair=(\"Q1\", \"Q2\"),\n",
    "        strength=0.01,\n",
    "    ),\n",
    "]\n",
    "\n",
    "system = System(\n",
    "    transmons=transmons,\n",
    "    couplings=couplings,\n",
    ")"
   ]
  },
  {
   "cell_type": "code",
   "execution_count": null,
   "metadata": {},
   "outputs": [],
   "source": [
    "system.hamiltonian"
   ]
  },
  {
   "cell_type": "code",
   "execution_count": null,
   "metadata": {},
   "outputs": [],
   "source": [
    "I = qt.qeye(2)\n",
    "X = qt.sigmax()\n",
    "target_unitary = qt.tensor(X, I)\n",
    "target_unitary"
   ]
  },
  {
   "cell_type": "code",
   "execution_count": null,
   "metadata": {},
   "outputs": [],
   "source": [
    "segment_width = 4\n",
    "\n",
    "optimizer = PulseOptimizer(\n",
    "    quantum_system=system,\n",
    "    target_unitary=target_unitary,\n",
    "    control_qubits=[\"Q1\"],\n",
    "    segment_count=15,\n",
    "    segment_width=segment_width,\n",
    "    max_rabi_frequency=0.1,\n",
    ")"
   ]
  },
  {
   "cell_type": "code",
   "execution_count": null,
   "metadata": {},
   "outputs": [],
   "source": [
    "opt_result = optimizer.optimize(\n",
    "    learning_rate=0.001,\n",
    "    max_iterations=1000,\n",
    "    tolerance=1e-6,\n",
    ")"
   ]
  },
  {
   "cell_type": "code",
   "execution_count": null,
   "metadata": {},
   "outputs": [],
   "source": [
    "opt_result.waveforms"
   ]
  },
  {
   "cell_type": "code",
   "execution_count": null,
   "metadata": {},
   "outputs": [],
   "source": [
    "control = ControlPWC(\n",
    "    target=\"Q1\",\n",
    "    frequency=transmons[0].frequency,\n",
    "    segment_values=opt_result.waveforms[\"Q1\"],\n",
    "    segment_width=segment_width,\n",
    "    nsteps_per_segment=10,\n",
    ")\n",
    "\n",
    "control.plot()"
   ]
  },
  {
   "cell_type": "code",
   "execution_count": null,
   "metadata": {},
   "outputs": [],
   "source": [
    "simulator = SimulatorPWC(system)"
   ]
  },
  {
   "cell_type": "code",
   "execution_count": null,
   "metadata": {},
   "outputs": [],
   "source": [
    "result = simulator.simulate(\n",
    "    control=control,\n",
    "    initial_state=\"0\",\n",
    ")"
   ]
  },
  {
   "cell_type": "code",
   "execution_count": null,
   "metadata": {},
   "outputs": [],
   "source": [
    "final_state = result.states[-1]\n",
    "final_state"
   ]
  },
  {
   "cell_type": "code",
   "execution_count": null,
   "metadata": {},
   "outputs": [],
   "source": [
    "final_state_target = result.substates(\"Q1\")[-1]\n",
    "final_state_target"
   ]
  },
  {
   "cell_type": "code",
   "execution_count": null,
   "metadata": {},
   "outputs": [],
   "source": [
    "result.plot_population_dynamics()"
   ]
  },
  {
   "cell_type": "code",
   "execution_count": null,
   "metadata": {},
   "outputs": [],
   "source": [
    "result.plot_population_dynamics(\"Q1\")"
   ]
  },
  {
   "cell_type": "code",
   "execution_count": null,
   "metadata": {},
   "outputs": [],
   "source": [
    "result.plot_population_dynamics(\"Q2\")"
   ]
  },
  {
   "cell_type": "code",
   "execution_count": null,
   "metadata": {},
   "outputs": [],
   "source": [
    "result.show_last_population(\"Q1\")"
   ]
  },
  {
   "cell_type": "code",
   "execution_count": null,
   "metadata": {},
   "outputs": [],
   "source": [
    "result.display_bloch_sphere(\"Q1\")"
   ]
  },
  {
   "cell_type": "code",
   "execution_count": null,
   "metadata": {},
   "outputs": [],
   "source": [
    "result.display_bloch_sphere(\"Q2\")"
   ]
  }
 ],
 "metadata": {
  "kernelspec": {
   "display_name": "Python 3",
   "language": "python",
   "name": "python3"
  },
  "language_info": {
   "codemirror_mode": {
    "name": "ipython",
    "version": 3
   },
   "file_extension": ".py",
   "mimetype": "text/x-python",
   "name": "python",
   "nbconvert_exporter": "python",
   "pygments_lexer": "ipython3",
   "version": "3.10.14"
  }
 },
 "nbformat": 4,
 "nbformat_minor": 2
}
