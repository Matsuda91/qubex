{
 "cells": [
  {
   "cell_type": "code",
   "execution_count": null,
   "metadata": {},
   "outputs": [],
   "source": [
    "from __future__ import annotations"
   ]
  },
  {
   "cell_type": "code",
   "execution_count": null,
   "metadata": {},
   "outputs": [],
   "source": [
    "%load_ext autoreload\n",
    "%autoreload 2\n",
    "\n",
    "import numpy as np\n",
    "\n",
    "import qubex.pulse as qp\n",
    "from qubex.simulator import (\n",
    "    Control,\n",
    "    Coupling,\n",
    "    QuantumSimulator,\n",
    "    QuantumSystem,\n",
    "    Transmon,\n",
    ")"
   ]
  },
  {
   "cell_type": "code",
   "execution_count": null,
   "metadata": {},
   "outputs": [],
   "source": [
    "# units: ns, GHz\n",
    "transmon_dimension = 3\n",
    "control_frequency = 7.648\n",
    "target_frequency = 8.275\n",
    "anharmonicity = -0.333\n",
    "relaxation_rate = 5e-5\n",
    "dephasing_rate = 5e-5\n",
    "coupling_strength = 0.01\n",
    "\n",
    "qubits = [\n",
    "    Transmon(\n",
    "        label=\"Q01\",\n",
    "        dimension=transmon_dimension,\n",
    "        frequency=control_frequency,\n",
    "        anharmonicity=anharmonicity,\n",
    "        relaxation_rate=relaxation_rate,\n",
    "        dephasing_rate=dephasing_rate,\n",
    "    ),\n",
    "    Transmon(\n",
    "        label=\"Q02\",\n",
    "        dimension=transmon_dimension,\n",
    "        frequency=target_frequency,\n",
    "        anharmonicity=anharmonicity,\n",
    "        relaxation_rate=relaxation_rate,\n",
    "        dephasing_rate=dephasing_rate,\n",
    "    ),\n",
    "]\n",
    "\n",
    "couplings = [\n",
    "    Coupling(\n",
    "        pair=(\"Q01\", \"Q02\"),\n",
    "        strength=coupling_strength,\n",
    "    ),\n",
    "]\n",
    "\n",
    "system = QuantumSystem(\n",
    "    objects=qubits,\n",
    "    couplings=couplings,\n",
    ")\n",
    "\n",
    "simulator = QuantumSimulator(system)"
   ]
  },
  {
   "cell_type": "code",
   "execution_count": null,
   "metadata": {},
   "outputs": [],
   "source": [
    "target_qubit = qubits[0]\n",
    "\n",
    "pulse_duration = 30  # ns\n",
    "ramp_duration = 10  # ns"
   ]
  },
  {
   "cell_type": "code",
   "execution_count": null,
   "metadata": {},
   "outputs": [],
   "source": [
    "hpi_pulse = qp.FlatTop(\n",
    "    duration=pulse_duration,\n",
    "    amplitude=0.5 * np.pi / (pulse_duration - ramp_duration),\n",
    "    tau=ramp_duration,\n",
    ")\n",
    "hpi_pulse.plot(divide_by_two_pi=True)\n",
    "\n",
    "pi_pulse = hpi_pulse.repeated(2)\n",
    "pi_pulse.plot(divide_by_two_pi=True)"
   ]
  },
  {
   "cell_type": "code",
   "execution_count": null,
   "metadata": {},
   "outputs": [],
   "source": [
    "result = simulator.mesolve(\n",
    "    controls=[\n",
    "        Control(\n",
    "            target=target_qubit.label,\n",
    "            frequency=target_qubit.frequency,\n",
    "            waveform=hpi_pulse,\n",
    "        )\n",
    "    ],\n",
    "    initial_state=simulator.system.ground_state,\n",
    ")\n",
    "\n",
    "result.show_last_population(target_qubit.label)\n",
    "result.plot_population_dynamics(target_qubit.label)\n",
    "result.plot_bloch_vectors(target_qubit.label)\n",
    "result.display_bloch_sphere(target_qubit.label)"
   ]
  },
  {
   "cell_type": "code",
   "execution_count": null,
   "metadata": {},
   "outputs": [],
   "source": [
    "result = simulator.mesolve(\n",
    "    controls=[\n",
    "        Control(\n",
    "            target=target_qubit.label,\n",
    "            frequency=target_qubit.frequency,\n",
    "            waveform=pi_pulse,\n",
    "        )\n",
    "    ],\n",
    "    initial_state=simulator.system.ground_state,\n",
    ")\n",
    "\n",
    "result.show_last_population(target_qubit.label)\n",
    "result.plot_population_dynamics(target_qubit.label)\n",
    "result.plot_bloch_vectors(target_qubit.label)\n",
    "result.display_bloch_sphere(target_qubit.label)"
   ]
  }
 ],
 "metadata": {
  "kernelspec": {
   "display_name": ".venv",
   "language": "python",
   "name": "python3"
  },
  "language_info": {
   "codemirror_mode": {
    "name": "ipython",
    "version": 3
   },
   "file_extension": ".py",
   "mimetype": "text/x-python",
   "name": "python",
   "nbconvert_exporter": "python",
   "pygments_lexer": "ipython3",
   "version": "3.9.18"
  }
 },
 "nbformat": 4,
 "nbformat_minor": 2
}
