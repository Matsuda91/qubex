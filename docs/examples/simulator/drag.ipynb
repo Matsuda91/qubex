{
 "cells": [
  {
   "cell_type": "code",
   "execution_count": null,
   "metadata": {},
   "outputs": [],
   "source": [
    "%load_ext autoreload\n",
    "%autoreload 2\n",
    "\n",
    "import matplotlib.pyplot as plt\n",
    "import numpy as np\n",
    "\n",
    "from qubex.simulator import Control, QuantumSimulator, QuantumSystem, Transmon"
   ]
  },
  {
   "cell_type": "code",
   "execution_count": null,
   "metadata": {},
   "outputs": [],
   "source": [
    "transmon = Transmon(\n",
    "    label=\"Q00\",\n",
    "    dimension=3,\n",
    "    frequency=7.5,\n",
    "    anharmonicity=-0.35,\n",
    ")\n",
    "\n",
    "system = QuantumSystem(objects=[transmon])\n",
    "\n",
    "simulator = QuantumSimulator(system)\n",
    "\n",
    "initial_state = system.state({transmon.label: \"0\"})"
   ]
  },
  {
   "cell_type": "code",
   "execution_count": null,
   "metadata": {},
   "outputs": [],
   "source": [
    "from qubex.pulse import Drag\n",
    "\n",
    "duration = 16\n",
    "\n",
    "alpha = 2 * np.pi * transmon.anharmonicity\n",
    "\n",
    "pulse = Drag(\n",
    "    duration=duration,\n",
    "    amplitude=1,\n",
    "    beta=-0.5 / alpha,\n",
    ")\n",
    "norm_factor = np.pi / float(np.sum(np.abs(pulse.values) * pulse.SAMPLING_PERIOD))\n",
    "pulse = pulse.scaled(norm_factor)\n",
    "pulse.plot()"
   ]
  },
  {
   "cell_type": "code",
   "execution_count": null,
   "metadata": {},
   "outputs": [],
   "source": [
    "Control.SAMPLING_PERIOD = Drag.SAMPLING_PERIOD\n",
    "\n",
    "control = Control(\n",
    "    target=transmon.label,\n",
    "    frequency=transmon.frequency,\n",
    "    waveform=pulse.values,\n",
    ")"
   ]
  },
  {
   "cell_type": "code",
   "execution_count": null,
   "metadata": {},
   "outputs": [],
   "source": [
    "control.plot()"
   ]
  },
  {
   "cell_type": "code",
   "execution_count": null,
   "metadata": {},
   "outputs": [],
   "source": [
    "N = control.length\n",
    "F_ = np.fft.fft(control.waveform)\n",
    "f_ = np.fft.fftfreq(N, control.SAMPLING_PERIOD)\n",
    "F = np.fft.fftshift(F_)\n",
    "f = np.fft.fftshift(f_)\n",
    "\n",
    "plt.plot(f, F.real, label=\"real\")\n",
    "plt.plot(f, F.imag, label=\"imag\")\n",
    "plt.plot(f, np.abs(F), label=\"abs\")\n",
    "plt.grid()\n",
    "plt.legend()"
   ]
  },
  {
   "cell_type": "code",
   "execution_count": null,
   "metadata": {},
   "outputs": [],
   "source": [
    "result = simulator.simulate(\n",
    "    controls=[control],\n",
    "    initial_state=initial_state,\n",
    ")"
   ]
  },
  {
   "cell_type": "code",
   "execution_count": null,
   "metadata": {},
   "outputs": [],
   "source": [
    "result.show_last_population(transmon.label)"
   ]
  },
  {
   "cell_type": "code",
   "execution_count": null,
   "metadata": {},
   "outputs": [],
   "source": [
    "result.plot_population_dynamics()"
   ]
  },
  {
   "cell_type": "code",
   "execution_count": null,
   "metadata": {},
   "outputs": [],
   "source": [
    "result.display_bloch_sphere(transmon.label)"
   ]
  }
 ],
 "metadata": {
  "kernelspec": {
   "display_name": ".venv",
   "language": "python",
   "name": "python3"
  },
  "language_info": {
   "codemirror_mode": {
    "name": "ipython",
    "version": 3
   },
   "file_extension": ".py",
   "mimetype": "text/x-python",
   "name": "python",
   "nbconvert_exporter": "python",
   "pygments_lexer": "ipython3",
   "version": "3.9.18"
  }
 },
 "nbformat": 4,
 "nbformat_minor": 2
}
