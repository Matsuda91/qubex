{
 "cells": [
  {
   "cell_type": "code",
   "execution_count": null,
   "metadata": {},
   "outputs": [],
   "source": [
    "%load_ext autoreload\n",
    "%autoreload 2\n",
    "\n",
    "import matplotlib.pyplot as plt\n",
    "import numpy as np\n",
    "from qubex.simulator import Simulator, System, Transmon, Control"
   ]
  },
  {
   "cell_type": "code",
   "execution_count": null,
   "metadata": {},
   "outputs": [],
   "source": [
    "transmon = Transmon(\n",
    "    label=\"Q00\",\n",
    "    dimension=3,\n",
    "    frequency=7.5,\n",
    "    anharmonicity=-0.35,\n",
    ")\n",
    "\n",
    "system = System(\n",
    "    transmons=[transmon],\n",
    ")\n",
    "\n",
    "simulator = Simulator(system)\n",
    "\n",
    "initial_state = system.state({transmon.label: \"0\"})"
   ]
  },
  {
   "cell_type": "code",
   "execution_count": null,
   "metadata": {},
   "outputs": [],
   "source": [
    "from qubex.pulse import DragGauss\n",
    "\n",
    "duration = 30\n",
    "\n",
    "alpha = 2 * np.pi * transmon.anharmonicity\n",
    "\n",
    "pulse = DragGauss(\n",
    "    duration=duration,\n",
    "    amplitude=1,\n",
    "    sigma=duration / 6,\n",
    "    beta=-1 / alpha,\n",
    ")\n",
    "norm_factor = np.pi / float(np.sum(np.abs(pulse.values) * pulse.SAMPLING_PERIOD))\n",
    "pulse = pulse.scaled(norm_factor)\n",
    "pulse.plot()\n",
    "pulse.values"
   ]
  },
  {
   "cell_type": "code",
   "execution_count": null,
   "metadata": {},
   "outputs": [],
   "source": [
    "steps_per_sample = 4\n",
    "\n",
    "control = Control(\n",
    "    target=transmon.label,\n",
    "    frequency=transmon.frequency,\n",
    "    waveform=pulse.values,\n",
    "    steps_per_sample=steps_per_sample,\n",
    "    sampling_period=pulse.SAMPLING_PERIOD,\n",
    ")\n",
    "control.values"
   ]
  },
  {
   "cell_type": "code",
   "execution_count": null,
   "metadata": {},
   "outputs": [],
   "source": [
    "plt.plot(control.times, control.values.real)\n",
    "plt.plot(control.times, control.values.imag)\n",
    "plt.grid()"
   ]
  },
  {
   "cell_type": "code",
   "execution_count": null,
   "metadata": {},
   "outputs": [],
   "source": [
    "import numpy as np\n",
    "\n",
    "N = len(control.values)\n",
    "dt = control.sampling_period / steps_per_sample\n",
    "\n",
    "F_ = np.fft.fft(control.values)\n",
    "f_ = np.fft.fftfreq(N, dt)\n",
    "F = np.fft.fftshift(F_)\n",
    "f = np.fft.fftshift(f_)\n",
    "\n",
    "plt.plot(f, F.real, label=\"real\")\n",
    "plt.plot(f, F.imag, label=\"imag\")\n",
    "plt.plot(f, np.abs(F), label=\"abs\")\n",
    "plt.grid()\n",
    "plt.legend()"
   ]
  },
  {
   "cell_type": "code",
   "execution_count": null,
   "metadata": {},
   "outputs": [],
   "source": [
    "result = simulator.simulate(\n",
    "    control=control,\n",
    "    initial_state=initial_state,\n",
    ")"
   ]
  },
  {
   "cell_type": "code",
   "execution_count": null,
   "metadata": {},
   "outputs": [],
   "source": [
    "result.show_last_population(transmon.label)"
   ]
  },
  {
   "cell_type": "code",
   "execution_count": null,
   "metadata": {},
   "outputs": [],
   "source": [
    "result.plot_population_dynamics()"
   ]
  },
  {
   "cell_type": "code",
   "execution_count": null,
   "metadata": {},
   "outputs": [],
   "source": [
    "result.display_bloch_sphere(transmon.label)"
   ]
  }
 ],
 "metadata": {
  "kernelspec": {
   "display_name": "Python 3",
   "language": "python",
   "name": "python3"
  },
  "language_info": {
   "codemirror_mode": {
    "name": "ipython",
    "version": 3
   },
   "file_extension": ".py",
   "mimetype": "text/x-python",
   "name": "python",
   "nbconvert_exporter": "python",
   "pygments_lexer": "ipython3",
   "version": "3.10.13"
  }
 },
 "nbformat": 4,
 "nbformat_minor": 2
}
