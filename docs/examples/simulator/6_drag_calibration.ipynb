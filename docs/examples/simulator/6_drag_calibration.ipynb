{
 "cells": [
  {
   "cell_type": "code",
   "execution_count": null,
   "metadata": {},
   "outputs": [],
   "source": [
    "from __future__ import annotations"
   ]
  },
  {
   "cell_type": "code",
   "execution_count": null,
   "metadata": {},
   "outputs": [],
   "source": [
    "%load_ext autoreload\n",
    "%autoreload 2\n",
    "\n",
    "import numpy as np\n",
    "\n",
    "import qubex.pulse as qp\n",
    "from qubex.simulator import (\n",
    "    Control,\n",
    "    Coupling,\n",
    "    QuantumSimulator,\n",
    "    QuantumSystem,\n",
    "    Transmon,\n",
    ")"
   ]
  },
  {
   "cell_type": "code",
   "execution_count": null,
   "metadata": {},
   "outputs": [],
   "source": [
    "# units: ns, GHz\n",
    "transmon_dimension = 3\n",
    "control_frequency = 7.648\n",
    "target_frequency = 8.275\n",
    "anharmonicity = -0.333\n",
    "relaxation_rate = 5e-5\n",
    "dephasing_rate = 5e-5\n",
    "coupling_strength = 0.01\n",
    "\n",
    "qubits = [\n",
    "    Transmon(\n",
    "        label=\"Q01\",\n",
    "        dimension=transmon_dimension,\n",
    "        frequency=control_frequency,\n",
    "        anharmonicity=anharmonicity,\n",
    "        relaxation_rate=relaxation_rate,\n",
    "        dephasing_rate=dephasing_rate,\n",
    "    ),\n",
    "    Transmon(\n",
    "        label=\"Q02\",\n",
    "        dimension=transmon_dimension,\n",
    "        frequency=target_frequency,\n",
    "        anharmonicity=anharmonicity,\n",
    "        relaxation_rate=relaxation_rate,\n",
    "        dephasing_rate=dephasing_rate,\n",
    "    ),\n",
    "]\n",
    "\n",
    "couplings = [\n",
    "    Coupling(\n",
    "        pair=(\"Q01\", \"Q02\"),\n",
    "        strength=coupling_strength,\n",
    "    ),\n",
    "]\n",
    "\n",
    "system = QuantumSystem(\n",
    "    objects=qubits,\n",
    "    couplings=couplings,\n",
    ")\n",
    "\n",
    "simulator = QuantumSimulator(system)"
   ]
  },
  {
   "cell_type": "code",
   "execution_count": null,
   "metadata": {},
   "outputs": [],
   "source": [
    "target_qubit = qubits[0]\n",
    "\n",
    "pulse_duration = 16  # ns"
   ]
  },
  {
   "cell_type": "code",
   "execution_count": null,
   "metadata": {},
   "outputs": [],
   "source": [
    "def drag_pi_pulse(\n",
    "    duration: float,\n",
    "    beta: float,\n",
    ") -> qp.Pulse:\n",
    "    pulse = qp.Drag(\n",
    "        duration=duration,\n",
    "        amplitude=1,\n",
    "        beta=beta,\n",
    "    )\n",
    "    norm_factor = np.pi / float(np.sum(np.abs(pulse.values) * pulse.SAMPLING_PERIOD))\n",
    "    pulse = pulse.scaled(norm_factor)\n",
    "    return pulse"
   ]
  },
  {
   "cell_type": "code",
   "execution_count": null,
   "metadata": {},
   "outputs": [],
   "source": [
    "alpha = 2 * np.pi * target_qubit.anharmonicity\n",
    "beta = -0.5 / alpha\n",
    "pi_pulse = drag_pi_pulse(\n",
    "    duration=pulse_duration,\n",
    "    beta=beta,\n",
    ")\n",
    "pi_pulse.plot(divide_by_two_pi=True)\n",
    "\n",
    "drag_amplitude = np.max(pi_pulse.real)\n",
    "drag_amplitude"
   ]
  },
  {
   "cell_type": "code",
   "execution_count": null,
   "metadata": {},
   "outputs": [],
   "source": [
    "result = simulator.mesolve(\n",
    "    controls=[\n",
    "        Control(\n",
    "            target=target_qubit.label,\n",
    "            frequency=target_qubit.frequency,\n",
    "            waveform=pi_pulse,\n",
    "        )\n",
    "    ],\n",
    "    initial_state=simulator.system.ground_state,\n",
    ")\n",
    "result.display_bloch_sphere(target_qubit.label)\n",
    "result.show_last_population(target_qubit.label)"
   ]
  },
  {
   "cell_type": "code",
   "execution_count": null,
   "metadata": {},
   "outputs": [],
   "source": [
    "results = []\n",
    "beta_range = np.linspace(-1, 1, 101)\n",
    "for beta in beta_range:\n",
    "    alpha = 2 * np.pi * anharmonicity\n",
    "    pulse = qp.Drag(\n",
    "        duration=pulse_duration,\n",
    "        amplitude=1,\n",
    "        beta=beta,\n",
    "    )\n",
    "    norm_factor = np.pi / float(np.sum(np.abs(pulse.values) * pulse.SAMPLING_PERIOD))\n",
    "    pulse = pulse.scaled(norm_factor)\n",
    "    result = simulator.mesolve(\n",
    "        controls=[\n",
    "            Control(\n",
    "                target=target_qubit.label,\n",
    "                frequency=target_qubit.frequency,\n",
    "                waveform=qp.PulseArray([\n",
    "                    pulse,\n",
    "                    pulse.scaled(-1),\n",
    "                ])\n",
    "            )\n",
    "        ],\n",
    "        initial_state=simulator.system.ground_state,\n",
    "    )\n",
    "    results.append(result)"
   ]
  },
  {
   "cell_type": "code",
   "execution_count": null,
   "metadata": {},
   "outputs": [],
   "source": [
    "results[50].display_bloch_sphere(target_qubit.label)\n",
    "results[60].display_bloch_sphere(target_qubit.label)\n",
    "results[70].display_bloch_sphere(target_qubit.label)"
   ]
  },
  {
   "cell_type": "code",
   "execution_count": null,
   "metadata": {},
   "outputs": [],
   "source": [
    "from qubex.analysis import plot_xy\n",
    "\n",
    "e_x = np.array(\n",
    "    [result.get_bloch_vectors(target_qubit.label)[-1][0] for result in results]\n",
    ")\n",
    "\n",
    "plot_xy(beta_range, e_x)"
   ]
  },
  {
   "cell_type": "code",
   "execution_count": null,
   "metadata": {},
   "outputs": [],
   "source": [
    "from scipy.optimize import root_scalar\n",
    "\n",
    "e_x_fine = lambda x: np.interp(x, beta_range, e_x)\n",
    "\n",
    "result = root_scalar(e_x_fine, bracket=[beta_range[0], beta_range[-1]])\n",
    "drag_beta = result.root\n",
    "drag_beta"
   ]
  },
  {
   "cell_type": "code",
   "execution_count": null,
   "metadata": {},
   "outputs": [],
   "source": [
    "def drag_objective_func(x):\n",
    "    amplitude, beta = x\n",
    "    pulse = qp.Drag(\n",
    "        duration=pulse_duration,\n",
    "        amplitude=amplitude,\n",
    "        beta=beta,\n",
    "    )\n",
    "    result = simulator.mesolve(\n",
    "        controls=[\n",
    "            Control(\n",
    "                target=target_qubit.label,\n",
    "                frequency=target_qubit.frequency,\n",
    "                waveform=qp.PulseArray(\n",
    "                    [pulse] * 3,\n",
    "                )\n",
    "            )\n",
    "        ],\n",
    "        initial_state=simulator.system.ground_state,\n",
    "    )\n",
    "    state = result.get_bloch_vectors(target_qubit.label)[-1]\n",
    "    target = np.array([0, 0, -1])\n",
    "    return np.linalg.norm(state - target)"
   ]
  },
  {
   "cell_type": "code",
   "execution_count": null,
   "metadata": {},
   "outputs": [],
   "source": [
    "drag_objective_func([drag_amplitude, drag_beta])"
   ]
  },
  {
   "cell_type": "code",
   "execution_count": null,
   "metadata": {},
   "outputs": [],
   "source": [
    "import cma\n",
    "\n",
    "initial_guess = [\n",
    "    drag_amplitude,\n",
    "    drag_beta,\n",
    "]\n",
    "\n",
    "es = cma.CMAEvolutionStrategy(\n",
    "    initial_guess,\n",
    "    0.01,\n",
    "    {\n",
    "        \"seed\": 42,\n",
    "        \"ftarget\": 1e-6,\n",
    "    },\n",
    ")\n",
    "\n",
    "es.optimize(drag_objective_func)\n",
    "\n",
    "es.result.xbest"
   ]
  },
  {
   "cell_type": "code",
   "execution_count": null,
   "metadata": {},
   "outputs": [],
   "source": [
    "drag_objective_func(es.result.xbest)"
   ]
  },
  {
   "cell_type": "code",
   "execution_count": null,
   "metadata": {},
   "outputs": [],
   "source": [
    "pi_pulse = qp.Drag(\n",
    "    duration=pulse_duration,\n",
    "    amplitude=es.result.xbest[0],\n",
    "    beta=es.result.xbest[1],\n",
    ")\n",
    "pi_pulse.plot(divide_by_two_pi=True)"
   ]
  },
  {
   "cell_type": "code",
   "execution_count": null,
   "metadata": {},
   "outputs": [],
   "source": [
    "result = simulator.mesolve(\n",
    "    controls=[\n",
    "        Control(\n",
    "            target=target_qubit.label,\n",
    "            frequency=target_qubit.frequency,\n",
    "            waveform=qp.PulseArray(\n",
    "                [pi_pulse] * 1,\n",
    "            ),\n",
    "        )\n",
    "    ],\n",
    "    initial_state=simulator.system.ground_state,\n",
    ")\n",
    "result.display_bloch_sphere(target_qubit.label)\n",
    "result.show_last_population(target_qubit.label)"
   ]
  },
  {
   "cell_type": "code",
   "execution_count": null,
   "metadata": {},
   "outputs": [],
   "source": [
    "result = simulator.mesolve(\n",
    "    controls=[\n",
    "        Control(\n",
    "            target=target_qubit.label,\n",
    "            frequency=target_qubit.frequency,\n",
    "            waveform=qp.PulseArray(\n",
    "                [pi_pulse] * 2,\n",
    "            ),\n",
    "        )\n",
    "    ],\n",
    "    initial_state=simulator.system.ground_state,\n",
    ")\n",
    "result.display_bloch_sphere(target_qubit.label)\n",
    "result.show_last_population(target_qubit.label)"
   ]
  },
  {
   "cell_type": "code",
   "execution_count": null,
   "metadata": {},
   "outputs": [],
   "source": [
    "result = simulator.mesolve(\n",
    "    controls=[\n",
    "        Control(\n",
    "            target=target_qubit.label,\n",
    "            frequency=target_qubit.frequency,\n",
    "            waveform=qp.PulseArray(\n",
    "                [pi_pulse] * 10,\n",
    "            ),\n",
    "        )\n",
    "    ],\n",
    "    initial_state=simulator.system.ground_state,\n",
    ")\n",
    "result.display_bloch_sphere(target_qubit.label)\n",
    "result.show_last_population(target_qubit.label)"
   ]
  }
 ],
 "metadata": {
  "kernelspec": {
   "display_name": ".venv",
   "language": "python",
   "name": "python3"
  },
  "language_info": {
   "codemirror_mode": {
    "name": "ipython",
    "version": 3
   },
   "file_extension": ".py",
   "mimetype": "text/x-python",
   "name": "python",
   "nbconvert_exporter": "python",
   "pygments_lexer": "ipython3",
   "version": "3.9.18"
  }
 },
 "nbformat": 4,
 "nbformat_minor": 2
}
