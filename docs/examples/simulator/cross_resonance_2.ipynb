{
 "cells": [
  {
   "cell_type": "code",
   "execution_count": null,
   "metadata": {},
   "outputs": [],
   "source": [
    "%load_ext autoreload\n",
    "%autoreload 2\n",
    "\n",
    "import numpy as np\n",
    "\n",
    "import qubex.pulse as qp\n",
    "from qubex.simulator import Control, Coupling, QuantumSimulator, QuantumSystem, Transmon"
   ]
  },
  {
   "cell_type": "code",
   "execution_count": null,
   "metadata": {},
   "outputs": [],
   "source": [
    "transmons = [\n",
    "    Transmon(\n",
    "        label=\"Q0\",\n",
    "        dimension=3,\n",
    "        frequency=7.0,\n",
    "        anharmonicity=-0.333,\n",
    "        # relaxation_rate=0.00005,\n",
    "        # dephasing_rate=0.00005,\n",
    "    ),\n",
    "    Transmon(\n",
    "        label=\"Q1\",\n",
    "        dimension=3,\n",
    "        frequency=8.0,\n",
    "        anharmonicity=-0.333,\n",
    "        # relaxation_rate=0.00005,\n",
    "        # dephasing_rate=0.00005,\n",
    "    ),\n",
    "]\n",
    "\n",
    "couplings = [\n",
    "    Coupling(pair=(\"Q0\", \"Q1\"), strength=0.01),\n",
    "]\n",
    "\n",
    "system = QuantumSystem(\n",
    "    objects=transmons,\n",
    "    couplings=couplings,\n",
    ")"
   ]
  },
  {
   "cell_type": "code",
   "execution_count": null,
   "metadata": {},
   "outputs": [],
   "source": [
    "simulator = QuantumSimulator(system)"
   ]
  },
  {
   "cell_type": "code",
   "execution_count": null,
   "metadata": {},
   "outputs": [],
   "source": [
    "control_qubit = transmons[0]\n",
    "target_qubit = transmons[1]"
   ]
  },
  {
   "cell_type": "code",
   "execution_count": null,
   "metadata": {},
   "outputs": [],
   "source": [
    "dt = 0.1  # ns\n",
    "qp.set_sampling_period(dt)\n",
    "Control.SAMPLING_PERIOD = dt"
   ]
  },
  {
   "cell_type": "code",
   "execution_count": null,
   "metadata": {},
   "outputs": [],
   "source": [
    "pi_pulse = qp.Rect(duration=20, amplitude=2 * np.pi * 0.025)\n",
    "cr_pulse = qp.FlatTop(duration=300, amplitude=2 * np.pi * 0.2, tau=30)\n",
    "\n",
    "with qp.PulseSchedule(\n",
    "    [\n",
    "        \"Q0-Q1\",\n",
    "        \"Q0\",\n",
    "    ]\n",
    ") as ps:\n",
    "    ps.add(\"Q0-Q1\", cr_pulse)\n",
    "    # ps.barrier()\n",
    "    # ps.add(\"Q0\", pi_pulse)\n",
    "    # ps.barrier()\n",
    "    # ps.add(\"Q0-Q1\", cr_pulse)\n",
    "    # ps.barrier()\n",
    "    # ps.add(\"Q0\", pi_pulse)\n",
    "\n",
    "ps.plot()"
   ]
  },
  {
   "cell_type": "code",
   "execution_count": null,
   "metadata": {},
   "outputs": [],
   "source": [
    "seq = ps.get_sampled_sequences()"
   ]
  },
  {
   "cell_type": "code",
   "execution_count": null,
   "metadata": {},
   "outputs": [],
   "source": [
    "control_cr = Control(\n",
    "    target=control_qubit.label,\n",
    "    frequency=target_qubit.frequency,\n",
    "    waveform=seq[\"Q0-Q1\"],\n",
    ")\n",
    "control_cr.plot()"
   ]
  },
  {
   "cell_type": "code",
   "execution_count": null,
   "metadata": {},
   "outputs": [],
   "source": [
    "control_pi = Control(\n",
    "    target=control_qubit.label,\n",
    "    frequency=control_qubit.frequency,\n",
    "    waveform=seq[\"Q0\"],\n",
    ")\n",
    "control_pi.plot()"
   ]
  },
  {
   "cell_type": "code",
   "execution_count": null,
   "metadata": {},
   "outputs": [],
   "source": [
    "result = simulator.mesolve(\n",
    "    controls=[\n",
    "        control_cr,\n",
    "        # control_pi,\n",
    "    ],\n",
    "    initial_state=system.state(\n",
    "        {\n",
    "            \"Q0\": \"0\",\n",
    "            \"Q1\": \"0\",\n",
    "        },\n",
    "    ),\n",
    ")\n",
    "\n",
    "result.plot_state_vectors(\"Q0\")\n",
    "result.plot_state_vectors(\"Q1\")\n",
    "\n",
    "result.display_bloch_sphere(\"Q0\")\n",
    "result.display_bloch_sphere(\"Q1\")\n",
    "\n",
    "result.plot_population_dynamics(\"Q0\")\n",
    "result.plot_population_dynamics(\"Q1\")\n",
    "result.plot_population_dynamics()"
   ]
  },
  {
   "cell_type": "code",
   "execution_count": null,
   "metadata": {},
   "outputs": [],
   "source": [
    "result = simulator.mesolve(\n",
    "    controls=[control_cr, control_pi],\n",
    "    initial_state=system.state(\n",
    "        {\n",
    "            \"Q0\": \"1\",\n",
    "            \"Q1\": \"0\",\n",
    "        },\n",
    "    ),\n",
    ")\n",
    "\n",
    "result.plot_state_vectors(\"Q0\")\n",
    "result.plot_state_vectors(\"Q1\")\n",
    "\n",
    "result.display_bloch_sphere(\"Q0\")\n",
    "result.display_bloch_sphere(\"Q1\")\n",
    "\n",
    "result.plot_population_dynamics(\"Q0\")\n",
    "result.plot_population_dynamics(\"Q1\")\n",
    "result.plot_population_dynamics()"
   ]
  }
 ],
 "metadata": {
  "kernelspec": {
   "display_name": ".venv",
   "language": "python",
   "name": "python3"
  },
  "language_info": {
   "codemirror_mode": {
    "name": "ipython",
    "version": 3
   },
   "file_extension": ".py",
   "mimetype": "text/x-python",
   "name": "python",
   "nbconvert_exporter": "python",
   "pygments_lexer": "ipython3",
   "version": "3.9.18"
  }
 },
 "nbformat": 4,
 "nbformat_minor": 2
}
