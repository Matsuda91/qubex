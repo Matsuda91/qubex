{
 "cells": [
  {
   "cell_type": "code",
   "execution_count": null,
   "metadata": {},
   "outputs": [],
   "source": [
    "%load_ext autoreload\n",
    "%autoreload 2\n",
    "\n",
    "import numpy as np\n",
    "\n",
    "import qubex.pulse as qp\n",
    "from qubex.simulator import Coupling, QuantumSimulator, QuantumSystem, Transmon"
   ]
  },
  {
   "cell_type": "code",
   "execution_count": null,
   "metadata": {},
   "outputs": [],
   "source": [
    "transmons = [\n",
    "    Transmon(\n",
    "        label=\"Q0\",\n",
    "        dimension=2,\n",
    "        frequency=7.0,\n",
    "        anharmonicity=-0.333,\n",
    "        # relaxation_rate=0.00005,\n",
    "        # dephasing_rate=0.00005,\n",
    "    ),\n",
    "    Transmon(\n",
    "        label=\"Q1\",\n",
    "        dimension=2,\n",
    "        frequency=8.0,\n",
    "        anharmonicity=-0.333,\n",
    "        # relaxation_rate=0.00005,\n",
    "        # dephasing_rate=0.00005,\n",
    "    ),\n",
    "]\n",
    "\n",
    "couplings = [\n",
    "    Coupling(pair=(\"Q0\", \"Q1\"), strength=0.01),\n",
    "]\n",
    "\n",
    "system = QuantumSystem(\n",
    "    objects=transmons,\n",
    "    couplings=couplings,\n",
    ")"
   ]
  },
  {
   "cell_type": "code",
   "execution_count": null,
   "metadata": {},
   "outputs": [],
   "source": [
    "simulator = QuantumSimulator(system)"
   ]
  },
  {
   "cell_type": "code",
   "execution_count": null,
   "metadata": {},
   "outputs": [],
   "source": [
    "control_qubit = transmons[0]\n",
    "target_qubit = transmons[1]"
   ]
  },
  {
   "cell_type": "code",
   "execution_count": null,
   "metadata": {},
   "outputs": [],
   "source": [
    "qp.set_sampling_period(0.1)\n",
    "\n",
    "pi_pulse = qp.Rect(duration=20, amplitude=2 * np.pi * 0.025)\n",
    "cr_pulse = qp.FlatTop(duration=200, amplitude=2 * np.pi * 0.2, tau=30)\n",
    "\n",
    "with qp.PulseSchedule(\n",
    "    targets=[\n",
    "        \"Q0\",\n",
    "        \"Q0-Q1\",\n",
    "        \"Q1\",\n",
    "    ],\n",
    "    frequencies={\n",
    "        \"Q0\": transmons[0].frequency,\n",
    "        \"Q0-Q1\": transmons[1].frequency,\n",
    "        \"Q1\": transmons[1].frequency,\n",
    "    },\n",
    "    objects={\n",
    "        \"Q0\": transmons[0].label,\n",
    "        \"Q0-Q1\": transmons[0].label,\n",
    "        \"Q1\": transmons[1].label,\n",
    "    },\n",
    ") as ps:\n",
    "    ps.add(\"Q0-Q1\", cr_pulse)\n",
    "    ps.barrier()\n",
    "    ps.add(\"Q0\", pi_pulse)\n",
    "    ps.barrier()\n",
    "    ps.add(\"Q0-Q1\", cr_pulse.scaled(-1))\n",
    "    ps.barrier()\n",
    "    ps.add(\"Q0\", pi_pulse)\n",
    "\n",
    "ps.plot()"
   ]
  },
  {
   "cell_type": "code",
   "execution_count": null,
   "metadata": {},
   "outputs": [],
   "source": [
    "result = simulator.mesolve(\n",
    "    controls=ps,\n",
    "    initial_state=system.state(\n",
    "        {\n",
    "            \"Q0\": \"0\",\n",
    "            \"Q1\": \"0\",\n",
    "        },\n",
    "    ),\n",
    ")\n",
    "\n",
    "result.plot_bloch_vectors(\"Q0\")\n",
    "result.plot_bloch_vectors(\"Q1\")\n",
    "\n",
    "result.display_bloch_sphere(\"Q0\")\n",
    "result.display_bloch_sphere(\"Q1\")\n",
    "\n",
    "result.plot_population_dynamics(\"Q0\")\n",
    "result.plot_population_dynamics(\"Q1\")\n",
    "result.plot_population_dynamics()"
   ]
  },
  {
   "cell_type": "code",
   "execution_count": null,
   "metadata": {},
   "outputs": [],
   "source": [
    "result = simulator.mesolve(\n",
    "    controls=ps,\n",
    "    initial_state=system.state(\n",
    "        {\n",
    "            \"Q0\": \"1\",\n",
    "            \"Q1\": \"0\",\n",
    "        },\n",
    "    ),\n",
    ")\n",
    "\n",
    "result.plot_bloch_vectors(\"Q0\")\n",
    "result.plot_bloch_vectors(\"Q1\")\n",
    "\n",
    "result.display_bloch_sphere(\"Q0\")\n",
    "result.display_bloch_sphere(\"Q1\")\n",
    "\n",
    "result.plot_population_dynamics(\"Q0\")\n",
    "result.plot_population_dynamics(\"Q1\")\n",
    "result.plot_population_dynamics()"
   ]
  }
 ],
 "metadata": {
  "kernelspec": {
   "display_name": ".venv",
   "language": "python",
   "name": "python3"
  },
  "language_info": {
   "codemirror_mode": {
    "name": "ipython",
    "version": 3
   },
   "file_extension": ".py",
   "mimetype": "text/x-python",
   "name": "python",
   "nbconvert_exporter": "python",
   "pygments_lexer": "ipython3",
   "version": "3.9.18"
  }
 },
 "nbformat": 4,
 "nbformat_minor": 2
}
