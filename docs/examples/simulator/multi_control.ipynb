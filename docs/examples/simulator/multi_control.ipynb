{
 "cells": [
  {
   "cell_type": "code",
   "execution_count": null,
   "metadata": {},
   "outputs": [],
   "source": [
    "%load_ext autoreload\n",
    "%autoreload 2\n",
    "\n",
    "import numpy as np\n",
    "\n",
    "import qubex.pulse as qp\n",
    "from qubex.simulator import Control, Coupling, QuantumSimulator, QuantumSystem, Transmon"
   ]
  },
  {
   "cell_type": "code",
   "execution_count": null,
   "metadata": {},
   "outputs": [],
   "source": [
    "transmons = [\n",
    "    Transmon(\n",
    "        label=\"Q08\",\n",
    "        dimension=3,\n",
    "        frequency=7.646,\n",
    "        anharmonicity=-0.356,\n",
    "        relaxation_rate=0.00005,\n",
    "        dephasing_rate=0.00005,\n",
    "    ),\n",
    "    Transmon(\n",
    "        label=\"Q09\",\n",
    "        dimension=3,\n",
    "        frequency=8.442,\n",
    "        anharmonicity=-0.448,\n",
    "        relaxation_rate=0.00005,\n",
    "        dephasing_rate=0.00005,\n",
    "    ),\n",
    "]\n",
    "\n",
    "couplings = [\n",
    "    Coupling(pair=(\"Q08\", \"Q09\"), strength=0.01),\n",
    "]\n",
    "\n",
    "system = QuantumSystem(\n",
    "    objects=transmons,\n",
    "    couplings=couplings,\n",
    ")"
   ]
  },
  {
   "cell_type": "code",
   "execution_count": null,
   "metadata": {},
   "outputs": [],
   "source": [
    "system.hamiltonian"
   ]
  },
  {
   "cell_type": "code",
   "execution_count": null,
   "metadata": {},
   "outputs": [],
   "source": [
    "simulator = QuantumSimulator(system)"
   ]
  },
  {
   "cell_type": "code",
   "execution_count": null,
   "metadata": {},
   "outputs": [],
   "source": [
    "initial_state = system.state(\n",
    "    {\n",
    "        \"Q08\": \"0\",\n",
    "        \"Q09\": \"0\",\n",
    "    },\n",
    ")"
   ]
  },
  {
   "cell_type": "code",
   "execution_count": null,
   "metadata": {},
   "outputs": [],
   "source": [
    "duration = 30\n",
    "tau = 10\n",
    "\n",
    "rx180 = qp.FlatTop(\n",
    "    duration=duration,\n",
    "    amplitude=np.pi / (duration - tau),\n",
    "    tau=tau,\n",
    ")\n",
    "ry180 = rx180.shifted(np.pi / 2)\n",
    "\n",
    "with qp.PulseSchedule([\"Q08\", \"Q09\"]) as ps:\n",
    "    ps.add(\"Q08\", rx180)\n",
    "    ps.barrier()\n",
    "    ps.add(\"Q08\", ry180)\n",
    "    ps.add(\"Q09\", rx180)\n",
    "    ps.add(\"Q09\", ry180)\n",
    "\n",
    "ps.plot()\n",
    "\n",
    "waveforms = ps.get_sampled_sequences()"
   ]
  },
  {
   "cell_type": "code",
   "execution_count": null,
   "metadata": {},
   "outputs": [],
   "source": [
    "target = transmons[0]\n",
    "\n",
    "detuning = 0.001\n",
    "\n",
    "dt = qp.get_sampling_period()\n",
    "\n",
    "control_0 = Control(\n",
    "    target=\"Q08\",\n",
    "    frequency=transmons[0].frequency + detuning,\n",
    "    rabi_rates=waveforms[\"Q08\"],\n",
    "    durations=[dt] * len(waveforms[\"Q08\"]),\n",
    ")\n",
    "control_0.plot()\n",
    "\n",
    "control_1 = Control(\n",
    "    target=\"Q09\",\n",
    "    frequency=transmons[1].frequency + detuning,\n",
    "    rabi_rates=waveforms[\"Q09\"],\n",
    "    durations=[dt] * len(waveforms[\"Q09\"]),\n",
    ")\n",
    "control_1.plot()"
   ]
  },
  {
   "cell_type": "code",
   "execution_count": null,
   "metadata": {},
   "outputs": [],
   "source": [
    "result = simulator.mesolve(\n",
    "    controls=[control_0, control_1],\n",
    "    initial_state=initial_state,\n",
    ")"
   ]
  },
  {
   "cell_type": "code",
   "execution_count": null,
   "metadata": {},
   "outputs": [],
   "source": [
    "final_state = result.states[-1]\n",
    "final_state"
   ]
  },
  {
   "cell_type": "code",
   "execution_count": null,
   "metadata": {},
   "outputs": [],
   "source": [
    "final_state_target = result.get_substates(\"Q08\")[-1]\n",
    "final_state_target"
   ]
  },
  {
   "cell_type": "code",
   "execution_count": null,
   "metadata": {},
   "outputs": [],
   "source": [
    "result.plot_population_dynamics()\n",
    "result.plot_population_dynamics(\"Q08\")\n",
    "result.plot_population_dynamics(\"Q09\")"
   ]
  },
  {
   "cell_type": "code",
   "execution_count": null,
   "metadata": {},
   "outputs": [],
   "source": [
    "result.get_substates(\"Q08\")"
   ]
  },
  {
   "cell_type": "code",
   "execution_count": null,
   "metadata": {},
   "outputs": [],
   "source": [
    "result.show_last_population(\"Q08\")"
   ]
  },
  {
   "cell_type": "code",
   "execution_count": null,
   "metadata": {},
   "outputs": [],
   "source": [
    "result.display_bloch_sphere(\"Q08\")\n",
    "result.display_bloch_sphere(\"Q09\")"
   ]
  }
 ],
 "metadata": {
  "kernelspec": {
   "display_name": ".venv",
   "language": "python",
   "name": "python3"
  },
  "language_info": {
   "codemirror_mode": {
    "name": "ipython",
    "version": 3
   },
   "file_extension": ".py",
   "mimetype": "text/x-python",
   "name": "python",
   "nbconvert_exporter": "python",
   "pygments_lexer": "ipython3",
   "version": "3.9.18"
  }
 },
 "nbformat": 4,
 "nbformat_minor": 2
}
