{
 "cells": [
  {
   "cell_type": "code",
   "execution_count": null,
   "metadata": {},
   "outputs": [],
   "source": [
    "%load_ext autoreload\n",
    "%autoreload 2\n",
    "\n",
    "import numpy as np\n",
    "from qubex.pulse import FlatTop, PulseSchedule\n",
    "from qubex.simulator import Coupling, MultiControl, Simulator, System, Transmon"
   ]
  },
  {
   "cell_type": "code",
   "execution_count": null,
   "metadata": {},
   "outputs": [],
   "source": [
    "transmons = [\n",
    "    Transmon(\n",
    "        label=\"Q08\",\n",
    "        dimension=3,\n",
    "        frequency=7.646,\n",
    "        anharmonicity=-0.356,\n",
    "        decay_rate=0.00005,\n",
    "        dephasing_rate=0.00005,\n",
    "    ),\n",
    "    Transmon(\n",
    "        label=\"Q09\",\n",
    "        dimension=3,\n",
    "        frequency=8.442,\n",
    "        anharmonicity=-0.448,\n",
    "        decay_rate=0.00005,\n",
    "        dephasing_rate=0.00005,\n",
    "    ),\n",
    "]\n",
    "\n",
    "couplings = [\n",
    "    Coupling(pair=(\"Q08\", \"Q09\"), strength=0.01),\n",
    "]\n",
    "\n",
    "system = System(\n",
    "    transmons=transmons,\n",
    "    couplings=couplings,\n",
    ")"
   ]
  },
  {
   "cell_type": "code",
   "execution_count": null,
   "metadata": {},
   "outputs": [],
   "source": [
    "system.hamiltonian"
   ]
  },
  {
   "cell_type": "code",
   "execution_count": null,
   "metadata": {},
   "outputs": [],
   "source": [
    "simulator = Simulator(system)"
   ]
  },
  {
   "cell_type": "code",
   "execution_count": null,
   "metadata": {},
   "outputs": [],
   "source": [
    "initial_state = system.state(\n",
    "    {\n",
    "        \"Q08\": \"0\",\n",
    "        \"Q09\": \"0\",\n",
    "    },\n",
    ")"
   ]
  },
  {
   "cell_type": "code",
   "execution_count": null,
   "metadata": {},
   "outputs": [],
   "source": [
    "duration = 30\n",
    "tau = 10\n",
    "rx180 = FlatTop(\n",
    "    duration=duration,\n",
    "    amplitude=np.pi / (duration - tau),\n",
    "    tau=tau,\n",
    ")\n",
    "ry180 = rx180.shifted(np.pi / 2)\n",
    "\n",
    "with PulseSchedule([\"Q08\", \"Q09\"]) as ps:\n",
    "    ps.add(\"Q08\", rx180)\n",
    "    ps.barrier()\n",
    "    ps.add(\"Q08\", ry180)\n",
    "    ps.add(\"Q09\", rx180)\n",
    "    ps.add(\"Q09\", ry180)\n",
    "\n",
    "ps.plot()\n",
    "\n",
    "waveforms = ps.get_sampled_sequences()\n",
    "waveforms"
   ]
  },
  {
   "cell_type": "code",
   "execution_count": null,
   "metadata": {},
   "outputs": [],
   "source": [
    "target = transmons[0]\n",
    "\n",
    "detuning = 0.001\n",
    "\n",
    "control = MultiControl(\n",
    "    frequencies={\n",
    "        \"Q08\": transmons[0].frequency + detuning,\n",
    "        \"Q09\": transmons[1].frequency + detuning,\n",
    "    },\n",
    "    waveforms=waveforms,\n",
    "    sampling_period=2.0,\n",
    "    steps_per_sample=10,\n",
    ")\n",
    "control.plot()"
   ]
  },
  {
   "cell_type": "code",
   "execution_count": null,
   "metadata": {},
   "outputs": [],
   "source": [
    "result = simulator.simulate(\n",
    "    control=control,\n",
    "    initial_state=initial_state,\n",
    ")"
   ]
  },
  {
   "cell_type": "code",
   "execution_count": null,
   "metadata": {},
   "outputs": [],
   "source": [
    "final_state = result.states[-1]\n",
    "final_state"
   ]
  },
  {
   "cell_type": "code",
   "execution_count": null,
   "metadata": {},
   "outputs": [],
   "source": [
    "final_state_target = result.substates(\"Q08\")[-1]\n",
    "final_state_target"
   ]
  },
  {
   "cell_type": "code",
   "execution_count": null,
   "metadata": {},
   "outputs": [],
   "source": [
    "result.plot_population_dynamics()\n",
    "result.plot_population_dynamics(\"Q08\")\n",
    "result.plot_population_dynamics(\"Q09\")"
   ]
  },
  {
   "cell_type": "code",
   "execution_count": null,
   "metadata": {},
   "outputs": [],
   "source": [
    "result.show_last_population(\"Q08\")"
   ]
  },
  {
   "cell_type": "code",
   "execution_count": null,
   "metadata": {},
   "outputs": [],
   "source": [
    "result.display_bloch_sphere(\"Q08\")\n",
    "result.display_bloch_sphere(\"Q09\")"
   ]
  }
 ],
 "metadata": {
  "kernelspec": {
   "display_name": "Python 3",
   "language": "python",
   "name": "python3"
  },
  "language_info": {
   "codemirror_mode": {
    "name": "ipython",
    "version": 3
   },
   "file_extension": ".py",
   "mimetype": "text/x-python",
   "name": "python",
   "nbconvert_exporter": "python",
   "pygments_lexer": "ipython3",
   "version": "3.9.18"
  }
 },
 "nbformat": 4,
 "nbformat_minor": 2
}
