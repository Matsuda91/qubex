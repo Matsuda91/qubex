{
 "cells": [
  {
   "cell_type": "code",
   "execution_count": null,
   "metadata": {},
   "outputs": [],
   "source": [
    "from __future__ import annotations"
   ]
  },
  {
   "cell_type": "code",
   "execution_count": null,
   "metadata": {},
   "outputs": [],
   "source": [
    "%load_ext autoreload\n",
    "%autoreload 2\n",
    "\n",
    "import numpy as np\n",
    "\n",
    "import qubex.pulse as qp\n",
    "from qubex.simulator import (\n",
    "    Control,\n",
    "    Coupling,\n",
    "    QuantumSimulator,\n",
    "    QuantumSystem,\n",
    "    SimulationResult,\n",
    "    Transmon,\n",
    ")\n",
    "\n",
    "qp.set_sampling_period(Control.SAMPLING_PERIOD)"
   ]
  },
  {
   "cell_type": "code",
   "execution_count": null,
   "metadata": {},
   "outputs": [],
   "source": [
    "qubits = [\n",
    "    Transmon(\n",
    "        label=\"Q0\",\n",
    "        dimension=3,\n",
    "        frequency=7.0,\n",
    "        anharmonicity=-0.333,\n",
    "        # relaxation_rate=0.00005,\n",
    "        # dephasing_rate=0.00005,\n",
    "    ),\n",
    "    Transmon(\n",
    "        label=\"Q1\",\n",
    "        dimension=3,\n",
    "        frequency=8.0,\n",
    "        anharmonicity=-0.333,\n",
    "        # relaxation_rate=0.00005,\n",
    "        # dephasing_rate=0.00005,\n",
    "    ),\n",
    "]\n",
    "\n",
    "couplings = [\n",
    "    Coupling(pair=(\"Q0\", \"Q1\"), strength=0.01),\n",
    "]\n",
    "\n",
    "system = QuantumSystem(\n",
    "    objects=qubits,\n",
    "    couplings=couplings,\n",
    ")\n",
    "\n",
    "simulator = QuantumSimulator(system)"
   ]
  },
  {
   "cell_type": "code",
   "execution_count": null,
   "metadata": {},
   "outputs": [],
   "source": [
    "control_qubit = qubits[0]\n",
    "target_qubit = qubits[1]\n",
    "\n",
    "control_label = control_qubit.label\n",
    "target_label = target_qubit.label"
   ]
  },
  {
   "cell_type": "code",
   "execution_count": null,
   "metadata": {},
   "outputs": [],
   "source": [
    "def cr_drive(\n",
    "    duration: float,\n",
    "    amplitude: float,\n",
    "    ramp: float,\n",
    "    phase: float,\n",
    ") -> Control:\n",
    "    return Control(\n",
    "        target=control_label,\n",
    "        frequency=target_qubit.frequency,\n",
    "        waveform=qp.FlatTop(\n",
    "            duration=duration,\n",
    "            amplitude=2 * np.pi * amplitude,\n",
    "            tau=ramp,\n",
    "            phase_shift=phase,\n",
    "        ),\n",
    "    )\n",
    "\n",
    "\n",
    "cr_drive(\n",
    "    duration=100,\n",
    "    amplitude=0.1,\n",
    "    ramp=30,\n",
    "    phase=0,\n",
    ").plot()"
   ]
  },
  {
   "cell_type": "code",
   "execution_count": null,
   "metadata": {},
   "outputs": [],
   "source": [
    "def cancel_drive(\n",
    "    duration: float,\n",
    "    amplitude: float,\n",
    "    ramp: float,\n",
    "    phase: float,\n",
    ") -> Control:\n",
    "    return Control(\n",
    "        target=target_label,\n",
    "        frequency=target_qubit.frequency,\n",
    "        waveform=qp.FlatTop(\n",
    "            duration=duration,\n",
    "            amplitude=2 * np.pi * amplitude,\n",
    "            tau=ramp,\n",
    "            phase_shift=phase,\n",
    "        ),\n",
    "    )\n",
    "\n",
    "\n",
    "cancel_drive(\n",
    "    duration=100,\n",
    "    amplitude=0.01,\n",
    "    ramp=30,\n",
    "    phase=0,\n",
    ").plot()"
   ]
  },
  {
   "cell_type": "code",
   "execution_count": null,
   "metadata": {},
   "outputs": [],
   "source": [
    "def simulate_cr(\n",
    "    cr_duration: int,\n",
    "    cr_amplitude: float,\n",
    "    cr_ramp: float,\n",
    "    cr_phase: float,\n",
    "    cancel_amplitude: float | None = None,\n",
    "    cancel_phase: float | None = None,\n",
    "    control_state: str = \"0\",\n",
    "    plot: bool = False,\n",
    "    n_samples: int = 256,\n",
    ") -> SimulationResult:\n",
    "    controls = [cr_drive(cr_duration, cr_amplitude, cr_ramp, cr_phase)]\n",
    "    if cancel_amplitude is not None and cancel_phase is not None:\n",
    "        controls.append(cancel_drive(cr_duration, cancel_amplitude, cr_ramp, cr_phase))\n",
    "    initial_state = system.state(\n",
    "        {\n",
    "            control_label: control_state,\n",
    "            target_label: \"0\",\n",
    "        },\n",
    "    )\n",
    "    result = simulator.mesolve(\n",
    "        controls=controls,\n",
    "        initial_state=initial_state,\n",
    "    )\n",
    "    if plot:\n",
    "        result.plot_bloch_vectors(target_label, n_samples=n_samples)\n",
    "        result.display_bloch_sphere(target_label, n_samples=n_samples)\n",
    "    return result"
   ]
  },
  {
   "cell_type": "code",
   "execution_count": null,
   "metadata": {},
   "outputs": [],
   "source": [
    "cr_duration = 1000\n",
    "cr_amplitude = 0.2\n",
    "cr_ramp = 30\n",
    "cr_phase = 0.0"
   ]
  },
  {
   "cell_type": "code",
   "execution_count": null,
   "metadata": {},
   "outputs": [],
   "source": [
    "result_0 = simulate_cr(\n",
    "    cr_duration=cr_duration,\n",
    "    cr_amplitude=cr_amplitude,\n",
    "    cr_ramp=cr_ramp,\n",
    "    cr_phase=cr_phase,\n",
    "    control_state=\"0\",\n",
    "    plot=True,\n",
    ")"
   ]
  },
  {
   "cell_type": "code",
   "execution_count": null,
   "metadata": {},
   "outputs": [],
   "source": [
    "result_1 = simulate_cr(\n",
    "    cr_duration=cr_duration,\n",
    "    cr_amplitude=cr_amplitude,\n",
    "    cr_ramp=cr_ramp,\n",
    "    cr_phase=cr_phase,\n",
    "    control_state=\"1\",\n",
    "    plot=True,\n",
    ")"
   ]
  },
  {
   "cell_type": "code",
   "execution_count": null,
   "metadata": {},
   "outputs": [],
   "source": [
    "n_samples = 100\n",
    "times = result_0.get_times(n_samples=n_samples)\n",
    "vectors_0 = result_0.get_bloch_vectors(target_label, n_samples=n_samples)\n",
    "vectors_1 = result_1.get_bloch_vectors(target_label, n_samples=n_samples)"
   ]
  },
  {
   "cell_type": "code",
   "execution_count": null,
   "metadata": {},
   "outputs": [],
   "source": [
    "R = np.sqrt(np.sum((vectors_0 + vectors_1) ** 2, axis=1))"
   ]
  },
  {
   "cell_type": "code",
   "execution_count": null,
   "metadata": {},
   "outputs": [],
   "source": [
    "import plotly.graph_objects as go\n",
    "from plotly.subplots import make_subplots\n",
    "\n",
    "fig = make_subplots(\n",
    "    rows=4,\n",
    "    cols=1,\n",
    "    shared_xaxes=True,\n",
    ")\n",
    "\n",
    "for i, component in enumerate([\"X\", \"Y\", \"Z\"]):\n",
    "    fig.add_trace(\n",
    "        go.Scatter(\n",
    "            mode=\"lines+markers\",\n",
    "            x=times,\n",
    "            y=vectors_0[:, i],\n",
    "            name=f\"0_{component}\",\n",
    "        ),\n",
    "        row=i + 1,\n",
    "        col=1,\n",
    "    )\n",
    "    fig.add_trace(\n",
    "        go.Scatter(\n",
    "            mode=\"lines+markers\",\n",
    "            x=times,\n",
    "            y=vectors_1[:, i],\n",
    "            name=f\"1_{component}\",\n",
    "        ),\n",
    "        row=i + 1,\n",
    "        col=1,\n",
    "    )\n",
    "\n",
    "fig.add_trace(\n",
    "    go.Scatter(\n",
    "        mode=\"lines+markers\",\n",
    "        x=times,\n",
    "        y=R,\n",
    "        name=\"R\",\n",
    "    ),\n",
    "    row=4,\n",
    "    col=1,\n",
    ")\n",
    "\n",
    "fig.update_layout(\n",
    "    title_text=\"Bloch vectors\",\n",
    "    showlegend=False,\n",
    "    height=500,\n",
    "    yaxis_range=[-1, 1],\n",
    ")\n",
    "\n",
    "fig.update_xaxes(title_text=\"Time (ns)\", row=4, col=1)\n",
    "\n",
    "fig.update_yaxes(title_text=\"〈X〉\", row=1, col=1)\n",
    "fig.update_yaxes(title_text=\"〈Y〉\", row=2, col=1)\n",
    "fig.update_yaxes(title_text=\"〈Z〉\", row=3, col=1)\n",
    "fig.update_yaxes(title_text=\"|R|\", row=4, col=1)\n",
    "\n",
    "fig.show()"
   ]
  },
  {
   "cell_type": "code",
   "execution_count": null,
   "metadata": {},
   "outputs": [],
   "source": [
    "indices = (times >= cr_ramp) & (times < times[-1] - cr_ramp)\n",
    "times_ = times[indices] - cr_ramp * 0.5\n",
    "vectors_0_ = vectors_0[indices]\n",
    "vectors_1_ = vectors_1[indices]"
   ]
  },
  {
   "cell_type": "code",
   "execution_count": null,
   "metadata": {},
   "outputs": [],
   "source": [
    "import qctrlvisualizer as qv\n",
    "\n",
    "from qubex.analysis.fitting import fit_rotation3d\n",
    "\n",
    "Omega_0 = fit_rotation3d(times_, vectors_0_)\n",
    "qv.display_bloch_sphere_from_bloch_vectors(vectors_0_)\n",
    "\n",
    "Omega_1 = fit_rotation3d(times_, vectors_1_)\n",
    "qv.display_bloch_sphere_from_bloch_vectors(vectors_1_)"
   ]
  },
  {
   "cell_type": "code",
   "execution_count": null,
   "metadata": {},
   "outputs": [],
   "source": [
    "Omega = np.concatenate(\n",
    "    [\n",
    "        0.5 * (Omega_0 + Omega_1),\n",
    "        0.5 * (Omega_0 - Omega_1),\n",
    "    ]\n",
    ")\n",
    "coeffs = dict(\n",
    "    zip(\n",
    "        [\"IX\", \"IY\", \"IZ\", \"ZX\", \"ZY\", \"ZZ\"],\n",
    "        0.5 * Omega / (2 * np.pi),\n",
    "    )\n",
    ")"
   ]
  },
  {
   "cell_type": "code",
   "execution_count": null,
   "metadata": {},
   "outputs": [],
   "source": [
    "coeffs"
   ]
  },
  {
   "cell_type": "code",
   "execution_count": null,
   "metadata": {},
   "outputs": [],
   "source": [
    "for key, value in coeffs.items():\n",
    "    print(f\"{key}: {value * 1e3:+.6f} MHz\")"
   ]
  },
  {
   "cell_type": "code",
   "execution_count": null,
   "metadata": {},
   "outputs": [],
   "source": [
    "phi_est = np.arctan2(coeffs[\"ZY\"], coeffs[\"ZX\"])\n",
    "phi_est"
   ]
  },
  {
   "cell_type": "code",
   "execution_count": null,
   "metadata": {},
   "outputs": [],
   "source": [
    "cancel_amplitude_est = -coeffs[\"IX\"] * 2\n",
    "cancel_amplitude_est"
   ]
  }
 ],
 "metadata": {
  "kernelspec": {
   "display_name": ".venv",
   "language": "python",
   "name": "python3"
  },
  "language_info": {
   "codemirror_mode": {
    "name": "ipython",
    "version": 3
   },
   "file_extension": ".py",
   "mimetype": "text/x-python",
   "name": "python",
   "nbconvert_exporter": "python",
   "pygments_lexer": "ipython3",
   "version": "3.9.18"
  }
 },
 "nbformat": 4,
 "nbformat_minor": 2
}
