{
 "cells": [
  {
   "cell_type": "code",
   "execution_count": null,
   "metadata": {},
   "outputs": [],
   "source": [
    "%load_ext autoreload\n",
    "%autoreload 2\n",
    "\n",
    "import numpy as np\n",
    "from qubex.pulse import FlatTop, PulseSequence\n",
    "from qubex.simulator import Control, Coupling, Simulator, System, Transmon"
   ]
  },
  {
   "cell_type": "code",
   "execution_count": null,
   "metadata": {},
   "outputs": [],
   "source": [
    "transmons = [\n",
    "    Transmon(\n",
    "        label=\"Q08\",\n",
    "        dimension=3,\n",
    "        frequency=7.646,\n",
    "        anharmonicity=-0.356,\n",
    "        decay_rate=0.00005,\n",
    "        dephasing_rate=0.00005,\n",
    "    ),\n",
    "    Transmon(\n",
    "        label=\"Q09\",\n",
    "        dimension=3,\n",
    "        frequency=8.442,\n",
    "        anharmonicity=-0.448,\n",
    "        decay_rate=0.00005,\n",
    "        dephasing_rate=0.00005,\n",
    "    ),\n",
    "    Transmon(\n",
    "        label=\"Q10\",\n",
    "        dimension=3,\n",
    "        frequency=8.316,\n",
    "        anharmonicity=-0.412,\n",
    "        decay_rate=0.00005,\n",
    "        dephasing_rate=0.00005,\n",
    "    ),\n",
    "    Transmon(\n",
    "        label=\"Q11\",\n",
    "        dimension=3,\n",
    "        frequency=7.192,\n",
    "        anharmonicity=-0.368,\n",
    "        decay_rate=0.00005,\n",
    "        dephasing_rate=0.00005,\n",
    "    ),\n",
    "]\n",
    "\n",
    "couplings = [\n",
    "    Coupling(pair=(\"Q08\", \"Q09\"), strength=0.01),\n",
    "    Coupling(pair=(\"Q10\", \"Q11\"), strength=0.01),\n",
    "    Coupling(pair=(\"Q08\", \"Q10\"), strength=0.01),\n",
    "    Coupling(pair=(\"Q09\", \"Q11\"), strength=0.01),\n",
    "]\n",
    "\n",
    "system = System(\n",
    "    transmons=transmons,\n",
    "    couplings=couplings,\n",
    ")"
   ]
  },
  {
   "cell_type": "code",
   "execution_count": null,
   "metadata": {},
   "outputs": [],
   "source": [
    "system.draw()"
   ]
  },
  {
   "cell_type": "code",
   "execution_count": null,
   "metadata": {},
   "outputs": [],
   "source": [
    "system.hamiltonian"
   ]
  },
  {
   "cell_type": "code",
   "execution_count": null,
   "metadata": {},
   "outputs": [],
   "source": [
    "simulator = Simulator(system)"
   ]
  },
  {
   "cell_type": "code",
   "execution_count": null,
   "metadata": {},
   "outputs": [],
   "source": [
    "initial_state = system.state(\n",
    "    {\n",
    "        \"Q08\": \"0\",  # |0>\n",
    "        \"Q09\": \"-i\",  # |-i>\n",
    "        \"Q10\": \"+\",  # |+>\n",
    "        \"Q11\": \"*\",  # random state in qubit subspace\n",
    "    },\n",
    ")"
   ]
  },
  {
   "cell_type": "code",
   "execution_count": null,
   "metadata": {},
   "outputs": [],
   "source": [
    "duration = 30\n",
    "tau = 10\n",
    "pi_x = FlatTop(\n",
    "    duration=duration,\n",
    "    amplitude=np.pi / (duration - tau),\n",
    "    tau=tau,\n",
    ")\n",
    "pi_y = pi_x.shifted(np.pi / 2)\n",
    "pulse = PulseSequence([pi_x, pi_y])\n",
    "pulse.plot()\n",
    "pulse.values"
   ]
  },
  {
   "cell_type": "code",
   "execution_count": null,
   "metadata": {},
   "outputs": [],
   "source": [
    "target = transmons[0]\n",
    "\n",
    "detuning = 0.001\n",
    "\n",
    "control = Control(\n",
    "    target=target.label,\n",
    "    frequency=target.frequency + detuning,\n",
    "    waveform=pulse.values,\n",
    ")\n",
    "control.plot()\n",
    "control.plot(polar=True)"
   ]
  },
  {
   "cell_type": "code",
   "execution_count": null,
   "metadata": {},
   "outputs": [],
   "source": [
    "result = simulator.simulate(\n",
    "    control=control,\n",
    "    initial_state=initial_state,\n",
    ")"
   ]
  },
  {
   "cell_type": "code",
   "execution_count": null,
   "metadata": {},
   "outputs": [],
   "source": [
    "final_state = result.states[-1]\n",
    "final_state"
   ]
  },
  {
   "cell_type": "code",
   "execution_count": null,
   "metadata": {},
   "outputs": [],
   "source": [
    "final_state_target = result.substates(\"Q08\")[-1]\n",
    "final_state_target"
   ]
  },
  {
   "cell_type": "code",
   "execution_count": null,
   "metadata": {},
   "outputs": [],
   "source": [
    "result.plot_population_dynamics(\"Q08\")"
   ]
  },
  {
   "cell_type": "code",
   "execution_count": null,
   "metadata": {},
   "outputs": [],
   "source": [
    "result.show_last_population(\"Q08\")"
   ]
  },
  {
   "cell_type": "code",
   "execution_count": null,
   "metadata": {},
   "outputs": [],
   "source": [
    "result.display_bloch_sphere(\"Q08\", frame=\"drive\")\n",
    "result.display_bloch_sphere(\"Q08\", frame=\"qubit\")"
   ]
  },
  {
   "cell_type": "code",
   "execution_count": null,
   "metadata": {},
   "outputs": [],
   "source": [
    "result.display_bloch_sphere(\"Q09\", frame=\"qubit\")\n",
    "result.display_bloch_sphere(\"Q10\", frame=\"qubit\")\n",
    "result.display_bloch_sphere(\"Q11\", frame=\"qubit\")"
   ]
  }
 ],
 "metadata": {
  "kernelspec": {
   "display_name": "Python 3",
   "language": "python",
   "name": "python3"
  },
  "language_info": {
   "codemirror_mode": {
    "name": "ipython",
    "version": 3
   },
   "file_extension": ".py",
   "mimetype": "text/x-python",
   "name": "python",
   "nbconvert_exporter": "python",
   "pygments_lexer": "ipython3",
   "version": "3.10.14"
  }
 },
 "nbformat": 4,
 "nbformat_minor": 2
}
