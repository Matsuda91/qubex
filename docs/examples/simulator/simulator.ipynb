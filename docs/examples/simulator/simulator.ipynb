{
 "cells": [
  {
   "cell_type": "code",
   "execution_count": null,
   "metadata": {},
   "outputs": [],
   "source": [
    "%load_ext autoreload\n",
    "%autoreload 2\n",
    "\n",
    "import numpy as np\n",
    "\n",
    "import qubex.pulse as qp\n",
    "from qubex.simulator import Control, Coupling, QuantumSimulator, QuantumSystem, Transmon"
   ]
  },
  {
   "cell_type": "code",
   "execution_count": null,
   "metadata": {},
   "outputs": [],
   "source": [
    "transmons = [\n",
    "    Transmon(\n",
    "        label=\"Q08\",\n",
    "        dimension=3,\n",
    "        frequency=7.646,\n",
    "        anharmonicity=-0.356,\n",
    "        relaxation_rate=0.00005,\n",
    "        dephasing_rate=0.00005,\n",
    "    ),\n",
    "    Transmon(\n",
    "        label=\"Q09\",\n",
    "        dimension=3,\n",
    "        frequency=8.442,\n",
    "        anharmonicity=-0.448,\n",
    "        relaxation_rate=0.00005,\n",
    "        dephasing_rate=0.00005,\n",
    "    ),\n",
    "    Transmon(\n",
    "        label=\"Q10\",\n",
    "        dimension=3,\n",
    "        frequency=8.316,\n",
    "        anharmonicity=-0.412,\n",
    "        relaxation_rate=0.00005,\n",
    "        dephasing_rate=0.00005,\n",
    "    ),\n",
    "    Transmon(\n",
    "        label=\"Q11\",\n",
    "        dimension=3,\n",
    "        frequency=7.192,\n",
    "        anharmonicity=-0.368,\n",
    "        relaxation_rate=0.00005,\n",
    "        dephasing_rate=0.00005,\n",
    "    ),\n",
    "]\n",
    "\n",
    "couplings = [\n",
    "    Coupling(pair=(\"Q08\", \"Q09\"), strength=0.01),\n",
    "    Coupling(pair=(\"Q10\", \"Q11\"), strength=0.01),\n",
    "    Coupling(pair=(\"Q08\", \"Q10\"), strength=0.01),\n",
    "    Coupling(pair=(\"Q09\", \"Q11\"), strength=0.01),\n",
    "]\n",
    "\n",
    "system = QuantumSystem(\n",
    "    objects=transmons,\n",
    "    couplings=couplings,\n",
    ")"
   ]
  },
  {
   "cell_type": "code",
   "execution_count": null,
   "metadata": {},
   "outputs": [],
   "source": [
    "system.draw()"
   ]
  },
  {
   "cell_type": "code",
   "execution_count": null,
   "metadata": {},
   "outputs": [],
   "source": [
    "system.hamiltonian"
   ]
  },
  {
   "cell_type": "code",
   "execution_count": null,
   "metadata": {},
   "outputs": [],
   "source": [
    "simulator = QuantumSimulator(system)"
   ]
  },
  {
   "cell_type": "code",
   "execution_count": null,
   "metadata": {},
   "outputs": [],
   "source": [
    "initial_state = system.state(\n",
    "    {\n",
    "        \"Q08\": \"0\",  # |0>\n",
    "        \"Q09\": \"-i\",  # |-i>\n",
    "        \"Q10\": \"+\",  # |+>\n",
    "        \"Q11\": \"*\",  # random state in qubit subspace\n",
    "    },\n",
    ")"
   ]
  },
  {
   "cell_type": "code",
   "execution_count": null,
   "metadata": {},
   "outputs": [],
   "source": [
    "duration = 30\n",
    "tau = 10\n",
    "\n",
    "pi_x = qp.FlatTop(\n",
    "    duration=duration,\n",
    "    amplitude=np.pi / (duration - tau),\n",
    "    tau=tau,\n",
    ")\n",
    "pi_y = pi_x.shifted(np.pi / 2)\n",
    "\n",
    "pulse = qp.PulseSequence([pi_x, pi_y])\n",
    "pulse.plot()"
   ]
  },
  {
   "cell_type": "code",
   "execution_count": null,
   "metadata": {},
   "outputs": [],
   "source": [
    "target = transmons[0]\n",
    "\n",
    "detuning = 0.001\n",
    "\n",
    "control = Control(\n",
    "    target=target.label,\n",
    "    frequency=target.frequency + detuning,\n",
    "    waveform=pulse.values,\n",
    ")\n",
    "control.plot()"
   ]
  },
  {
   "cell_type": "code",
   "execution_count": null,
   "metadata": {},
   "outputs": [],
   "source": [
    "result = simulator.mesolve(\n",
    "    controls=[control],\n",
    "    initial_state=initial_state,\n",
    ")"
   ]
  },
  {
   "cell_type": "code",
   "execution_count": null,
   "metadata": {},
   "outputs": [],
   "source": [
    "final_state = result.states[-1]\n",
    "final_state"
   ]
  },
  {
   "cell_type": "code",
   "execution_count": null,
   "metadata": {},
   "outputs": [],
   "source": [
    "final_state_target = result.get_substates(\"Q08\")[-1]\n",
    "final_state_target"
   ]
  },
  {
   "cell_type": "code",
   "execution_count": null,
   "metadata": {},
   "outputs": [],
   "source": [
    "result.plot_population_dynamics(\"Q08\")"
   ]
  },
  {
   "cell_type": "code",
   "execution_count": null,
   "metadata": {},
   "outputs": [],
   "source": [
    "result.show_last_population(\"Q08\")"
   ]
  },
  {
   "cell_type": "code",
   "execution_count": null,
   "metadata": {},
   "outputs": [],
   "source": [
    "result.display_bloch_sphere(\"Q08\")\n",
    "result.display_bloch_sphere(\"Q09\")\n",
    "result.display_bloch_sphere(\"Q10\")\n",
    "result.display_bloch_sphere(\"Q11\")"
   ]
  }
 ],
 "metadata": {
  "kernelspec": {
   "display_name": ".venv",
   "language": "python",
   "name": "python3"
  },
  "language_info": {
   "codemirror_mode": {
    "name": "ipython",
    "version": 3
   },
   "file_extension": ".py",
   "mimetype": "text/x-python",
   "name": "python",
   "nbconvert_exporter": "python",
   "pygments_lexer": "ipython3",
   "version": "3.9.18"
  }
 },
 "nbformat": 4,
 "nbformat_minor": 2
}
