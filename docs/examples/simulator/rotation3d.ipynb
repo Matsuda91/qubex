{
 "cells": [
  {
   "cell_type": "code",
   "execution_count": null,
   "metadata": {},
   "outputs": [],
   "source": [
    "import numpy as np\n",
    "from qctrlvisualizer import display_bloch_sphere_from_bloch_vectors\n",
    "\n",
    "from qubex.analysis.visualization import plot_bloch_vectors"
   ]
  },
  {
   "cell_type": "code",
   "execution_count": null,
   "metadata": {},
   "outputs": [],
   "source": [
    "G_x = np.array(\n",
    "    [\n",
    "        [0, 0, 0],\n",
    "        [0, 0, -1],\n",
    "        [0, 1, 0],\n",
    "    ]\n",
    ")\n",
    "\n",
    "G_y = np.array(\n",
    "    [\n",
    "        [0, 0, 1],\n",
    "        [0, 0, 0],\n",
    "        [-1, 0, 0],\n",
    "    ]\n",
    ")\n",
    "\n",
    "G_z = np.array(\n",
    "    [\n",
    "        [0, -1, 0],\n",
    "        [1, 0, 0],\n",
    "        [0, 0, 0],\n",
    "    ]\n",
    ")\n",
    "\n",
    "\n",
    "def rotation_matrix(\n",
    "    t: float,\n",
    "    Omega: float,\n",
    "    n_x: float,\n",
    "    n_y: float,\n",
    "    n_z: float,\n",
    ") -> np.ndarray:\n",
    "    G = n_x * G_x + n_y * G_y + n_z * G_z\n",
    "    # Rodrigues' rotation formula\n",
    "    R = np.eye(3) + np.sin(Omega * t) * G + (1 - np.cos(Omega * t)) * G @ G\n",
    "    return R"
   ]
  },
  {
   "cell_type": "code",
   "execution_count": null,
   "metadata": {},
   "outputs": [],
   "source": [
    "R_x = lambda t, Omega: rotation_matrix(t, Omega, 1, 0, 0)\n",
    "R_y = lambda t, Omega: rotation_matrix(t, Omega, 0, 1, 0)\n",
    "R_z = lambda t, Omega: rotation_matrix(t, Omega, 0, 0, 1)"
   ]
  },
  {
   "cell_type": "code",
   "execution_count": null,
   "metadata": {},
   "outputs": [],
   "source": [
    "Omega = 2 * np.pi\n",
    "r_0 = np.array([1, 1, 1]) / np.sqrt(3)\n",
    "times = np.linspace(0, 1, 50)\n",
    "r_x = np.array([R_x(t, Omega) @ r_0 for t in times])\n",
    "plot_bloch_vectors(times, r_x)\n",
    "display_bloch_sphere_from_bloch_vectors(r_x)"
   ]
  },
  {
   "cell_type": "code",
   "execution_count": null,
   "metadata": {},
   "outputs": [],
   "source": [
    "Omega = 4 * np.pi\n",
    "r_0 = np.array([1, 1, 1]) / np.sqrt(3)\n",
    "times = np.linspace(0, 1, 50)\n",
    "r_y = np.array([R_y(t, Omega) @ r_0 for t in times])\n",
    "plot_bloch_vectors(times, r_y)\n",
    "display_bloch_sphere_from_bloch_vectors(r_y)"
   ]
  },
  {
   "cell_type": "code",
   "execution_count": null,
   "metadata": {},
   "outputs": [],
   "source": [
    "Omega = 6 * np.pi\n",
    "r_0 = np.array([1, 1, 1]) / np.sqrt(3)\n",
    "times = np.linspace(0, 1, 50)\n",
    "r_z = np.array([R_z(t, Omega) @ r_0 for t in times])\n",
    "plot_bloch_vectors(times, r_z)\n",
    "display_bloch_sphere_from_bloch_vectors(r_z)"
   ]
  }
 ],
 "metadata": {
  "kernelspec": {
   "display_name": ".venv",
   "language": "python",
   "name": "python3"
  },
  "language_info": {
   "codemirror_mode": {
    "name": "ipython",
    "version": 3
   },
   "file_extension": ".py",
   "mimetype": "text/x-python",
   "name": "python",
   "nbconvert_exporter": "python",
   "pygments_lexer": "ipython3",
   "version": "3.9.18"
  }
 },
 "nbformat": 4,
 "nbformat_minor": 2
}
