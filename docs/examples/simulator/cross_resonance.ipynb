{
 "cells": [
  {
   "cell_type": "markdown",
   "metadata": {},
   "source": [
    "# Cross Resonance Dynamics"
   ]
  },
  {
   "cell_type": "code",
   "execution_count": null,
   "metadata": {},
   "outputs": [],
   "source": [
    "%load_ext autoreload\n",
    "%autoreload 2\n",
    "\n",
    "import numpy as np\n",
    "\n",
    "from qubex.simulator import Control, Coupling, QuantumSimulator, QuantumSystem, Transmon"
   ]
  },
  {
   "cell_type": "markdown",
   "metadata": {},
   "source": [
    "#### $\\ket{n}_\\mathrm{low} \\otimes \\ket{n}_\\mathrm{high}$"
   ]
  },
  {
   "cell_type": "code",
   "execution_count": null,
   "metadata": {},
   "outputs": [],
   "source": [
    "transmons = [\n",
    "    Transmon(\n",
    "        label=\"Q0\",\n",
    "        dimension=3,\n",
    "        frequency=7.646,\n",
    "        anharmonicity=-0.356,\n",
    "        relaxation_rate=0.00005,\n",
    "        dephasing_rate=0.00005,\n",
    "    ),\n",
    "    Transmon(\n",
    "        label=\"Q1\",\n",
    "        dimension=3,\n",
    "        frequency=8.442,\n",
    "        anharmonicity=-0.448,\n",
    "        relaxation_rate=0.00005,\n",
    "        dephasing_rate=0.00005,\n",
    "    ),\n",
    "]\n",
    "\n",
    "couplings = [\n",
    "    Coupling(pair=(\"Q0\", \"Q1\"), strength=0.01),\n",
    "]\n",
    "\n",
    "system = QuantumSystem(\n",
    "    objects=transmons,\n",
    "    couplings=couplings,\n",
    ")"
   ]
  },
  {
   "cell_type": "code",
   "execution_count": null,
   "metadata": {},
   "outputs": [],
   "source": [
    "system.hamiltonian"
   ]
  },
  {
   "cell_type": "code",
   "execution_count": null,
   "metadata": {},
   "outputs": [],
   "source": [
    "simulator = QuantumSimulator(system)"
   ]
  },
  {
   "cell_type": "markdown",
   "metadata": {},
   "source": [
    "### A. LOW → HIGH\n",
    "\n",
    "- control qubit\n",
    "  - low frequency\n",
    "- target qubit\n",
    "  - high frequency"
   ]
  },
  {
   "cell_type": "code",
   "execution_count": null,
   "metadata": {},
   "outputs": [],
   "source": [
    "control_qubit = transmons[0]\n",
    "target_qubit = transmons[1]\n",
    "\n",
    "dt = 0.1  # ns\n",
    "T = 200  # ns\n",
    "N = int(T / dt)\n",
    "rabi_rate = 0.2  # GHz\n",
    "\n",
    "Control.SAMPLING_PERIOD = dt\n",
    "\n",
    "control = Control(\n",
    "    target=control_qubit.label,\n",
    "    frequency=target_qubit.frequency,\n",
    "    waveform=[2 * np.pi * rabi_rate] * N,\n",
    ")\n",
    "control.plot()"
   ]
  },
  {
   "cell_type": "markdown",
   "metadata": {},
   "source": [
    "#### A.1. $\\ket{0}_\\mathrm{low} \\otimes \\ket{0}_\\mathrm{high}$"
   ]
  },
  {
   "cell_type": "code",
   "execution_count": null,
   "metadata": {},
   "outputs": [],
   "source": [
    "result = simulator.mesolve(\n",
    "    controls=[control],\n",
    "    initial_state=system.state(\n",
    "        {\n",
    "            \"Q0\": \"0\",\n",
    "            \"Q1\": \"0\",\n",
    "        },\n",
    "    ),\n",
    ")\n",
    "\n",
    "result.plot_bloch_vectors(\"Q0\")\n",
    "result.plot_bloch_vectors(\"Q1\")\n",
    "\n",
    "result.display_bloch_sphere(\"Q0\")\n",
    "result.display_bloch_sphere(\"Q1\")\n",
    "\n",
    "result.plot_population_dynamics(\"Q0\")\n",
    "result.plot_population_dynamics(\"Q1\")\n",
    "result.plot_population_dynamics()"
   ]
  },
  {
   "cell_type": "markdown",
   "metadata": {},
   "source": [
    "#### A.2. $\\ket{1}_\\mathrm{low} \\otimes \\ket{0}_\\mathrm{high}$"
   ]
  },
  {
   "cell_type": "code",
   "execution_count": null,
   "metadata": {},
   "outputs": [],
   "source": [
    "result = simulator.mesolve(\n",
    "    controls=[control],\n",
    "    initial_state=system.state(\n",
    "        {\n",
    "            \"Q0\": \"1\",\n",
    "            \"Q1\": \"0\",\n",
    "        },\n",
    "    ),\n",
    ")\n",
    "\n",
    "result.plot_bloch_vectors(\"Q0\")\n",
    "result.plot_bloch_vectors(\"Q1\")\n",
    "\n",
    "result.display_bloch_sphere(\"Q0\")\n",
    "result.display_bloch_sphere(\"Q1\")\n",
    "\n",
    "result.plot_population_dynamics(\"Q0\")\n",
    "result.plot_population_dynamics(\"Q1\")\n",
    "result.plot_population_dynamics()"
   ]
  },
  {
   "cell_type": "markdown",
   "metadata": {},
   "source": [
    "### B. HIGH → LOW\n",
    "\n",
    "- control qubit\n",
    "  - high frequency\n",
    "- target qubit\n",
    "  - low frequency"
   ]
  },
  {
   "cell_type": "code",
   "execution_count": null,
   "metadata": {},
   "outputs": [],
   "source": [
    "control_qubit = transmons[1]\n",
    "target_qubit = transmons[0]\n",
    "\n",
    "dt = 0.1  # ns\n",
    "T = 200  # ns\n",
    "N = int(T / dt)\n",
    "rabi_rate = 0.2  # GHz\n",
    "\n",
    "Control.SAMPLING_PERIOD = dt\n",
    "\n",
    "control = Control(\n",
    "    target=control_qubit.label,\n",
    "    frequency=target_qubit.frequency,\n",
    "    waveform=[2 * np.pi * rabi_rate] * N,\n",
    ")\n",
    "control.plot()"
   ]
  },
  {
   "cell_type": "markdown",
   "metadata": {},
   "source": [
    "#### B.1. $\\ket{0}_\\mathrm{low} \\otimes \\ket{0}_\\mathrm{high}$"
   ]
  },
  {
   "cell_type": "code",
   "execution_count": null,
   "metadata": {},
   "outputs": [],
   "source": [
    "result = simulator.mesolve(\n",
    "    controls=[control],\n",
    "    initial_state=system.state(\n",
    "        {\n",
    "            \"Q0\": \"0\",\n",
    "            \"Q1\": \"0\",\n",
    "        },\n",
    "    ),\n",
    ")\n",
    "\n",
    "result.plot_bloch_vectors(\"Q0\")\n",
    "result.plot_bloch_vectors(\"Q1\")\n",
    "\n",
    "result.display_bloch_sphere(\"Q0\")\n",
    "result.display_bloch_sphere(\"Q1\")\n",
    "\n",
    "result.plot_population_dynamics(\"Q0\")\n",
    "result.plot_population_dynamics(\"Q1\")\n",
    "result.plot_population_dynamics()"
   ]
  },
  {
   "cell_type": "markdown",
   "metadata": {},
   "source": [
    "#### B.2. $\\ket{0}_\\mathrm{low} \\otimes \\ket{1}_\\mathrm{high}$"
   ]
  },
  {
   "cell_type": "code",
   "execution_count": null,
   "metadata": {},
   "outputs": [],
   "source": [
    "result = simulator.mesolve(\n",
    "    controls=[control],\n",
    "    initial_state=system.state(\n",
    "        {\n",
    "            \"Q0\": \"0\",\n",
    "            \"Q1\": \"1\",\n",
    "        },\n",
    "    ),\n",
    ")\n",
    "\n",
    "result.plot_bloch_vectors(\"Q0\")\n",
    "result.plot_bloch_vectors(\"Q1\")\n",
    "\n",
    "result.display_bloch_sphere(\"Q0\")\n",
    "result.display_bloch_sphere(\"Q1\")\n",
    "\n",
    "result.plot_population_dynamics(\"Q0\")\n",
    "result.plot_population_dynamics(\"Q1\")\n",
    "result.plot_population_dynamics()"
   ]
  }
 ],
 "metadata": {
  "kernelspec": {
   "display_name": ".venv",
   "language": "python",
   "name": "python3"
  },
  "language_info": {
   "codemirror_mode": {
    "name": "ipython",
    "version": 3
   },
   "file_extension": ".py",
   "mimetype": "text/x-python",
   "name": "python",
   "nbconvert_exporter": "python",
   "pygments_lexer": "ipython3",
   "version": "3.9.18"
  }
 },
 "nbformat": 4,
 "nbformat_minor": 2
}
