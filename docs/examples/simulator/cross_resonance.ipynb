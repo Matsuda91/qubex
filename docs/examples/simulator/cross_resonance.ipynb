{
 "cells": [
  {
   "cell_type": "code",
   "execution_count": null,
   "metadata": {},
   "outputs": [],
   "source": [
    "%load_ext autoreload\n",
    "%autoreload 2\n",
    "\n",
    "import numpy as np\n",
    "from qubex.simulator import Simulator, System, Transmon, Coupling, Control"
   ]
  },
  {
   "cell_type": "code",
   "execution_count": null,
   "metadata": {},
   "outputs": [],
   "source": [
    "transmons = [\n",
    "    Transmon(\n",
    "        label=\"Q0\",\n",
    "        dimension=3,\n",
    "        frequency=7.646,\n",
    "        anharmonicity=-0.356,\n",
    "        decay_rate=0.00005,\n",
    "        dephasing_rate=0.00005,\n",
    "    ),\n",
    "    Transmon(\n",
    "        label=\"Q1\",\n",
    "        dimension=3,\n",
    "        frequency=8.442,\n",
    "        anharmonicity=-0.448,\n",
    "        decay_rate=0.00005,\n",
    "        dephasing_rate=0.00005,\n",
    "    ),\n",
    "]\n",
    "\n",
    "couplings = [\n",
    "    Coupling(pair=(\"Q0\", \"Q1\"), strength=0.01),\n",
    "]\n",
    "\n",
    "system = System(\n",
    "    transmons=transmons,\n",
    "    couplings=couplings,\n",
    ")"
   ]
  },
  {
   "cell_type": "code",
   "execution_count": null,
   "metadata": {},
   "outputs": [],
   "source": [
    "system.hamiltonian"
   ]
  },
  {
   "cell_type": "code",
   "execution_count": null,
   "metadata": {},
   "outputs": [],
   "source": [
    "simulator = Simulator(system)"
   ]
  },
  {
   "cell_type": "markdown",
   "metadata": {},
   "source": [
    "## LOW → HIGH"
   ]
  },
  {
   "cell_type": "code",
   "execution_count": null,
   "metadata": {},
   "outputs": [],
   "source": [
    "control_qubit = transmons[0]\n",
    "target_qubit = transmons[1]\n",
    "\n",
    "control = Control(\n",
    "    target=control_qubit.label,\n",
    "    frequency=target_qubit.frequency,\n",
    "    waveform=[np.pi * 0.5] * 100,\n",
    "    sampling_period=2,\n",
    ")\n",
    "control.plot()"
   ]
  },
  {
   "cell_type": "code",
   "execution_count": null,
   "metadata": {},
   "outputs": [],
   "source": [
    "result = simulator.simulate(\n",
    "    control=control,\n",
    "    initial_state=system.state(\n",
    "        {\n",
    "            \"Q0\": \"0\",\n",
    "            \"Q1\": \"0\",\n",
    "        },\n",
    "    ),\n",
    ")\n",
    "\n",
    "result.plot_population_dynamics(\"Q0\")\n",
    "result.plot_population_dynamics(\"Q1\")\n",
    "\n",
    "result.display_bloch_sphere(\"Q0\")\n",
    "result.display_bloch_sphere(\"Q1\")"
   ]
  },
  {
   "cell_type": "code",
   "execution_count": null,
   "metadata": {},
   "outputs": [],
   "source": [
    "result = simulator.simulate(\n",
    "    control=control,\n",
    "    initial_state=system.state(\n",
    "        {\n",
    "            \"Q0\": \"1\",\n",
    "            \"Q1\": \"0\",\n",
    "        },\n",
    "    ),\n",
    ")\n",
    "\n",
    "result.plot_population_dynamics(\"Q0\")\n",
    "result.plot_population_dynamics(\"Q1\")\n",
    "\n",
    "result.display_bloch_sphere(\"Q0\")\n",
    "result.display_bloch_sphere(\"Q1\")"
   ]
  },
  {
   "cell_type": "markdown",
   "metadata": {},
   "source": [
    "## HIGH → LOW"
   ]
  },
  {
   "cell_type": "code",
   "execution_count": null,
   "metadata": {},
   "outputs": [],
   "source": [
    "control_qubit = transmons[1]\n",
    "target_qubit = transmons[0]\n",
    "\n",
    "control = Control(\n",
    "    target=control_qubit.label,\n",
    "    frequency=target_qubit.frequency,\n",
    "    waveform=[np.pi * 0.5] * 100,\n",
    "    sampling_period=2,\n",
    ")\n",
    "control.plot()"
   ]
  },
  {
   "cell_type": "code",
   "execution_count": null,
   "metadata": {},
   "outputs": [],
   "source": [
    "result = simulator.simulate(\n",
    "    control=control,\n",
    "    initial_state=system.state(\n",
    "        {\n",
    "            \"Q0\": \"0\",\n",
    "            \"Q1\": \"0\",\n",
    "        },\n",
    "    ),\n",
    ")\n",
    "\n",
    "result.plot_population_dynamics(\"Q0\")\n",
    "result.plot_population_dynamics(\"Q1\")\n",
    "\n",
    "result.display_bloch_sphere(\"Q0\")\n",
    "result.display_bloch_sphere(\"Q1\")"
   ]
  },
  {
   "cell_type": "code",
   "execution_count": null,
   "metadata": {},
   "outputs": [],
   "source": [
    "result = simulator.simulate(\n",
    "    control=control,\n",
    "    initial_state=system.state(\n",
    "        {\n",
    "            \"Q0\": \"1\",\n",
    "            \"Q1\": \"0\",\n",
    "        },\n",
    "    ),\n",
    ")\n",
    "\n",
    "result.plot_population_dynamics(\"Q0\")\n",
    "result.plot_population_dynamics(\"Q1\")\n",
    "\n",
    "result.display_bloch_sphere(\"Q0\")\n",
    "result.display_bloch_sphere(\"Q1\")"
   ]
  }
 ],
 "metadata": {
  "kernelspec": {
   "display_name": "Python 3",
   "language": "python",
   "name": "python3"
  },
  "language_info": {
   "codemirror_mode": {
    "name": "ipython",
    "version": 3
   },
   "file_extension": ".py",
   "mimetype": "text/x-python",
   "name": "python",
   "nbconvert_exporter": "python",
   "pygments_lexer": "ipython3",
   "version": "3.9.16"
  }
 },
 "nbformat": 4,
 "nbformat_minor": 2
}
