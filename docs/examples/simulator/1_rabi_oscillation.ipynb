{
 "cells": [
  {
   "cell_type": "code",
   "execution_count": null,
   "metadata": {},
   "outputs": [],
   "source": [
    "%load_ext autoreload\n",
    "%autoreload 2\n",
    "\n",
    "import numpy as np\n",
    "\n",
    "from qubex.pulse import Rect\n",
    "from qubex.simulator import Control, QuantumSimulator, QuantumSystem, Transmon"
   ]
  },
  {
   "cell_type": "code",
   "execution_count": null,
   "metadata": {},
   "outputs": [],
   "source": [
    "qubit = Transmon(\n",
    "    label=\"Q01\",\n",
    "    dimension=3,\n",
    "    frequency=7.648,\n",
    "    anharmonicity=-0.333,\n",
    "    relaxation_rate=0.00005,\n",
    "    dephasing_rate=0.00005,\n",
    ")\n",
    "\n",
    "system = QuantumSystem(\n",
    "    objects=[qubit],\n",
    ")\n",
    "\n",
    "simulator = QuantumSimulator(system)\n",
    "\n",
    "initial_state = system.state(\n",
    "    {\n",
    "        \"Q01\": \"0\",\n",
    "    },\n",
    ")"
   ]
  },
  {
   "cell_type": "code",
   "execution_count": null,
   "metadata": {},
   "outputs": [],
   "source": [
    "duration = 200\n",
    "\n",
    "drive = Rect(\n",
    "    duration=duration,\n",
    "    amplitude=4 * np.pi / duration,\n",
    ")\n",
    "drive.plot()"
   ]
  },
  {
   "cell_type": "markdown",
   "metadata": {},
   "source": [
    "## On-resonant"
   ]
  },
  {
   "cell_type": "code",
   "execution_count": null,
   "metadata": {},
   "outputs": [],
   "source": [
    "control = Control(\n",
    "    target=qubit.label,\n",
    "    frequency=qubit.frequency,\n",
    "    waveform=drive,\n",
    ")\n",
    "\n",
    "result = simulator.mesolve(\n",
    "    controls=[control],\n",
    "    initial_state=initial_state,\n",
    "    n_samples=101,\n",
    ")\n",
    "\n",
    "result.show_last_population(qubit.label)\n",
    "result.plot_population_dynamics(qubit.label)\n",
    "result.plot_bloch_vectors(qubit.label)\n",
    "result.display_bloch_sphere(qubit.label)"
   ]
  },
  {
   "cell_type": "markdown",
   "metadata": {},
   "source": [
    "## Off-resonant"
   ]
  },
  {
   "cell_type": "code",
   "execution_count": null,
   "metadata": {},
   "outputs": [],
   "source": [
    "detuning = 0.001\n",
    "\n",
    "control = Control(\n",
    "    target=qubit.label,\n",
    "    frequency=qubit.frequency + detuning,\n",
    "    waveform=drive,\n",
    ")\n",
    "\n",
    "result = simulator.mesolve(\n",
    "    controls=[control],\n",
    "    initial_state=initial_state,\n",
    "    n_samples=101,\n",
    ")\n",
    "\n",
    "result.show_last_population(qubit.label)\n",
    "result.plot_bloch_vectors(qubit.label)\n",
    "result.plot_population_dynamics(qubit.label)\n",
    "result.display_bloch_sphere(qubit.label)"
   ]
  }
 ],
 "metadata": {
  "kernelspec": {
   "display_name": ".venv",
   "language": "python",
   "name": "python3"
  },
  "language_info": {
   "codemirror_mode": {
    "name": "ipython",
    "version": 3
   },
   "file_extension": ".py",
   "mimetype": "text/x-python",
   "name": "python",
   "nbconvert_exporter": "python",
   "pygments_lexer": "ipython3",
   "version": "3.9.18"
  }
 },
 "nbformat": 4,
 "nbformat_minor": 2
}
