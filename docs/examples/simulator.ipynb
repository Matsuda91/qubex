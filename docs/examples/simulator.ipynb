{
 "cells": [
  {
   "cell_type": "code",
   "execution_count": null,
   "metadata": {},
   "outputs": [],
   "source": [
    "%load_ext autoreload\n",
    "%autoreload 2\n",
    "\n",
    "from qubex.simulator import Simulator, System, Transmon, Coupling"
   ]
  },
  {
   "cell_type": "code",
   "execution_count": null,
   "metadata": {},
   "outputs": [],
   "source": [
    "system = System(\n",
    "    transmons=[\n",
    "        Transmon(\n",
    "            label=\"Q08\",\n",
    "            dimension=3,\n",
    "            frequency=7.646 - 7.646,\n",
    "            anharmonicity=-0.356,\n",
    "            decay_rate=0.00005,\n",
    "            dephasing_rate=0.00005,\n",
    "        ),\n",
    "        Transmon(\n",
    "            label=\"Q09\",\n",
    "            dimension=3,\n",
    "            frequency=8.442 - 7.646,\n",
    "            anharmonicity=-0.448,\n",
    "            decay_rate=0.00005,\n",
    "            dephasing_rate=0.00005,\n",
    "        ),\n",
    "        Transmon(\n",
    "            label=\"Q10\",\n",
    "            dimension=3,\n",
    "            frequency=8.316 - 7.646,\n",
    "            anharmonicity=-0.412,\n",
    "            decay_rate=0.00005,\n",
    "            dephasing_rate=0.00005,\n",
    "        ),\n",
    "        Transmon(\n",
    "            label=\"Q11\",\n",
    "            dimension=3,\n",
    "            frequency=7.192 - 7.646,\n",
    "            anharmonicity=-0.368,\n",
    "            decay_rate=0.00005,\n",
    "            dephasing_rate=0.00005,\n",
    "        ),\n",
    "    ],\n",
    "    couplings=[\n",
    "        Coupling(pair=(\"Q08\", \"Q09\"), strength=0.01),\n",
    "        Coupling(pair=(\"Q09\", \"Q10\"), strength=0.01),\n",
    "        Coupling(pair=(\"Q10\", \"Q11\"), strength=0.01),\n",
    "        Coupling(pair=(\"Q11\", \"Q08\"), strength=0.01),\n",
    "    ],\n",
    ")"
   ]
  },
  {
   "cell_type": "code",
   "execution_count": null,
   "metadata": {},
   "outputs": [],
   "source": [
    "system.draw()"
   ]
  },
  {
   "cell_type": "code",
   "execution_count": null,
   "metadata": {},
   "outputs": [],
   "source": [
    "system.hamiltonian"
   ]
  },
  {
   "cell_type": "code",
   "execution_count": null,
   "metadata": {},
   "outputs": [],
   "source": [
    "simulator = Simulator(system)"
   ]
  },
  {
   "cell_type": "code",
   "execution_count": null,
   "metadata": {},
   "outputs": [],
   "source": [
    "initial_state = system.state(\n",
    "    {\n",
    "        \"Q08\": \"-i\",  # |-i>\n",
    "        \"Q09\": \"1\",  # |1>\n",
    "        \"Q10\": \"+\",  # |+>\n",
    "        \"Q11\": \"*\",  # random state in qubit subspace\n",
    "    },\n",
    ")"
   ]
  },
  {
   "cell_type": "code",
   "execution_count": null,
   "metadata": {},
   "outputs": [],
   "source": [
    "from qubex.dd import TabuchiDD\n",
    "\n",
    "pulse = TabuchiDD(duration=200)"
   ]
  },
  {
   "cell_type": "code",
   "execution_count": null,
   "metadata": {},
   "outputs": [],
   "source": [
    "import matplotlib.pyplot as plt\n",
    "\n",
    "plt.plot(pulse.times, pulse.values.real, label=\"I\")\n",
    "plt.plot(pulse.times, pulse.values.imag, label=\"Q\")\n",
    "plt.legend()\n",
    "\n",
    "waveform = pulse.values"
   ]
  },
  {
   "cell_type": "code",
   "execution_count": null,
   "metadata": {},
   "outputs": [],
   "source": [
    "result = simulator.simulate(\n",
    "    controls={\"Q08\": waveform},\n",
    "    initial_state=initial_state,\n",
    ")"
   ]
  },
  {
   "cell_type": "code",
   "execution_count": null,
   "metadata": {},
   "outputs": [],
   "source": [
    "final_state = result.states[-1]\n",
    "\n",
    "final_state"
   ]
  },
  {
   "cell_type": "code",
   "execution_count": null,
   "metadata": {},
   "outputs": [],
   "source": [
    "result.ptrace(\"Q08\")[-1]"
   ]
  },
  {
   "cell_type": "code",
   "execution_count": null,
   "metadata": {},
   "outputs": [],
   "source": [
    "result.draw(\"Q08\")\n",
    "result.draw(\"Q09\")\n",
    "result.draw(\"Q10\")\n",
    "result.draw(\"Q11\")"
   ]
  }
 ],
 "metadata": {
  "kernelspec": {
   "display_name": "Python 3",
   "language": "python",
   "name": "python3"
  },
  "language_info": {
   "codemirror_mode": {
    "name": "ipython",
    "version": 3
   },
   "file_extension": ".py",
   "mimetype": "text/x-python",
   "name": "python",
   "nbconvert_exporter": "python",
   "pygments_lexer": "ipython3",
   "version": "3.9.16"
  }
 },
 "nbformat": 4,
 "nbformat_minor": 2
}
