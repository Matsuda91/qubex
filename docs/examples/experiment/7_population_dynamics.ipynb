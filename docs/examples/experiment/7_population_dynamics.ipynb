{
 "cells": [
  {
   "cell_type": "code",
   "execution_count": null,
   "metadata": {},
   "outputs": [],
   "source": [
    "%load_ext autoreload\n",
    "%autoreload 2"
   ]
  },
  {
   "cell_type": "code",
   "execution_count": null,
   "metadata": {},
   "outputs": [],
   "source": [
    "import numpy as np\n",
    "from qubex.experiment import Experiment\n",
    "\n",
    "chip_id = \"xxx\"\n",
    "qubits = [\n",
    "    \"xxx\",\n",
    "    \"xxx\",\n",
    "    \"xxx\",\n",
    "    \"xxx\",\n",
    "]\n",
    "\n",
    "ex = Experiment(\n",
    "    chip_id=chip_id,\n",
    "    qubits=qubits,\n",
    "    config_dir=\"xxx\",\n",
    ")"
   ]
  },
  {
   "cell_type": "code",
   "execution_count": null,
   "metadata": {},
   "outputs": [],
   "source": [
    "ex.check_status()"
   ]
  },
  {
   "cell_type": "code",
   "execution_count": null,
   "metadata": {},
   "outputs": [],
   "source": [
    "ex.build_classifier(qubits)"
   ]
  },
  {
   "cell_type": "code",
   "execution_count": null,
   "metadata": {},
   "outputs": [],
   "source": [
    "populations, errors = ex.measure_population(\n",
    "    sequence={target: ex.hpi_pulse[target] for target in ex.qubits},\n",
    ")\n",
    "\n",
    "print(\"populations after π/2 pulse:\")\n",
    "for qubit, population in populations.items():\n",
    "    print(f\"  {qubit}\")\n",
    "    for idx, pop in enumerate(population):\n",
    "        print(f\"    {idx}: {pop:.2%}\")"
   ]
  },
  {
   "cell_type": "code",
   "execution_count": null,
   "metadata": {},
   "outputs": [],
   "source": [
    "populations, errors = ex.measure_population(\n",
    "    sequence={target: ex.pi_pulse[target] for target in ex.qubits},\n",
    ")\n",
    "\n",
    "print(\"populations after π pulse:\")\n",
    "for qubit, population in populations.items():\n",
    "    print(f\"  {qubit}\")\n",
    "    for idx, pop in enumerate(population):\n",
    "        print(f\"    {idx}: {pop:.2%}\")"
   ]
  },
  {
   "cell_type": "code",
   "execution_count": null,
   "metadata": {},
   "outputs": [],
   "source": [
    "import qubex.pulse as qp\n",
    "\n",
    "result = ex.measure_population_dynamics(\n",
    "    sequence=lambda x: {\n",
    "        qubit: qp.Rect(\n",
    "            duration=x,\n",
    "            amplitude=0.01,\n",
    "        )\n",
    "        for qubit in ex.qubits\n",
    "    },\n",
    "    params_list=np.arange(0, 201, 20),\n",
    "    xlabel=\"Drive duration (ns)\",\n",
    ")"
   ]
  }
 ],
 "metadata": {
  "kernelspec": {
   "display_name": ".venv",
   "language": "python",
   "name": "python3"
  },
  "language_info": {
   "codemirror_mode": {
    "name": "ipython",
    "version": 3
   },
   "file_extension": ".py",
   "mimetype": "text/x-python",
   "name": "python",
   "nbconvert_exporter": "python",
   "pygments_lexer": "ipython3",
   "version": "3.9.18"
  }
 },
 "nbformat": 4,
 "nbformat_minor": 2
}
