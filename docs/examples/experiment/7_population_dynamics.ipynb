{
 "cells": [
  {
   "cell_type": "code",
   "execution_count": 1,
   "metadata": {},
   "outputs": [],
   "source": [
    "%load_ext autoreload\n",
    "%autoreload 2"
   ]
  },
  {
   "cell_type": "code",
   "execution_count": null,
   "metadata": {},
   "outputs": [],
   "source": [
    "import numpy as np\n",
    "\n",
    "from qubex.experiment import Experiment\n",
    "\n",
    "ex = Experiment(\n",
    "    chip_id=\"xxQ\",\n",
    "    muxes=[0],\n",
    "    config_dir=\"/home/shared/config\",\n",
    ")"
   ]
  },
  {
   "cell_type": "code",
   "execution_count": null,
   "metadata": {},
   "outputs": [],
   "source": [
    "ex.tool.print_target_frequencies()\n",
    "# ex.configure()"
   ]
  },
  {
   "cell_type": "code",
   "execution_count": null,
   "metadata": {},
   "outputs": [],
   "source": [
    "ex.build_classifier()"
   ]
  },
  {
   "cell_type": "code",
   "execution_count": 22,
   "metadata": {},
   "outputs": [],
   "source": [
    "result = ex.measure(\n",
    "    ex.hpi_pulse,\n",
    "    mode=\"single\",\n",
    "    shots=1000,\n",
    ")"
   ]
  },
  {
   "cell_type": "code",
   "execution_count": null,
   "metadata": {},
   "outputs": [],
   "source": [
    "# `classified` is available after the classifier has been built\n",
    "result.data[ex.qubit_labels[0]].classified"
   ]
  },
  {
   "cell_type": "code",
   "execution_count": null,
   "metadata": {},
   "outputs": [],
   "source": [
    "# Data count for each qubit state\n",
    "result.data[ex.qubit_labels[0]].counts"
   ]
  },
  {
   "cell_type": "code",
   "execution_count": null,
   "metadata": {},
   "outputs": [],
   "source": [
    "# Probabilities for each qubit state\n",
    "result.data[ex.qubit_labels[0]].probabilities"
   ]
  },
  {
   "cell_type": "code",
   "execution_count": null,
   "metadata": {},
   "outputs": [],
   "source": [
    "# Count for each multi-qubit state\n",
    "result.counts"
   ]
  },
  {
   "cell_type": "code",
   "execution_count": null,
   "metadata": {},
   "outputs": [],
   "source": [
    "# Probabilities for each multi-qubit state\n",
    "result.probabilities"
   ]
  },
  {
   "cell_type": "code",
   "execution_count": null,
   "metadata": {},
   "outputs": [],
   "source": [
    "populations, errors = ex.measure_population(\n",
    "    sequence={target: ex.hpi_pulse[target] for target in ex.qubits},\n",
    ")\n",
    "\n",
    "print(\"populations after π/2 pulse:\")\n",
    "for qubit, population in populations.items():\n",
    "    print(f\"  {qubit}\")\n",
    "    for idx, pop in enumerate(population):\n",
    "        print(f\"    {idx}: {pop:.2%}\")"
   ]
  },
  {
   "cell_type": "code",
   "execution_count": null,
   "metadata": {},
   "outputs": [],
   "source": [
    "populations, errors = ex.measure_population(\n",
    "    sequence={target: ex.pi_pulse[target] for target in ex.qubits},\n",
    ")\n",
    "\n",
    "print(\"populations after π pulse:\")\n",
    "for qubit, population in populations.items():\n",
    "    print(f\"  {qubit}\")\n",
    "    for idx, pop in enumerate(population):\n",
    "        print(f\"    {idx}: {pop:.2%}\")"
   ]
  },
  {
   "cell_type": "code",
   "execution_count": null,
   "metadata": {},
   "outputs": [],
   "source": [
    "import qubex.pulse as qp\n",
    "\n",
    "result = ex.measure_population_dynamics(\n",
    "    sequence=lambda x: {\n",
    "        qubit: qp.Rect(\n",
    "            duration=x,\n",
    "            amplitude=0.01,\n",
    "        )\n",
    "        for qubit in ex.qubits\n",
    "    },\n",
    "    params_list=np.arange(0, 201, 4),\n",
    "    xlabel=\"Drive duration (ns)\",\n",
    ")"
   ]
  }
 ],
 "metadata": {
  "kernelspec": {
   "display_name": "3.9.18",
   "language": "python",
   "name": "python3"
  },
  "language_info": {
   "codemirror_mode": {
    "name": "ipython",
    "version": 3
   },
   "file_extension": ".py",
   "mimetype": "text/x-python",
   "name": "python",
   "nbconvert_exporter": "python",
   "pygments_lexer": "ipython3",
   "version": "3.9.18"
  }
 },
 "nbformat": 4,
 "nbformat_minor": 2
}
