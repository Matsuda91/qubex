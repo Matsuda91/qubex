{
 "cells": [
  {
   "cell_type": "code",
   "execution_count": null,
   "metadata": {},
   "outputs": [],
   "source": [
    "import numpy as np\n",
    "import qubex as qx\n",
    "\n",
    "ex = qx.Experiment(\n",
    "    chip_id=\"xxQ\",\n",
    "    muxes=[0],\n",
    "    params_dir=\"./params\",  # should contain params.yaml and props.yaml\n",
    ")"
   ]
  },
  {
   "cell_type": "code",
   "execution_count": null,
   "metadata": {},
   "outputs": [],
   "source": [
    "# Sweep the readout frequency to find resonator frequency\n",
    "result = ex.scan_resonator_frequencies(\n",
    "    ex.qubit_labels[0],\n",
    "    frequency_range=np.arange(9.75, 10.75, 0.002),\n",
    "    readout_amplitude=0.1,\n",
    "    save_image=True,\n",
    ")"
   ]
  },
  {
   "cell_type": "code",
   "execution_count": null,
   "metadata": {},
   "outputs": [],
   "source": [
    "# Choose the frequency range to cover all resonator frequencies\n",
    "readout_frequency_range = np.arange(10.05, 10.55, 0.002)"
   ]
  },
  {
   "cell_type": "code",
   "execution_count": null,
   "metadata": {},
   "outputs": [],
   "source": [
    "# Sweep the readout frequency and power\n",
    "result = ex.resonator_spectroscopy(\n",
    "    ex.qubit_labels[0],\n",
    "    frequency_range=readout_frequency_range,\n",
    "    power_range=np.arange(-60, 5, 5),\n",
    ")"
   ]
  },
  {
   "cell_type": "code",
   "execution_count": 7,
   "metadata": {},
   "outputs": [
    {
     "data": {
      "text/plain": [
       "0.01"
      ]
     },
     "execution_count": 7,
     "metadata": {},
     "output_type": "execute_result"
    }
   ],
   "source": [
    "# Choose the appropriate readout power\n",
    "readout_power = -40  # dB\n",
    "readout_amplitude = 10 ** (readout_power / 20)\n",
    "readout_amplitude"
   ]
  },
  {
   "cell_type": "code",
   "execution_count": null,
   "metadata": {},
   "outputs": [],
   "source": [
    "# Sweep the readout frequency with the chosen power\n",
    "result = ex.scan_resonator_frequencies(\n",
    "    ex.qubit_labels[0],\n",
    "    frequency_range=readout_frequency_range,\n",
    "    readout_amplitude=readout_amplitude,\n",
    "    save_image=True,\n",
    ")\n",
    "\n",
    "# Extract the peaks from the result\n",
    "peaks = result[\"peaks\"]"
   ]
  },
  {
   "cell_type": "code",
   "execution_count": null,
   "metadata": {},
   "outputs": [],
   "source": [
    "# Resonator frequencies for each qubit\n",
    "resonator_frequencies = {\n",
    "    ex.qubit_labels[0]: peaks[1],\n",
    "    ex.qubit_labels[1]: peaks[3],\n",
    "    ex.qubit_labels[2]: peaks[2],\n",
    "    ex.qubit_labels[3]: peaks[0],\n",
    "}\n",
    "resonator_frequencies"
   ]
  },
  {
   "cell_type": "code",
   "execution_count": null,
   "metadata": {},
   "outputs": [],
   "source": [
    "# Update prop.yaml and reload the experiment\n",
    "ex.reload()"
   ]
  },
  {
   "cell_type": "code",
   "execution_count": null,
   "metadata": {},
   "outputs": [],
   "source": [
    "# Fit the reflection coefficient at the resonance frequency\n",
    "fine_resonator_frequencies = {}\n",
    "for qubit in ex.qubit_labels:\n",
    "    result = ex.measure_reflection_coefficient(qubit)\n",
    "    fine_resonator_frequencies[qubit] = result[\"f_r\"]\n",
    "\n",
    "fine_resonator_frequencies"
   ]
  },
  {
   "cell_type": "code",
   "execution_count": null,
   "metadata": {},
   "outputs": [],
   "source": [
    "# Update prop.yaml and reload the experiment\n",
    "ex.reload()"
   ]
  },
  {
   "cell_type": "code",
   "execution_count": null,
   "metadata": {},
   "outputs": [],
   "source": [
    "# Sweep the control frequency to find qubit frequency\n",
    "result = ex.scan_qubit_frequencies(\n",
    "    ex.qubit_labels[0],\n",
    "    frequency_range=np.arange(6.5, 9.5, 0.002),\n",
    "    control_amplitude=0.1,\n",
    "    readout_amplitude=0.01,\n",
    ")"
   ]
  },
  {
   "cell_type": "code",
   "execution_count": null,
   "metadata": {},
   "outputs": [],
   "source": [
    "# Choose the control frequency range for each qubit\n",
    "control_frequency_ranges = {\n",
    "    ex.qubit_labels[0]: np.arange(6.5, 7.5, 0.005),\n",
    "    ex.qubit_labels[1]: np.arange(7.5, 8.5, 0.005),\n",
    "    ex.qubit_labels[2]: np.arange(7.5, 8.5, 0.005),\n",
    "    ex.qubit_labels[3]: np.arange(6.5, 7.7, 0.005),\n",
    "}"
   ]
  },
  {
   "cell_type": "code",
   "execution_count": null,
   "metadata": {},
   "outputs": [],
   "source": [
    "# Sweep control frequency and power\n",
    "for qubit in ex.qubit_labels:\n",
    "    result = ex.qubit_spectroscopy(\n",
    "        qubit,\n",
    "        frequency_range=np.arange(6.5, 9.5, 0.002),\n",
    "        power_range=np.arange(-60, 5, 5),\n",
    "    )"
   ]
  },
  {
   "cell_type": "code",
   "execution_count": null,
   "metadata": {},
   "outputs": [],
   "source": [
    "qubit_frequencies = {\n",
    "    ex.qubit_labels[0]: 7.2,\n",
    "    ex.qubit_labels[1]: 8.2,\n",
    "    ex.qubit_labels[2]: 8.5,\n",
    "    ex.qubit_labels[3]: 7.5,\n",
    "}\n",
    "\n",
    "# Estimate the control amplitude\n",
    "for label, freq in qubit_frequencies.items():\n",
    "    ex.estimate_control_amplitude(\n",
    "        label,\n",
    "        frequency_range=np.linspace(freq - 0.1, freq + 0.1, 100),\n",
    "    )"
   ]
  },
  {
   "cell_type": "code",
   "execution_count": null,
   "metadata": {},
   "outputs": [],
   "source": [
    "# Measure the Rabi oscillation\n",
    "ex.obtain_rabi_params()"
   ]
  },
  {
   "cell_type": "code",
   "execution_count": null,
   "metadata": {},
   "outputs": [],
   "source": [
    "# Calculate the control amplitudes\n",
    "ex.calc_control_amplitudes()"
   ]
  },
  {
   "cell_type": "code",
   "execution_count": null,
   "metadata": {},
   "outputs": [],
   "source": [
    "# Reload the configuration files\n",
    "ex.reload()"
   ]
  },
  {
   "cell_type": "code",
   "execution_count": null,
   "metadata": {},
   "outputs": [],
   "source": [
    "# Obtain the Chevron pattern\n",
    "ex.chevron_pattern(\n",
    "    ex.qubit_labels,\n",
    "    detuning_range=np.linspace(-0.05, 0.05, 51),\n",
    "    time_range=np.arange(0, 201, 4),\n",
    ")"
   ]
  }
 ],
 "metadata": {
  "kernelspec": {
   "display_name": ".venv",
   "language": "python",
   "name": "python3"
  },
  "language_info": {
   "codemirror_mode": {
    "name": "ipython",
    "version": 3
   },
   "file_extension": ".py",
   "mimetype": "text/x-python",
   "name": "python",
   "nbconvert_exporter": "python",
   "pygments_lexer": "ipython3",
   "version": "3.9.22"
  }
 },
 "nbformat": 4,
 "nbformat_minor": 2
}
