{
 "cells": [
  {
   "cell_type": "code",
   "execution_count": null,
   "metadata": {},
   "outputs": [],
   "source": [
    "%load_ext autoreload\n",
    "%autoreload 2"
   ]
  },
  {
   "cell_type": "code",
   "execution_count": null,
   "metadata": {},
   "outputs": [],
   "source": [
    "import numpy as np\n",
    "from qubex.experiment import Experiment\n",
    "\n",
    "chip_id = \"xxx\"\n",
    "qubits = [\n",
    "    \"xxx\",\n",
    "    \"xxx\",\n",
    "    \"xxx\",\n",
    "    \"xxx\",\n",
    "]\n",
    "\n",
    "ex = Experiment(\n",
    "    chip_id=chip_id,\n",
    "    qubits=qubits,\n",
    "    config_dir=\"xxx\",\n",
    ")"
   ]
  },
  {
   "cell_type": "code",
   "execution_count": null,
   "metadata": {},
   "outputs": [],
   "source": [
    "ex.check_status()"
   ]
  },
  {
   "cell_type": "code",
   "execution_count": null,
   "metadata": {},
   "outputs": [],
   "source": [
    "result = ex.check_waveform(qubits)"
   ]
  },
  {
   "cell_type": "code",
   "execution_count": null,
   "metadata": {},
   "outputs": [],
   "source": [
    "result_rabi = ex.obtain_rabi_params(qubits)"
   ]
  },
  {
   "cell_type": "code",
   "execution_count": null,
   "metadata": {},
   "outputs": [],
   "source": [
    "result_hpi = ex.calibrate_hpi_pulse(qubits)\n",
    "result_pi = ex.calibrate_pi_pulse(qubits)\n",
    "result_drag_hpi = ex.calibrate_drag_hpi_pulse(qubits)\n",
    "result_drag_pi = ex.calibrate_drag_pi_pulse(qubits)\n",
    "ex.save_defaults()"
   ]
  },
  {
   "cell_type": "code",
   "execution_count": null,
   "metadata": {},
   "outputs": [],
   "source": [
    "target = qubits[1]\n",
    "\n",
    "drag_hpi = ex.drag_hpi_pulse[target]\n",
    "\n",
    "drag_hpi.plot()"
   ]
  },
  {
   "cell_type": "code",
   "execution_count": null,
   "metadata": {},
   "outputs": [],
   "source": [
    "result = ex.repeat_sequence(ex.drag_hpi_pulse)"
   ]
  },
  {
   "cell_type": "code",
   "execution_count": null,
   "metadata": {},
   "outputs": [],
   "source": [
    "ex.state_tomography(\n",
    "    {\n",
    "        target: ex.pi_pulse[target],\n",
    "    }\n",
    ")"
   ]
  },
  {
   "cell_type": "code",
   "execution_count": null,
   "metadata": {},
   "outputs": [],
   "source": [
    "ex.pulse_tomography(\n",
    "    {\n",
    "        target: ex.pi_pulse[target],\n",
    "    }\n",
    ")"
   ]
  },
  {
   "cell_type": "code",
   "execution_count": null,
   "metadata": {},
   "outputs": [],
   "source": [
    "ex.pulse_tomography(\n",
    "    {\n",
    "        target: ex.drag_pi_pulse[target],\n",
    "    }\n",
    ")"
   ]
  }
 ],
 "metadata": {
  "kernelspec": {
   "display_name": ".venv",
   "language": "python",
   "name": "python3"
  },
  "language_info": {
   "codemirror_mode": {
    "name": "ipython",
    "version": 3
   },
   "file_extension": ".py",
   "mimetype": "text/x-python",
   "name": "python",
   "nbconvert_exporter": "python",
   "pygments_lexer": "ipython3",
   "version": "3.9.18"
  }
 },
 "nbformat": 4,
 "nbformat_minor": 2
}
