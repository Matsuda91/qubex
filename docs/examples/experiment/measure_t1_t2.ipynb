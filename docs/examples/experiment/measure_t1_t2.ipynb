{
 "cells": [
  {
   "cell_type": "code",
   "execution_count": null,
   "metadata": {},
   "outputs": [],
   "source": [
    "import numpy as np\n",
    "from qubex.experiment import Experiment\n",
    "\n",
    "chip_id = \"16Q\"\n",
    "qubits = [\n",
    "    \"Q08\",\n",
    "    \"Q09\",\n",
    "    \"Q10\",\n",
    "]"
   ]
  },
  {
   "cell_type": "code",
   "execution_count": null,
   "metadata": {},
   "outputs": [],
   "source": [
    "ex1 = Experiment(\n",
    "    chip_id=chip_id,\n",
    "    qubits=qubits,\n",
    "    control_window=1024 * 150,\n",
    ")"
   ]
  },
  {
   "cell_type": "code",
   "execution_count": null,
   "metadata": {},
   "outputs": [],
   "source": [
    "ex1.check_rabi(qubits)"
   ]
  },
  {
   "cell_type": "code",
   "execution_count": null,
   "metadata": {},
   "outputs": [],
   "source": [
    "result_t1 = ex1.t1_experiment(\n",
    "    qubits=qubits,\n",
    "    time_range=2 ** np.arange(1, 18),\n",
    "    shots=1024,\n",
    ")"
   ]
  },
  {
   "cell_type": "code",
   "execution_count": null,
   "metadata": {},
   "outputs": [],
   "source": [
    "for qubit in qubits:\n",
    "    ex1.t2_experiment(\n",
    "        qubits=[qubit],\n",
    "        time_range=200 * 2 ** np.arange(10),\n",
    "        n_cpmg=1,\n",
    "        shots=1024,\n",
    "    )"
   ]
  },
  {
   "cell_type": "code",
   "execution_count": null,
   "metadata": {},
   "outputs": [],
   "source": [
    "ex2 = Experiment(\n",
    "    chip_id=chip_id,\n",
    "    qubits=qubits,\n",
    "    control_window=1024 * 10,\n",
    ")"
   ]
  },
  {
   "cell_type": "code",
   "execution_count": null,
   "metadata": {},
   "outputs": [],
   "source": [
    "ex2.check_rabi(qubits)"
   ]
  },
  {
   "cell_type": "code",
   "execution_count": null,
   "metadata": {},
   "outputs": [],
   "source": [
    "result1 = ex2.ramsey_experiment(\n",
    "    qubits=[qubits[0]],\n",
    "    time_range=np.arange(0, 10000, 100),\n",
    "    detuning=0.0,\n",
    "    shots=1024,\n",
    ")"
   ]
  },
  {
   "cell_type": "code",
   "execution_count": null,
   "metadata": {},
   "outputs": [],
   "source": [
    "result2 = ex2.ramsey_experiment(\n",
    "    qubits=[qubits[0]],\n",
    "    time_range=np.arange(0, 10000, 100),\n",
    "    detuning=1.0,\n",
    "    shots=1024,\n",
    ")"
   ]
  }
 ],
 "metadata": {
  "kernelspec": {
   "display_name": ".venv",
   "language": "python",
   "name": "python3"
  },
  "language_info": {
   "codemirror_mode": {
    "name": "ipython",
    "version": 3
   },
   "file_extension": ".py",
   "mimetype": "text/x-python",
   "name": "python",
   "nbconvert_exporter": "python",
   "pygments_lexer": "ipython3",
   "version": "3.9.18"
  }
 },
 "nbformat": 4,
 "nbformat_minor": 2
}
