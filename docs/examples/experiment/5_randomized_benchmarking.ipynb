{
 "cells": [
  {
   "cell_type": "code",
   "execution_count": 1,
   "metadata": {},
   "outputs": [],
   "source": [
    "%load_ext autoreload\n",
    "%autoreload 2"
   ]
  },
  {
   "cell_type": "code",
   "execution_count": null,
   "metadata": {},
   "outputs": [],
   "source": [
    "import numpy as np\n",
    "\n",
    "from qubex.experiment import Experiment\n",
    "\n",
    "ex = Experiment(\n",
    "    chip_id=\"xxQ\",\n",
    "    muxes=[0],\n",
    "    config_dir=\"/home/shared/config\",\n",
    ")"
   ]
  },
  {
   "cell_type": "code",
   "execution_count": null,
   "metadata": {},
   "outputs": [],
   "source": [
    "ex.check_status()"
   ]
  },
  {
   "cell_type": "code",
   "execution_count": null,
   "metadata": {},
   "outputs": [],
   "source": [
    "ex.tool.print_target_frequencies()"
   ]
  },
  {
   "cell_type": "code",
   "execution_count": null,
   "metadata": {},
   "outputs": [],
   "source": [
    "result = ex.check_waveform()"
   ]
  },
  {
   "cell_type": "code",
   "execution_count": null,
   "metadata": {},
   "outputs": [],
   "source": [
    "result_rabi = ex.obtain_rabi_params()"
   ]
  },
  {
   "cell_type": "code",
   "execution_count": null,
   "metadata": {},
   "outputs": [],
   "source": [
    "result_hpi = ex.calibrate_hpi_pulse()\n",
    "result_pi = ex.calibrate_pi_pulse()\n",
    "result_drag_hpi = ex.calibrate_drag_hpi_pulse()\n",
    "result_drag_pi = ex.calibrate_drag_pi_pulse()\n",
    "ex.save_defaults()"
   ]
  },
  {
   "cell_type": "code",
   "execution_count": null,
   "metadata": {},
   "outputs": [],
   "source": [
    "target = ex.qubit_labels[0]\n",
    "\n",
    "drag_hpi = ex.drag_hpi_pulse[target]\n",
    "\n",
    "drag_hpi.plot()"
   ]
  },
  {
   "cell_type": "code",
   "execution_count": null,
   "metadata": {},
   "outputs": [],
   "source": [
    "result = ex.repeat_sequence(ex.drag_hpi_pulse)"
   ]
  },
  {
   "cell_type": "code",
   "execution_count": null,
   "metadata": {},
   "outputs": [],
   "source": [
    "result = ex.rb_experiment(\n",
    "    target=target,\n",
    "    n_cliffords_range=np.arange(0, 1001, 100),\n",
    "    x90=drag_hpi,\n",
    "    save_image=True,\n",
    ")"
   ]
  },
  {
   "cell_type": "code",
   "execution_count": null,
   "metadata": {},
   "outputs": [],
   "source": [
    "result = ex.randomized_benchmarking(\n",
    "    target=target,\n",
    "    n_cliffords_range=np.arange(0, 1001, 100),\n",
    "    n_trials=30,\n",
    "    x90=drag_hpi,\n",
    "    save_image=True,\n",
    ")"
   ]
  },
  {
   "cell_type": "code",
   "execution_count": null,
   "metadata": {},
   "outputs": [],
   "source": [
    "from qubex.clifford import Clifford\n",
    "\n",
    "result = ex.interleaved_randomized_benchmarking(\n",
    "    target=target,\n",
    "    interleaved_waveform=drag_hpi,\n",
    "    interleaved_clifford=Clifford.X90(),\n",
    "    n_cliffords_range=range(0, 1001, 100),\n",
    "    n_trials=30,\n",
    "    x90=drag_hpi,\n",
    "    save_image=True,\n",
    ")"
   ]
  }
 ],
 "metadata": {
  "kernelspec": {
   "display_name": "Python 3",
   "language": "python",
   "name": "python3"
  },
  "language_info": {
   "codemirror_mode": {
    "name": "ipython",
    "version": 3
   },
   "file_extension": ".py",
   "mimetype": "text/x-python",
   "name": "python",
   "nbconvert_exporter": "python",
   "pygments_lexer": "ipython3",
   "version": "3.9.18"
  }
 },
 "nbformat": 4,
 "nbformat_minor": 2
}
