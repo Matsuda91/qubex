{
 "cells": [
  {
   "cell_type": "code",
   "execution_count": null,
   "metadata": {},
   "outputs": [],
   "source": [
    "%load_ext autoreload\n",
    "%autoreload 2"
   ]
  },
  {
   "cell_type": "code",
   "execution_count": null,
   "metadata": {},
   "outputs": [],
   "source": [
    "import numpy as np\n",
    "from qubex.experiment import Experiment\n",
    "\n",
    "chip_id = \"***\"\n",
    "qubits = [\n",
    "    \"Q**\",\n",
    "    \"Q**\",\n",
    "    \"Q**\",\n",
    "    \"Q**\",\n",
    "]\n",
    "ex = Experiment(\n",
    "    chip_id=chip_id,\n",
    "    qubits=qubits,\n",
    "    config_dir=\"***\",\n",
    ")"
   ]
  },
  {
   "cell_type": "code",
   "execution_count": null,
   "metadata": {},
   "outputs": [],
   "source": [
    "ex.check_status()"
   ]
  },
  {
   "cell_type": "code",
   "execution_count": null,
   "metadata": {},
   "outputs": [],
   "source": [
    "result = ex.check_waveform(qubits)"
   ]
  },
  {
   "cell_type": "code",
   "execution_count": null,
   "metadata": {},
   "outputs": [],
   "source": [
    "result_rabi = ex.obtain_rabi_params(qubits)"
   ]
  },
  {
   "cell_type": "code",
   "execution_count": null,
   "metadata": {},
   "outputs": [],
   "source": [
    "result_hpi = ex.calibrate_hpi_pulse(qubits)\n",
    "result_pi = ex.calibrate_pi_pulse(qubits)\n",
    "result_drag_hpi = ex.calibrate_drag_hpi_pulse(qubits)\n",
    "result_drag_pi = ex.calibrate_drag_pi_pulse(qubits)\n",
    "ex.save_defaults()"
   ]
  },
  {
   "cell_type": "code",
   "execution_count": null,
   "metadata": {},
   "outputs": [],
   "source": [
    "target = qubits[0]\n",
    "\n",
    "drag_hpi = ex.drag_hpi_pulse[target]\n",
    "\n",
    "drag_hpi.plot()"
   ]
  },
  {
   "cell_type": "code",
   "execution_count": null,
   "metadata": {},
   "outputs": [],
   "source": [
    "result = ex.repeat_sequence(ex.drag_hpi_pulse)"
   ]
  },
  {
   "cell_type": "code",
   "execution_count": null,
   "metadata": {},
   "outputs": [],
   "source": [
    "ex.randomized_benchmarking(\n",
    "    target=target,\n",
    "    n_cliffords_range=np.arange(0, 1001, 100),\n",
    "    n_trials=10,\n",
    "    x90=ex.hpi_pulse[target],\n",
    "    spectator_state=\"0\",\n",
    "    shots=1000,\n",
    "    interval=100_000,\n",
    ")"
   ]
  },
  {
   "cell_type": "code",
   "execution_count": null,
   "metadata": {},
   "outputs": [],
   "source": [
    "ex.interleaved_randomized_benchmarking(\n",
    "    target=target,\n",
    "    interleave_waveform=drag_hpi,\n",
    "    interleave_map={\n",
    "        \"I\": (1, \"I\"),\n",
    "        \"X\": (1, \"X\"),\n",
    "        \"Y\": (1, \"Z\"),\n",
    "        \"Z\": (-1, \"Y\"),\n",
    "    },\n",
    "    n_cliffords_range=range(0, 1001, 100),\n",
    "    n_trials=10,\n",
    "    x90=ex.hpi_pulse[target],\n",
    "    spectator_state=\"0\",\n",
    "    show_ref=True,\n",
    "    shots=1000,\n",
    "    interval=100_000,\n",
    ")"
   ]
  }
 ],
 "metadata": {
  "kernelspec": {
   "display_name": ".venv",
   "language": "python",
   "name": "python3"
  },
  "language_info": {
   "codemirror_mode": {
    "name": "ipython",
    "version": 3
   },
   "file_extension": ".py",
   "mimetype": "text/x-python",
   "name": "python",
   "nbconvert_exporter": "python",
   "pygments_lexer": "ipython3",
   "version": "3.9.18"
  }
 },
 "nbformat": 4,
 "nbformat_minor": 2
}
