{
 "cells": [
  {
   "cell_type": "code",
   "execution_count": null,
   "metadata": {},
   "outputs": [],
   "source": [
    "import numpy as np\n",
    "import qubex as qx\n",
    "\n",
    "ex = qx.Experiment(\n",
    "    chip_id=\"xxx\",\n",
    "    muxes=[0],\n",
    ")"
   ]
  },
  {
   "cell_type": "code",
   "execution_count": null,
   "metadata": {},
   "outputs": [],
   "source": [
    "ex.connect()"
   ]
  },
  {
   "cell_type": "code",
   "execution_count": null,
   "metadata": {},
   "outputs": [],
   "source": [
    "ex.check_waveform()"
   ]
  },
  {
   "cell_type": "code",
   "execution_count": null,
   "metadata": {},
   "outputs": [],
   "source": [
    "ex.obtain_rabi_params()"
   ]
  },
  {
   "cell_type": "code",
   "execution_count": null,
   "metadata": {},
   "outputs": [],
   "source": [
    "ex.calibrate_drag_hpi_pulse()"
   ]
  },
  {
   "cell_type": "code",
   "execution_count": null,
   "metadata": {},
   "outputs": [],
   "source": [
    "ex.repeat_sequence(ex.drag_hpi_pulse)"
   ]
  },
  {
   "cell_type": "code",
   "execution_count": null,
   "metadata": {},
   "outputs": [],
   "source": [
    "ex.calibrate_drag_pi_pulse()"
   ]
  },
  {
   "cell_type": "code",
   "execution_count": null,
   "metadata": {},
   "outputs": [],
   "source": [
    "ex.repeat_sequence(ex.drag_pi_pulse)"
   ]
  },
  {
   "cell_type": "code",
   "execution_count": null,
   "metadata": {},
   "outputs": [],
   "source": [
    "ex.calib_note.save()"
   ]
  },
  {
   "cell_type": "code",
   "execution_count": null,
   "metadata": {},
   "outputs": [],
   "source": [
    "target = ex.qubit_labels[0]\n",
    "\n",
    "drag_hpi = ex.drag_hpi_pulse[target]\n",
    "drag_hpi.plot()\n",
    "\n",
    "drag_pi = ex.drag_pi_pulse[target]\n",
    "drag_pi.plot()"
   ]
  },
  {
   "cell_type": "code",
   "execution_count": null,
   "metadata": {},
   "outputs": [],
   "source": [
    "ex.randomized_benchmarking(\n",
    "    target,\n",
    "    n_cliffords_range=np.arange(0, 1001, 100),\n",
    "    n_trials=30,\n",
    "    save_image=True,\n",
    ")"
   ]
  },
  {
   "cell_type": "code",
   "execution_count": null,
   "metadata": {},
   "outputs": [],
   "source": [
    "ex.interleaved_randomized_benchmarking(\n",
    "    target,\n",
    "    interleaved_clifford=\"X90\",\n",
    "    n_cliffords_range=range(0, 1001, 100),\n",
    "    n_trials=30,\n",
    "    save_image=True,\n",
    ")"
   ]
  },
  {
   "cell_type": "code",
   "execution_count": null,
   "metadata": {},
   "outputs": [],
   "source": [
    "ex.interleaved_randomized_benchmarking(\n",
    "    target,\n",
    "    interleaved_clifford=\"X180\",\n",
    "    n_cliffords_range=range(0, 1001, 100),\n",
    "    n_trials=30,\n",
    "    save_image=True,\n",
    ")"
   ]
  }
 ],
 "metadata": {
  "kernelspec": {
   "display_name": ".venv",
   "language": "python",
   "name": "python3"
  },
  "language_info": {
   "codemirror_mode": {
    "name": "ipython",
    "version": 3
   },
   "file_extension": ".py",
   "mimetype": "text/x-python",
   "name": "python",
   "nbconvert_exporter": "python",
   "pygments_lexer": "ipython3",
   "version": "3.9.18"
  }
 },
 "nbformat": 4,
 "nbformat_minor": 2
}
