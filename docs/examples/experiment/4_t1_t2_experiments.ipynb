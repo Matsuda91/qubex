{
 "cells": [
  {
   "cell_type": "code",
   "execution_count": null,
   "metadata": {},
   "outputs": [],
   "source": [
    "import numpy as np\n",
    "import qubex as qx\n",
    "\n",
    "ex = qx.Experiment(\n",
    "    chip_id=\"xxx\",\n",
    "    qubits=[0],\n",
    ")"
   ]
  },
  {
   "cell_type": "code",
   "execution_count": null,
   "metadata": {},
   "outputs": [],
   "source": [
    "ex.connect()"
   ]
  },
  {
   "cell_type": "code",
   "execution_count": null,
   "metadata": {},
   "outputs": [],
   "source": [
    "ex.check_waveform()"
   ]
  },
  {
   "cell_type": "code",
   "execution_count": null,
   "metadata": {},
   "outputs": [],
   "source": [
    "ex.obtain_rabi_params()\n",
    "ex.calibrate_hpi_pulse()\n",
    "ex.calib_note.save()"
   ]
  },
  {
   "cell_type": "code",
   "execution_count": null,
   "metadata": {},
   "outputs": [],
   "source": [
    "# Conduct a T1 experiment\n",
    "result_t1 = ex.t1_experiment(\n",
    "    ex.qubit_labels,\n",
    "    time_range=np.logspace(\n",
    "        np.log10(100),\n",
    "        np.log10(100 * 1000),\n",
    "        51,\n",
    "    ),\n",
    "    save_image=True,\n",
    ")"
   ]
  },
  {
   "cell_type": "code",
   "execution_count": null,
   "metadata": {},
   "outputs": [],
   "source": [
    "# Conduct a T2 (echo) experiment\n",
    "result_t2 = ex.t2_experiment(\n",
    "    ex.qubit_labels,\n",
    "    time_range=np.logspace(\n",
    "        np.log10(300),\n",
    "        np.log10(100 * 1000),\n",
    "        51,\n",
    "    ),\n",
    "    save_image=True,\n",
    ")"
   ]
  },
  {
   "cell_type": "code",
   "execution_count": null,
   "metadata": {},
   "outputs": [],
   "source": [
    "# Conduct a Ramsey experiment with spectator |0>\n",
    "result_ramsey_0 = ex.ramsey_experiment(\n",
    "    ex.qubit_labels,\n",
    "    time_range=np.arange(0, 10_001, 100),\n",
    "    detuning=0.001,\n",
    "    spectator_state=\"0\",\n",
    ")"
   ]
  },
  {
   "cell_type": "code",
   "execution_count": null,
   "metadata": {},
   "outputs": [],
   "source": [
    "# Conduct a Ramsey experiment with spectator |1>\n",
    "result_ramsey_1 = ex.ramsey_experiment(\n",
    "    ex.qubit_labels,\n",
    "    time_range=np.arange(0, 10_001, 100),\n",
    "    detuning=0.001,\n",
    "    spectator_state=\"1\",\n",
    ")"
   ]
  },
  {
   "cell_type": "code",
   "execution_count": null,
   "metadata": {},
   "outputs": [],
   "source": [
    "# Update `qubit_frequency` in props.yaml manually and reload\n",
    "ex.reload()\n",
    "\n",
    "# Check the Rabi oscillation\n",
    "ex.obtain_rabi_params()"
   ]
  }
 ],
 "metadata": {
  "kernelspec": {
   "display_name": ".venv",
   "language": "python",
   "name": "python3"
  },
  "language_info": {
   "codemirror_mode": {
    "name": "ipython",
    "version": 3
   },
   "file_extension": ".py",
   "mimetype": "text/x-python",
   "name": "python",
   "nbconvert_exporter": "python",
   "pygments_lexer": "ipython3",
   "version": "3.9.18"
  }
 },
 "nbformat": 4,
 "nbformat_minor": 2
}
