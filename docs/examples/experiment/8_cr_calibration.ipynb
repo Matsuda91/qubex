{
 "cells": [
  {
   "cell_type": "code",
   "execution_count": 1,
   "metadata": {},
   "outputs": [],
   "source": [
    "%load_ext autoreload\n",
    "%autoreload 2"
   ]
  },
  {
   "cell_type": "code",
   "execution_count": null,
   "metadata": {},
   "outputs": [],
   "source": [
    "import numpy as np\n",
    "\n",
    "from qubex.experiment import Experiment\n",
    "\n",
    "ex = Experiment(\n",
    "    chip_id=\"16Q\",\n",
    "    qubits=[8, 10],\n",
    "    config_dir=\"/home/shared/config\",\n",
    ")"
   ]
  },
  {
   "cell_type": "code",
   "execution_count": null,
   "metadata": {},
   "outputs": [],
   "source": [
    "ex.tool.print_target_frequencies()\n",
    "# ex.configure()"
   ]
  },
  {
   "cell_type": "code",
   "execution_count": null,
   "metadata": {},
   "outputs": [],
   "source": [
    "result_rabi = ex.obtain_rabi_params()\n",
    "result_hpi = ex.calibrate_hpi_pulse()\n",
    "result_pi = ex.calibrate_pi_pulse()\n",
    "result_drag_hpi = ex.calibrate_drag_hpi_pulse()\n",
    "result_drag_pi = ex.calibrate_drag_pi_pulse()\n",
    "result_classifier = ex.build_classifier()"
   ]
  },
  {
   "cell_type": "code",
   "execution_count": 5,
   "metadata": {},
   "outputs": [],
   "source": [
    "cr_control = ex.qubit_labels[0]\n",
    "cr_target = ex.qubit_labels[1]\n",
    "cr_pair = (cr_control, cr_target)\n",
    "\n",
    "cr_duration = 100\n",
    "cr_ramptime = 40"
   ]
  },
  {
   "cell_type": "code",
   "execution_count": null,
   "metadata": {},
   "outputs": [],
   "source": [
    "result_cr = ex.obtain_cr_params(*cr_pair)"
   ]
  },
  {
   "cell_type": "code",
   "execution_count": null,
   "metadata": {},
   "outputs": [],
   "source": [
    "result_cr_calib = ex.calibrate_zx90_by_amplitude(\n",
    "    *cr_pair,\n",
    "    duration=cr_duration,\n",
    "    ramptime=cr_ramptime,\n",
    ")\n",
    "\n",
    "root = result_cr_calib[\"root\"]"
   ]
  },
  {
   "cell_type": "code",
   "execution_count": null,
   "metadata": {},
   "outputs": [],
   "source": [
    "result_cr_calib = ex.calibrate_zx90_by_amplitude(\n",
    "    *cr_pair,\n",
    "    duration=cr_duration,\n",
    "    ramptime=cr_ramptime,\n",
    "    amplitude_range=np.linspace(root - 0.1, root + 0.1, 100),\n",
    ")"
   ]
  },
  {
   "cell_type": "code",
   "execution_count": null,
   "metadata": {},
   "outputs": [],
   "source": [
    "zx90 = ex.zx90(*cr_pair)\n",
    "\n",
    "zx90.plot()"
   ]
  },
  {
   "cell_type": "code",
   "execution_count": null,
   "metadata": {},
   "outputs": [],
   "source": [
    "result = ex.repeat_sequence(zx90, repetitions=4)"
   ]
  },
  {
   "cell_type": "code",
   "execution_count": null,
   "metadata": {},
   "outputs": [],
   "source": [
    "result = ex.pulse_tomography(zx90.repeated(4), initial_state={cr_control: \"0\"})"
   ]
  },
  {
   "cell_type": "code",
   "execution_count": null,
   "metadata": {},
   "outputs": [],
   "source": [
    "result = ex.pulse_tomography(zx90.repeated(4), initial_state={cr_control: \"1\"})"
   ]
  },
  {
   "cell_type": "code",
   "execution_count": null,
   "metadata": {},
   "outputs": [],
   "source": [
    "ex.measure_bell_state(*cr_pair)"
   ]
  },
  {
   "cell_type": "code",
   "execution_count": null,
   "metadata": {},
   "outputs": [],
   "source": [
    "result_rb = ex.randomized_benchmarking(\n",
    "    target=f\"{cr_control}-{cr_target}\",\n",
    "    n_cliffords_range=np.arange(0, 21, 2),\n",
    "    n_trials=30,\n",
    ")"
   ]
  },
  {
   "cell_type": "code",
   "execution_count": null,
   "metadata": {},
   "outputs": [],
   "source": [
    "result_irb = ex.interleaved_randomized_benchmarking(\n",
    "    target=f\"{cr_control}-{cr_target}\",\n",
    "    n_cliffords_range=np.arange(0, 21, 2),\n",
    "    n_trials=30,\n",
    "    interleaved_waveform=zx90,\n",
    "    interleaved_clifford=ex.clifford[\"ZX90\"],\n",
    ")"
   ]
  }
 ],
 "metadata": {
  "kernelspec": {
   "display_name": "Python 3",
   "language": "python",
   "name": "python3"
  },
  "language_info": {
   "codemirror_mode": {
    "name": "ipython",
    "version": 3
   },
   "file_extension": ".py",
   "mimetype": "text/x-python",
   "name": "python",
   "nbconvert_exporter": "python",
   "pygments_lexer": "ipython3",
   "version": "3.9.18"
  }
 },
 "nbformat": 4,
 "nbformat_minor": 2
}
