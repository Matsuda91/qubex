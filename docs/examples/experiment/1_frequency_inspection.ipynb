{
 "cells": [
  {
   "cell_type": "code",
   "execution_count": null,
   "metadata": {},
   "outputs": [],
   "source": [
    "%load_ext autoreload\n",
    "%autoreload 2"
   ]
  },
  {
   "cell_type": "code",
   "execution_count": null,
   "metadata": {},
   "outputs": [],
   "source": [
    "# Install qubex library if not already installed\n",
    "# !pip install \"qubex[backend] @ git+https://github.com/amachino/qubex.git\""
   ]
  },
  {
   "cell_type": "code",
   "execution_count": null,
   "metadata": {},
   "outputs": [],
   "source": [
    "import numpy as np\n",
    "from qubex.experiment import Experiment\n",
    "\n",
    "chip_id = \"xxx\"\n",
    "qubits = [\n",
    "    \"xxx\",\n",
    "    \"xxx\",\n",
    "    \"xxx\",\n",
    "    \"xxx\",\n",
    "]\n",
    "\n",
    "ex = Experiment(\n",
    "    chip_id=chip_id,\n",
    "    qubits=qubits,\n",
    "    config_dir=\"xxx\",\n",
    ")"
   ]
  },
  {
   "cell_type": "code",
   "execution_count": null,
   "metadata": {},
   "outputs": [],
   "source": [
    "ex.check_status()"
   ]
  },
  {
   "cell_type": "code",
   "execution_count": null,
   "metadata": {},
   "outputs": [],
   "source": [
    "result = ex.check_rabi(qubits)"
   ]
  },
  {
   "cell_type": "code",
   "execution_count": null,
   "metadata": {},
   "outputs": [],
   "source": [
    "# scan resonator frequencies\n",
    "result = ex.scan_resonator_frequencies(\n",
    "    qubits[0],\n",
    "    frequency_range=np.arange(9.8, 10.3, 0.002),\n",
    "    shots=100,\n",
    ")"
   ]
  },
  {
   "cell_type": "code",
   "execution_count": null,
   "metadata": {},
   "outputs": [],
   "source": [
    "# scan qubit frequencies\n",
    "result = ex.scan_qubit_frequencies(\n",
    "    qubits[0],\n",
    "    frequency_range=np.arange(7.0, 7.5, 0.005),\n",
    "    shots=1000,\n",
    ")"
   ]
  },
  {
   "cell_type": "code",
   "execution_count": null,
   "metadata": {},
   "outputs": [],
   "source": [
    "# calibrate control frequency\n",
    "ex.calibrate_control_frequency(\n",
    "    qubits,\n",
    "    detuning_range=np.linspace(-0.01, 0.01, 15),\n",
    "    time_range=range(0, 101, 8),\n",
    "    shots=500,\n",
    ")"
   ]
  },
  {
   "cell_type": "code",
   "execution_count": null,
   "metadata": {},
   "outputs": [],
   "source": [
    "# calibrate readout frequency\n",
    "ex.calibrate_readout_frequency(\n",
    "    qubits,\n",
    "    detuning_range=np.linspace(-0.01, 0.01, 15),\n",
    "    time_range=range(0, 101, 8),\n",
    "    shots=500,\n",
    ")"
   ]
  }
 ],
 "metadata": {
  "kernelspec": {
   "display_name": ".venv",
   "language": "python",
   "name": "python3"
  },
  "language_info": {
   "codemirror_mode": {
    "name": "ipython",
    "version": 3
   },
   "file_extension": ".py",
   "mimetype": "text/x-python",
   "name": "python",
   "nbconvert_exporter": "python",
   "pygments_lexer": "ipython3",
   "version": "3.9.18"
  }
 },
 "nbformat": 4,
 "nbformat_minor": 2
}
