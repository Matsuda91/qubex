{
 "cells": [
  {
   "cell_type": "code",
   "execution_count": null,
   "metadata": {},
   "outputs": [],
   "source": [
    "%load_ext autoreload\n",
    "%autoreload 2"
   ]
  },
  {
   "cell_type": "code",
   "execution_count": null,
   "metadata": {},
   "outputs": [],
   "source": [
    "import numpy as np\n",
    "from qubex.experiment import Experiment\n",
    "\n",
    "chip_id = \"xxx\"\n",
    "qubits = [\n",
    "    \"xxx\",\n",
    "    \"xxx\",\n",
    "    \"xxx\",\n",
    "    \"xxx\",\n",
    "]\n",
    "\n",
    "ex = Experiment(\n",
    "    chip_id=chip_id,\n",
    "    qubits=qubits,\n",
    "    config_dir=\"xxx\",\n",
    ")"
   ]
  },
  {
   "cell_type": "code",
   "execution_count": null,
   "metadata": {},
   "outputs": [],
   "source": [
    "result = ex.check_rabi(qubits)"
   ]
  },
  {
   "cell_type": "code",
   "execution_count": null,
   "metadata": {},
   "outputs": [],
   "source": [
    "# measure phase shift\n",
    "phase_shift = ex.measure_phase_shift_by_transmission_line(\n",
    "    qubits[0],\n",
    "    frequency_range=np.arange(9.80, 9.86, 0.002),\n",
    "    shots=1000,\n",
    ")"
   ]
  },
  {
   "cell_type": "code",
   "execution_count": null,
   "metadata": {},
   "outputs": [],
   "source": [
    "# sweep readout frequency to find resonator frequency\n",
    "result = ex.scan_resonator_frequencies(\n",
    "    qubits[0],\n",
    "    frequency_range=np.arange(9.75, 10.75, 0.002),\n",
    "    phase_shift=phase_shift,\n",
    "    shots=100,\n",
    ")"
   ]
  },
  {
   "cell_type": "code",
   "execution_count": null,
   "metadata": {},
   "outputs": [],
   "source": [
    "# sweep readout frequency and power\n",
    "result = ex.resonator_spectroscopy(\n",
    "    qubits[0],\n",
    "    frequency_range=np.arange(9.75, 10.75, 0.002),\n",
    "    power_range=np.arange(-60, 5, 5),\n",
    "    phase_shift=phase_shift,\n",
    "    shots=100,\n",
    ")"
   ]
  },
  {
   "cell_type": "code",
   "execution_count": null,
   "metadata": {},
   "outputs": [],
   "source": [
    "f_center = 10.123\n",
    "\n",
    "# measure reflection coefficient]\n",
    "result = ex.measure_reflection_coefficient(\n",
    "    qubits[0],\n",
    "    frequency_range=np.arange(f_center * 0.999, f_center * 1.001, 0.001),\n",
    "    phase_shift=phase_shift,\n",
    "    shots=1000,\n",
    ")"
   ]
  },
  {
   "cell_type": "code",
   "execution_count": null,
   "metadata": {},
   "outputs": [],
   "source": [
    "# sweep control frequency to find qubit frequency\n",
    "result = ex.scan_qubit_frequencies(\n",
    "    qubits[0],\n",
    "    frequency_range=np.arange(6.5, 9.5, 0.005),\n",
    "    readout_amplitude=0.01,\n",
    "    shots=500,\n",
    ")"
   ]
  },
  {
   "cell_type": "code",
   "execution_count": null,
   "metadata": {},
   "outputs": [],
   "source": [
    "# sweep control frequency and power\n",
    "result = ex.qubit_spectroscopy(\n",
    "    qubits[0],\n",
    "    frequency_range=np.arange(6.5, 9.5, 0.005),\n",
    "    power_range=np.arange(-60, 5, 5),\n",
    "    readout_amplitude=0.01,\n",
    "    shots=500,\n",
    ")"
   ]
  },
  {
   "cell_type": "code",
   "execution_count": null,
   "metadata": {},
   "outputs": [],
   "source": [
    "# calibrate control frequency\n",
    "ex.calibrate_control_frequency(\n",
    "    qubits,\n",
    "    detuning_range=np.linspace(-0.01, 0.01, 15),\n",
    "    time_range=range(0, 101, 8),\n",
    "    shots=500,\n",
    ")"
   ]
  },
  {
   "cell_type": "code",
   "execution_count": null,
   "metadata": {},
   "outputs": [],
   "source": [
    "# calibrate readout frequency\n",
    "ex.calibrate_readout_frequency(\n",
    "    qubits,\n",
    "    detuning_range=np.linspace(-0.01, 0.01, 15),\n",
    "    time_range=range(0, 101, 8),\n",
    "    shots=500,\n",
    ")"
   ]
  }
 ],
 "metadata": {
  "kernelspec": {
   "display_name": ".venv",
   "language": "python",
   "name": "python3"
  },
  "language_info": {
   "codemirror_mode": {
    "name": "ipython",
    "version": 3
   },
   "file_extension": ".py",
   "mimetype": "text/x-python",
   "name": "python",
   "nbconvert_exporter": "python",
   "pygments_lexer": "ipython3",
   "version": "3.9.18"
  }
 },
 "nbformat": 4,
 "nbformat_minor": 2
}
