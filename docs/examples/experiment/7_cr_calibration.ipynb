{
 "cells": [
  {
   "cell_type": "code",
   "execution_count": null,
   "metadata": {},
   "outputs": [],
   "source": [
    "%load_ext autoreload\n",
    "%autoreload 2"
   ]
  },
  {
   "cell_type": "code",
   "execution_count": null,
   "metadata": {},
   "outputs": [],
   "source": [
    "import numpy as np\n",
    "\n",
    "from qubex.experiment import Experiment\n",
    "\n",
    "ex = Experiment(\n",
    "    chip_id=\"xxQ\",\n",
    "    qubits=[8, 10],\n",
    ")"
   ]
  },
  {
   "cell_type": "code",
   "execution_count": null,
   "metadata": {},
   "outputs": [],
   "source": [
    "result_rabi = ex.obtain_rabi_params()\n",
    "result_hpi = ex.calibrate_hpi_pulse()\n",
    "result_pi = ex.calibrate_pi_pulse()\n",
    "result_drag_hpi = ex.calibrate_drag_hpi_pulse()\n",
    "result_drag_pi = ex.calibrate_drag_pi_pulse()\n",
    "result_classifier = ex.build_classifier()"
   ]
  },
  {
   "cell_type": "code",
   "execution_count": 28,
   "metadata": {},
   "outputs": [],
   "source": [
    "cr_control = ex.qubit_labels[0]\n",
    "cr_target = ex.qubit_labels[1]\n",
    "cr_pair = (cr_control, cr_target)\n",
    "cr_label = f\"{cr_control}-{cr_target}\""
   ]
  },
  {
   "cell_type": "code",
   "execution_count": null,
   "metadata": {},
   "outputs": [],
   "source": [
    "result_cr = ex.obtain_cr_params(\n",
    "    *cr_pair,\n",
    "    flattop_range=np.arange(0, 401, 10),\n",
    "    cr_amplitude=1.0,\n",
    "    cr_ramptime=50,\n",
    "    n_iterations=2,\n",
    ")"
   ]
  },
  {
   "cell_type": "code",
   "execution_count": null,
   "metadata": {},
   "outputs": [],
   "source": [
    "cr_duration = 100\n",
    "cr_ramptime = 40\n",
    "\n",
    "result_cr_calib = ex.calibrate_zx90(\n",
    "    *cr_pair,\n",
    "    duration=cr_duration,\n",
    "    ramptime=cr_ramptime,\n",
    "    amplitude_range=np.linspace(0.4, 0.6, 50),\n",
    ")"
   ]
  },
  {
   "cell_type": "code",
   "execution_count": null,
   "metadata": {},
   "outputs": [],
   "source": [
    "center = result_cr_calib[\"calibrated_value\"]\n",
    "\n",
    "result_cr_calib = ex.calibrate_zx90(\n",
    "    *cr_pair,\n",
    "    duration=cr_duration,\n",
    "    ramptime=cr_ramptime,\n",
    "    amplitude_range=np.linspace(center - 0.1, center + 0.1, 51),\n",
    ")"
   ]
  },
  {
   "cell_type": "code",
   "execution_count": null,
   "metadata": {},
   "outputs": [],
   "source": [
    "zx90 = ex.zx90(*cr_pair)\n",
    "\n",
    "zx90.plot()"
   ]
  },
  {
   "cell_type": "code",
   "execution_count": null,
   "metadata": {},
   "outputs": [],
   "source": [
    "result = ex.repeat_sequence(zx90)"
   ]
  },
  {
   "cell_type": "code",
   "execution_count": null,
   "metadata": {},
   "outputs": [],
   "source": [
    "result = ex.pulse_tomography(zx90.repeated(4), initial_state={cr_control: \"0\"})"
   ]
  },
  {
   "cell_type": "code",
   "execution_count": null,
   "metadata": {},
   "outputs": [],
   "source": [
    "result = ex.pulse_tomography(zx90.repeated(4), initial_state={cr_control: \"1\"})"
   ]
  },
  {
   "cell_type": "code",
   "execution_count": null,
   "metadata": {},
   "outputs": [],
   "source": [
    "result_bell = ex.measure_bell_state(*cr_pair)"
   ]
  },
  {
   "cell_type": "code",
   "execution_count": null,
   "metadata": {},
   "outputs": [],
   "source": [
    "result_irb = ex.interleaved_randomized_benchmarking(\n",
    "    target=cr_label,\n",
    "    n_cliffords_range=np.arange(0, 21, 2),\n",
    "    n_trials=30,\n",
    "    interleaved_waveform=zx90,\n",
    "    interleaved_clifford=ex.clifford[\"ZX90\"],\n",
    ")"
   ]
  },
  {
   "cell_type": "code",
   "execution_count": null,
   "metadata": {},
   "outputs": [],
   "source": [
    "ex.save_defaults()"
   ]
  }
 ],
 "metadata": {
  "kernelspec": {
   "display_name": ".venv",
   "language": "python",
   "name": "python3"
  },
  "language_info": {
   "codemirror_mode": {
    "name": "ipython",
    "version": 3
   },
   "file_extension": ".py",
   "mimetype": "text/x-python",
   "name": "python",
   "nbconvert_exporter": "python",
   "pygments_lexer": "ipython3",
   "version": "3.9.18"
  }
 },
 "nbformat": 4,
 "nbformat_minor": 2
}
