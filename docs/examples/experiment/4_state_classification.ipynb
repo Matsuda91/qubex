{
 "cells": [
  {
   "cell_type": "code",
   "execution_count": 1,
   "metadata": {},
   "outputs": [],
   "source": [
    "%load_ext autoreload\n",
    "%autoreload 2"
   ]
  },
  {
   "cell_type": "code",
   "execution_count": null,
   "metadata": {},
   "outputs": [],
   "source": [
    "import numpy as np\n",
    "\n",
    "from qubex.experiment import Experiment\n",
    "\n",
    "ex = Experiment(\n",
    "    chip_id=\"xxQ\",\n",
    "    muxes=[0],\n",
    "    config_dir=\"/home/shared/config\",\n",
    ")"
   ]
  },
  {
   "cell_type": "code",
   "execution_count": null,
   "metadata": {},
   "outputs": [],
   "source": [
    "ex.check_status()"
   ]
  },
  {
   "cell_type": "code",
   "execution_count": null,
   "metadata": {},
   "outputs": [],
   "source": [
    "result = ex.check_waveform()"
   ]
  },
  {
   "cell_type": "code",
   "execution_count": null,
   "metadata": {},
   "outputs": [],
   "source": [
    "result_rabi = ex.obtain_rabi_params()\n",
    "result_hpi = ex.calibrate_hpi_pulse()\n",
    "result_pi = ex.calibrate_pi_pulse()\n",
    "ex.save_defaults()"
   ]
  },
  {
   "cell_type": "code",
   "execution_count": null,
   "metadata": {},
   "outputs": [],
   "source": [
    "result = ex.measure_state_distribution(\n",
    "    ex.qubit_labels,\n",
    "    n_states=2,\n",
    ")"
   ]
  },
  {
   "cell_type": "code",
   "execution_count": null,
   "metadata": {},
   "outputs": [],
   "source": [
    "result = ex.build_classifier(\n",
    "    ex.qubit_labels,\n",
    "    n_states=2,\n",
    ")"
   ]
  },
  {
   "cell_type": "code",
   "execution_count": null,
   "metadata": {},
   "outputs": [],
   "source": [
    "result_ef_rabi = ex.obtain_ef_rabi_params()\n",
    "result_ef_hpi = ex.calibrate_ef_hpi_pulse()\n",
    "result_ef_pi = ex.calibrate_ef_pi_pulse()\n",
    "ex.save_defaults()"
   ]
  },
  {
   "cell_type": "code",
   "execution_count": null,
   "metadata": {},
   "outputs": [],
   "source": [
    "ex.build_classifier(\n",
    "    ex.qubit_labels,\n",
    "    n_states=3,\n",
    ")"
   ]
  }
 ],
 "metadata": {
  "kernelspec": {
   "display_name": "Python 3",
   "language": "python",
   "name": "python3"
  },
  "language_info": {
   "codemirror_mode": {
    "name": "ipython",
    "version": 3
   },
   "file_extension": ".py",
   "mimetype": "text/x-python",
   "name": "python",
   "nbconvert_exporter": "python",
   "pygments_lexer": "ipython3",
   "version": "3.9.18"
  }
 },
 "nbformat": 4,
 "nbformat_minor": 2
}
