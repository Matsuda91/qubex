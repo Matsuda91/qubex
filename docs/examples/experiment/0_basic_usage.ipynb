{
 "cells": [
  {
   "cell_type": "code",
   "execution_count": null,
   "metadata": {},
   "outputs": [],
   "source": [
    "%load_ext autoreload\n",
    "%autoreload 2"
   ]
  },
  {
   "cell_type": "code",
   "execution_count": null,
   "metadata": {},
   "outputs": [],
   "source": [
    "# Install qubex library if not already installed\n",
    "# !pip install \"git+https://github.com/amachino/qubex.git#egg=qubex[backend]\""
   ]
  },
  {
   "cell_type": "code",
   "execution_count": null,
   "metadata": {},
   "outputs": [],
   "source": [
    "# Import the necessary libraries\n",
    "import numpy as np\n",
    "from qubex.experiment import Experiment\n",
    "\n",
    "# Specify the resources for the experiment\n",
    "chip_id = \"xxx\"\n",
    "qubits = [\n",
    "    \"xxx\",\n",
    "    \"xxx\",\n",
    "    \"xxx\",\n",
    "    \"xxx\",\n",
    "]\n",
    "\n",
    "# Create an instance of the Experiment class\n",
    "ex = Experiment(\n",
    "    chip_id=chip_id,\n",
    "    qubits=qubits,\n",
    "    config_dir=\"xxx\",\n",
    ")"
   ]
  },
  {
   "cell_type": "code",
   "execution_count": null,
   "metadata": {},
   "outputs": [],
   "source": [
    "# Check the status of the measurement devices\n",
    "ex.check_status()"
   ]
  },
  {
   "cell_type": "code",
   "execution_count": null,
   "metadata": {},
   "outputs": [],
   "source": [
    "# Link up the devices\n",
    "ex.linkup()"
   ]
  },
  {
   "cell_type": "code",
   "execution_count": null,
   "metadata": {},
   "outputs": [],
   "source": []
  },
  {
   "cell_type": "code",
   "execution_count": null,
   "metadata": {},
   "outputs": [],
   "source": [
    "# Configure the measurement devices if necessary\n",
    "# ex.configure()"
   ]
  },
  {
   "cell_type": "code",
   "execution_count": null,
   "metadata": {},
   "outputs": [],
   "source": [
    "# Print the wiring information\n",
    "ex.tool.print_wiring_info()"
   ]
  },
  {
   "cell_type": "code",
   "execution_count": null,
   "metadata": {},
   "outputs": [],
   "source": [
    "# Print the chip information\n",
    "ex.tool.print_chip_info()"
   ]
  },
  {
   "cell_type": "code",
   "execution_count": null,
   "metadata": {},
   "outputs": [],
   "source": [
    "# Print the box information\n",
    "ex.tool.print_box_info(\"R20A\")"
   ]
  },
  {
   "cell_type": "code",
   "execution_count": null,
   "metadata": {},
   "outputs": [],
   "source": [
    "# Print the target frequencies\n",
    "ex.tool.print_target_frequencies(qubits)"
   ]
  },
  {
   "cell_type": "code",
   "execution_count": null,
   "metadata": {},
   "outputs": [],
   "source": [
    "# Print the cross-resonance frequencies\n",
    "ex.tool.print_cr_targets(qubits)"
   ]
  },
  {
   "cell_type": "code",
   "execution_count": null,
   "metadata": {},
   "outputs": [],
   "source": [
    "# Get the dictionary of the qubits\n",
    "ex.qubits"
   ]
  },
  {
   "cell_type": "code",
   "execution_count": null,
   "metadata": {},
   "outputs": [],
   "source": [
    "# Get the dictionary of the resonators\n",
    "ex.resonators"
   ]
  },
  {
   "cell_type": "code",
   "execution_count": null,
   "metadata": {},
   "outputs": [],
   "source": [
    "# Get the dictionary of the available targets\n",
    "ex.available_targets"
   ]
  },
  {
   "cell_type": "code",
   "execution_count": null,
   "metadata": {},
   "outputs": [],
   "source": [
    "# Check the readout noise\n",
    "result = ex.check_noise(qubits)"
   ]
  },
  {
   "cell_type": "code",
   "execution_count": null,
   "metadata": {},
   "outputs": [],
   "source": [
    "# Check the readout waveform\n",
    "result = ex.check_waveform(qubits)"
   ]
  },
  {
   "cell_type": "code",
   "execution_count": null,
   "metadata": {},
   "outputs": [],
   "source": [
    "# Measure the qubits with average mode\n",
    "waveform = [0.01 + 0.01j, 0.01 + 0.01j, 0.01 + 0.01j, 0.01 + 0.01j, 0.01 + 0.01j]\n",
    "result = ex.measure(\n",
    "    sequence={\n",
    "        qubits[0]: waveform,\n",
    "        qubits[1]: waveform,\n",
    "        qubits[2]: waveform,\n",
    "    },\n",
    "    mode=\"avg\",\n",
    "    shots=1000,\n",
    "    interval=150_000,\n",
    ")"
   ]
  },
  {
   "cell_type": "code",
   "execution_count": null,
   "metadata": {},
   "outputs": [],
   "source": [
    "# Plot the averaged result\n",
    "result.plot()\n",
    "\n",
    "# Measurement data\n",
    "result.data"
   ]
  },
  {
   "cell_type": "code",
   "execution_count": null,
   "metadata": {},
   "outputs": [],
   "source": [
    "# Measure the qubits with singleshot mode\n",
    "waveform = [0.01 + 0.01j, 0.01 + 0.01j, 0.01 + 0.01j, 0.01 + 0.01j, 0.01 + 0.01j]\n",
    "result = ex.measure(\n",
    "    sequence={\n",
    "        qubits[0]: waveform,\n",
    "        qubits[1]: waveform,\n",
    "        qubits[2]: waveform,\n",
    "    },\n",
    "    mode=\"single\",\n",
    "    shots=1000,\n",
    "    interval=150_000,\n",
    ")"
   ]
  },
  {
   "cell_type": "code",
   "execution_count": null,
   "metadata": {},
   "outputs": [],
   "source": [
    "# Plot the singleshot result\n",
    "result.plot()\n",
    "\n",
    "# Measurement data\n",
    "result.data"
   ]
  },
  {
   "cell_type": "code",
   "execution_count": null,
   "metadata": {},
   "outputs": [],
   "source": [
    "# Check the Rabi oscillation\n",
    "result = ex.check_rabi(qubits)"
   ]
  },
  {
   "cell_type": "code",
   "execution_count": null,
   "metadata": {},
   "outputs": [],
   "source": [
    "# Plot the result of the Rabi oscillation\n",
    "result.plot()"
   ]
  },
  {
   "cell_type": "code",
   "execution_count": null,
   "metadata": {},
   "outputs": [],
   "source": [
    "# Plot the result of the Rabi oscillation with normalization\n",
    "result.plot(normalize=True)"
   ]
  },
  {
   "cell_type": "code",
   "execution_count": null,
   "metadata": {},
   "outputs": [],
   "source": [
    "# Conduct the Rabi experiment with the specified parameters\n",
    "result = ex.rabi_experiment(\n",
    "    amplitudes={\n",
    "        qubits[0]: 0.01,\n",
    "    },\n",
    "    time_range=range(0, 201, 4),\n",
    "    detuning=0.001,\n",
    "    shots=300,\n",
    "    interval=50_000,\n",
    ")"
   ]
  },
  {
   "cell_type": "code",
   "execution_count": null,
   "metadata": {},
   "outputs": [],
   "source": [
    "# Modify the target frequencies temporarily\n",
    "qubit = qubits[0]\n",
    "frequency = ex.targets[qubit].frequency\n",
    "\n",
    "with ex.modified_frequencies({qubit: frequency + 0.1}):\n",
    "    # the frequencies are temporarily modified within the context\n",
    "    print(ex.targets[qubit])\n",
    "\n",
    "# when the context is exited, the frequencies are restored\n",
    "print(ex.targets[qubit])"
   ]
  },
  {
   "cell_type": "code",
   "execution_count": null,
   "metadata": {},
   "outputs": [],
   "source": [
    "# Create a pulse using qubex.pulse\n",
    "from qubex.pulse import FlatTop\n",
    "\n",
    "pulse = FlatTop(\n",
    "    duration=30,\n",
    "    amplitude=0.02,\n",
    "    tau=10,\n",
    ")\n",
    "\n",
    "# Plot the pulse\n",
    "pulse.plot()\n",
    "\n",
    "# Print the pulse values\n",
    "pulse.values"
   ]
  },
  {
   "cell_type": "code",
   "execution_count": null,
   "metadata": {},
   "outputs": [],
   "source": [
    "# Repeat the pulse\n",
    "result = ex.repeat_sequence(\n",
    "    sequence={\n",
    "        qubits[0]: pulse,\n",
    "    },\n",
    "    repetitions=10,\n",
    ")"
   ]
  },
  {
   "cell_type": "code",
   "execution_count": null,
   "metadata": {},
   "outputs": [],
   "source": [
    "# Sweep the amplitude of the pulse\n",
    "result = ex.sweep_parameter(\n",
    "    sequence=lambda x: {\n",
    "        qubits[0]: pulse.scaled(x),\n",
    "    },\n",
    "    sweep_range=np.linspace(0.0, 2.0, 30),\n",
    "    repetitions=4,\n",
    ")"
   ]
  },
  {
   "cell_type": "code",
   "execution_count": null,
   "metadata": {},
   "outputs": [],
   "source": [
    "# Plot the sweep result\n",
    "result.plot(normalize=True)"
   ]
  },
  {
   "cell_type": "code",
   "execution_count": null,
   "metadata": {},
   "outputs": [],
   "source": [
    "# Save the result\n",
    "result.save(\"some_data\", \"description for the data\")"
   ]
  },
  {
   "cell_type": "code",
   "execution_count": null,
   "metadata": {},
   "outputs": [],
   "source": [
    "# Load the result\n",
    "record = ex.load_record(\"data/xxx.json\")\n",
    "\n",
    "record.data"
   ]
  }
 ],
 "metadata": {
  "kernelspec": {
   "display_name": ".venv",
   "language": "python",
   "name": "python3"
  },
  "language_info": {
   "codemirror_mode": {
    "name": "ipython",
    "version": 3
   },
   "file_extension": ".py",
   "mimetype": "text/x-python",
   "name": "python",
   "nbconvert_exporter": "python",
   "pygments_lexer": "ipython3",
   "version": "3.9.18"
  }
 },
 "nbformat": 4,
 "nbformat_minor": 2
}
