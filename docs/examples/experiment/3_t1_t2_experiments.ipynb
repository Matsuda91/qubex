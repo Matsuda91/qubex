{
 "cells": [
  {
   "cell_type": "code",
   "execution_count": 1,
   "metadata": {},
   "outputs": [],
   "source": [
    "%load_ext autoreload\n",
    "%autoreload 2"
   ]
  },
  {
   "cell_type": "code",
   "execution_count": null,
   "metadata": {},
   "outputs": [],
   "source": [
    "import numpy as np\n",
    "\n",
    "from qubex.experiment import Experiment\n",
    "\n",
    "ex = Experiment(\n",
    "    chip_id=\"64Q\",\n",
    "    # muxes=[5],\n",
    "    qubits=[21, 23],\n",
    "    config_dir=\"/home/shared/config\",\n",
    ")"
   ]
  },
  {
   "cell_type": "code",
   "execution_count": null,
   "metadata": {},
   "outputs": [],
   "source": [
    "ex.check_status()"
   ]
  },
  {
   "cell_type": "code",
   "execution_count": null,
   "metadata": {},
   "outputs": [],
   "source": [
    "result = ex.check_waveform()"
   ]
  },
  {
   "cell_type": "code",
   "execution_count": null,
   "metadata": {},
   "outputs": [],
   "source": [
    "result = ex.check_rabi()"
   ]
  },
  {
   "cell_type": "code",
   "execution_count": null,
   "metadata": {},
   "outputs": [],
   "source": [
    "# Conduct a T1 experiment\n",
    "result_t1 = ex.t1_experiment(\n",
    "    ex.qubit_labels,\n",
    "    time_range=np.logspace(\n",
    "        np.log10(100),\n",
    "        np.log10(100 * 1000),\n",
    "        51,\n",
    "    ),\n",
    "    save_image=True,\n",
    ")"
   ]
  },
  {
   "cell_type": "code",
   "execution_count": null,
   "metadata": {},
   "outputs": [],
   "source": [
    "# Conduct a T2 (echo) experiment\n",
    "result_t2 = ex.t2_experiment(\n",
    "    ex.qubit_labels,\n",
    "    time_range=np.logspace(\n",
    "        np.log10(300),\n",
    "        np.log10(100 * 1000),\n",
    "        51,\n",
    "    ),\n",
    "    save_image=True,\n",
    ")"
   ]
  },
  {
   "cell_type": "code",
   "execution_count": null,
   "metadata": {},
   "outputs": [],
   "source": [
    "# Conduct a Ramsey experiment\n",
    "result_ramsey = ex.ramsey_experiment(\n",
    "    ex.qubit_labels,\n",
    "    time_range=np.arange(0, 20_001, 100),\n",
    "    detuning=0.001,\n",
    ")"
   ]
  },
  {
   "cell_type": "code",
   "execution_count": null,
   "metadata": {},
   "outputs": [],
   "source": [
    "# Obtain the effective control frequency as (f_g + f_e) / 2\n",
    "ex.obtain_effective_control_frequency(\n",
    "    ex.qubit_labels[0],\n",
    "    detuning=0.001,\n",
    "    time_range=range(0, 20001, 100),\n",
    ")"
   ]
  }
 ],
 "metadata": {
  "kernelspec": {
   "display_name": "Python 3",
   "language": "python",
   "name": "python3"
  },
  "language_info": {
   "codemirror_mode": {
    "name": "ipython",
    "version": 3
   },
   "file_extension": ".py",
   "mimetype": "text/x-python",
   "name": "python",
   "nbconvert_exporter": "python",
   "pygments_lexer": "ipython3",
   "version": "3.9.18"
  }
 },
 "nbformat": 4,
 "nbformat_minor": 2
}
