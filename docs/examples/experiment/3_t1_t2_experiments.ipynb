{
 "cells": [
  {
   "cell_type": "code",
   "execution_count": null,
   "metadata": {},
   "outputs": [],
   "source": [
    "%load_ext autoreload\n",
    "%autoreload 2"
   ]
  },
  {
   "cell_type": "code",
   "execution_count": null,
   "metadata": {},
   "outputs": [],
   "source": [
    "import numpy as np\n",
    "from qubex.experiment import Experiment\n",
    "\n",
    "chip_id = \"xxx\"\n",
    "qubits = [\n",
    "    \"xxx\",\n",
    "    \"xxx\",\n",
    "    \"xxx\",\n",
    "    \"xxx\",\n",
    "]\n",
    "\n",
    "ex = Experiment(\n",
    "    chip_id=chip_id,\n",
    "    qubits=qubits,\n",
    "    config_dir=\"xxx\",\n",
    ")"
   ]
  },
  {
   "cell_type": "code",
   "execution_count": null,
   "metadata": {},
   "outputs": [],
   "source": [
    "ex.check_status()"
   ]
  },
  {
   "cell_type": "code",
   "execution_count": null,
   "metadata": {},
   "outputs": [],
   "source": [
    "result = ex.check_waveform(qubits)"
   ]
  },
  {
   "cell_type": "code",
   "execution_count": null,
   "metadata": {},
   "outputs": [],
   "source": [
    "result = ex.check_rabi(qubits)"
   ]
  },
  {
   "cell_type": "code",
   "execution_count": null,
   "metadata": {},
   "outputs": [],
   "source": [
    "# measure T1 time\n",
    "result_t1 = ex.t1_experiment(\n",
    "    qubits,\n",
    "    time_range=2 ** np.arange(1, 19),\n",
    "    shots=1024,\n",
    "    interval=100_000,\n",
    ")"
   ]
  },
  {
   "cell_type": "code",
   "execution_count": null,
   "metadata": {},
   "outputs": [],
   "source": [
    "# measure T2 (echo) time\n",
    "result_t2 = ex.t2_experiment(\n",
    "    qubits,\n",
    "    n_cpmg=1,\n",
    "    shots=1024,\n",
    "    interval=100_000,\n",
    ")"
   ]
  },
  {
   "cell_type": "code",
   "execution_count": null,
   "metadata": {},
   "outputs": [],
   "source": [
    "# conduct Ramsey experiment\n",
    "result_ramsey = ex.ramsey_experiment(\n",
    "    qubits,\n",
    "    time_range=np.arange(0, 10_001, 200),\n",
    "    shots=1024,\n",
    "    interval=100_000,\n",
    ")"
   ]
  },
  {
   "cell_type": "code",
   "execution_count": null,
   "metadata": {},
   "outputs": [],
   "source": [
    "ex.obtain_effective_control_frequency(\n",
    "    qubits[0],\n",
    "    detuning=0.0005,\n",
    "    time_range=range(0, 10001, 200),\n",
    ")"
   ]
  },
  {
   "cell_type": "code",
   "execution_count": null,
   "metadata": {},
   "outputs": [],
   "source": [
    "ex.obtain_effective_control_frequency(\n",
    "    qubits[1],\n",
    "    detuning=0.0005,\n",
    "    time_range=range(0, 10001, 200),\n",
    ")"
   ]
  }
 ],
 "metadata": {
  "kernelspec": {
   "display_name": ".venv",
   "language": "python",
   "name": "python3"
  },
  "language_info": {
   "codemirror_mode": {
    "name": "ipython",
    "version": 3
   },
   "file_extension": ".py",
   "mimetype": "text/x-python",
   "name": "python",
   "nbconvert_exporter": "python",
   "pygments_lexer": "ipython3",
   "version": "3.9.18"
  }
 },
 "nbformat": 4,
 "nbformat_minor": 2
}
