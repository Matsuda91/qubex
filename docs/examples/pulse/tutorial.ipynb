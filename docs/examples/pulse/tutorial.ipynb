{
 "cells": [
  {
   "cell_type": "code",
   "execution_count": null,
   "metadata": {},
   "outputs": [],
   "source": [
    "# Install qubex library if not already installed\n",
    "# !pip install git+https://github.com/amachino/qubex.git"
   ]
  },
  {
   "cell_type": "code",
   "execution_count": null,
   "metadata": {},
   "outputs": [],
   "source": [
    "# Import the necessary libraries\n",
    "import numpy as np\n",
    "from qubex.pulse import Blank, FlatTop, Gauss, Pulse, PulseSequence"
   ]
  },
  {
   "cell_type": "code",
   "execution_count": null,
   "metadata": {},
   "outputs": [],
   "source": [
    "# Create a flat-top pulse\n",
    "pulse = FlatTop(\n",
    "    duration=30,\n",
    "    amplitude=0.01,\n",
    "    tau=10,\n",
    ")\n",
    "\n",
    "# Plot the pulse\n",
    "pulse.plot()\n",
    "\n",
    "# Print the pulse values\n",
    "pulse.values"
   ]
  },
  {
   "cell_type": "code",
   "execution_count": null,
   "metadata": {},
   "outputs": [],
   "source": [
    "# Scale the amplitude of the pulse\n",
    "pulse.scaled(1.5).plot()\n",
    "\n",
    "# Shift the phase of the pulse\n",
    "pulse.shifted(np.pi).plot()\n",
    "\n",
    "# Repeat the pulse\n",
    "pulse.repeated(3).plot()"
   ]
  },
  {
   "cell_type": "code",
   "execution_count": null,
   "metadata": {},
   "outputs": [],
   "source": [
    "# Create a Gaussian pulse\n",
    "pulse = Gauss(\n",
    "    duration=60,\n",
    "    amplitude=0.01,\n",
    "    sigma=10,\n",
    ")\n",
    "\n",
    "# Create a pulse sequence\n",
    "seq = PulseSequence(\n",
    "    [\n",
    "        pulse,\n",
    "        Blank(80),\n",
    "        pulse.shifted(np.pi),\n",
    "    ]\n",
    ")\n",
    "\n",
    "# Plot the pulse sequence\n",
    "seq.plot()\n",
    "\n",
    "# Print the pulse sequence values\n",
    "seq.values"
   ]
  },
  {
   "cell_type": "code",
   "execution_count": null,
   "metadata": {},
   "outputs": [],
   "source": [
    "# Create a random I/Q array\n",
    "iq_array = np.random.rand(25) + 1j * np.random.rand(25)\n",
    "\n",
    "# Create a pulse from the I/Q array\n",
    "pulse = Pulse(iq_array)\n",
    "\n",
    "# Plot the pulse\n",
    "pulse.plot()\n",
    "\n",
    "# Print the pulse values\n",
    "pulse.values"
   ]
  }
 ],
 "metadata": {
  "kernelspec": {
   "display_name": ".venv",
   "language": "python",
   "name": "python3"
  },
  "language_info": {
   "codemirror_mode": {
    "name": "ipython",
    "version": 3
   },
   "file_extension": ".py",
   "mimetype": "text/x-python",
   "name": "python",
   "nbconvert_exporter": "python",
   "pygments_lexer": "ipython3",
   "version": "3.9.18"
  }
 },
 "nbformat": 4,
 "nbformat_minor": 2
}
