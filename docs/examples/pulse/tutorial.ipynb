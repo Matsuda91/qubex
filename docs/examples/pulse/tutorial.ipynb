{
 "cells": [
  {
   "cell_type": "code",
   "execution_count": null,
   "metadata": {},
   "outputs": [],
   "source": [
    "# Install qubex library if not already installed\n",
    "# !pip install git+https://github.com/amachino/qubex.git"
   ]
  },
  {
   "cell_type": "code",
   "execution_count": null,
   "metadata": {},
   "outputs": [],
   "source": [
    "# Import the necessary libraries\n",
    "import numpy as np\n",
    "\n",
    "from qubex.pulse import (\n",
    "    Blank,\n",
    "    FlatTop,\n",
    "    Gaussian,\n",
    "    Pulse,\n",
    "    PulseSchedule,\n",
    "    PulseSequence,\n",
    "    VirtualZ,\n",
    ")"
   ]
  },
  {
   "cell_type": "code",
   "execution_count": null,
   "metadata": {},
   "outputs": [],
   "source": [
    "# Create a flat-top pulse\n",
    "pulse = FlatTop(\n",
    "    duration=30,\n",
    "    amplitude=0.01,\n",
    "    tau=10,\n",
    ")\n",
    "\n",
    "# Plot the pulse\n",
    "pulse.plot()\n",
    "\n",
    "# Print the pulse values\n",
    "pulse.values"
   ]
  },
  {
   "cell_type": "code",
   "execution_count": null,
   "metadata": {},
   "outputs": [],
   "source": [
    "# Scale the amplitude of the pulse\n",
    "pulse.scaled(1.5).plot()\n",
    "\n",
    "# Shift the phase of the pulse\n",
    "pulse.shifted(np.pi).plot()\n",
    "\n",
    "# Repeat the pulse\n",
    "pulse.repeated(3).plot()"
   ]
  },
  {
   "cell_type": "code",
   "execution_count": null,
   "metadata": {},
   "outputs": [],
   "source": [
    "# Create a Gaussian pulse\n",
    "pulse = Gaussian(\n",
    "    duration=60,\n",
    "    amplitude=0.01,\n",
    "    sigma=10,\n",
    ")\n",
    "\n",
    "# Create a pulse sequence\n",
    "seq = PulseSequence(\n",
    "    [\n",
    "        pulse,\n",
    "        Blank(80),\n",
    "        pulse.shifted(np.pi),\n",
    "    ]\n",
    ")\n",
    "\n",
    "# Plot the pulse sequence\n",
    "seq.plot()\n",
    "\n",
    "# Print the pulse sequence values\n",
    "seq.values"
   ]
  },
  {
   "cell_type": "code",
   "execution_count": null,
   "metadata": {},
   "outputs": [],
   "source": [
    "# Create a random I/Q array\n",
    "iq_array = np.random.rand(25) + 1j * np.random.rand(25)\n",
    "\n",
    "# Create a pulse from the I/Q array\n",
    "pulse = Pulse(iq_array)\n",
    "\n",
    "# Plot the pulse\n",
    "pulse.plot()\n",
    "\n",
    "# Print the pulse values\n",
    "pulse.values"
   ]
  },
  {
   "cell_type": "code",
   "execution_count": null,
   "metadata": {},
   "outputs": [],
   "source": [
    "# Create a pulse schedule\n",
    "\n",
    "qubits = [\"Q00\", \"Q01\", \"Q02\", \"Q03\"]\n",
    "\n",
    "with PulseSchedule(qubits) as ps:\n",
    "    ps.add(\"Q00\", seq.repeated(2))\n",
    "    ps.add(\"Q01\", seq.shifted(np.pi))\n",
    "    ps.barrier()\n",
    "    ps.add(\"Q02\", seq.repeated(3))\n",
    "    ps.add(\"Q03\", seq.shifted(np.pi / 3))\n",
    "    ps.barrier([\"Q00\", \"Q01\"])\n",
    "    ps.add(\"Q00\", pulse.scaled(0.01))\n",
    "    ps.barrier([\"Q00\", \"Q01\"])\n",
    "    ps.add(\"Q01\", PulseSequence([seq, VirtualZ(np.pi / 4), seq]))\n",
    "    ps.add(\"Q01\", FlatTop(duration=100, amplitude=0.01, tau=10))\n",
    "\n",
    "ps.plot()\n",
    "\n",
    "ps.get_sampled_sequences()"
   ]
  },
  {
   "cell_type": "code",
   "execution_count": null,
   "metadata": {},
   "outputs": [],
   "source": [
    "# Create a pulse schedule\n",
    "\n",
    "with PulseSchedule(qubits) as ps2:\n",
    "    ps2.call(ps)\n",
    "    ps2.barrier()\n",
    "    ps2.add(\"Q00\", pulse.scaled(0.01).repeated(10))\n",
    "\n",
    "ps2.plot()"
   ]
  }
 ],
 "metadata": {
  "kernelspec": {
   "display_name": ".venv",
   "language": "python",
   "name": "python3"
  },
  "language_info": {
   "codemirror_mode": {
    "name": "ipython",
    "version": 3
   },
   "file_extension": ".py",
   "mimetype": "text/x-python",
   "name": "python",
   "nbconvert_exporter": "python",
   "pygments_lexer": "ipython3",
   "version": "3.9.18"
  }
 },
 "nbformat": 4,
 "nbformat_minor": 2
}
