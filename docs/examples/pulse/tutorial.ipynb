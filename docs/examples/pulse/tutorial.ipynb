{
 "cells": [
  {
   "cell_type": "code",
   "execution_count": 1,
   "metadata": {},
   "outputs": [],
   "source": [
    "# Install qubex library if not already installed\n",
    "# !pip install git+https://github.com/amachino/qubex.git"
   ]
  },
  {
   "cell_type": "code",
   "execution_count": 2,
   "metadata": {},
   "outputs": [],
   "source": [
    "# Import the necessary libraries\n",
    "import numpy as np\n",
    "\n",
    "from qubex.pulse import (\n",
    "    Blank,\n",
    "    Drag,\n",
    "    FlatTop,\n",
    "    Gaussian,\n",
    "    Pulse,\n",
    "    PulseSchedule,\n",
    "    PulseSequence,\n",
    "    VirtualZ,\n",
    ")"
   ]
  },
  {
   "cell_type": "code",
   "execution_count": null,
   "metadata": {},
   "outputs": [],
   "source": [
    "# Create a flat-top pulse\n",
    "flattop = FlatTop(\n",
    "    duration=30,\n",
    "    amplitude=0.5,\n",
    "    tau=10,\n",
    ")\n",
    "\n",
    "# Plot the pulse\n",
    "flattop.plot()\n",
    "\n",
    "# Print the pulse values\n",
    "flattop.values"
   ]
  },
  {
   "cell_type": "code",
   "execution_count": null,
   "metadata": {},
   "outputs": [],
   "source": [
    "# Scale the amplitude of the pulse\n",
    "flattop.scaled(1.5).plot()\n",
    "\n",
    "# Shift the phase of the pulse\n",
    "flattop.shifted(np.pi).plot()\n",
    "\n",
    "# Repeat the pulse\n",
    "flattop.repeated(3).plot()"
   ]
  },
  {
   "cell_type": "code",
   "execution_count": null,
   "metadata": {},
   "outputs": [],
   "source": [
    "# Create a Gaussian pulse\n",
    "gaussian = Gaussian(\n",
    "    duration=60,\n",
    "    amplitude=0.5,\n",
    "    sigma=10,\n",
    ")\n",
    "\n",
    "# Create a pulse sequence\n",
    "seq = PulseSequence(\n",
    "    [\n",
    "        gaussian,\n",
    "        Blank(10),\n",
    "        gaussian.shifted(np.pi / 6),\n",
    "        Blank(10),\n",
    "        gaussian.scaled(1.5),\n",
    "    ]\n",
    ")\n",
    "\n",
    "# Plot the pulse sequence\n",
    "seq.plot()\n",
    "\n",
    "# Print the pulse sequence values\n",
    "seq.values"
   ]
  },
  {
   "cell_type": "code",
   "execution_count": null,
   "metadata": {},
   "outputs": [],
   "source": [
    "# Create an arbitrary pulse\n",
    "iq_array = [\n",
    "    0.1 + 0.2j,\n",
    "    0.7 + 0.3j,\n",
    "    0.5 + 0.8j,\n",
    "    0.2 + 0.7j,\n",
    "    0.4 + 0.1j,\n",
    "]\n",
    "arbit = Pulse(iq_array)\n",
    "\n",
    "# Plot the pulse\n",
    "arbit.plot()\n",
    "\n",
    "# Print the pulse values\n",
    "arbit.values"
   ]
  },
  {
   "cell_type": "code",
   "execution_count": null,
   "metadata": {},
   "outputs": [],
   "source": [
    "# Define channel labels\n",
    "labels = [\"Q00\", \"Q01\", \"Q02\"]\n",
    "\n",
    "# Create a pulse schedule for the channels\n",
    "with PulseSchedule(labels) as ps:\n",
    "    ps.add(\"Q00\", flattop.repeated(5))\n",
    "    ps.add(\"Q01\", seq.scaled(2))\n",
    "    ps.barrier()\n",
    "    ps.add(\"Q00\", arbit.repeated(3))\n",
    "    ps.barrier([\"Q00\", \"Q01\"])\n",
    "    ps.add(\"Q01\", FlatTop(duration=100, amplitude=1, tau=10))\n",
    "    ps.add(\"Q02\", PulseSequence([gaussian, VirtualZ(np.pi / 2), gaussian]))\n",
    "\n",
    "# Plot the pulse schedule\n",
    "ps.plot()\n",
    "\n",
    "# Get the PulseSequence dictionary\n",
    "ps.get_sequences()"
   ]
  },
  {
   "cell_type": "code",
   "execution_count": null,
   "metadata": {},
   "outputs": [],
   "source": [
    "# Get the sampled sequences\n",
    "ps.get_sampled_sequences()"
   ]
  },
  {
   "cell_type": "code",
   "execution_count": null,
   "metadata": {},
   "outputs": [],
   "source": [
    "# Create a pulse schedule using the previous pulse schedule\n",
    "\n",
    "with PulseSchedule(labels) as ps2:\n",
    "    ps2.call(ps)\n",
    "    ps2.barrier()\n",
    "    ps2.add(\"Q00\", Blank(100))\n",
    "    ps2.barrier()\n",
    "    ps2.call(ps.scaled(-1))\n",
    "\n",
    "ps2.plot()"
   ]
  },
  {
   "cell_type": "code",
   "execution_count": null,
   "metadata": {},
   "outputs": [],
   "source": [
    "# Example: Cross-Resonance Sequence\n",
    "\n",
    "cr_drive = FlatTop(\n",
    "    duration=200,\n",
    "    amplitude=1.0,\n",
    "    tau=30,\n",
    ")\n",
    "\n",
    "drag_pi = Drag(\n",
    "    duration=10,\n",
    "    amplitude=0.5,\n",
    "    beta=0.3,\n",
    ")\n",
    "\n",
    "targets = {\n",
    "    \"Control\": {\"frequency\": 5, \"object\": \"Q00\"},\n",
    "    \"CR\": {\"frequency\": 6, \"object\": \"Q00\"},\n",
    "    \"Target\": {\"frequency\": 6, \"object\": \"Q01\"},\n",
    "}\n",
    "\n",
    "with PulseSchedule(targets) as cr:\n",
    "    cr.add(\"CR\", cr_drive)\n",
    "    cr.add(\"Target\", cr_drive.scaled(0.1).shifted(np.pi / 3))\n",
    "\n",
    "with PulseSchedule(targets) as ecr:\n",
    "    ecr.call(cr)\n",
    "    ecr.add(\"Control\", drag_pi)\n",
    "    ecr.call(cr.scaled(-1))\n",
    "\n",
    "ecr.plot(title=\"Echoed Cross-Resonance\")"
   ]
  }
 ],
 "metadata": {
  "kernelspec": {
   "display_name": "Python 3",
   "language": "python",
   "name": "python3"
  },
  "language_info": {
   "codemirror_mode": {
    "name": "ipython",
    "version": 3
   },
   "file_extension": ".py",
   "mimetype": "text/x-python",
   "name": "python",
   "nbconvert_exporter": "python",
   "pygments_lexer": "ipython3",
   "version": "3.9.18"
  }
 },
 "nbformat": 4,
 "nbformat_minor": 2
}
