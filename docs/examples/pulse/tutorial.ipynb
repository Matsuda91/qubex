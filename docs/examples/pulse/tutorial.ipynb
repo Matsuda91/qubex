{
 "cells": [
  {
   "cell_type": "code",
   "execution_count": null,
   "metadata": {},
   "outputs": [],
   "source": [
    "# Install qubex library if not installed\n",
    "# !pip install git+https://github.com/amachino/qubex.git"
   ]
  },
  {
   "cell_type": "code",
   "execution_count": null,
   "metadata": {},
   "outputs": [],
   "source": [
    "import numpy as np\n",
    "import qubex as qx"
   ]
  },
  {
   "cell_type": "code",
   "execution_count": null,
   "metadata": {},
   "outputs": [],
   "source": [
    "# Create a flat-top pulse\n",
    "flattop = qx.pulse.FlatTop(\n",
    "    duration=30,\n",
    "    amplitude=0.5,\n",
    "    tau=10,\n",
    ")\n",
    "\n",
    "# Plot the pulse\n",
    "flattop.plot()\n",
    "\n",
    "# Print the pulse values\n",
    "print(flattop.values)"
   ]
  },
  {
   "cell_type": "code",
   "execution_count": null,
   "metadata": {},
   "outputs": [],
   "source": [
    "# Scale the amplitude of the pulse\n",
    "flattop.scaled(1.5).plot()\n",
    "\n",
    "# Shift the phase of the pulse\n",
    "flattop.shifted(np.pi).plot()\n",
    "\n",
    "# Repeat the pulse\n",
    "flattop.repeated(3).plot()"
   ]
  },
  {
   "cell_type": "code",
   "execution_count": null,
   "metadata": {},
   "outputs": [],
   "source": [
    "# Create a Gaussian pulse\n",
    "gaussian = qx.pulse.Gaussian(\n",
    "    duration=60,\n",
    "    amplitude=0.5,\n",
    "    sigma=10,\n",
    ")\n",
    "\n",
    "# Create a pulse array\n",
    "arr = qx.PulseArray(\n",
    "    [\n",
    "        gaussian.shifted(np.pi / 2),\n",
    "        qx.pulse.VirtualZ(np.pi / 4),\n",
    "        gaussian.shifted(-np.pi / 2),\n",
    "    ]\n",
    ")\n",
    "\n",
    "# Plot the pulse array\n",
    "arr.plot()\n",
    "\n",
    "# Print the pulse array values\n",
    "print(arr.values)"
   ]
  },
  {
   "cell_type": "code",
   "execution_count": null,
   "metadata": {},
   "outputs": [],
   "source": [
    "# Create an arbitrary pulse\n",
    "iq_array = [\n",
    "    0.1 + 0.2j,\n",
    "    0.2 + 0.3j,\n",
    "    0.3 + 0.4j,\n",
    "    0.4 + 0.6j,\n",
    "    0.5 + 0.6j,\n",
    "]\n",
    "arbit = qx.Pulse(iq_array)\n",
    "\n",
    "# Plot the pulse\n",
    "arbit.plot()\n",
    "\n",
    "# Plot the reverse of the pulse\n",
    "arbit.reversed().plot()"
   ]
  },
  {
   "cell_type": "code",
   "execution_count": null,
   "metadata": {},
   "outputs": [],
   "source": [
    "# Define channel labels\n",
    "labels = [\"Q00\", \"Q01\", \"Q02\"]\n",
    "\n",
    "# Create a pulse schedule for the channels\n",
    "with qx.PulseSchedule(labels) as seq1:\n",
    "    seq1.add(\"Q00\", flattop.repeated(5))\n",
    "    seq1.add(\"Q01\", arr.scaled(2))\n",
    "    seq1.barrier()\n",
    "    seq1.add(\"Q00\", arbit.repeated(3))\n",
    "    seq1.barrier([\"Q00\", \"Q01\"])\n",
    "    seq1.add(\"Q01\", qx.pulse.FlatTop(duration=100, amplitude=1, tau=10))\n",
    "    seq1.add(\"Q02\", qx.PulseArray([gaussian, qx.pulse.VirtualZ(np.pi / 2), gaussian]))\n",
    "\n",
    "# Plot the pulse schedule\n",
    "seq1.plot()\n",
    "\n",
    "# Get the PulseArray dictionary of the channels\n",
    "seq1.get_sequences()"
   ]
  },
  {
   "cell_type": "code",
   "execution_count": null,
   "metadata": {},
   "outputs": [],
   "source": [
    "# Get the sampled sequences of the channels\n",
    "seq1.get_sampled_sequences()"
   ]
  },
  {
   "cell_type": "code",
   "execution_count": null,
   "metadata": {},
   "outputs": [],
   "source": [
    "# Create a pulse schedule using the previous pulse schedule\n",
    "\n",
    "with qx.PulseSchedule(labels) as seq2:\n",
    "    seq2.call(seq1)\n",
    "    seq2.barrier()\n",
    "    seq2.add(\"Q00\", qx.pulse.Blank(100))\n",
    "    seq2.barrier()\n",
    "    seq2.call(seq1.reversed())\n",
    "\n",
    "seq2.plot()"
   ]
  },
  {
   "cell_type": "code",
   "execution_count": null,
   "metadata": {},
   "outputs": [],
   "source": [
    "# Example: Cross-Resonance Sequence\n",
    "\n",
    "cr_drive = qx.pulse.FlatTop(\n",
    "    duration=200,\n",
    "    amplitude=1.0,\n",
    "    tau=30,\n",
    ")\n",
    "\n",
    "drag_pi = qx.pulse.Drag(\n",
    "    duration=10,\n",
    "    amplitude=0.5,\n",
    "    beta=0.3,\n",
    ")\n",
    "\n",
    "targets = {\n",
    "    \"Control\": {\"frequency\": 5, \"object\": \"Q00\"},\n",
    "    \"CR\": {\"frequency\": 6, \"object\": \"Q00\"},\n",
    "    \"Target\": {\"frequency\": 6, \"object\": \"Q01\"},\n",
    "}\n",
    "\n",
    "with qx.PulseSchedule(targets) as cr:\n",
    "    cr.add(\"CR\", cr_drive)\n",
    "    cr.add(\"Target\", cr_drive.scaled(0.1).shifted(np.pi / 3))\n",
    "\n",
    "with qx.PulseSchedule(targets) as ecr:\n",
    "    ecr.call(cr)\n",
    "    ecr.add(\"Control\", drag_pi)\n",
    "    ecr.call(cr.scaled(-1))\n",
    "\n",
    "ecr.plot(title=\"Echoed Cross-Resonance\")"
   ]
  }
 ],
 "metadata": {
  "kernelspec": {
   "display_name": ".venv",
   "language": "python",
   "name": "python3"
  },
  "language_info": {
   "codemirror_mode": {
    "name": "ipython",
    "version": 3
   },
   "file_extension": ".py",
   "mimetype": "text/x-python",
   "name": "python",
   "nbconvert_exporter": "python",
   "pygments_lexer": "ipython3",
   "version": "3.9.18"
  }
 },
 "nbformat": 4,
 "nbformat_minor": 2
}
